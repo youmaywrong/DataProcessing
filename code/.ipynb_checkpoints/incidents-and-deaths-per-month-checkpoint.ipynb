{
 "cells": [
  {
   "cell_type": "code",
   "execution_count": 5,
   "metadata": {},
   "outputs": [
    {
     "data": {
      "text/plain": [
       "'C:\\\\Users\\\\Marijn\\\\Desktop\\\\project\\\\DataProcessing\\\\way-too-many-incidents.html'"
      ]
     },
     "execution_count": 5,
     "metadata": {},
     "output_type": "execute_result"
    }
   ],
   "source": [
    "import pandas as pd\n",
    "from bokeh.models import Legend\n",
    "# import stuff\n",
    "from bokeh.plotting import figure\n",
    "from bokeh.io import output_file, show, save\n",
    "from bokeh.models import DataRange1d, FactorRange, ColumnDataSource, Plot, HBar, LabelSet\n",
    "import pandas as pd\n",
    "import numpy as np\n",
    "\n",
    "# read data\n",
    "df = pd.read_csv(\"stage3.csv\")\n",
    "df = df.copy()\n",
    "ownership_df = pd.read_csv(\"gunownership.csv\")\n",
    "extra_df = pd.read_csv(\"gun_ownership.csv\")\n",
    "\n",
    "# add population to gun ownership dataset\n",
    "ownership_df[\"population\"] = extra_df[\"population\"]\n",
    "\n",
    "# extract years\n",
    "df['date'] = pd.to_datetime(df['date'])\n",
    "df['year'] = df['date'].dt.year\n",
    "incidents_per_year = df['year'].value_counts()\n",
    "\n",
    "# for each year, counts number of incidents per year\n",
    "df['month'] = df['date'].dt.month\n",
    "\n",
    "years = ['2014', '2015', '2016', '2017', '2018']\n",
    "months = ['January', 'February', 'March', 'April', 'May', 'June', 'July', 'August', 'September', 'October', 'November', 'December']\n",
    "\n",
    "x_data = [(year, month) for year in years for month in months][:51]\n",
    "monthly = [number for number in df.groupby(['year', 'month']).size()]\n",
    "\n",
    "per_month = df.groupby(['year', 'month']).sum()\n",
    "killed_per_month = [killed for killed in per_month['n_killed']]\n",
    "\n",
    "# Create the figure object\n",
    "f4 = figure(x_range=FactorRange(*x_data), plot_width=600, plot_height=500)\n",
    "\n",
    "# Add a Title to the plot\n",
    "f4.title.text=\"Gun related incidents and deaths 2014-2018 (monthly)\"\n",
    "f4.xaxis.axis_label_text_font_size = \"16px\"\n",
    "f4.xaxis.major_label_text_font_size = \"8px\"\n",
    "f4.yaxis.major_label_text_font_size = \"14px\"\n",
    "\n",
    "\n",
    "#adding glyphsg\n",
    "incidents_bars = f4.vbar(x=x_data, top=monthly, width=0.7, legend=\"Incidents\")\n",
    "deaths_bars = f4.vbar(x=x_data, top=killed_per_month, width=0.7, fill_color=\"#F55F60\", legend=\"Deaths\")\n",
    "\n",
    "f4.y_range.start = 0\n",
    "f4.x_range.range_padding = 0\n",
    "f4.x_range.group_padding = 0\n",
    "f4.xaxis.major_label_orientation = 1.57\n",
    "f4.xgrid.grid_line_color = None\n",
    "\n",
    "legend = Legend(items=[\n",
    "    (\"Incidents\", [incidents_bars]),\n",
    "    (\"Deaths\" , [deaths_bars]),\n",
    "], location=(300, 200))\n",
    "\n",
    "f4.title.text_font_size=\"16px\"\n",
    "f4.title.align = \"center\"\n",
    "f4.outline_line_color = None\n",
    "f4.toolbar.logo = None\n",
    "f4.toolbar_location = None\n",
    "\n",
    "f4.add_layout(legend, 'right')\n",
    "\n",
    "# Save and show the figure\n",
    "output_file(\"way-too-many-incidents.html\")\n",
    "save(f4)"
   ]
  },
  {
   "cell_type": "code",
   "execution_count": null,
   "metadata": {},
   "outputs": [],
   "source": []
  }
 ],
 "metadata": {
  "kernelspec": {
   "display_name": "Python 3",
   "language": "python",
   "name": "python3"
  },
  "language_info": {
   "codemirror_mode": {
    "name": "ipython",
    "version": 3
   },
   "file_extension": ".py",
   "mimetype": "text/x-python",
   "name": "python",
   "nbconvert_exporter": "python",
   "pygments_lexer": "ipython3",
   "version": "3.6.4"
  }
 },
 "nbformat": 4,
 "nbformat_minor": 2
}
