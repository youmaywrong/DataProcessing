{
 "cells": [
  {
   "cell_type": "code",
   "execution_count": 1,
   "metadata": {},
   "outputs": [],
   "source": [
    "import numpy as np\n",
    "import matplotlib.pyplot as plt\n",
    "%matplotlib inline"
   ]
  },
  {
   "cell_type": "markdown",
   "metadata": {},
   "source": [
    "### Declaring a normal python list."
   ]
  },
  {
   "cell_type": "code",
   "execution_count": 2,
   "metadata": {},
   "outputs": [
    {
     "data": {
      "text/plain": [
       "list"
      ]
     },
     "execution_count": 2,
     "metadata": {},
     "output_type": "execute_result"
    }
   ],
   "source": [
    "list1 = [1, 2, 3, 4]\n",
    "type(list1)"
   ]
  },
  {
   "cell_type": "markdown",
   "metadata": {},
   "source": [
    "### Making a numpy array using python lists."
   ]
  },
  {
   "cell_type": "code",
   "execution_count": 3,
   "metadata": {},
   "outputs": [
    {
     "data": {
      "text/plain": [
       "array([1, 2, 3, 4])"
      ]
     },
     "execution_count": 3,
     "metadata": {},
     "output_type": "execute_result"
    }
   ],
   "source": [
    "array1 = np.array(list1)\n",
    "array1"
   ]
  },
  {
   "cell_type": "code",
   "execution_count": 4,
   "metadata": {},
   "outputs": [
    {
     "data": {
      "text/plain": [
       "numpy.ndarray"
      ]
     },
     "execution_count": 4,
     "metadata": {},
     "output_type": "execute_result"
    }
   ],
   "source": [
    "type(array1)"
   ]
  },
  {
   "cell_type": "markdown",
   "metadata": {},
   "source": [
    "### We can also go multi dimensional (in this case 2D)"
   ]
  },
  {
   "cell_type": "code",
   "execution_count": 5,
   "metadata": {},
   "outputs": [
    {
     "data": {
      "text/plain": [
       "[[1, 2, 3, 4], [11, 22, 33, 44]]"
      ]
     },
     "execution_count": 5,
     "metadata": {},
     "output_type": "execute_result"
    }
   ],
   "source": [
    "# Declare an extra list.\n",
    "list2 = [11, 22, 33, 44]\n",
    "# Combine the lists into a 2D list.\n",
    "lists = [list1, list2]\n",
    "lists"
   ]
  },
  {
   "cell_type": "code",
   "execution_count": 6,
   "metadata": {},
   "outputs": [
    {
     "data": {
      "text/plain": [
       "array([[ 1,  2,  3,  4],\n",
       "       [11, 22, 33, 44]])"
      ]
     },
     "execution_count": 6,
     "metadata": {},
     "output_type": "execute_result"
    }
   ],
   "source": [
    "array2 = np.array(lists)\n",
    "array2"
   ]
  },
  {
   "cell_type": "markdown",
   "metadata": {},
   "source": [
    "### just to make sure we can also print the shapes.\n",
    "We would obviously expect a (4,1) and a (4,2)... or don't we?"
   ]
  },
  {
   "cell_type": "code",
   "execution_count": 7,
   "metadata": {},
   "outputs": [
    {
     "name": "stdout",
     "output_type": "stream",
     "text": [
      "Arr1:  (4,)\n",
      "Arr2:  (2, 4)\n"
     ]
    }
   ],
   "source": [
    "print(\"Arr1: \", array1.shape)\n",
    "print(\"Arr2: \", array2.shape)"
   ]
  },
  {
   "cell_type": "markdown",
   "metadata": {},
   "source": [
    "The best way to think about NumPy arrays is that they consist of two parts, a data buffer which is just a block of raw elements, and a view which describes how to interpret the data buffer.\n",
    "\n",
    "Here the shape (4,) means the array is indexed by a single index which runs from 0 to 4. \n",
    "In most situations the lack of second dimension is not a problem. If it does turn into a problem (e.g. when you are trying to take a transpose of this vector) you can just call the below function to generate a new view:"
   ]
  },
  {
   "cell_type": "code",
   "execution_count": 8,
   "metadata": {},
   "outputs": [
    {
     "data": {
      "text/plain": [
       "(4, 1)"
      ]
     },
     "execution_count": 8,
     "metadata": {},
     "output_type": "execute_result"
    }
   ],
   "source": [
    "# Do note the double brackets, as the size is added as a tuple: (rows, columns)\n",
    "array1 = array1.reshape((4,1))\n",
    "array1.shape"
   ]
  },
  {
   "cell_type": "markdown",
   "metadata": {},
   "source": [
    "Now we happen to know what we stored in our array, but sometimes you do not know such. To ask the data type of your array, you can call:\n"
   ]
  },
  {
   "cell_type": "code",
   "execution_count": 9,
   "metadata": {},
   "outputs": [
    {
     "data": {
      "text/plain": [
       "dtype('int64')"
      ]
     },
     "execution_count": 9,
     "metadata": {},
     "output_type": "execute_result"
    }
   ],
   "source": [
    "array2.dtype"
   ]
  },
  {
   "cell_type": "markdown",
   "metadata": {},
   "source": [
    "### Making specific arrays\n",
    "There are also other ways to make specific arrays, such as:"
   ]
  },
  {
   "cell_type": "code",
   "execution_count": 10,
   "metadata": {},
   "outputs": [
    {
     "name": "stdout",
     "output_type": "stream",
     "text": [
      "Ex1:  [ 0.    0.25  0.5   0.75  1.  ]\n",
      "Ex2:  [ 0.  0.  0.  0.  0.]\n",
      "Ex3:  [ 1.  1.  1.  1.  1.]\n",
      "Ex4:  [0 1 2 3 4]\n",
      "Ex5:  [ 5  7  9 11 13 15 17 19]\n",
      "Ex6: \n",
      "[[ 1.  0.  0.  0.  0.]\n",
      " [ 0.  1.  0.  0.  0.]\n",
      " [ 0.  0.  1.  0.  0.]\n",
      " [ 0.  0.  0.  1.  0.]\n",
      " [ 0.  0.  0.  0.  1.]]\n"
     ]
    }
   ],
   "source": [
    "# The empty array\n",
    "print(\"Ex1: \", np.empty(5))\n",
    "\n",
    "# Array of 5 floating point zeros\n",
    "print(\"Ex2: \", np.zeros(5))\n",
    "\n",
    "# Array of 5 floating point ones\n",
    "print(\"Ex3: \", np.ones(5))\n",
    "\n",
    "# Array of 5 integer incrementing numbers\n",
    "print(\"Ex4: \", np.arange(5))\n",
    "\n",
    "# Start at 5, stop at 20, do it in steps of 2\n",
    "print(\"Ex5: \", np.arange(5, 20, 2))\n",
    "\n",
    "# Making the identity matrix (ones on the diagonal)\n",
    "print(\"Ex6: \")\n",
    "print(np.eye(5))"
   ]
  },
  {
   "cell_type": "markdown",
   "metadata": {},
   "source": [
    "### Mathematical operations\n",
    "You are also able to apply basic mathematical operations to arrays"
   ]
  },
  {
   "cell_type": "code",
   "execution_count": 11,
   "metadata": {},
   "outputs": [
    {
     "data": {
      "text/plain": [
       "array([[ 1,  2,  3,  4],\n",
       "       [ 8,  9, 10, 11]])"
      ]
     },
     "execution_count": 11,
     "metadata": {},
     "output_type": "execute_result"
    }
   ],
   "source": [
    "array3 = np.array([[1, 2, 3, 4], [8, 9, 10, 11]])\n",
    "array3"
   ]
  },
  {
   "cell_type": "code",
   "execution_count": 12,
   "metadata": {},
   "outputs": [
    {
     "data": {
      "text/plain": [
       "array([[  1,   4,   9,  16],\n",
       "       [ 64,  81, 100, 121]])"
      ]
     },
     "execution_count": 12,
     "metadata": {},
     "output_type": "execute_result"
    }
   ],
   "source": [
    "# Value-wise multiplication\n",
    "array3 * array3"
   ]
  },
  {
   "cell_type": "code",
   "execution_count": 13,
   "metadata": {},
   "outputs": [
    {
     "data": {
      "text/plain": [
       "array([[-4, -3, -2, -1],\n",
       "       [ 3,  4,  5,  6]])"
      ]
     },
     "execution_count": 13,
     "metadata": {},
     "output_type": "execute_result"
    }
   ],
   "source": [
    "# Subtraction\n",
    "array3 - 5"
   ]
  },
  {
   "cell_type": "code",
   "execution_count": 14,
   "metadata": {},
   "outputs": [
    {
     "data": {
      "text/plain": [
       "array([[ 1.        ,  0.5       ,  0.33333333,  0.25      ],\n",
       "       [ 0.125     ,  0.11111111,  0.1       ,  0.09090909]])"
      ]
     },
     "execution_count": 14,
     "metadata": {},
     "output_type": "execute_result"
    }
   ],
   "source": [
    "1 / array3"
   ]
  },
  {
   "cell_type": "code",
   "execution_count": 15,
   "metadata": {},
   "outputs": [
    {
     "data": {
      "text/plain": [
       "array([[   1,    8,   27,   64],\n",
       "       [ 512,  729, 1000, 1331]])"
      ]
     },
     "execution_count": 15,
     "metadata": {},
     "output_type": "execute_result"
    }
   ],
   "source": [
    "array3 ** 3"
   ]
  },
  {
   "cell_type": "markdown",
   "metadata": {},
   "source": [
    "#### You can also apply functions to all elements in an array at once.\n",
    "\n",
    "Some built-in functions of numpy can be found here:\n",
    "    https://docs.scipy.org/doc/numpy/reference/ufuncs.html#math-operations\n",
    "        "
   ]
  },
  {
   "cell_type": "code",
   "execution_count": 16,
   "metadata": {},
   "outputs": [
    {
     "name": "stdout",
     "output_type": "stream",
     "text": [
      "[ 0.          1.          1.41421356  1.73205081  2.          2.23606798\n",
      "  2.44948974  2.64575131  2.82842712  3.        ]\n",
      "[ 0  1  4  9 16 25 36 49 64 81]\n"
     ]
    }
   ],
   "source": [
    "array4 = np.arange(0, 10)\n",
    "print(np.sqrt(array4))\n",
    "print(np.square(array4))"
   ]
  },
  {
   "cell_type": "markdown",
   "metadata": {},
   "source": [
    "### Indexing Arrays"
   ]
  },
  {
   "cell_type": "code",
   "execution_count": 17,
   "metadata": {},
   "outputs": [
    {
     "data": {
      "text/plain": [
       "array([0, 1, 2, 3, 4, 5, 6, 7, 8, 9])"
      ]
     },
     "execution_count": 17,
     "metadata": {},
     "output_type": "execute_result"
    }
   ],
   "source": [
    "array4 = np.arange(0, 10)\n",
    "array4"
   ]
  },
  {
   "cell_type": "markdown",
   "metadata": {},
   "source": [
    "There is a minor difference with normal python lists, when it comes to indexing, namely that while the array allows two different ways to call the the value at a position."
   ]
  },
  {
   "cell_type": "code",
   "execution_count": 18,
   "metadata": {},
   "outputs": [
    {
     "name": "stdout",
     "output_type": "stream",
     "text": [
      "List:  6\n",
      "Array  6\n",
      "Array  6\n"
     ]
    }
   ],
   "source": [
    "list3 = [[1, 2, 3], [4, 5, 6]]\n",
    "array5 = np.array(list3)\n",
    "\n",
    "# Watch the brackets closely.\n",
    "print(\"List: \", list3[1][2])\n",
    "# Array can use two different approaches\n",
    "print(\"Array \", array5[1, 2])\n",
    "print(\"Array \", array5[1][2])"
   ]
  },
  {
   "cell_type": "markdown",
   "metadata": {},
   "source": [
    "### Slicing arrays\n",
    "Sometimes you do not want the full array, but just parts of it, we can use array slicing for this"
   ]
  },
  {
   "cell_type": "code",
   "execution_count": 19,
   "metadata": {},
   "outputs": [
    {
     "name": "stdout",
     "output_type": "stream",
     "text": [
      "[0 1 2 3 4 5 6 7 8 9]\n",
      "[2 3 4]\n",
      "[ 0  1 13 13 13  5  6  7  8  9]\n"
     ]
    }
   ],
   "source": [
    "# Show original array\n",
    "print(array4)\n",
    "# We want to 2nd to 5th element:\n",
    "print(array4[2:5])\n",
    "# We can also use it to set the value of multiple entries:\n",
    "array4[2:5] = 13\n",
    "print(array4)"
   ]
  },
  {
   "cell_type": "markdown",
   "metadata": {},
   "source": [
    "One important thing to not is that a slice, is just another view of the same data. If you change something in the slice, it also changes in the original. This is nice for you memory efficiency of your program, but sometimes it can hurt you when overlooked."
   ]
  },
  {
   "cell_type": "code",
   "execution_count": 20,
   "metadata": {},
   "outputs": [
    {
     "name": "stdout",
     "output_type": "stream",
     "text": [
      "[22 22 22 22]\n",
      "[ 0  1 22 22 22 22  6  7  8  9]\n"
     ]
    }
   ],
   "source": [
    "array4 = np.arange(0, 10)\n",
    "# Take a slice, consiting of the 2nd to 6th element.\n",
    "slice_array4 = array4[2:6]\n",
    "# We iterate over all values, setting them to 22\n",
    "slice_array4[:] = 22\n",
    "print(slice_array4)\n",
    "print(array4)"
   ]
  },
  {
   "cell_type": "markdown",
   "metadata": {},
   "source": [
    "To prevent such, we can also make a new copy, to not just generate a view, but to actually reserve new memory for the object we are making"
   ]
  },
  {
   "cell_type": "code",
   "execution_count": null,
   "metadata": {},
   "outputs": [],
   "source": [
    "array4 = np.arange(0, 10)\n",
    "array5 = array4.copy()\n",
    "print(array4)\n",
    "print(array5)\n",
    "array5[:] = 22\n",
    "print(\"So did we make a copy?\")\n",
    "print(array4)\n",
    "print(array5)\n",
    "print(\"Seems we did.\")"
   ]
  },
  {
   "cell_type": "markdown",
   "metadata": {
    "collapsed": true
   },
   "source": [
    "#### 2D array slicing"
   ]
  },
  {
   "cell_type": "code",
   "execution_count": null,
   "metadata": {},
   "outputs": [],
   "source": [
    "array6 = np.array([[2, 4, 6], [8, 10, 12], [14, 16, 18]])\n",
    "print(array6)\n",
    "# let's say you only want just the upper right square of 2x2 of the above matrix\n",
    "array6[:2, 1:]"
   ]
  },
  {
   "cell_type": "markdown",
   "metadata": {},
   "source": [
    "#### Fancy Indexing\n",
    "Sometimes you don't want to have every row, but perhaps skip a few entries. This is easily possible in python. Let us assume we only want the 2nd, 3rd, 5th, and 7th row in the following example."
   ]
  },
  {
   "cell_type": "code",
   "execution_count": null,
   "metadata": {},
   "outputs": [],
   "source": [
    "# Below we use a list comprehension (which you should have seen in Introduction to Programming as well)\n",
    "# To generate an array with 10 rows, and each column goes from 0 to 10.\n",
    "array7 = np.array([[j for i in range(10)] for j in range(10)])\n",
    "print(array7)\n",
    "# As we start at index 0, we actually want the following rows [1, 2, 4, 6].\n",
    "# Also note the double brackets below.\n",
    "array7[[1, 2, 4, 6]]"
   ]
  },
  {
   "cell_type": "markdown",
   "metadata": {},
   "source": [
    "You can do the above in any order you wish."
   ]
  },
  {
   "cell_type": "code",
   "execution_count": null,
   "metadata": {},
   "outputs": [],
   "source": [
    "array7[[7, 3, 5, 2]]"
   ]
  },
  {
   "cell_type": "markdown",
   "metadata": {},
   "source": [
    "### Array Transposition"
   ]
  },
  {
   "cell_type": "code",
   "execution_count": null,
   "metadata": {},
   "outputs": [],
   "source": [
    "array8 = np.arange(40).reshape((8, 5))\n",
    "array8"
   ]
  },
  {
   "cell_type": "code",
   "execution_count": null,
   "metadata": {},
   "outputs": [],
   "source": [
    "# If you want to transpose a matrix you can go two ways:\n",
    "print(np.transpose(array8))\n",
    "# And\n",
    "print(array8.T)"
   ]
  },
  {
   "cell_type": "markdown",
   "metadata": {},
   "source": [
    "### Array Processing"
   ]
  },
  {
   "cell_type": "code",
   "execution_count": null,
   "metadata": {},
   "outputs": [],
   "source": [
    "https://www.udemy.com/learning-python-for-data-analysis-and-visualization/learn/v4/t/lecture/2340122?start=0"
   ]
  },
  {
   "cell_type": "code",
   "execution_count": null,
   "metadata": {},
   "outputs": [],
   "source": [
    "# Range from -5 to 5\n",
    "points = np.arange(-5, 5, 0.01)"
   ]
  },
  {
   "cell_type": "code",
   "execution_count": null,
   "metadata": {},
   "outputs": [],
   "source": [
    "# Return a meshgrid based on two vectors.\n",
    "\n",
    "# it generates a len(x) times len(y) matrix.\n",
    "# This allows you to store the values needed to compare every value of x with every value of y.\n",
    "# If you input the same vector twice, dy is the transpose of dx\n",
    "dx, dy = np.meshgrid(points, points)\n",
    "\n",
    "z = (np.sin(dx) + np.sin(dy))\n",
    "plt.imshow(z)\n",
    "plt.colorbar()\n",
    "plt.title('plot for sin(x) + sin(y)')"
   ]
  },
  {
   "cell_type": "markdown",
   "metadata": {},
   "source": [
    "#### Numpy Where"
   ]
  },
  {
   "cell_type": "code",
   "execution_count": null,
   "metadata": {},
   "outputs": [],
   "source": [
    "# Numpy Where\n",
    "\n",
    "A = np.array([1, 2, 3, 4])\n",
    "B = np.array([100, 200, 300, 400])\n",
    "\n",
    "condition = np.array([True, True, False, False])\n",
    "\n",
    "print(A[condition])\n",
    "print(B[condition])"
   ]
  },
  {
   "cell_type": "code",
   "execution_count": null,
   "metadata": {},
   "outputs": [],
   "source": [
    "# Where my condition is met, choose A, else choose B\n",
    "answer = [(A_val if cond else B_val) for A_val, B_val, cond in zip(A, B, condition)]\n",
    "print(answer)"
   ]
  },
  {
   "cell_type": "code",
   "execution_count": null,
   "metadata": {},
   "outputs": [],
   "source": [
    "# Where my condition is met, choose A, else choose B\n",
    "answer2 = np.where(condition, A, B)\n",
    "print(answer2)"
   ]
  },
  {
   "cell_type": "markdown",
   "metadata": {},
   "source": [
    "#### Numpy Any & All"
   ]
  },
  {
   "cell_type": "code",
   "execution_count": null,
   "metadata": {},
   "outputs": [],
   "source": [
    "bool_arr = np.array([True, False, True, True])\n",
    "# There exist quite useful functions for a concept we call Masking."
   ]
  },
  {
   "cell_type": "code",
   "execution_count": null,
   "metadata": {},
   "outputs": [],
   "source": [
    "# If any value is true, return true (else false)\n",
    "bool_arr.any()"
   ]
  },
  {
   "cell_type": "code",
   "execution_count": null,
   "metadata": {},
   "outputs": [],
   "source": [
    "# If all values are true, return true (else false)\n",
    "bool_arr.all()"
   ]
  },
  {
   "cell_type": "markdown",
   "metadata": {},
   "source": [
    "#### Numpy Unique and `in` checking"
   ]
  },
  {
   "cell_type": "code",
   "execution_count": null,
   "metadata": {},
   "outputs": [],
   "source": [
    "# Sometimes you just want to know all the unique values in a numpy array, luckily that function was already implemented for you\n",
    "letters = ['A', 'B', 'C', 'D', 'D', 'A', 'E', 'F', 'G', 'H', 'Z']\n",
    "np.unique(letters)"
   ]
  },
  {
   "cell_type": "code",
   "execution_count": null,
   "metadata": {},
   "outputs": [],
   "source": [
    "# We can also easily check for a big array, if it exists within a 1D vector.\n",
    "np.in1d(['X', 'C', 'M', 'Z'], letters)"
   ]
  },
  {
   "cell_type": "code",
   "execution_count": null,
   "metadata": {},
   "outputs": [],
   "source": []
  }
 ],
 "metadata": {
  "kernelspec": {
   "display_name": "Python 3",
   "language": "python",
   "name": "python3"
  },
  "language_info": {
   "codemirror_mode": {
    "name": "ipython",
    "version": 3
   },
   "file_extension": ".py",
   "mimetype": "text/x-python",
   "name": "python",
   "nbconvert_exporter": "python",
   "pygments_lexer": "ipython3",
   "version": "3.5.2"
  }
 },
 "nbformat": 4,
 "nbformat_minor": 2
}
