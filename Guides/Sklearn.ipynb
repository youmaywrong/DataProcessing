{
 "cells": [
  {
   "cell_type": "markdown",
   "metadata": {
    "collapsed": true
   },
   "source": [
    "# Scikit-learn\n",
    "\n",
    "Machine learning is a very broad field, and you will get a more detailed course on this in your second year. We will provide some minor background information, but as time is limited we will only focus on Linear regression and K-means Clustering.\n",
    "\n",
    "Most techniques within Machine Learning can be divided within two groups (although there are many of these splits that you could make, e.g. supervised vs. unsupervised). Those being Regression algorithms and Classification algorithims. These two type of algorithms tackle two distinct problems.\n",
    "\n",
    "Throughout the notebook you will find some links to videos of Andrew Ng (some of his videos can safely be viewed at 1.5x speed). Here they use $\\theta$ to refer to the parameters you learn, so apart from notation, the material is the same.\n",
    "\n",
    "## Regression\n",
    "With regression you assume that the values come from some sort of function, and you try to find this function. Most techniques will try to fit some mathematical function that describes a curve, such that the curve passes as close as possible to all the data points. \n",
    "\n",
    "## Classification\n",
    "Classification is discrete, an object belongs to precisely one class, and the set of all classes covers all posibilities. You have no values in-between classes. \n",
    "\n",
    "## Supervised Learning\n",
    "Can be applied to data that has both features and labels. Your task usually exsits of contructing an estimator which is able to predict the label of an object given its features.\n",
    "\n",
    "Useful video: \n",
    "* [Supervised Learning](https://www.youtube.com/watch?v=ls7Ke48jCt8&list=PLZ9qNFMHZ-A4rycgrgOYma6zxF4BZGGPW&index=3)\n",
    "* [Linear Regression](https://www.youtube.com/watch?v=PBZUjnGuXjA&index=5&list=PLZ9qNFMHZ-A4rycgrgOYma6zxF4BZGGPW)\n",
    "\n",
    "## Unsupervised Learning\n",
    "Can be applies to data that has no labels, and with these techniques we attempt to find interesting similarities between the objects. You are essentially trying to discover labels yourself.\n",
    "\n",
    "Useful video: [Unsupervised Learning](https://www.youtube.com/watch?v=qHfUlFHGG08&index=4&list=PLZ9qNFMHZ-A4rycgrgOYma6zxF4BZGGPW)"
   ]
  },
  {
   "cell_type": "markdown",
   "metadata": {},
   "source": [
    "# Linear Regression\n",
    "\n",
    "We will be going over how to use the scikit-learn regression model, as well as how to train the regressor using the `fit()` method, and how to predict new labels using the `predict()` method. From time to time we might introduce some mathematics as well, but the intention is to focus on implementation details.\n",
    "\n",
    "If you're interested in the deeper mathematics of linear regession methods, check out the [wikipedia page](http://en.wikipedia.org/wiki/Linear_regression)."
   ]
  },
  {
   "cell_type": "markdown",
   "metadata": {},
   "source": [
    "## Setup and Data\n",
    "For the following examples we will be using a built-in data set (quite convenient) containing housing prices of Boston. The following code will contain the imports for numpy, bokeh, pandas and the dataset from sklearn."
   ]
  },
  {
   "cell_type": "code",
   "execution_count": 16,
   "metadata": {},
   "outputs": [
    {
     "data": {
      "text/html": [
       "\n",
       "    <div class=\"bk-root\">\n",
       "        <a href=\"https://bokeh.pydata.org\" target=\"_blank\" class=\"bk-logo bk-logo-small bk-logo-notebook\"></a>\n",
       "        <span id=\"995dffa6-b9d1-439f-9ab1-1c2da0438dfd\">Loading BokehJS ...</span>\n",
       "    </div>"
      ]
     },
     "metadata": {},
     "output_type": "display_data"
    },
    {
     "data": {
      "application/javascript": [
       "\n",
       "(function(root) {\n",
       "  function now() {\n",
       "    return new Date();\n",
       "  }\n",
       "\n",
       "  var force = true;\n",
       "\n",
       "  if (typeof (root._bokeh_onload_callbacks) === \"undefined\" || force === true) {\n",
       "    root._bokeh_onload_callbacks = [];\n",
       "    root._bokeh_is_loading = undefined;\n",
       "  }\n",
       "\n",
       "  var JS_MIME_TYPE = 'application/javascript';\n",
       "  var HTML_MIME_TYPE = 'text/html';\n",
       "  var EXEC_MIME_TYPE = 'application/vnd.bokehjs_exec.v0+json';\n",
       "  var CLASS_NAME = 'output_bokeh rendered_html';\n",
       "\n",
       "  /**\n",
       "   * Render data to the DOM node\n",
       "   */\n",
       "  function render(props, node) {\n",
       "    var script = document.createElement(\"script\");\n",
       "    node.appendChild(script);\n",
       "  }\n",
       "\n",
       "  /**\n",
       "   * Handle when an output is cleared or removed\n",
       "   */\n",
       "  function handleClearOutput(event, handle) {\n",
       "    var cell = handle.cell;\n",
       "\n",
       "    var id = cell.output_area._bokeh_element_id;\n",
       "    var server_id = cell.output_area._bokeh_server_id;\n",
       "    // Clean up Bokeh references\n",
       "    if (id !== undefined) {\n",
       "      Bokeh.index[id].model.document.clear();\n",
       "      delete Bokeh.index[id];\n",
       "    }\n",
       "\n",
       "    if (server_id !== undefined) {\n",
       "      // Clean up Bokeh references\n",
       "      var cmd = \"from bokeh.io.state import curstate; print(curstate().uuid_to_server['\" + server_id + \"'].get_sessions()[0].document.roots[0]._id)\";\n",
       "      cell.notebook.kernel.execute(cmd, {\n",
       "        iopub: {\n",
       "          output: function(msg) {\n",
       "            var element_id = msg.content.text.trim();\n",
       "            Bokeh.index[element_id].model.document.clear();\n",
       "            delete Bokeh.index[element_id];\n",
       "          }\n",
       "        }\n",
       "      });\n",
       "      // Destroy server and session\n",
       "      var cmd = \"import bokeh.io.notebook as ion; ion.destroy_server('\" + server_id + \"')\";\n",
       "      cell.notebook.kernel.execute(cmd);\n",
       "    }\n",
       "  }\n",
       "\n",
       "  /**\n",
       "   * Handle when a new output is added\n",
       "   */\n",
       "  function handleAddOutput(event, handle) {\n",
       "    var output_area = handle.output_area;\n",
       "    var output = handle.output;\n",
       "\n",
       "    // limit handleAddOutput to display_data with EXEC_MIME_TYPE content only\n",
       "    if ((output.output_type != \"display_data\") || (!output.data.hasOwnProperty(EXEC_MIME_TYPE))) {\n",
       "      return\n",
       "    }\n",
       "\n",
       "    var toinsert = output_area.element.find(\".\" + CLASS_NAME.split(' ')[0]);\n",
       "\n",
       "    if (output.metadata[EXEC_MIME_TYPE][\"id\"] !== undefined) {\n",
       "      toinsert[0].firstChild.textContent = output.data[JS_MIME_TYPE];\n",
       "      // store reference to embed id on output_area\n",
       "      output_area._bokeh_element_id = output.metadata[EXEC_MIME_TYPE][\"id\"];\n",
       "    }\n",
       "    if (output.metadata[EXEC_MIME_TYPE][\"server_id\"] !== undefined) {\n",
       "      var bk_div = document.createElement(\"div\");\n",
       "      bk_div.innerHTML = output.data[HTML_MIME_TYPE];\n",
       "      var script_attrs = bk_div.children[0].attributes;\n",
       "      for (var i = 0; i < script_attrs.length; i++) {\n",
       "        toinsert[0].firstChild.setAttribute(script_attrs[i].name, script_attrs[i].value);\n",
       "      }\n",
       "      // store reference to server id on output_area\n",
       "      output_area._bokeh_server_id = output.metadata[EXEC_MIME_TYPE][\"server_id\"];\n",
       "    }\n",
       "  }\n",
       "\n",
       "  function register_renderer(events, OutputArea) {\n",
       "\n",
       "    function append_mime(data, metadata, element) {\n",
       "      // create a DOM node to render to\n",
       "      var toinsert = this.create_output_subarea(\n",
       "        metadata,\n",
       "        CLASS_NAME,\n",
       "        EXEC_MIME_TYPE\n",
       "      );\n",
       "      this.keyboard_manager.register_events(toinsert);\n",
       "      // Render to node\n",
       "      var props = {data: data, metadata: metadata[EXEC_MIME_TYPE]};\n",
       "      render(props, toinsert[0]);\n",
       "      element.append(toinsert);\n",
       "      return toinsert\n",
       "    }\n",
       "\n",
       "    /* Handle when an output is cleared or removed */\n",
       "    events.on('clear_output.CodeCell', handleClearOutput);\n",
       "    events.on('delete.Cell', handleClearOutput);\n",
       "\n",
       "    /* Handle when a new output is added */\n",
       "    events.on('output_added.OutputArea', handleAddOutput);\n",
       "\n",
       "    /**\n",
       "     * Register the mime type and append_mime function with output_area\n",
       "     */\n",
       "    OutputArea.prototype.register_mime_type(EXEC_MIME_TYPE, append_mime, {\n",
       "      /* Is output safe? */\n",
       "      safe: true,\n",
       "      /* Index of renderer in `output_area.display_order` */\n",
       "      index: 0\n",
       "    });\n",
       "  }\n",
       "\n",
       "  // register the mime type if in Jupyter Notebook environment and previously unregistered\n",
       "  if (root.Jupyter !== undefined) {\n",
       "    var events = require('base/js/events');\n",
       "    var OutputArea = require('notebook/js/outputarea').OutputArea;\n",
       "\n",
       "    if (OutputArea.prototype.mime_types().indexOf(EXEC_MIME_TYPE) == -1) {\n",
       "      register_renderer(events, OutputArea);\n",
       "    }\n",
       "  }\n",
       "\n",
       "  \n",
       "  if (typeof (root._bokeh_timeout) === \"undefined\" || force === true) {\n",
       "    root._bokeh_timeout = Date.now() + 5000;\n",
       "    root._bokeh_failed_load = false;\n",
       "  }\n",
       "\n",
       "  var NB_LOAD_WARNING = {'data': {'text/html':\n",
       "     \"<div style='background-color: #fdd'>\\n\"+\n",
       "     \"<p>\\n\"+\n",
       "     \"BokehJS does not appear to have successfully loaded. If loading BokehJS from CDN, this \\n\"+\n",
       "     \"may be due to a slow or bad network connection. Possible fixes:\\n\"+\n",
       "     \"</p>\\n\"+\n",
       "     \"<ul>\\n\"+\n",
       "     \"<li>re-rerun `output_notebook()` to attempt to load from CDN again, or</li>\\n\"+\n",
       "     \"<li>use INLINE resources instead, as so:</li>\\n\"+\n",
       "     \"</ul>\\n\"+\n",
       "     \"<code>\\n\"+\n",
       "     \"from bokeh.resources import INLINE\\n\"+\n",
       "     \"output_notebook(resources=INLINE)\\n\"+\n",
       "     \"</code>\\n\"+\n",
       "     \"</div>\"}};\n",
       "\n",
       "  function display_loaded() {\n",
       "    var el = document.getElementById(\"995dffa6-b9d1-439f-9ab1-1c2da0438dfd\");\n",
       "    if (el != null) {\n",
       "      el.textContent = \"BokehJS is loading...\";\n",
       "    }\n",
       "    if (root.Bokeh !== undefined) {\n",
       "      if (el != null) {\n",
       "        el.textContent = \"BokehJS \" + root.Bokeh.version + \" successfully loaded.\";\n",
       "      }\n",
       "    } else if (Date.now() < root._bokeh_timeout) {\n",
       "      setTimeout(display_loaded, 100)\n",
       "    }\n",
       "  }\n",
       "\n",
       "\n",
       "  function run_callbacks() {\n",
       "    try {\n",
       "      root._bokeh_onload_callbacks.forEach(function(callback) { callback() });\n",
       "    }\n",
       "    finally {\n",
       "      delete root._bokeh_onload_callbacks\n",
       "    }\n",
       "    console.info(\"Bokeh: all callbacks have finished\");\n",
       "  }\n",
       "\n",
       "  function load_libs(js_urls, callback) {\n",
       "    root._bokeh_onload_callbacks.push(callback);\n",
       "    if (root._bokeh_is_loading > 0) {\n",
       "      console.log(\"Bokeh: BokehJS is being loaded, scheduling callback at\", now());\n",
       "      return null;\n",
       "    }\n",
       "    if (js_urls == null || js_urls.length === 0) {\n",
       "      run_callbacks();\n",
       "      return null;\n",
       "    }\n",
       "    console.log(\"Bokeh: BokehJS not loaded, scheduling load and callback at\", now());\n",
       "    root._bokeh_is_loading = js_urls.length;\n",
       "    for (var i = 0; i < js_urls.length; i++) {\n",
       "      var url = js_urls[i];\n",
       "      var s = document.createElement('script');\n",
       "      s.src = url;\n",
       "      s.async = false;\n",
       "      s.onreadystatechange = s.onload = function() {\n",
       "        root._bokeh_is_loading--;\n",
       "        if (root._bokeh_is_loading === 0) {\n",
       "          console.log(\"Bokeh: all BokehJS libraries loaded\");\n",
       "          run_callbacks()\n",
       "        }\n",
       "      };\n",
       "      s.onerror = function() {\n",
       "        console.warn(\"failed to load library \" + url);\n",
       "      };\n",
       "      console.log(\"Bokeh: injecting script tag for BokehJS library: \", url);\n",
       "      document.getElementsByTagName(\"head\")[0].appendChild(s);\n",
       "    }\n",
       "  };var element = document.getElementById(\"995dffa6-b9d1-439f-9ab1-1c2da0438dfd\");\n",
       "  if (element == null) {\n",
       "    console.log(\"Bokeh: ERROR: autoload.js configured with elementid '995dffa6-b9d1-439f-9ab1-1c2da0438dfd' but no matching script tag was found. \")\n",
       "    return false;\n",
       "  }\n",
       "\n",
       "  var js_urls = [\"https://cdn.pydata.org/bokeh/release/bokeh-0.12.13.min.js\", \"https://cdn.pydata.org/bokeh/release/bokeh-widgets-0.12.13.min.js\", \"https://cdn.pydata.org/bokeh/release/bokeh-tables-0.12.13.min.js\", \"https://cdn.pydata.org/bokeh/release/bokeh-gl-0.12.13.min.js\"];\n",
       "\n",
       "  var inline_js = [\n",
       "    function(Bokeh) {\n",
       "      Bokeh.set_log_level(\"info\");\n",
       "    },\n",
       "    \n",
       "    function(Bokeh) {\n",
       "      \n",
       "    },\n",
       "    function(Bokeh) {\n",
       "      console.log(\"Bokeh: injecting CSS: https://cdn.pydata.org/bokeh/release/bokeh-0.12.13.min.css\");\n",
       "      Bokeh.embed.inject_css(\"https://cdn.pydata.org/bokeh/release/bokeh-0.12.13.min.css\");\n",
       "      console.log(\"Bokeh: injecting CSS: https://cdn.pydata.org/bokeh/release/bokeh-widgets-0.12.13.min.css\");\n",
       "      Bokeh.embed.inject_css(\"https://cdn.pydata.org/bokeh/release/bokeh-widgets-0.12.13.min.css\");\n",
       "      console.log(\"Bokeh: injecting CSS: https://cdn.pydata.org/bokeh/release/bokeh-tables-0.12.13.min.css\");\n",
       "      Bokeh.embed.inject_css(\"https://cdn.pydata.org/bokeh/release/bokeh-tables-0.12.13.min.css\");\n",
       "    }\n",
       "  ];\n",
       "\n",
       "  function run_inline_js() {\n",
       "    \n",
       "    if ((root.Bokeh !== undefined) || (force === true)) {\n",
       "      for (var i = 0; i < inline_js.length; i++) {\n",
       "        inline_js[i].call(root, root.Bokeh);\n",
       "      }if (force === true) {\n",
       "        display_loaded();\n",
       "      }} else if (Date.now() < root._bokeh_timeout) {\n",
       "      setTimeout(run_inline_js, 100);\n",
       "    } else if (!root._bokeh_failed_load) {\n",
       "      console.log(\"Bokeh: BokehJS failed to load within specified timeout.\");\n",
       "      root._bokeh_failed_load = true;\n",
       "    } else if (force !== true) {\n",
       "      var cell = $(document.getElementById(\"995dffa6-b9d1-439f-9ab1-1c2da0438dfd\")).parents('.cell').data().cell;\n",
       "      cell.output_area.append_execute_result(NB_LOAD_WARNING)\n",
       "    }\n",
       "\n",
       "  }\n",
       "\n",
       "  if (root._bokeh_is_loading === 0) {\n",
       "    console.log(\"Bokeh: BokehJS loaded, going straight to plotting\");\n",
       "    run_inline_js();\n",
       "  } else {\n",
       "    load_libs(js_urls, function() {\n",
       "      console.log(\"Bokeh: BokehJS plotting callback run at\", now());\n",
       "      run_inline_js();\n",
       "    });\n",
       "  }\n",
       "}(window));"
      ],
      "application/vnd.bokehjs_load.v0+json": "\n(function(root) {\n  function now() {\n    return new Date();\n  }\n\n  var force = true;\n\n  if (typeof (root._bokeh_onload_callbacks) === \"undefined\" || force === true) {\n    root._bokeh_onload_callbacks = [];\n    root._bokeh_is_loading = undefined;\n  }\n\n  \n\n  \n  if (typeof (root._bokeh_timeout) === \"undefined\" || force === true) {\n    root._bokeh_timeout = Date.now() + 5000;\n    root._bokeh_failed_load = false;\n  }\n\n  var NB_LOAD_WARNING = {'data': {'text/html':\n     \"<div style='background-color: #fdd'>\\n\"+\n     \"<p>\\n\"+\n     \"BokehJS does not appear to have successfully loaded. If loading BokehJS from CDN, this \\n\"+\n     \"may be due to a slow or bad network connection. Possible fixes:\\n\"+\n     \"</p>\\n\"+\n     \"<ul>\\n\"+\n     \"<li>re-rerun `output_notebook()` to attempt to load from CDN again, or</li>\\n\"+\n     \"<li>use INLINE resources instead, as so:</li>\\n\"+\n     \"</ul>\\n\"+\n     \"<code>\\n\"+\n     \"from bokeh.resources import INLINE\\n\"+\n     \"output_notebook(resources=INLINE)\\n\"+\n     \"</code>\\n\"+\n     \"</div>\"}};\n\n  function display_loaded() {\n    var el = document.getElementById(\"995dffa6-b9d1-439f-9ab1-1c2da0438dfd\");\n    if (el != null) {\n      el.textContent = \"BokehJS is loading...\";\n    }\n    if (root.Bokeh !== undefined) {\n      if (el != null) {\n        el.textContent = \"BokehJS \" + root.Bokeh.version + \" successfully loaded.\";\n      }\n    } else if (Date.now() < root._bokeh_timeout) {\n      setTimeout(display_loaded, 100)\n    }\n  }\n\n\n  function run_callbacks() {\n    try {\n      root._bokeh_onload_callbacks.forEach(function(callback) { callback() });\n    }\n    finally {\n      delete root._bokeh_onload_callbacks\n    }\n    console.info(\"Bokeh: all callbacks have finished\");\n  }\n\n  function load_libs(js_urls, callback) {\n    root._bokeh_onload_callbacks.push(callback);\n    if (root._bokeh_is_loading > 0) {\n      console.log(\"Bokeh: BokehJS is being loaded, scheduling callback at\", now());\n      return null;\n    }\n    if (js_urls == null || js_urls.length === 0) {\n      run_callbacks();\n      return null;\n    }\n    console.log(\"Bokeh: BokehJS not loaded, scheduling load and callback at\", now());\n    root._bokeh_is_loading = js_urls.length;\n    for (var i = 0; i < js_urls.length; i++) {\n      var url = js_urls[i];\n      var s = document.createElement('script');\n      s.src = url;\n      s.async = false;\n      s.onreadystatechange = s.onload = function() {\n        root._bokeh_is_loading--;\n        if (root._bokeh_is_loading === 0) {\n          console.log(\"Bokeh: all BokehJS libraries loaded\");\n          run_callbacks()\n        }\n      };\n      s.onerror = function() {\n        console.warn(\"failed to load library \" + url);\n      };\n      console.log(\"Bokeh: injecting script tag for BokehJS library: \", url);\n      document.getElementsByTagName(\"head\")[0].appendChild(s);\n    }\n  };var element = document.getElementById(\"995dffa6-b9d1-439f-9ab1-1c2da0438dfd\");\n  if (element == null) {\n    console.log(\"Bokeh: ERROR: autoload.js configured with elementid '995dffa6-b9d1-439f-9ab1-1c2da0438dfd' but no matching script tag was found. \")\n    return false;\n  }\n\n  var js_urls = [\"https://cdn.pydata.org/bokeh/release/bokeh-0.12.13.min.js\", \"https://cdn.pydata.org/bokeh/release/bokeh-widgets-0.12.13.min.js\", \"https://cdn.pydata.org/bokeh/release/bokeh-tables-0.12.13.min.js\", \"https://cdn.pydata.org/bokeh/release/bokeh-gl-0.12.13.min.js\"];\n\n  var inline_js = [\n    function(Bokeh) {\n      Bokeh.set_log_level(\"info\");\n    },\n    \n    function(Bokeh) {\n      \n    },\n    function(Bokeh) {\n      console.log(\"Bokeh: injecting CSS: https://cdn.pydata.org/bokeh/release/bokeh-0.12.13.min.css\");\n      Bokeh.embed.inject_css(\"https://cdn.pydata.org/bokeh/release/bokeh-0.12.13.min.css\");\n      console.log(\"Bokeh: injecting CSS: https://cdn.pydata.org/bokeh/release/bokeh-widgets-0.12.13.min.css\");\n      Bokeh.embed.inject_css(\"https://cdn.pydata.org/bokeh/release/bokeh-widgets-0.12.13.min.css\");\n      console.log(\"Bokeh: injecting CSS: https://cdn.pydata.org/bokeh/release/bokeh-tables-0.12.13.min.css\");\n      Bokeh.embed.inject_css(\"https://cdn.pydata.org/bokeh/release/bokeh-tables-0.12.13.min.css\");\n    }\n  ];\n\n  function run_inline_js() {\n    \n    if ((root.Bokeh !== undefined) || (force === true)) {\n      for (var i = 0; i < inline_js.length; i++) {\n        inline_js[i].call(root, root.Bokeh);\n      }if (force === true) {\n        display_loaded();\n      }} else if (Date.now() < root._bokeh_timeout) {\n      setTimeout(run_inline_js, 100);\n    } else if (!root._bokeh_failed_load) {\n      console.log(\"Bokeh: BokehJS failed to load within specified timeout.\");\n      root._bokeh_failed_load = true;\n    } else if (force !== true) {\n      var cell = $(document.getElementById(\"995dffa6-b9d1-439f-9ab1-1c2da0438dfd\")).parents('.cell').data().cell;\n      cell.output_area.append_execute_result(NB_LOAD_WARNING)\n    }\n\n  }\n\n  if (root._bokeh_is_loading === 0) {\n    console.log(\"Bokeh: BokehJS loaded, going straight to plotting\");\n    run_inline_js();\n  } else {\n    load_libs(js_urls, function() {\n      console.log(\"Bokeh: BokehJS plotting callback run at\", now());\n      run_inline_js();\n    });\n  }\n}(window));"
     },
     "metadata": {},
     "output_type": "display_data"
    }
   ],
   "source": [
    "import numpy as np\n",
    "\n",
    "import pandas as pd\n",
    "from pandas import Series,DataFrame\n",
    "from bokeh.layouts import gridplot, row, column\n",
    "\n",
    "from bokeh.io import push_notebook, show, output_notebook\n",
    "from bokeh.plotting import figure\n",
    "\n",
    "from sklearn.datasets import load_boston\n",
    "\n",
    "# For very simple visualizations (without too much interaction, output_notebook works too, which we enable here)\n",
    "output_notebook()"
   ]
  },
  {
   "cell_type": "code",
   "execution_count": 17,
   "metadata": {},
   "outputs": [
    {
     "name": "stdout",
     "output_type": "stream",
     "text": [
      "dict_keys(['data', 'target', 'feature_names', 'DESCR'])\n",
      "Boston House Prices dataset\n",
      "===========================\n",
      "\n",
      "Notes\n",
      "------\n",
      "Data Set Characteristics:  \n",
      "\n",
      "    :Number of Instances: 506 \n",
      "\n",
      "    :Number of Attributes: 13 numeric/categorical predictive\n",
      "    \n",
      "    :Median Value (attribute 14) is usually the target\n",
      "\n",
      "    :Attribute Information (in order):\n",
      "        - CRIM     per capita crime rate by town\n",
      "        - ZN       proportion of residential land zoned for lots over 25,000 sq.ft.\n",
      "        - INDUS    proportion of non-retail business acres per town\n",
      "        - CHAS     Charles River dummy variable (= 1 if tract bounds river; 0 otherwise)\n",
      "        - NOX      nitric oxides concentration (parts per 10 million)\n",
      "        - RM       average number of rooms per dwelling\n",
      "        - AGE      proportion of owner-occupied units built prior to 1940\n",
      "        - DIS      weighted distances to five Boston employment centres\n",
      "        - RAD      index of accessibility to radial highways\n",
      "        - TAX      full-value property-tax rate per $10,000\n",
      "        - PTRATIO  pupil-teacher ratio by town\n",
      "        - B        1000(Bk - 0.63)^2 where Bk is the proportion of blacks by town\n",
      "        - LSTAT    % lower status of the population\n",
      "        - MEDV     Median value of owner-occupied homes in $1000's\n",
      "\n",
      "    :Missing Attribute Values: None\n",
      "\n",
      "    :Creator: Harrison, D. and Rubinfeld, D.L.\n",
      "\n",
      "This is a copy of UCI ML housing dataset.\n",
      "http://archive.ics.uci.edu/ml/datasets/Housing\n",
      "\n",
      "\n",
      "This dataset was taken from the StatLib library which is maintained at Carnegie Mellon University.\n",
      "\n",
      "The Boston house-price data of Harrison, D. and Rubinfeld, D.L. 'Hedonic\n",
      "prices and the demand for clean air', J. Environ. Economics & Management,\n",
      "vol.5, 81-102, 1978.   Used in Belsley, Kuh & Welsch, 'Regression diagnostics\n",
      "...', Wiley, 1980.   N.B. Various transformations are used in the table on\n",
      "pages 244-261 of the latter.\n",
      "\n",
      "The Boston house-price data has been used in many machine learning papers that address regression\n",
      "problems.   \n",
      "     \n",
      "**References**\n",
      "\n",
      "   - Belsley, Kuh & Welsch, 'Regression diagnostics: Identifying Influential Data and Sources of Collinearity', Wiley, 1980. 244-261.\n",
      "   - Quinlan,R. (1993). Combining Instance-Based and Model-Based Learning. In Proceedings on the Tenth International Conference of Machine Learning, 236-243, University of Massachusetts, Amherst. Morgan Kaufmann.\n",
      "   - many more! (see http://archive.ics.uci.edu/ml/datasets/Housing)\n",
      "\n"
     ]
    }
   ],
   "source": [
    "# Load the housing dataset - a dictionary\n",
    "boston = load_boston()\n",
    "print(boston.keys())\n",
    "# Let's see some details\n",
    "print(boston.DESCR)"
   ]
  },
  {
   "cell_type": "markdown",
   "metadata": {},
   "source": [
    "So with the above information we deduce that we have some variables stored under de `data` key, the names of each of these features stored in `feature_names`, and that we have their expected prices stored in `target`. We might as well whip the `data` into a DataFrame as well, while we are at it."
   ]
  },
  {
   "cell_type": "code",
   "execution_count": 18,
   "metadata": {},
   "outputs": [
    {
     "data": {
      "text/html": [
       "<div>\n",
       "<style scoped>\n",
       "    .dataframe tbody tr th:only-of-type {\n",
       "        vertical-align: middle;\n",
       "    }\n",
       "\n",
       "    .dataframe tbody tr th {\n",
       "        vertical-align: top;\n",
       "    }\n",
       "\n",
       "    .dataframe thead th {\n",
       "        text-align: right;\n",
       "    }\n",
       "</style>\n",
       "<table border=\"1\" class=\"dataframe\">\n",
       "  <thead>\n",
       "    <tr style=\"text-align: right;\">\n",
       "      <th></th>\n",
       "      <th>CRIM</th>\n",
       "      <th>ZN</th>\n",
       "      <th>INDUS</th>\n",
       "      <th>CHAS</th>\n",
       "      <th>NOX</th>\n",
       "      <th>RM</th>\n",
       "      <th>AGE</th>\n",
       "      <th>DIS</th>\n",
       "      <th>RAD</th>\n",
       "      <th>TAX</th>\n",
       "      <th>PTRATIO</th>\n",
       "      <th>B</th>\n",
       "      <th>LSTAT</th>\n",
       "      <th>Price</th>\n",
       "    </tr>\n",
       "  </thead>\n",
       "  <tbody>\n",
       "    <tr>\n",
       "      <th>0</th>\n",
       "      <td>0.00632</td>\n",
       "      <td>18.0</td>\n",
       "      <td>2.31</td>\n",
       "      <td>0.0</td>\n",
       "      <td>0.538</td>\n",
       "      <td>6.575</td>\n",
       "      <td>65.2</td>\n",
       "      <td>4.0900</td>\n",
       "      <td>1.0</td>\n",
       "      <td>296.0</td>\n",
       "      <td>15.3</td>\n",
       "      <td>396.90</td>\n",
       "      <td>4.98</td>\n",
       "      <td>24.0</td>\n",
       "    </tr>\n",
       "    <tr>\n",
       "      <th>1</th>\n",
       "      <td>0.02731</td>\n",
       "      <td>0.0</td>\n",
       "      <td>7.07</td>\n",
       "      <td>0.0</td>\n",
       "      <td>0.469</td>\n",
       "      <td>6.421</td>\n",
       "      <td>78.9</td>\n",
       "      <td>4.9671</td>\n",
       "      <td>2.0</td>\n",
       "      <td>242.0</td>\n",
       "      <td>17.8</td>\n",
       "      <td>396.90</td>\n",
       "      <td>9.14</td>\n",
       "      <td>21.6</td>\n",
       "    </tr>\n",
       "    <tr>\n",
       "      <th>2</th>\n",
       "      <td>0.02729</td>\n",
       "      <td>0.0</td>\n",
       "      <td>7.07</td>\n",
       "      <td>0.0</td>\n",
       "      <td>0.469</td>\n",
       "      <td>7.185</td>\n",
       "      <td>61.1</td>\n",
       "      <td>4.9671</td>\n",
       "      <td>2.0</td>\n",
       "      <td>242.0</td>\n",
       "      <td>17.8</td>\n",
       "      <td>392.83</td>\n",
       "      <td>4.03</td>\n",
       "      <td>34.7</td>\n",
       "    </tr>\n",
       "    <tr>\n",
       "      <th>3</th>\n",
       "      <td>0.03237</td>\n",
       "      <td>0.0</td>\n",
       "      <td>2.18</td>\n",
       "      <td>0.0</td>\n",
       "      <td>0.458</td>\n",
       "      <td>6.998</td>\n",
       "      <td>45.8</td>\n",
       "      <td>6.0622</td>\n",
       "      <td>3.0</td>\n",
       "      <td>222.0</td>\n",
       "      <td>18.7</td>\n",
       "      <td>394.63</td>\n",
       "      <td>2.94</td>\n",
       "      <td>33.4</td>\n",
       "    </tr>\n",
       "    <tr>\n",
       "      <th>4</th>\n",
       "      <td>0.06905</td>\n",
       "      <td>0.0</td>\n",
       "      <td>2.18</td>\n",
       "      <td>0.0</td>\n",
       "      <td>0.458</td>\n",
       "      <td>7.147</td>\n",
       "      <td>54.2</td>\n",
       "      <td>6.0622</td>\n",
       "      <td>3.0</td>\n",
       "      <td>222.0</td>\n",
       "      <td>18.7</td>\n",
       "      <td>396.90</td>\n",
       "      <td>5.33</td>\n",
       "      <td>36.2</td>\n",
       "    </tr>\n",
       "  </tbody>\n",
       "</table>\n",
       "</div>"
      ],
      "text/plain": [
       "      CRIM    ZN  INDUS  CHAS    NOX     RM   AGE     DIS  RAD    TAX  \\\n",
       "0  0.00632  18.0   2.31   0.0  0.538  6.575  65.2  4.0900  1.0  296.0   \n",
       "1  0.02731   0.0   7.07   0.0  0.469  6.421  78.9  4.9671  2.0  242.0   \n",
       "2  0.02729   0.0   7.07   0.0  0.469  7.185  61.1  4.9671  2.0  242.0   \n",
       "3  0.03237   0.0   2.18   0.0  0.458  6.998  45.8  6.0622  3.0  222.0   \n",
       "4  0.06905   0.0   2.18   0.0  0.458  7.147  54.2  6.0622  3.0  222.0   \n",
       "\n",
       "   PTRATIO       B  LSTAT  Price  \n",
       "0     15.3  396.90   4.98   24.0  \n",
       "1     17.8  396.90   9.14   21.6  \n",
       "2     17.8  392.83   4.03   34.7  \n",
       "3     18.7  394.63   2.94   33.4  \n",
       "4     18.7  396.90   5.33   36.2  "
      ]
     },
     "execution_count": 18,
     "metadata": {},
     "output_type": "execute_result"
    }
   ],
   "source": [
    "# set data as pandas DataFrame\n",
    "boston_df = DataFrame(boston.data)\n",
    "\n",
    "# label columns\n",
    "boston_df.columns = boston.feature_names\n",
    "\n",
    "# Add target prices\n",
    "boston_df['Price'] = boston.target\n",
    "\n",
    "#show\n",
    "boston_df.head()"
   ]
  },
  {
   "cell_type": "markdown",
   "metadata": {},
   "source": [
    "Let us now do an initial visualisation, to explore to some degree what we have"
   ]
  },
  {
   "cell_type": "code",
   "execution_count": 19,
   "metadata": {},
   "outputs": [
    {
     "data": {
      "text/html": [
       "\n",
       "<div class=\"bk-root\">\n",
       "    <div class=\"bk-plotdiv\" id=\"dc08cc3d-f365-48d7-8620-b60d31e3a621\"></div>\n",
       "</div>"
      ]
     },
     "metadata": {},
     "output_type": "display_data"
    },
    {
     "data": {
      "application/javascript": [
       "(function(root) {\n",
       "  function embed_document(root) {\n",
       "    \n",
       "  var docs_json = {\"d44dbad0-edbf-4f10-ad0d-23ed522a423b\":{\"roots\":{\"references\":[{\"attributes\":{\"plot\":null,\"text\":\"\"},\"id\":\"0f4d74ed-7c7d-4b3b-af07-b0d5e30eefd8\",\"type\":\"Title\"},{\"attributes\":{\"active_drag\":\"auto\",\"active_inspect\":\"auto\",\"active_scroll\":\"auto\",\"active_tap\":\"auto\",\"tools\":[{\"id\":\"f913e490-b8a0-48f6-a210-e8769adfead4\",\"type\":\"PanTool\"},{\"id\":\"742c3ae5-ce1a-4e3a-9fcf-403ad5a10be8\",\"type\":\"WheelZoomTool\"},{\"id\":\"7144a29d-fd26-4abe-b6de-3a3e912e0d8d\",\"type\":\"BoxZoomTool\"},{\"id\":\"b9c1b23a-6d35-4ceb-82ca-e16e97642546\",\"type\":\"SaveTool\"},{\"id\":\"112dddd1-939b-4f88-8994-d13157ab60c7\",\"type\":\"ResetTool\"},{\"id\":\"187c13d7-f16f-48c1-bbe3-a60692a50eba\",\"type\":\"HelpTool\"}]},\"id\":\"cccf199d-8aae-497e-a80b-8cedf76ceb87\",\"type\":\"Toolbar\"},{\"attributes\":{},\"id\":\"742c3ae5-ce1a-4e3a-9fcf-403ad5a10be8\",\"type\":\"WheelZoomTool\"},{\"attributes\":{\"callback\":null},\"id\":\"2cd12222-acc1-4e8e-8e76-62aade244f4a\",\"type\":\"DataRange1d\"},{\"attributes\":{\"overlay\":{\"id\":\"a5347968-b963-4f36-946f-98fdbe1d1bc5\",\"type\":\"BoxAnnotation\"}},\"id\":\"7144a29d-fd26-4abe-b6de-3a3e912e0d8d\",\"type\":\"BoxZoomTool\"},{\"attributes\":{\"callback\":null},\"id\":\"942f0704-12ae-4dff-8c1f-c2b64b5fb7cc\",\"type\":\"DataRange1d\"},{\"attributes\":{\"callback\":null,\"column_names\":[\"left\",\"right\",\"top\"],\"data\":{\"left\":{\"__ndarray__\":\"AAAAAAAAFECamZmZmZkXQDMzMzMzMxtAzczMzMzMHkAzMzMzMzMhQAAAAAAAACNAzczMzMzMJECamZmZmZkmQGZmZmZmZihAMzMzMzMzKkAAAAAAAAAsQM3MzMzMzC1AmpmZmZmZL0A0MzMzM7MwQJqZmZmZmTFAAAAAAACAMkBmZmZmZmYzQM3MzMzMTDRAMzMzMzMzNUCamZmZmRk2QAAAAAAAADdAZ2ZmZmbmN0DNzMzMzMw4QDMzMzMzszlAmpmZmZmZOkAAAAAAAIA7QGdmZmZmZjxAzczMzMxMPUAzMzMzMzM+QJqZmZmZGT9AAAAAAAAAQEA0MzMzM3NAQGZmZmZm5kBAmpmZmZlZQUDNzMzMzMxBQAAAAAAAQEJAMzMzMzOzQkBnZmZmZiZDQJqZmZmZmUNAzczMzMwMREAAAAAAAIBEQDMzMzMz80RAZ2ZmZmZmRUCamZmZmdlFQM3MzMzMTEZAAAAAAADARkAzMzMzMzNHQGdmZmZmpkdAmpmZmZkZSEDNzMzMzIxIQA==\",\"dtype\":\"float64\",\"shape\":[50]},\"right\":{\"__ndarray__\":\"mpmZmZmZF0AzMzMzMzMbQM3MzMzMzB5AMzMzMzMzIUAAAAAAAAAjQM3MzMzMzCRAmpmZmZmZJkBmZmZmZmYoQDMzMzMzMypAAAAAAAAALEDNzMzMzMwtQJqZmZmZmS9ANDMzMzOzMECamZmZmZkxQAAAAAAAgDJAZmZmZmZmM0DNzMzMzEw0QDMzMzMzMzVAmpmZmZkZNkAAAAAAAAA3QGdmZmZm5jdAzczMzMzMOEAzMzMzM7M5QJqZmZmZmTpAAAAAAACAO0BnZmZmZmY8QM3MzMzMTD1AMzMzMzMzPkCamZmZmRk/QAAAAAAAAEBANDMzMzNzQEBmZmZmZuZAQJqZmZmZWUFAzczMzMzMQUAAAAAAAEBCQDMzMzMzs0JAZ2ZmZmYmQ0CamZmZmZlDQM3MzMzMDERAAAAAAACAREAzMzMzM/NEQGdmZmZmZkVAmpmZmZnZRUDNzMzMzExGQAAAAAAAwEZAMzMzMzMzR0BnZmZmZqZHQJqZmZmZGUhAzczMzMyMSEAAAAAAAABJQA==\",\"dtype\":\"float64\",\"shape\":[50]},\"top\":{\"__ndarray__\":\"fkc0g537ej8Ehc2sE/1hP76oZ27ieo8/xqhnbuJ6jz9+RzSDnft6P35HNIOd+4o//4TNrBP9kT9L5gCYWHyWP/+EzawT/ZE/L29nSMzbqT+vrAByQt2gP+8NNF2HXKU/rKhnbuJ6nz8Jhc2sE/2hP6o1ZyK2PKQ/z6hnbuJ6rz+UNWcitjy0P5BAmtRZTbA/HPEzSvyMsj/PqGdu4nqvP7uhzb+ezLQ/nL7N0imcpz+4rAByQt2gP/WEzawT/YE/z6hnbuJ6jz/QlpoN+7uYP6o1ZyK2PJQ/qjVnIrY8lD8y5gCYWHyGP8+oZ27ieo8/iqhnbuJ6jz8xhc2sE/2RP+GEzawT/XE/CYXNrBP9kT9L5gCYWHyGPwmFzawT/YE/4YTNrBP9cT8Jhc2sE/1hPwmFzawT/WE/AAAAAAAAAAAJhc2sE/1xP+GEzawT/XE/CYXNrBP9cT8Jhc2sE/1xPwmFzawT/XE/CYXNrBP9YT/hhM2sE/1hPwAAAAAAAAAAjkc0g537ej8Jhc2sE/2hPw==\",\"dtype\":\"float64\",\"shape\":[50]}}},\"id\":\"13b24eaa-3f80-4331-959f-6ca283112d20\",\"type\":\"ColumnDataSource\"},{\"attributes\":{},\"id\":\"b9c1b23a-6d35-4ceb-82ca-e16e97642546\",\"type\":\"SaveTool\"},{\"attributes\":{},\"id\":\"2b8597cf-d057-4040-9e96-36e13e4ecd79\",\"type\":\"LinearScale\"},{\"attributes\":{\"bottom\":{\"value\":0},\"fill_color\":{\"value\":\"#036564\"},\"left\":{\"field\":\"left\"},\"line_color\":{\"value\":\"#033649\"},\"right\":{\"field\":\"right\"},\"top\":{\"field\":\"top\"}},\"id\":\"fb166303-cdbb-430b-bf10-23ebbab3e33d\",\"type\":\"Quad\"},{\"attributes\":{},\"id\":\"112dddd1-939b-4f88-8994-d13157ab60c7\",\"type\":\"ResetTool\"},{\"attributes\":{},\"id\":\"a3571023-8504-4143-b65b-e3d029b73aed\",\"type\":\"LinearScale\"},{\"attributes\":{},\"id\":\"187c13d7-f16f-48c1-bbe3-a60692a50eba\",\"type\":\"HelpTool\"},{\"attributes\":{\"plot\":{\"id\":\"ae635efa-21fe-4015-8226-d0374c36e9e3\",\"subtype\":\"Figure\",\"type\":\"Plot\"},\"ticker\":{\"id\":\"172d908f-a7db-4d8a-9ac8-5f8c286183cb\",\"type\":\"BasicTicker\"}},\"id\":\"ef87d431-3bb7-421a-a3d7-17093d407c48\",\"type\":\"Grid\"},{\"attributes\":{\"source\":{\"id\":\"13b24eaa-3f80-4331-959f-6ca283112d20\",\"type\":\"ColumnDataSource\"}},\"id\":\"544f39f8-092e-4899-adfd-52e7b229dd56\",\"type\":\"CDSView\"},{\"attributes\":{\"axis_label\":\"Price in $1000s\",\"formatter\":{\"id\":\"fd851173-2a02-451e-a658-17c0bafcafdb\",\"type\":\"BasicTickFormatter\"},\"plot\":{\"id\":\"ae635efa-21fe-4015-8226-d0374c36e9e3\",\"subtype\":\"Figure\",\"type\":\"Plot\"},\"ticker\":{\"id\":\"172d908f-a7db-4d8a-9ac8-5f8c286183cb\",\"type\":\"BasicTicker\"}},\"id\":\"02c55812-6be4-4107-9fcb-285bca46b3ec\",\"type\":\"LinearAxis\"},{\"attributes\":{},\"id\":\"4e73de15-bdd5-4b00-a99d-b9dd49467800\",\"type\":\"BasicTickFormatter\"},{\"attributes\":{},\"id\":\"172d908f-a7db-4d8a-9ac8-5f8c286183cb\",\"type\":\"BasicTicker\"},{\"attributes\":{\"bottom\":{\"value\":0},\"fill_alpha\":{\"value\":0.1},\"fill_color\":{\"value\":\"#1f77b4\"},\"left\":{\"field\":\"left\"},\"line_alpha\":{\"value\":0.1},\"line_color\":{\"value\":\"#1f77b4\"},\"right\":{\"field\":\"right\"},\"top\":{\"field\":\"top\"}},\"id\":\"27d197b3-c62b-41a4-9817-97d83a4a18db\",\"type\":\"Quad\"},{\"attributes\":{\"axis_label\":\"Number of houses\",\"formatter\":{\"id\":\"4e73de15-bdd5-4b00-a99d-b9dd49467800\",\"type\":\"BasicTickFormatter\"},\"plot\":{\"id\":\"ae635efa-21fe-4015-8226-d0374c36e9e3\",\"subtype\":\"Figure\",\"type\":\"Plot\"},\"ticker\":{\"id\":\"43c5d155-91c7-46fb-9e10-69bacbdeffd4\",\"type\":\"BasicTicker\"}},\"id\":\"819b35e0-9c80-4616-aa3c-13255e1a067c\",\"type\":\"LinearAxis\"},{\"attributes\":{},\"id\":\"43c5d155-91c7-46fb-9e10-69bacbdeffd4\",\"type\":\"BasicTicker\"},{\"attributes\":{\"dimension\":1,\"plot\":{\"id\":\"ae635efa-21fe-4015-8226-d0374c36e9e3\",\"subtype\":\"Figure\",\"type\":\"Plot\"},\"ticker\":{\"id\":\"43c5d155-91c7-46fb-9e10-69bacbdeffd4\",\"type\":\"BasicTicker\"}},\"id\":\"95f7d795-0840-4977-8850-3912e886aeb4\",\"type\":\"Grid\"},{\"attributes\":{\"data_source\":{\"id\":\"13b24eaa-3f80-4331-959f-6ca283112d20\",\"type\":\"ColumnDataSource\"},\"glyph\":{\"id\":\"fb166303-cdbb-430b-bf10-23ebbab3e33d\",\"type\":\"Quad\"},\"hover_glyph\":null,\"muted_glyph\":null,\"nonselection_glyph\":{\"id\":\"27d197b3-c62b-41a4-9817-97d83a4a18db\",\"type\":\"Quad\"},\"selection_glyph\":null,\"view\":{\"id\":\"544f39f8-092e-4899-adfd-52e7b229dd56\",\"type\":\"CDSView\"}},\"id\":\"f37d5221-a8f8-44f7-a59b-3efe43e510d4\",\"type\":\"GlyphRenderer\"},{\"attributes\":{\"below\":[{\"id\":\"02c55812-6be4-4107-9fcb-285bca46b3ec\",\"type\":\"LinearAxis\"}],\"left\":[{\"id\":\"819b35e0-9c80-4616-aa3c-13255e1a067c\",\"type\":\"LinearAxis\"}],\"plot_height\":250,\"plot_width\":400,\"renderers\":[{\"id\":\"02c55812-6be4-4107-9fcb-285bca46b3ec\",\"type\":\"LinearAxis\"},{\"id\":\"ef87d431-3bb7-421a-a3d7-17093d407c48\",\"type\":\"Grid\"},{\"id\":\"819b35e0-9c80-4616-aa3c-13255e1a067c\",\"type\":\"LinearAxis\"},{\"id\":\"95f7d795-0840-4977-8850-3912e886aeb4\",\"type\":\"Grid\"},{\"id\":\"a5347968-b963-4f36-946f-98fdbe1d1bc5\",\"type\":\"BoxAnnotation\"},{\"id\":\"f37d5221-a8f8-44f7-a59b-3efe43e510d4\",\"type\":\"GlyphRenderer\"}],\"title\":{\"id\":\"0f4d74ed-7c7d-4b3b-af07-b0d5e30eefd8\",\"type\":\"Title\"},\"toolbar\":{\"id\":\"cccf199d-8aae-497e-a80b-8cedf76ceb87\",\"type\":\"Toolbar\"},\"x_range\":{\"id\":\"2cd12222-acc1-4e8e-8e76-62aade244f4a\",\"type\":\"DataRange1d\"},\"x_scale\":{\"id\":\"2b8597cf-d057-4040-9e96-36e13e4ecd79\",\"type\":\"LinearScale\"},\"y_range\":{\"id\":\"942f0704-12ae-4dff-8c1f-c2b64b5fb7cc\",\"type\":\"DataRange1d\"},\"y_scale\":{\"id\":\"a3571023-8504-4143-b65b-e3d029b73aed\",\"type\":\"LinearScale\"}},\"id\":\"ae635efa-21fe-4015-8226-d0374c36e9e3\",\"subtype\":\"Figure\",\"type\":\"Plot\"},{\"attributes\":{},\"id\":\"fd851173-2a02-451e-a658-17c0bafcafdb\",\"type\":\"BasicTickFormatter\"},{\"attributes\":{\"bottom_units\":\"screen\",\"fill_alpha\":{\"value\":0.5},\"fill_color\":{\"value\":\"lightgrey\"},\"left_units\":\"screen\",\"level\":\"overlay\",\"line_alpha\":{\"value\":1.0},\"line_color\":{\"value\":\"black\"},\"line_dash\":[4,4],\"line_width\":{\"value\":2},\"plot\":null,\"render_mode\":\"css\",\"right_units\":\"screen\",\"top_units\":\"screen\"},\"id\":\"a5347968-b963-4f36-946f-98fdbe1d1bc5\",\"type\":\"BoxAnnotation\"},{\"attributes\":{},\"id\":\"f913e490-b8a0-48f6-a210-e8769adfead4\",\"type\":\"PanTool\"}],\"root_ids\":[\"ae635efa-21fe-4015-8226-d0374c36e9e3\"]},\"title\":\"Bokeh Application\",\"version\":\"0.12.13\"}};\n",
       "  var render_items = [{\"docid\":\"d44dbad0-edbf-4f10-ad0d-23ed522a423b\",\"elementid\":\"dc08cc3d-f365-48d7-8620-b60d31e3a621\",\"modelid\":\"ae635efa-21fe-4015-8226-d0374c36e9e3\"}];\n",
       "  root.Bokeh.embed.embed_items_notebook(docs_json, render_items);\n",
       "\n",
       "  }\n",
       "  if (root.Bokeh !== undefined) {\n",
       "    embed_document(root);\n",
       "  } else {\n",
       "    var attempts = 0;\n",
       "    var timer = setInterval(function(root) {\n",
       "      if (root.Bokeh !== undefined) {\n",
       "        embed_document(root);\n",
       "        clearInterval(timer);\n",
       "      }\n",
       "      attempts++;\n",
       "      if (attempts > 100) {\n",
       "        console.log(\"Bokeh: ERROR: Unable to run BokehJS code because BokehJS library is missing\")\n",
       "        clearInterval(timer);\n",
       "      }\n",
       "    }, 10, root)\n",
       "  }\n",
       "})(window);"
      ],
      "application/vnd.bokehjs_exec.v0+json": ""
     },
     "metadata": {
      "application/vnd.bokehjs_exec.v0+json": {
       "id": "ae635efa-21fe-4015-8226-d0374c36e9e3"
      }
     },
     "output_type": "display_data"
    }
   ],
   "source": [
    "# Create the figure object\n",
    "f = figure(plot_width=400, plot_height=250)\n",
    "\n",
    "# Make a histogram\n",
    "hist, edges = np.histogram(boston_df[\"Price\"], density=True, bins=50)\n",
    "\n",
    "f.quad(top=hist, bottom=0, left=edges[:-1], right=edges[1:],\n",
    "        fill_color=\"#036564\", line_color=\"#033649\")\n",
    "\n",
    "## Add some axis information (after all, a plot without axis descriptions is nothing more than abstract art)\n",
    "f.xaxis.axis_label = \"Price in $1000s\"\n",
    "f.yaxis.axis_label = \"Number of houses\"\n",
    "\n",
    "show(f)"
   ]
  },
  {
   "cell_type": "markdown",
   "metadata": {},
   "source": [
    "I suppose it appears number of houses are quite dense near the $20.000 mark. Let us look into it a little further (before we actually start looking at the linear regression). We will plot the features, to see if we can find any correlation that could potential be used to predict the price with. We will inspect the first 6 features. Namely:\n",
    "\n",
    "* CRIM:     per capita crime rate by town\n",
    "* ZN:       proportion of residential land zoned for lots over 25,000 sq.ft.\n",
    "* INDUS:    proportion of non-retail business acres per town\n",
    "* CHAS:     Charles River dummy variable (= 1 if tract bounds river; 0 otherwise)\n",
    "* NOX:      nitric oxides concentration (parts per 10 million)\n",
    "* RM:       average number of rooms per dwelling"
   ]
  },
  {
   "cell_type": "code",
   "execution_count": 20,
   "metadata": {},
   "outputs": [
    {
     "name": "stdout",
     "output_type": "stream",
     "text": [
      "['CRIM' 'ZN' 'INDUS' 'CHAS' 'NOX' 'RM' 'AGE' 'DIS']\n"
     ]
    },
    {
     "data": {
      "text/html": [
       "\n",
       "<div class=\"bk-root\">\n",
       "    <div class=\"bk-plotdiv\" id=\"7bbeca6b-b27b-4b03-a633-77c73282b584\"></div>\n",
       "</div>"
      ]
     },
     "metadata": {},
     "output_type": "display_data"
    },
    {
     "data": {
      "application/javascript": [
       "(function(root) {\n",
       "  function embed_document(root) {\n",
       "    \n",
       "  var docs_json = {\"793f2574-1150-4735-90be-3a492ed3621e\":{\"roots\":{\"references\":[{\"attributes\":{\"callback\":null,\"column_names\":[\"x\",\"y\"],\"data\":{\"x\":{\"__ndarray__\":\"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\",\"dtype\":\"float64\",\"shape\":[506]},\"y\":{\"__ndarray__\":\"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\",\"dtype\":\"float64\",\"shape\":[506]}}},\"id\":\"e16d03d7-1a37-48f6-934f-ec7e0adc7773\",\"type\":\"ColumnDataSource\"},{\"attributes\":{\"overlay\":{\"id\":\"b41f8e37-2530-4cc6-84e7-0a8b292e8d76\",\"type\":\"BoxAnnotation\"}},\"id\":\"8c8d5845-f2b8-4549-a0e4-9cd47577308d\",\"type\":\"BoxZoomTool\"},{\"attributes\":{\"bottom_units\":\"screen\",\"fill_alpha\":{\"value\":0.5},\"fill_color\":{\"value\":\"lightgrey\"},\"left_units\":\"screen\",\"level\":\"overlay\",\"line_alpha\":{\"value\":1.0},\"line_color\":{\"value\":\"black\"},\"line_dash\":[4,4],\"line_width\":{\"value\":2},\"plot\":null,\"render_mode\":\"css\",\"right_units\":\"screen\",\"top_units\":\"screen\"},\"id\":\"b41f8e37-2530-4cc6-84e7-0a8b292e8d76\",\"type\":\"BoxAnnotation\"},{\"attributes\":{},\"id\":\"8c5d11ec-db3e-49d4-ac86-c3dc4dc7bc97\",\"type\":\"BasicTickFormatter\"},{\"attributes\":{\"fill_color\":{\"value\":\"#1f77b4\"},\"line_color\":{\"value\":\"#1f77b4\"},\"x\":{\"field\":\"x\"},\"y\":{\"field\":\"y\"}},\"id\":\"d17d39f1-2906-4bc5-b705-f6a423c0945e\",\"type\":\"Circle\"},{\"attributes\":{},\"id\":\"9e851825-0d9f-4ebc-ac6d-39dc5246aebf\",\"type\":\"SaveTool\"},{\"attributes\":{\"fill_alpha\":{\"value\":0.1},\"fill_color\":{\"value\":\"#1f77b4\"},\"line_alpha\":{\"value\":0.1},\"line_color\":{\"value\":\"#1f77b4\"},\"x\":{\"field\":\"x\"},\"y\":{\"field\":\"y\"}},\"id\":\"c88ef859-63ed-4ef5-9f70-79c683d5ac55\",\"type\":\"Circle\"},{\"attributes\":{},\"id\":\"db625789-730f-4c61-b098-e67f0b83353d\",\"type\":\"ResetTool\"},{\"attributes\":{\"data_source\":{\"id\":\"e16d03d7-1a37-48f6-934f-ec7e0adc7773\",\"type\":\"ColumnDataSource\"},\"glyph\":{\"id\":\"d17d39f1-2906-4bc5-b705-f6a423c0945e\",\"type\":\"Circle\"},\"hover_glyph\":null,\"muted_glyph\":null,\"nonselection_glyph\":{\"id\":\"c88ef859-63ed-4ef5-9f70-79c683d5ac55\",\"type\":\"Circle\"},\"selection_glyph\":null,\"view\":{\"id\":\"a336883b-10c2-46dc-b31b-b8514e40ec0a\",\"type\":\"CDSView\"}},\"id\":\"509df1f0-aea9-470c-a87b-0e05bcb2a457\",\"type\":\"GlyphRenderer\"},{\"attributes\":{},\"id\":\"558bfcb3-0c25-46ab-a022-f6f744762fd1\",\"type\":\"HelpTool\"},{\"attributes\":{\"plot\":{\"id\":\"2f21fdda-ca81-40d0-b8b9-cf41b7738947\",\"subtype\":\"Figure\",\"type\":\"Plot\"},\"ticker\":{\"id\":\"a7406384-7d9a-42a0-a24d-745f16be46fd\",\"type\":\"BasicTicker\"}},\"id\":\"f26e6082-5d10-4ef3-aec1-27e24ef5573e\",\"type\":\"Grid\"},{\"attributes\":{\"source\":{\"id\":\"e16d03d7-1a37-48f6-934f-ec7e0adc7773\",\"type\":\"ColumnDataSource\"}},\"id\":\"a336883b-10c2-46dc-b31b-b8514e40ec0a\",\"type\":\"CDSView\"},{\"attributes\":{\"callback\":null},\"id\":\"aa3bae99-78e1-43ce-8f49-521f64ca6ba6\",\"type\":\"DataRange1d\"},{\"attributes\":{},\"id\":\"eb1345bb-acb4-4d5f-91a1-0136a0b33ad1\",\"type\":\"BasicTickFormatter\"},{\"attributes\":{\"plot\":null,\"text\":\"\"},\"id\":\"71c9d95d-d0dc-4435-87aa-02acc0105bc3\",\"type\":\"Title\"},{\"attributes\":{},\"id\":\"f035b6aa-b48f-43d2-91e0-8e8db9238ceb\",\"type\":\"LinearScale\"},{\"attributes\":{\"axis_label\":\"RM\",\"formatter\":{\"id\":\"0d809b9f-c24c-439e-b0bd-09fb2e7e94f1\",\"type\":\"BasicTickFormatter\"},\"plot\":{\"id\":\"2f21fdda-ca81-40d0-b8b9-cf41b7738947\",\"subtype\":\"Figure\",\"type\":\"Plot\"},\"ticker\":{\"id\":\"a7406384-7d9a-42a0-a24d-745f16be46fd\",\"type\":\"BasicTicker\"}},\"id\":\"a29ddf90-2b9e-44f3-ad1b-7b33ec0121b2\",\"type\":\"LinearAxis\"},{\"attributes\":{\"callback\":null,\"column_names\":[\"x\",\"y\"],\"data\":{\"x\":{\"__ndarray__\":\"AAAAAAAAAAAAAAAAAAAAAAAAAAAAAAAAAAAAAAAAAAAAAAAAAAAAAAAAAAAAAAAAAAAAAAAAAAAAAAAAAAAAAAAAAAAAAAAAAAAAAAAAAAAAAAAAAAAAAAAAAAAAAAAAAAAAAAAAAAAAAAAAAAAAAAAAAAAAAAAAAAAAAAAAAAAAAAAAAAAAAAAAAAAAAAAAAAAAAAAAAAAAAAAAAAAAAAAAAAAAAAAAAAAAAAAAAAAAAAAAAAAAAAAAAAAAAAAAAAAAAAAAAAAAAAAAAAAAAAAAAAAAAAAAAAAAAAAAAAAAAAAAAAAAAAAAAAAAAAAAAAAAAAAAAAAAAAAAAAAAAAAAAAAAAAAAAAAAAAAAAAAAAAAAAAAAAAAAAAAAAAAAAAAAAAAAAAAAAAAAAAAAAAAAAAAAAAAAAAAAAAAAAAAAAAAAAAAAAAAAAAAAAAAAAAAAAAAAAAAAAAAAAAAAAAAAAAAAAAAAAAAAAAAAAAAAAAAAAAAAAAAAAAAAAAAAAAAAAAAAAAAAAAAAAAAAAAAAAAAAAAAAAAAAAAAAAAAAAAAAAAAAAAAAAAAAAAAAAAAAAAAAAAAAAAAAAAAAAAAAAAAAAAAAAAAAAAAAAAAAAAAAAAAAAAAAAAAAAAAAAAAAAAAAAAAAAAAAAAAAAAAAAAAAAAAAAAAAAAAAAAAAAAAAAAAAAAAAAAAAAAAAAAAAAAAAAAAAAAAAAAAAAAAAAAAAAAAAAAAAAAAAAAAAAAAAAAAAAAAAAAAAAAAAAAAAAAAAAAAAAAAAAAAAAAAAAAAAAAAAAAAAAAAAAAAAAAAAAAAAAAAAAAAAAAAAAAAAAAAAAAAAAAAAAAAAAAAAAAAAAAAAAAAAAAAAAAAAAAAAAAAAAAAAAAAAAAAAAAAAAAAAAAAAAAAAAAAAAAAAAAAAAAAAAAAAAAAAAAAAAAAAAAAAAAAAAAAAAAAAAAAAAAAAAAAAAAAAAAAAAAAAAAAAAAAAAAAAAAAAAAAAAAAAAAAAAAAAAAAAAAAAAAAAAAAAAAAAAAAAAAAAAAAAAAAAAAAAAAAAAAAAAAAAAAAAAAAAAAAAAAAAAAAAAAAAAAAAAAAAAAAAAAAAAAAAAAAAAAAAAAAAAAAAAAAAAAAAAAAAAAAAAAAAAAAAAAAAAAAAAAAAAAAAAAAAAAAAAAAAAAAAAAAAAAAAAAAAAAAAAAAAAAAAAAAAAAAAAAAAAAAAAAAAAAAAAAAAAAAAAAAAAAAAAAAAAAAAAAAAAAAAAAAAAAAAAAAAAAAAAAAAAAAAAAAAAAAAAAAAAAAAAAAAAAAAAAAAAAAAAAAAAAAAAAAAAAAAAAAAAAAAAAAAAAAAAAAAAAAAAAAAAAAAAAAAAAAAAAAAAAAAAAAAAAAAAAAAAAAAAAAAAAAAAAAAAAAAAAAAAAAAAAAAAAAAAAAAAAAAAAAAAAAAAAAAAAAAAAAAAAAAAAAAAAAAAAAAAAAAAAAAAAAAAAAAAAAAAAAAAAAAAAAAAAAAAAAAAAAAAADwPwAAAAAAAAAAAAAAAAAAAAAAAAAAAAAAAAAAAAAAAAAAAAAAAAAAAAAAAAAAAAAAAAAAAAAAAAAAAAAAAAAAAAAAAAAAAAAAAAAAAAAAAPA/AAAAAAAAAAAAAAAAAADwPwAAAAAAAPA/AAAAAAAAAAAAAAAAAAAAAAAAAAAAAAAAAAAAAAAAAAAAAAAAAADwPwAAAAAAAAAAAAAAAAAA8D8AAAAAAADwPwAAAAAAAAAAAAAAAAAAAAAAAAAAAAAAAAAAAAAAAAAAAAAAAAAAAAAAAAAAAAAAAAAAAAAAAAAAAAAAAAAAAAAAAAAAAAAAAAAAAAAAAAAAAAAAAAAAAAAAAAAAAAAAAAAAAAAAAAAAAAAAAAAAAAAAAAAAAAAAAAAAAAAAAAAAAAAAAAAAAAAAAAAAAAAAAAAAAAAAAAAAAAAAAAAAAAAAAAAAAAAAAAAAAAAAAAAAAAAAAAAAAAAAAAAAAAAAAAAAAAAAAAAAAAAAAAAAAAAAAAAAAAAAAAAAAAAAAAAAAAAAAAAAAAAAAAAAAAAAAAAAAAAAAAAAAAAAAAAAAAAAAAAAAAAAAAAAAAAAAAAAAAAAAAAAAAAAAAAAAAAAAAAAAAAAAAAAAAAAAAAAAAAAAAAAAAAAAAAAAAAAAAAAAAAAAAAAAAAAAAAAAAAAAAAAAAAAAAAAAAAAAAAAAAAAAAAAAADwPwAAAAAAAPA/AAAAAAAA8D8AAAAAAADwPwAAAAAAAPA/AAAAAAAAAAAAAAAAAAAAAAAAAAAAAAAAAAAAAAAA8D8AAAAAAAAAAAAAAAAAAPA/AAAAAAAA8D8AAAAAAADwPwAAAAAAAPA/AAAAAAAA8D8AAAAAAAAAAAAAAAAAAAAAAAAAAAAAAAAAAAAAAAAAAAAAAAAAAAAAAAAAAAAAAAAAAAAAAAAAAAAAAAAAAAAAAAAAAAAAAAAAAAAAAAAAAAAAAAAAAAAAAAAAAAAA8D8AAAAAAAAAAAAAAAAAAPA/AAAAAAAAAAAAAAAAAAAAAAAAAAAAAAAAAAAAAAAAAAAAAAAAAAAAAAAAAAAAAAAAAAAAAAAAAAAAAAAAAAAAAAAAAAAAAAAAAAAAAAAAAAAAAAAAAAAAAAAAAAAAAAAAAAAAAAAAAAAAAAAAAAAAAAAAAAAAAAAAAAAAAAAAAAAAAAAAAAAAAAAAAAAAAAAAAAAAAAAAAAAAAAAAAAAAAAAAAAAAAAAAAAAAAAAAAAAAAAAAAAAAAAAAAAAAAAAAAAAAAAAAAAAAAAAAAAAAAAAAAAAAAAAAAAAAAAAAAAAAAAAAAAAAAAAAAAAAAAAAAAAAAAAAAAAAAAAAAAAAAAAAAAAAAPA/AAAAAAAAAAAAAAAAAAAAAAAAAAAAAAAAAAAAAAAA8D8AAAAAAADwPwAAAAAAAAAAAAAAAAAA8D8AAAAAAADwPwAAAAAAAAAAAAAAAAAAAAAAAAAAAAAAAAAAAAAAAAAAAAAAAAAA8D8AAAAAAADwPwAAAAAAAAAAAAAAAAAAAAAAAAAAAAAAAAAAAAAAAAAAAAAAAAAAAAAAAAAAAAAAAAAAAAAAAAAAAAAAAAAAAAAAAAAAAAAAAAAAAAAAAAAAAAAAAAAAAAAAAAAAAAAAAAAAAAAAAAAAAAAAAAAAAAAAAAAAAAAAAAAAAAAAAAAAAAAAAAAAAAAAAAAAAAAAAAAAAAAAAAAAAAAAAAAAAAAAAAAAAAAAAAAAAAAAAAAAAAAAAAAAAAAAAAAAAAAAAAAAAAAAAAAAAAAAAAAAAAAAAAAAAAAAAAAAAAAAAAAAAAAAAAAAAAAAAAAAAAAAAAAAAAAAAAAAAAAAAAAAAAAAAAAAAAAAAAAAAAAAAAAAAAAAAAAAAAAAAAAAAAAAAAAAAAAAAAAAAAAAAAAAAAAAAAAAAAAAAAAAAAAAAAAAAAAAAAAAAAAAAAAAAAAAAAAAAAAAAAAAAAAAAAAAAAAAAAAAAAAAAAAAAAAAAAAAAAAAAAAAAAAAAAAAAAAAAAAAAAAAAAAAAAAAAAAAAAAAAAAAAAAAAAAAAAAAAAAAAAAAAAAAAAAAAAAAAAAAAAAAAAAAAAAAAAAAAAAAAAAAAAAAAAAAAAAAAAAAAAAAAAAAAAAAAAAAAAAAAAAAAAAAAAAAAAAAAAAAAAAAAAAAAAAAAAAAAAAAAAAAAAAAAAAAAAAAAAAAAAAAAAAAAAAAAAAAAAAAAAAAAAAAAAAAAAAAAAAAAAAAAAAAAAAAAAAAAAAAAAAAAAAAAAAAAAAAAAAAAPA/AAAAAAAA8D8AAAAAAADwPwAAAAAAAAAAAAAAAAAAAAAAAAAAAAAAAAAAAAAAAAAAAAAAAAAA8D8AAAAAAADwPwAAAAAAAAAAAAAAAAAAAAAAAAAAAAAAAAAAAAAAAAAAAAAAAAAA8D8AAAAAAADwPwAAAAAAAAAAAAAAAAAA8D8AAAAAAAAAAAAAAAAAAAAAAAAAAAAAAAAAAAAAAAAAAAAAAAAAAAAAAAAAAAAAAAAAAAAAAAAAAAAAAAAAAAAAAAAAAAAAAAAAAAAAAAAAAAAAAAAAAAAAAAAAAAAAAAAAAAAAAAAAAAAAAAAAAAAAAAAAAAAAAAAAAAAAAAAAAAAAAAAAAAAAAAAAAAAAAAAAAAAAAAAAAAAAAAAAAAAAAAAAAAAAAAAAAAAAAAAAAAAAAAAAAAAAAAAAAAAAAAAAAAAAAAAAAAAAAAAAAAAAAAAAAAAAAAAAAAAAAAAAAAAAAAAAAAAAAAAAAAAAAAAAAAAAAAAAAAAAAAAAAAAAAAAAAAAAAAAAAAAAAAAAAAAAAAAAAAAAAAAAAAAAAAAAAAAAAAAAAAAAAAAAAAAAAAAAAAAAAAAAAAAAAAAAAAAAAAAAAAAAAAAAAAAAAAAAAAAAAAAAAAAAAAAAAAAAAAAAAAAAAAAAAAAAAAAAAAAAAAAAAAAAAAAAAAAAAAAAAAAAAAAAAAAAAAAAAAAAAAAAAAAAAAAAAAAAAAAAAAAAAAAAAAAAAAAAAAAAAAAAAAAAAAAAAAAAAAAAAAAAAAAAAAAAAAAAAAAAAAAAAAAAAAAAAAAAAAAAAAAAAAAAAAAAAAAAAAAAAAAAAAAAAAAAAAAAAAAAAAAAAAAAAAAAAAAAAAAAAAAAAAAAAAAAAAAAAAAAAAAAAAAAAAAAAAAAAAAAAAAAAAAAAAAAAAAAAAAAAAAAAAAAAAAAAAAAAAAAAAAAAAAAAAAAAAAAAAAAAAAAAAAAAAAAAAAAAAAAAAAAAAAAAAAAAAAAAAAAAAAAAAAAAAAAAAAAAAAAAAAAAAAAAAAAAAAAAAAAAAAAAAAAAAAAAAAAAAAAAAAAAAAAAAAAAAAAAAAAAAAAAAAAAAAAAAAAAAAAAAAAAAAAAAAAAAAAAAAAAAAAAAAAAAAAAAAAAAAAAAAAAAAAAAAAAAAAAAAAAAAAAAAAAAAAAAAAAAAAAAAAAAAAAAAAAAAAAAAAAAAAAAAAAAAAAAAAAAAAAAAAAAAAAAAAAAAAAAAAAAAAAAAAAAAAAAAAAAAAAAAAAAAAAAAAAAAAAAAAAAAAAAAAAAAAAAAAAAAAAAAAAAAAAAAAAAAAAAAAAAAAAAAAAAAAAAAAAAAAAAAAAAAAAAAAAAAAAAAAAAAAAAAAAAAAAAAAAAAAAAAAAAAAAAAAAAAAAAAAAAAAAAAAAAAAAAAAAAAAAAAAAAAAAAAAAAAAAAAAAAAAAAAAAAAAAAAAAAAAAAAAAAAAAAAAAAAAAAAAAAAAAAAAAAAAAAAAAAAAAAAAAAAAAAAAAAAAAAAAAAAAAAAAAAAAAAAAAAAAAAAAAAAAAAAAAAAAAAAAAAAAAAAAAAAAAAAAAAAAAAAAAA==\",\"dtype\":\"float64\",\"shape\":[506]},\"y\":{\"__ndarray__\":\"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\",\"dtype\":\"float64\",\"shape\":[506]}}},\"id\":\"6740745e-2ef8-4e23-b9d8-f7f700aec7eb\",\"type\":\"ColumnDataSource\"},{\"attributes\":{\"active_drag\":\"auto\",\"active_inspect\":\"auto\",\"active_scroll\":\"auto\",\"active_tap\":\"auto\",\"tools\":[{\"id\":\"a79bf2f9-fd87-4b7d-afac-641c6ffae298\",\"type\":\"PanTool\"},{\"id\":\"51d139f3-31d4-4c72-b406-4e1549afe9ee\",\"type\":\"WheelZoomTool\"},{\"id\":\"db070e5e-eba4-4790-b215-966e54ca11d4\",\"type\":\"BoxZoomTool\"},{\"id\":\"24ff5b73-1bcd-4d44-9e03-0d42a063e15b\",\"type\":\"SaveTool\"},{\"id\":\"08b7ab07-5a35-4c97-8a43-c6b243f838b1\",\"type\":\"ResetTool\"},{\"id\":\"e18abffb-3d81-4d50-9c4d-312ba22afe10\",\"type\":\"HelpTool\"}]},\"id\":\"86acdfb5-31e6-472c-a26d-cc81fb5a7fe1\",\"type\":\"Toolbar\"},{\"attributes\":{\"axis_label\":\"Price in $1000s\",\"formatter\":{\"id\":\"7ce03d38-658e-4131-9a0b-9ea3981854b6\",\"type\":\"BasicTickFormatter\"},\"plot\":{\"id\":\"2f21fdda-ca81-40d0-b8b9-cf41b7738947\",\"subtype\":\"Figure\",\"type\":\"Plot\"},\"ticker\":{\"id\":\"579f32cf-7a9a-40ed-a327-9c13be6bf1ab\",\"type\":\"BasicTicker\"}},\"id\":\"7e987cec-0073-4c27-a283-4e76baf9023e\",\"type\":\"LinearAxis\"},{\"attributes\":{},\"id\":\"427639ab-84d9-412f-9b0d-b906bcfc3745\",\"type\":\"BasicTickFormatter\"},{\"attributes\":{},\"id\":\"dfc33d61-a6f9-416f-9549-d200f53b39a7\",\"type\":\"BasicTickFormatter\"},{\"attributes\":{},\"id\":\"a7406384-7d9a-42a0-a24d-745f16be46fd\",\"type\":\"BasicTicker\"},{\"attributes\":{\"dimension\":1,\"plot\":{\"id\":\"2f21fdda-ca81-40d0-b8b9-cf41b7738947\",\"subtype\":\"Figure\",\"type\":\"Plot\"},\"ticker\":{\"id\":\"579f32cf-7a9a-40ed-a327-9c13be6bf1ab\",\"type\":\"BasicTicker\"}},\"id\":\"9537488b-4c96-4654-9e40-9d8ffa2c5b85\",\"type\":\"Grid\"},{\"attributes\":{\"fill_color\":{\"value\":\"#1f77b4\"},\"line_color\":{\"value\":\"#1f77b4\"},\"x\":{\"field\":\"x\"},\"y\":{\"field\":\"y\"}},\"id\":\"244fa698-67d3-4596-8c88-cce078880556\",\"type\":\"Circle\"},{\"attributes\":{\"plot\":null,\"text\":\"\"},\"id\":\"8ec513bb-1961-4f27-96a3-53639fe17168\",\"type\":\"Title\"},{\"attributes\":{},\"id\":\"579f32cf-7a9a-40ed-a327-9c13be6bf1ab\",\"type\":\"BasicTicker\"},{\"attributes\":{\"active_drag\":\"auto\",\"active_inspect\":\"auto\",\"active_scroll\":\"auto\",\"active_tap\":\"auto\",\"tools\":[{\"id\":\"83dcfd51-922e-49d3-b4d0-6ffeb02f9580\",\"type\":\"PanTool\"},{\"id\":\"2389cc82-bbdc-4dfe-b896-0cf05b66a284\",\"type\":\"WheelZoomTool\"},{\"id\":\"56f95f26-32ce-431c-90f1-fe444d6a0bca\",\"type\":\"BoxZoomTool\"},{\"id\":\"ea9b36de-5053-4398-bf51-79b682a8bca6\",\"type\":\"SaveTool\"},{\"id\":\"46a86498-6592-4b54-bfc7-202e3fc66060\",\"type\":\"ResetTool\"},{\"id\":\"abc99934-4957-4fd3-b595-a237c9e35dfe\",\"type\":\"HelpTool\"}]},\"id\":\"262aaa8d-7542-42ab-a8df-d15ced53a4f2\",\"type\":\"Toolbar\"},{\"attributes\":{\"fill_alpha\":{\"value\":0.1},\"fill_color\":{\"value\":\"#1f77b4\"},\"line_alpha\":{\"value\":0.1},\"line_color\":{\"value\":\"#1f77b4\"},\"x\":{\"field\":\"x\"},\"y\":{\"field\":\"y\"}},\"id\":\"5075c9ac-1461-4b62-98d1-1b7ff45bf2d1\",\"type\":\"Circle\"},{\"attributes\":{\"children\":[{\"id\":\"604398dc-993b-4d76-ba4f-dffba7cb36cc\",\"subtype\":\"Figure\",\"type\":\"Plot\"},{\"id\":\"b5257558-709c-4cca-9f88-597fb057b690\",\"subtype\":\"Figure\",\"type\":\"Plot\"}]},\"id\":\"a08add1c-17ab-4aeb-b12d-8ece8e87b04c\",\"type\":\"Row\"},{\"attributes\":{\"data_source\":{\"id\":\"6740745e-2ef8-4e23-b9d8-f7f700aec7eb\",\"type\":\"ColumnDataSource\"},\"glyph\":{\"id\":\"244fa698-67d3-4596-8c88-cce078880556\",\"type\":\"Circle\"},\"hover_glyph\":null,\"muted_glyph\":null,\"nonselection_glyph\":{\"id\":\"5075c9ac-1461-4b62-98d1-1b7ff45bf2d1\",\"type\":\"Circle\"},\"selection_glyph\":null,\"view\":{\"id\":\"8018c459-9df5-4f5e-b7bf-4eaeeb5c2ad4\",\"type\":\"CDSView\"}},\"id\":\"fa2427cd-3ba3-4207-bb5f-b3a52f4aa03e\",\"type\":\"GlyphRenderer\"},{\"attributes\":{\"fill_color\":{\"value\":\"#1f77b4\"},\"line_color\":{\"value\":\"#1f77b4\"},\"x\":{\"field\":\"x\"},\"y\":{\"field\":\"y\"}},\"id\":\"5a0a1e68-f7e3-4927-94b0-bbb95193d1a3\",\"type\":\"Circle\"},{\"attributes\":{\"bottom_units\":\"screen\",\"fill_alpha\":{\"value\":0.5},\"fill_color\":{\"value\":\"lightgrey\"},\"left_units\":\"screen\",\"level\":\"overlay\",\"line_alpha\":{\"value\":1.0},\"line_color\":{\"value\":\"black\"},\"line_dash\":[4,4],\"line_width\":{\"value\":2},\"plot\":null,\"render_mode\":\"css\",\"right_units\":\"screen\",\"top_units\":\"screen\"},\"id\":\"cde65654-3b20-4c9b-9304-82a25313abfd\",\"type\":\"BoxAnnotation\"},{\"attributes\":{\"source\":{\"id\":\"6740745e-2ef8-4e23-b9d8-f7f700aec7eb\",\"type\":\"ColumnDataSource\"}},\"id\":\"8018c459-9df5-4f5e-b7bf-4eaeeb5c2ad4\",\"type\":\"CDSView\"},{\"attributes\":{\"callback\":null,\"column_names\":[\"x\",\"y\"],\"data\":{\"x\":{\"__ndarray__\":\"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\",\"dtype\":\"float64\",\"shape\":[506]},\"y\":{\"__ndarray__\":\"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\",\"dtype\":\"float64\",\"shape\":[506]}}},\"id\":\"6d51efd9-e94a-40c5-ba65-22603263fa8e\",\"type\":\"ColumnDataSource\"},{\"attributes\":{},\"id\":\"6e06c04b-c987-49bf-94cd-07b2112675f4\",\"type\":\"PanTool\"},{\"attributes\":{\"callback\":null},\"id\":\"9d565077-42ee-40f7-9099-7dff5d2b9dfc\",\"type\":\"DataRange1d\"},{\"attributes\":{},\"id\":\"0d809b9f-c24c-439e-b0bd-09fb2e7e94f1\",\"type\":\"BasicTickFormatter\"},{\"attributes\":{},\"id\":\"700e9c54-d077-4a2d-92ef-9e422f3130db\",\"type\":\"WheelZoomTool\"},{\"attributes\":{\"children\":[{\"id\":\"45b48ea9-9ae6-4333-9a82-1ac5dc46d321\",\"subtype\":\"Figure\",\"type\":\"Plot\"},{\"id\":\"ed3181b0-117b-475b-81b2-0b8e49adda10\",\"subtype\":\"Figure\",\"type\":\"Plot\"}]},\"id\":\"c209fd28-c6cb-4c66-aa36-6a8bfa6b34b6\",\"type\":\"Row\"},{\"attributes\":{},\"id\":\"42b52b9c-e846-43ec-8d4c-53e344606089\",\"type\":\"BasicTickFormatter\"},{\"attributes\":{\"overlay\":{\"id\":\"cde65654-3b20-4c9b-9304-82a25313abfd\",\"type\":\"BoxAnnotation\"}},\"id\":\"ddfbbac6-8933-4d0b-9d57-13dd7af172cc\",\"type\":\"BoxZoomTool\"},{\"attributes\":{\"axis_label\":\"CRIM\",\"formatter\":{\"id\":\"4afe04dd-01ee-4e83-ac8d-1dfbe352fa69\",\"type\":\"BasicTickFormatter\"},\"plot\":{\"id\":\"0e905e3a-eb2b-42f3-8533-7e9e36128f40\",\"subtype\":\"Figure\",\"type\":\"Plot\"},\"ticker\":{\"id\":\"7e7eb97b-25d3-4b2b-880b-2de9e728f541\",\"type\":\"BasicTicker\"}},\"id\":\"b78e55cb-f648-4b12-a084-dd4f30c8274e\",\"type\":\"LinearAxis\"},{\"attributes\":{\"fill_color\":{\"value\":\"#1f77b4\"},\"line_color\":{\"value\":\"#1f77b4\"},\"x\":{\"field\":\"x\"},\"y\":{\"field\":\"y\"}},\"id\":\"e6ceedd1-9685-4bd4-8792-0e98ce39e3ac\",\"type\":\"Circle\"},{\"attributes\":{},\"id\":\"4bf58f75-af96-450d-af2d-a405f94d9e9c\",\"type\":\"SaveTool\"},{\"attributes\":{\"callback\":null},\"id\":\"137638a3-d1e3-4680-afd3-e55fd57ead5d\",\"type\":\"DataRange1d\"},{\"attributes\":{\"plot\":null,\"text\":\"\"},\"id\":\"c6c5ce04-7faa-4cf5-b424-2fbe3bdcddde\",\"type\":\"Title\"},{\"attributes\":{},\"id\":\"a11a9e90-a207-4acc-a2d5-c2963ab626fb\",\"type\":\"ResetTool\"},{\"attributes\":{\"callback\":null},\"id\":\"f5b81d31-d68e-46a3-b8c7-3b7848ff9dd6\",\"type\":\"DataRange1d\"},{\"attributes\":{\"fill_alpha\":{\"value\":0.1},\"fill_color\":{\"value\":\"#1f77b4\"},\"line_alpha\":{\"value\":0.1},\"line_color\":{\"value\":\"#1f77b4\"},\"x\":{\"field\":\"x\"},\"y\":{\"field\":\"y\"}},\"id\":\"879593e0-60e0-4b0e-8d59-b58f6e3ed270\",\"type\":\"Circle\"},{\"attributes\":{},\"id\":\"fcbeefd1-dfc1-48bc-9093-dd5a3f8189ae\",\"type\":\"HelpTool\"},{\"attributes\":{\"data_source\":{\"id\":\"6d51efd9-e94a-40c5-ba65-22603263fa8e\",\"type\":\"ColumnDataSource\"},\"glyph\":{\"id\":\"e6ceedd1-9685-4bd4-8792-0e98ce39e3ac\",\"type\":\"Circle\"},\"hover_glyph\":null,\"muted_glyph\":null,\"nonselection_glyph\":{\"id\":\"879593e0-60e0-4b0e-8d59-b58f6e3ed270\",\"type\":\"Circle\"},\"selection_glyph\":null,\"view\":{\"id\":\"c237ef20-7f0a-4bc6-86dd-ed0b53ec4a42\",\"type\":\"CDSView\"}},\"id\":\"39a8123f-75bc-4700-a32f-30fb59cc4b4b\",\"type\":\"GlyphRenderer\"},{\"attributes\":{\"plot\":{\"id\":\"604398dc-993b-4d76-ba4f-dffba7cb36cc\",\"subtype\":\"Figure\",\"type\":\"Plot\"},\"ticker\":{\"id\":\"ba2ad7db-1aff-4fe7-99b9-5d33bf454c59\",\"type\":\"BasicTicker\"}},\"id\":\"600c3ede-8e88-4040-9b6b-5fd3c6db8fa7\",\"type\":\"Grid\"},{\"attributes\":{},\"id\":\"b73c62a4-a466-42d9-bd3b-c10064d54d3d\",\"type\":\"BasicTickFormatter\"},{\"attributes\":{},\"id\":\"636ba208-3e6a-48fd-9210-37a7d59847b7\",\"type\":\"LinearScale\"},{\"attributes\":{\"source\":{\"id\":\"6d51efd9-e94a-40c5-ba65-22603263fa8e\",\"type\":\"ColumnDataSource\"}},\"id\":\"c237ef20-7f0a-4bc6-86dd-ed0b53ec4a42\",\"type\":\"CDSView\"},{\"attributes\":{},\"id\":\"d86eeb22-9089-4f2c-92c8-bdf2dfe16524\",\"type\":\"LinearScale\"},{\"attributes\":{\"callback\":null,\"column_names\":[\"x\",\"y\"],\"data\":{\"x\":{\"__ndarray__\":\"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\",\"dtype\":\"float64\",\"shape\":[506]},\"y\":{\"__ndarray__\":\"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\",\"dtype\":\"float64\",\"shape\":[506]}}},\"id\":\"6c2946b3-791e-4885-849a-58b9cf4e54a3\",\"type\":\"ColumnDataSource\"},{\"attributes\":{\"axis_label\":\"AGE\",\"formatter\":{\"id\":\"b54830d1-ffd8-49bf-8a30-a607be3c5241\",\"type\":\"BasicTickFormatter\"},\"plot\":{\"id\":\"604398dc-993b-4d76-ba4f-dffba7cb36cc\",\"subtype\":\"Figure\",\"type\":\"Plot\"},\"ticker\":{\"id\":\"ba2ad7db-1aff-4fe7-99b9-5d33bf454c59\",\"type\":\"BasicTicker\"}},\"id\":\"ead4f9b6-ad09-4392-9dc5-e32b8bb6f365\",\"type\":\"LinearAxis\"},{\"attributes\":{\"children\":[{\"id\":\"0e905e3a-eb2b-42f3-8533-7e9e36128f40\",\"subtype\":\"Figure\",\"type\":\"Plot\"},{\"id\":\"d4087870-d23e-4ee0-9052-157f92aa540d\",\"subtype\":\"Figure\",\"type\":\"Plot\"}]},\"id\":\"0ab4a9a4-d584-4814-b5bb-9090d390b021\",\"type\":\"Row\"},{\"attributes\":{\"callback\":null},\"id\":\"d69b9b15-d6c4-4bd3-8e56-e662dc1e86ce\",\"type\":\"DataRange1d\"},{\"attributes\":{},\"id\":\"b54830d1-ffd8-49bf-8a30-a607be3c5241\",\"type\":\"BasicTickFormatter\"},{\"attributes\":{\"children\":[{\"id\":\"d7922fbc-d70f-4913-91b5-b39736b255ed\",\"subtype\":\"Figure\",\"type\":\"Plot\"},{\"id\":\"2f21fdda-ca81-40d0-b8b9-cf41b7738947\",\"subtype\":\"Figure\",\"type\":\"Plot\"}]},\"id\":\"dc46ac34-92c9-461f-bd15-f244b5d471e8\",\"type\":\"Row\"},{\"attributes\":{\"axis_label\":\"Price in $1000s\",\"formatter\":{\"id\":\"2aacef88-0b27-4bbc-853e-f858cb534410\",\"type\":\"BasicTickFormatter\"},\"plot\":{\"id\":\"604398dc-993b-4d76-ba4f-dffba7cb36cc\",\"subtype\":\"Figure\",\"type\":\"Plot\"},\"ticker\":{\"id\":\"f5d9b817-a898-44e0-8747-166010ee5439\",\"type\":\"BasicTicker\"}},\"id\":\"d1161777-9f05-4ff4-a885-8f7ada775a4b\",\"type\":\"LinearAxis\"},{\"attributes\":{},\"id\":\"ea61c7e6-adf9-475d-a87d-580fc648d04d\",\"type\":\"BasicTickFormatter\"},{\"attributes\":{\"fill_color\":{\"value\":\"#1f77b4\"},\"line_color\":{\"value\":\"#1f77b4\"},\"x\":{\"field\":\"x\"},\"y\":{\"field\":\"y\"}},\"id\":\"a1f06238-e551-44a7-81f1-5d3d47250042\",\"type\":\"Circle\"},{\"attributes\":{},\"id\":\"ba2ad7db-1aff-4fe7-99b9-5d33bf454c59\",\"type\":\"BasicTicker\"},{\"attributes\":{\"plot\":null,\"text\":\"\"},\"id\":\"d9c900c8-3bd9-4815-9708-204981263198\",\"type\":\"Title\"},{\"attributes\":{\"dimension\":1,\"plot\":{\"id\":\"604398dc-993b-4d76-ba4f-dffba7cb36cc\",\"subtype\":\"Figure\",\"type\":\"Plot\"},\"ticker\":{\"id\":\"f5d9b817-a898-44e0-8747-166010ee5439\",\"type\":\"BasicTicker\"}},\"id\":\"2ffeb56e-aca2-4cf9-8f4a-5123f8cff5ac\",\"type\":\"Grid\"},{\"attributes\":{},\"id\":\"ace04dd5-3dab-40db-bceb-0e1e7834ba0d\",\"type\":\"SaveTool\"},{\"attributes\":{\"fill_alpha\":{\"value\":0.1},\"fill_color\":{\"value\":\"#1f77b4\"},\"line_alpha\":{\"value\":0.1},\"line_color\":{\"value\":\"#1f77b4\"},\"x\":{\"field\":\"x\"},\"y\":{\"field\":\"y\"}},\"id\":\"d6059f37-aebd-4a8e-82b5-af9bc08a9a91\",\"type\":\"Circle\"},{\"attributes\":{},\"id\":\"f5d9b817-a898-44e0-8747-166010ee5439\",\"type\":\"BasicTicker\"},{\"attributes\":{\"data_source\":{\"id\":\"6c2946b3-791e-4885-849a-58b9cf4e54a3\",\"type\":\"ColumnDataSource\"},\"glyph\":{\"id\":\"a1f06238-e551-44a7-81f1-5d3d47250042\",\"type\":\"Circle\"},\"hover_glyph\":null,\"muted_glyph\":null,\"nonselection_glyph\":{\"id\":\"d6059f37-aebd-4a8e-82b5-af9bc08a9a91\",\"type\":\"Circle\"},\"selection_glyph\":null,\"view\":{\"id\":\"02df7efa-905c-4a36-9773-7ab90dbe55d9\",\"type\":\"CDSView\"}},\"id\":\"67231e31-74df-42ac-a4aa-fe759a16813d\",\"type\":\"GlyphRenderer\"},{\"attributes\":{\"axis_label\":\"ZN\",\"formatter\":{\"id\":\"b4745af5-35cb-4073-bf51-386e9b261710\",\"type\":\"BasicTickFormatter\"},\"plot\":{\"id\":\"d4087870-d23e-4ee0-9052-157f92aa540d\",\"subtype\":\"Figure\",\"type\":\"Plot\"},\"ticker\":{\"id\":\"c7657af2-554c-4ea8-8f00-abbde08a9dce\",\"type\":\"BasicTicker\"}},\"id\":\"b4477e3d-ade7-4892-b10d-3ca9b5ef84a5\",\"type\":\"LinearAxis\"},{\"attributes\":{\"callback\":null,\"column_names\":[\"x\",\"y\"],\"data\":{\"x\":{\"__ndarray__\":\"AAAAAAAAMkAAAAAAAAAAAAAAAAAAAAAAAAAAAAAAAAAAAAAAAAAAAAAAAAAAAAAAAAAAAAAAKUAAAAAAAAApQAAAAAAAAClAAAAAAAAAKUAAAAAAAAApQAAAAAAAAClAAAAAAAAAKUAAAAAAAAAAAAAAAAAAAAAAAAAAAAAAAAAAAAAAAAAAAAAAAAAAAAAAAAAAAAAAAAAAAAAAAAAAAAAAAAAAAAAAAAAAAAAAAAAAAAAAAAAAAAAAAAAAAAAAAAAAAAAAAAAAAAAAAAAAAAAAAAAAAAAAAAAAAAAAAAAAAAAAAAAAAAAAAAAAAAAAAAAAAAAAAAAAAAAAAAAAAAAAAAAAAAAAAAAAAAAAAAAAAAAAAAAAAAAAAAAAAAAAAAAAAAAAAAAAAAAAAAAAAAAAAAAAAAAAAAAAAADAUkAAAAAAAMBSQAAAAAAAAAAAAAAAAAAAAAAAAAAAAAAAAAAAAAAAAAAAAAAAAAAAAAAAAAAAAAAAAAAAAAAAAAAAAAAAAAAAAAAAAAAAAAAAAAAAAAAAADVAAAAAAAAANUAAAAAAAAA1QAAAAAAAADVAAAAAAADAUkAAAAAAAIBWQAAAAAAAQFVAAAAAAAAAWUAAAAAAAAA5QAAAAAAAADlAAAAAAAAAOUAAAAAAAAA5QAAAAAAAADlAAAAAAAAAOUAAAAAAAIAxQAAAAAAAAFRAAAAAAAAAVEAAAAAAAAApQAAAAAAAAClAAAAAAAAAKUAAAAAAAAAAAAAAAAAAAAAAAAAAAAAAAAAAAAAAAAAAAAAAAAAAAAAAAAAAAAAAAAAAAAAAAAAAAAAAAAAAAAAAAAAAAAAAAAAAAAAAAAAAAAAAAAAAADlAAAAAAAAAOUAAAAAAAAA5QAAAAAAAADlAAAAAAAAAAAAAAAAAAAAAAAAAAAAAAAAAAAAAAAAAAAAAAAAAAAAAAAAAAAAAAAAAAAAAAAAAAAAAAAAAAAAAAAAAAAAAADxAAAAAAAAAPEAAAAAAAAA8QAAAAAAAAAAAAAAAAAAAAAAAAAAAAAAAAAAAAAAAAAAAAAAAAAAAAAAAAAAAAAAAAAAAAAAAAAAAAAAAAAAAAAAAAAAAAAAAAAAAAAAAAAAAAAAAAAAAAAAAAAAAAAAAAAAAAAAAAAAAAAAAAAAAAAAAAAAAAAAAAAAAAAAAAAAAAAAAAAAAAAAAAAAAAAAAAAAAAAAAAAAAAAAAAAAAAAAAAAAAAAAAAAAAAAAAAAAAAAAAAAAAAAAAAAAAAAAAAAAAAAAAAAAAAAAAAAAAAAAAAAAAAAAAAAAAAAAAAAAAAAAAAAAAAAAAAAAAAAAAAAAAAAAAAAAAAAAAAAAAAAAAAAAAAAAAAAAAAAAAAAAAAAAAAAAAAAAAAAAAAAAAAAAAAAAAAAAAAAAAAAAAAAAAAAAAAAAAAAAAAAAAAAAAAAAAAAAAAAAAAAAAAAAAAAAAAAAAAAAAAAAAAAAAAAAAAAAAAAAAAAAAAAAAAAAAAAAAAAAAAAAAAAAAAAAAAAAAAAAAAAAAAAAAAAAAAAAAAAAAAAAAAAAAAAAAAAAAAAAAAAAAAAAAAAAAAAAAAAAAAAAAAAAAAAAAAAAAAAAAAAAAAAAAAAAAAAAAAAAAAAAAAAAAAAAAAAAAAAAAAAAAAAAAAAAAAAAAAAAAAAAAAAAAAAAAAAAAAAAAAAAAAAAAAAAAAAAAAAAAAAAAAAAAAAAAAAAAAAAAAAAAAAAAAAAAAAAAAAAAAAAAAAAAAAAAAAAAAAAAAAAAAAAAAAAAAAAAAAAAAAAAAAAAAAAAAAAAAAAAAAAAAAAAAAAAAAAAAAAAAAAAAAAAAAAAAAAAAAAAAAAAAAAAAAAAAAAAAAAAAAAAAAAAAAAAAAAAAAAAAAAAAAAAAAAAAAAAAAAAAAAAAAAAAAAAAAAAAAAAAAAAAAAAAAAAAAAAAAAAAAAAAAAAAAAAAAAAAAAAAAAAAAAAAAAAAAAAAAAAAAAAAAAAAIBGQAAAAAAAgEZAAAAAAACARkAAAAAAAIBGQAAAAAAAgEZAAAAAAACARkAAAAAAAABOQAAAAAAAAE5AAAAAAAAAVEAAAAAAAABUQAAAAAAAAFRAAAAAAAAAVEAAAAAAAMBXQAAAAAAAwFdAAAAAAACgVEAAAAAAAKBUQAAAAAAAwFdAAAAAAADAV0AAAAAAAAAAAAAAAAAAAAAAAAAAAAAAAAAAAAAAAAAAAAAAAAAAAAAAAAAAAAAAAAAAAAAAAAAAAAAAAAAAAAAAAAAAAAAAAAAAAAAAAAAAAAAAAAAAAAAAAAAAAAAAAAAAAAAAAAAAAAAAAAAAAAAAAAAAAAAAAAAAAAAAAAAAAAAAAAAAAAAAAAAAAAAAAAAAAAAAAAAAAAAAAAAAAAAAAAAAAAAAAAAAAAAAAAAAAAAAAAAAAAAAAAAAAAAAAAAAAAAAAAAAAAAAAAAAAAAAAAAAAAAAAAAAAAAAAAAAAAAAAAAAAAAAAAAAAAAAAAAAAAAAAAAAAAAAAAAAAAAAAAAAAAAAAAAAAAAAAAA+QAAAAAAAAD5AAAAAAAAAPkAAAAAAAAA+QAAAAAAAAD5AAAAAAAAAPkAAAAAAAAA2QAAAAAAAADZAAAAAAAAANkAAAAAAAAA2QAAAAAAAADZAAAAAAAAANkAAAAAAAAA2QAAAAAAAADZAAAAAAAAANkAAAAAAAAA2QAAAAAAAAFRAAAAAAAAAVEAAAAAAAIBWQAAAAAAAADRAAAAAAAAANEAAAAAAAAA0QAAAAAAAADRAAAAAAAAANEAAAAAAAAA0QAAAAAAAADRAAAAAAAAANEAAAAAAAAA0QAAAAAAAADRAAAAAAAAANEAAAAAAAAA0QAAAAAAAADRAAAAAAAAANEAAAAAAAAA0QAAAAAAAADRAAAAAAAAANEAAAAAAAABEQAAAAAAAAERAAAAAAAAAREAAAAAAAABEQAAAAAAAAERAAAAAAAAANEAAAAAAAAA0QAAAAAAAADRAAAAAAAAANEAAAAAAAIBWQAAAAAAAgFZAAAAAAACAS0AAAAAAAABUQAAAAAAAQEpAAAAAAABASkAAAAAAAEBKQAAAAAAAAFRAAAAAAAAAVEAAAAAAAABUQAAAAAAAAAAAAAAAAAAAAAAAAAAAAAAAAAAAAAAAAAAAAAAAAAAAAAAAAAAAAIBRQAAAAAAAgFFAAAAAAACAUUAAAAAAAABBQAAAAAAAAEFAAAAAAAAAQUAAAAAAAIBAQAAAAAAAgEBAAAAAAACAQEAAAAAAAIBAQAAAAAAAAAAAAAAAAAAAAAAAAAAAAAAAAAAAAAAAAAAAAAAAAAAAAAAAAAAAAAAAAAAAAAAAAAAAAAAAAAAAAAAAAAAAAAAAAAAAAAAAAAAAAAAAAAAAAAAAAAAAAAAAAAAAAAAAAAAAAAAAAAAAAAAAAAAAAAAAAAAAAAAAAAAAAAAAAAAAAAAAAAAAAAAAAAAAAAAAAAAAAAAAAAAAAAAAAAAAAAAAAAAAAAAAAAAAAAAAAAAAAAAAAAAAAIBBQAAAAAAAgEFAAAAAAAAAAAAAAAAAAAAAAAAAAAAAAAAAAAAAAAAAAAAAAAAAAAAAAAAAAAAAAAAAAAAAAAAAAAAAAAAAAAAAAAAAAAAAgEFAAAAAAAAAAAAAAAAAAIBLQAAAAAAAgEtAAAAAAAAAAAAAAAAAAAAAAAAAAAAAQFVAAAAAAAAAVEAAAAAAAABEQAAAAAAAAERAAAAAAAAATkAAAAAAAABOQAAAAAAAgFZAAAAAAAAAVEAAAAAAAABUQAAAAAAAAAAAAAAAAAAAAAAAAAAAAAAAAAAAAAAAAAAAAAAAAAAAAAAAAAAAAAAAAAAAAAAAAAAAAAAAAAAAAAAAAAAAAAAAAAAAAAAAAAAAAAAAAAAAAAAAAAAAAAAAAAAAAAAAAAAAAAAAAAAAAAAAAAAAAAAAAAAAAAAAAAAAAAAAAAAAAAAAAAAAAAAAAAAAAAAAAAAAAAAAAAAAAAAAAAAAAAAAAAAAAAAAAAAAAAAAAAAAAAAAAAAAAAAAAAAAAAAAAAAAAAAAAAAAAAAAAAAAAAAAAAAAAAAAAAAAAAAAAAAAAAAAAAAAAAAAAAAAAAAAAAAAAAAAAAAAAAAAAAAAAAAAAAAAAAAAAAAAAAAAAAAAAAAAAAAAAAAAAAAAAAAAAAAAAAAAAAAAAAAAAAAAAAAAAAAAAAAAAAAAAAAAAAAAAAAAAAAAAAAAAAAAAAAAAAAAAAAAAAAAAAAAAAAAAAAAAAAAAAAAAAAAAAAAAAAAAAAAAAAAAAAAAAAAAAAAAAAAAAAAAAAAAAAAAAAAAAAAAAAAAAAAAAAAAAAAAAAAAAAAAAAAAAAAAAAAAAAAAAAAAAAAAAAAAAAAAAAAAAAAAAAAAAAAAAAAAAAAAAAAAAAAAAAAAAAAAAAAAAAAAAAAAAAAAAAAAAAAAAAAAAAAAAAAAAAAAAAAAAAAAAAAAAAAAAAAAAAAAAAAAAAAAAAAAAAAAAAAAAAAAAAAAAAAAAAAAAAAAAAAAAAAAAAAAAAAAAAAAAAAAAAAAAAAAAAAAAAAAAAAAAAAAAAAAAAAAAAAAAAAAAAAAAAAAAAAAAAAAAAAAAAAAAAAAAAAAAAAAAAAAAAAAAAAAAAAAAAAAAAAAAAAAAAAAAAAAAAAAAAAAAAAAAAAAAAAAAAAAAAAAAAAAAAAAAAAAAAAAAAAAAAAAAAAAAAAAAAAAAAAAAAAAAAAAAAAAAAAAAAAAAAAAAAAAAAAAAAAAAAAAAAAAAAAAAAAAAAAAAAAAAAAAAAAAAAAAAAAAAAAAAAAAAAAAAAAAAAAAAAAAAAAAAAAAAAAAAAAAAAAAAAAAAAAAAAAAAAAAAAAAAAAAAAAAAAAAAAAAAAAAAAAAAAAAAAAAAAAAAAAAAAAAAAAAAAAAAAAAAAAAAAAAAAAAAAAAAAAAAAAAAAAAAAAAAAAAAAAAAAAAAAAAAAAAAAAAAAAAAAAAAAAAAAAAAAAAAAAAAAAAAAAAAAAAAAAAAAAAAAAAAAAAAAAAAAAAAAAAAAAAAAAAAAAAAAAAAAAAAAAAAAAAAAAAAAAAAAAAAAAAAAAAAAAAAAAAAAAAAAAAAAAAAAAAAAAAAAAAAAAAAAAAAAAAAAAAAAAAAAAAAAAAAAAAAAAAAAAAAAAAAAAAAAAAAAAAAAAAAAAAAAAAAAAAAAAAAAAAAAAAAAAAAAAAAAAAAAAAAAAAAAAAAAAAAAAAAAAAAAAAAAAAAAAAAAAAAAAAAAAAAAAAAAAAAAAAAAAAAAAAAAAAAAAAAAAAAAAAAAAAAAAAAAAAAAAAAAAAAAAAAAAAAAAAAAAAAAAAAAAAAAAAAAAAAAAAAAAAAAAAAAAAAAAAAAAAA==\",\"dtype\":\"float64\",\"shape\":[506]},\"y\":{\"__ndarray__\":\"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\",\"dtype\":\"float64\",\"shape\":[506]}}},\"id\":\"8ca85606-a5fd-47ba-bff3-56a3a6ff8f93\",\"type\":\"ColumnDataSource\"},{\"attributes\":{\"below\":[{\"id\":\"b2e0889e-53fd-4d8e-9a5c-ae5a4194336f\",\"type\":\"LinearAxis\"}],\"left\":[{\"id\":\"7daff977-8fa5-46af-a0ef-6d08c6374579\",\"type\":\"LinearAxis\"}],\"plot_height\":250,\"plot_width\":400,\"renderers\":[{\"id\":\"b2e0889e-53fd-4d8e-9a5c-ae5a4194336f\",\"type\":\"LinearAxis\"},{\"id\":\"2720bbc2-9437-47b2-8c40-ca7c17c6b5d0\",\"type\":\"Grid\"},{\"id\":\"7daff977-8fa5-46af-a0ef-6d08c6374579\",\"type\":\"LinearAxis\"},{\"id\":\"dcb5392a-b774-4993-85cf-2a03067ad41c\",\"type\":\"Grid\"},{\"id\":\"78118d25-a722-49d0-94ce-dac2b54991ea\",\"type\":\"BoxAnnotation\"},{\"id\":\"e23df043-b804-478b-802c-93d0cd195a8b\",\"type\":\"GlyphRenderer\"}],\"title\":{\"id\":\"d96ec4b1-28a3-4403-80e2-a4e981695ad1\",\"type\":\"Title\"},\"toolbar\":{\"id\":\"86acdfb5-31e6-472c-a26d-cc81fb5a7fe1\",\"type\":\"Toolbar\"},\"toolbar_location\":null,\"x_range\":{\"id\":\"d69b9b15-d6c4-4bd3-8e56-e662dc1e86ce\",\"type\":\"DataRange1d\"},\"x_scale\":{\"id\":\"103c5372-67f5-47bb-b255-fe6365e9c2fc\",\"type\":\"LinearScale\"},\"y_range\":{\"id\":\"2213f56f-abdc-4870-81f0-ddc811ffec9f\",\"type\":\"DataRange1d\"},\"y_scale\":{\"id\":\"f97e509c-313c-4601-872c-683ce826e8b7\",\"type\":\"LinearScale\"}},\"id\":\"b5257558-709c-4cca-9f88-597fb057b690\",\"subtype\":\"Figure\",\"type\":\"Plot\"},{\"attributes\":{\"source\":{\"id\":\"6c2946b3-791e-4885-849a-58b9cf4e54a3\",\"type\":\"ColumnDataSource\"}},\"id\":\"02df7efa-905c-4a36-9773-7ab90dbe55d9\",\"type\":\"CDSView\"},{\"attributes\":{\"bottom_units\":\"screen\",\"fill_alpha\":{\"value\":0.5},\"fill_color\":{\"value\":\"lightgrey\"},\"left_units\":\"screen\",\"level\":\"overlay\",\"line_alpha\":{\"value\":1.0},\"line_color\":{\"value\":\"black\"},\"line_dash\":[4,4],\"line_width\":{\"value\":2},\"plot\":null,\"render_mode\":\"css\",\"right_units\":\"screen\",\"top_units\":\"screen\"},\"id\":\"7238102a-e77c-4b5c-a3c1-306045a87e40\",\"type\":\"BoxAnnotation\"},{\"attributes\":{},\"id\":\"c7657af2-554c-4ea8-8f00-abbde08a9dce\",\"type\":\"BasicTicker\"},{\"attributes\":{\"callback\":null,\"column_names\":[\"x\",\"y\"],\"data\":{\"x\":{\"__ndarray__\":\"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\",\"dtype\":\"float64\",\"shape\":[506]},\"y\":{\"__ndarray__\":\"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\",\"dtype\":\"float64\",\"shape\":[506]}}},\"id\":\"b50ad992-73e0-44a4-8a67-956afe0a2817\",\"type\":\"ColumnDataSource\"},{\"attributes\":{\"below\":[{\"id\":\"5ab0603f-08a6-4253-9266-6bce302c1362\",\"type\":\"LinearAxis\"}],\"left\":[{\"id\":\"d218609a-9625-4842-9385-693ca0f60df2\",\"type\":\"LinearAxis\"}],\"plot_height\":250,\"plot_width\":400,\"renderers\":[{\"id\":\"5ab0603f-08a6-4253-9266-6bce302c1362\",\"type\":\"LinearAxis\"},{\"id\":\"c7e66da2-7857-41d3-9216-4c0cb004ba98\",\"type\":\"Grid\"},{\"id\":\"d218609a-9625-4842-9385-693ca0f60df2\",\"type\":\"LinearAxis\"},{\"id\":\"24bc3efc-c092-4bd7-b13b-29931427c677\",\"type\":\"Grid\"},{\"id\":\"c89a8ad0-6342-4597-96c4-db98f526603f\",\"type\":\"BoxAnnotation\"},{\"id\":\"fa2427cd-3ba3-4207-bb5f-b3a52f4aa03e\",\"type\":\"GlyphRenderer\"}],\"title\":{\"id\":\"8ec513bb-1961-4f27-96a3-53639fe17168\",\"type\":\"Title\"},\"toolbar\":{\"id\":\"cbcd42f9-867e-4064-a874-a3204ee4b56e\",\"type\":\"Toolbar\"},\"toolbar_location\":null,\"x_range\":{\"id\":\"36eaf124-7a2f-488c-9795-1bdddbd9a942\",\"type\":\"DataRange1d\"},\"x_scale\":{\"id\":\"4107d392-7e12-4654-ba8d-958c95c34d8e\",\"type\":\"LinearScale\"},\"y_range\":{\"id\":\"580a40d5-1841-4cc2-981d-06f20c61623c\",\"type\":\"DataRange1d\"},\"y_scale\":{\"id\":\"7285c533-9242-46ed-8ca8-f117dfb9bcfa\",\"type\":\"LinearScale\"}},\"id\":\"ed3181b0-117b-475b-81b2-0b8e49adda10\",\"subtype\":\"Figure\",\"type\":\"Plot\"},{\"attributes\":{},\"id\":\"83dcfd51-922e-49d3-b4d0-6ffeb02f9580\",\"type\":\"PanTool\"},{\"attributes\":{\"below\":[{\"id\":\"80648e42-2a9e-48e6-bd35-eef3406c6910\",\"type\":\"LinearAxis\"}],\"left\":[{\"id\":\"400c3b54-69c6-4bc8-83d9-d26940706458\",\"type\":\"LinearAxis\"}],\"plot_height\":250,\"plot_width\":400,\"renderers\":[{\"id\":\"80648e42-2a9e-48e6-bd35-eef3406c6910\",\"type\":\"LinearAxis\"},{\"id\":\"f2f373fb-14dd-4c72-8989-6967edcc2173\",\"type\":\"Grid\"},{\"id\":\"400c3b54-69c6-4bc8-83d9-d26940706458\",\"type\":\"LinearAxis\"},{\"id\":\"b11658a2-4fbb-4998-a003-00e81f0ba164\",\"type\":\"Grid\"},{\"id\":\"a336361c-9f0f-474d-a9d0-be434a3b4ad1\",\"type\":\"BoxAnnotation\"},{\"id\":\"509df1f0-aea9-470c-a87b-0e05bcb2a457\",\"type\":\"GlyphRenderer\"}],\"title\":{\"id\":\"71c9d95d-d0dc-4435-87aa-02acc0105bc3\",\"type\":\"Title\"},\"toolbar\":{\"id\":\"90cbf64c-0512-4447-904a-c1dad673eebc\",\"type\":\"Toolbar\"},\"toolbar_location\":null,\"x_range\":{\"id\":\"8b707d4b-fbe3-4cfc-b752-5bd3cfd674a7\",\"type\":\"DataRange1d\"},\"x_scale\":{\"id\":\"3ddb43da-c02a-4af3-b503-b8116f3005e6\",\"type\":\"LinearScale\"},\"y_range\":{\"id\":\"c80f6bc7-4bf9-4364-ad3b-189deb5198be\",\"type\":\"DataRange1d\"},\"y_scale\":{\"id\":\"f67eecc8-1eb6-4ae1-b13c-069a81a7e2f2\",\"type\":\"LinearScale\"}},\"id\":\"45b48ea9-9ae6-4333-9a82-1ac5dc46d321\",\"subtype\":\"Figure\",\"type\":\"Plot\"},{\"attributes\":{\"callback\":null},\"id\":\"2213f56f-abdc-4870-81f0-ddc811ffec9f\",\"type\":\"DataRange1d\"},{\"attributes\":{},\"id\":\"c149c06e-7de7-4f07-890f-cb9648718339\",\"type\":\"BasicTickFormatter\"},{\"attributes\":{},\"id\":\"7ce03d38-658e-4131-9a0b-9ea3981854b6\",\"type\":\"BasicTickFormatter\"},{\"attributes\":{},\"id\":\"2389cc82-bbdc-4dfe-b896-0cf05b66a284\",\"type\":\"WheelZoomTool\"},{\"attributes\":{\"dimension\":1,\"plot\":{\"id\":\"0e905e3a-eb2b-42f3-8533-7e9e36128f40\",\"subtype\":\"Figure\",\"type\":\"Plot\"},\"ticker\":{\"id\":\"d327ef64-13eb-4ed8-a8e5-dcbb1f1f213e\",\"type\":\"BasicTicker\"}},\"id\":\"261268af-66cb-4a32-9f2b-b83f20858273\",\"type\":\"Grid\"},{\"attributes\":{},\"id\":\"03e2b6b5-3223-4fb1-aac4-b511c3a48481\",\"type\":\"LinearScale\"},{\"attributes\":{\"overlay\":{\"id\":\"7238102a-e77c-4b5c-a3c1-306045a87e40\",\"type\":\"BoxAnnotation\"}},\"id\":\"56f95f26-32ce-431c-90f1-fe444d6a0bca\",\"type\":\"BoxZoomTool\"},{\"attributes\":{\"plot\":null,\"text\":\"\"},\"id\":\"117a4fc2-6708-4099-8fe7-113888c386e1\",\"type\":\"Title\"},{\"attributes\":{\"overlay\":{\"id\":\"07c1976b-f4d4-4d9c-bed8-38edb98e1342\",\"type\":\"BoxAnnotation\"}},\"id\":\"525ed0b5-18f1-418f-95fb-bc02950679c5\",\"type\":\"BoxZoomTool\"},{\"attributes\":{},\"id\":\"ea9b36de-5053-4398-bf51-79b682a8bca6\",\"type\":\"SaveTool\"},{\"attributes\":{\"fill_color\":{\"value\":\"#1f77b4\"},\"line_color\":{\"value\":\"#1f77b4\"},\"x\":{\"field\":\"x\"},\"y\":{\"field\":\"y\"}},\"id\":\"6d8bac00-9c70-4587-83dc-6cce952bc698\",\"type\":\"Circle\"},{\"attributes\":{\"below\":[{\"id\":\"b4477e3d-ade7-4892-b10d-3ca9b5ef84a5\",\"type\":\"LinearAxis\"}],\"left\":[{\"id\":\"7d166c70-1587-436d-a83d-5233bb99713e\",\"type\":\"LinearAxis\"}],\"plot_height\":250,\"plot_width\":400,\"renderers\":[{\"id\":\"b4477e3d-ade7-4892-b10d-3ca9b5ef84a5\",\"type\":\"LinearAxis\"},{\"id\":\"d235967b-1a77-4508-a0dc-b229859c61da\",\"type\":\"Grid\"},{\"id\":\"7d166c70-1587-436d-a83d-5233bb99713e\",\"type\":\"LinearAxis\"},{\"id\":\"5ca2de5d-382e-4ca5-b031-2dbeaadc4e5a\",\"type\":\"Grid\"},{\"id\":\"041fe5a8-59d1-477b-b577-3d45cf18ae9e\",\"type\":\"BoxAnnotation\"},{\"id\":\"822c9bdf-5897-48bc-acf3-cb38b4df4048\",\"type\":\"GlyphRenderer\"}],\"title\":{\"id\":\"f540c6c4-0262-4ef6-a728-c3e6c828d49b\",\"type\":\"Title\"},\"toolbar\":{\"id\":\"9bc2590d-39e9-46c6-8272-89f4c19f2f76\",\"type\":\"Toolbar\"},\"toolbar_location\":null,\"x_range\":{\"id\":\"f5b81d31-d68e-46a3-b8c7-3b7848ff9dd6\",\"type\":\"DataRange1d\"},\"x_scale\":{\"id\":\"03e2b6b5-3223-4fb1-aac4-b511c3a48481\",\"type\":\"LinearScale\"},\"y_range\":{\"id\":\"99dce065-55aa-4c39-835e-9f1e86787cd4\",\"type\":\"DataRange1d\"},\"y_scale\":{\"id\":\"458cd545-8884-4615-9288-3183ca536a6e\",\"type\":\"LinearScale\"}},\"id\":\"d4087870-d23e-4ee0-9052-157f92aa540d\",\"subtype\":\"Figure\",\"type\":\"Plot\"},{\"attributes\":{},\"id\":\"46a86498-6592-4b54-bfc7-202e3fc66060\",\"type\":\"ResetTool\"},{\"attributes\":{\"fill_alpha\":{\"value\":0.1},\"fill_color\":{\"value\":\"#1f77b4\"},\"line_alpha\":{\"value\":0.1},\"line_color\":{\"value\":\"#1f77b4\"},\"x\":{\"field\":\"x\"},\"y\":{\"field\":\"y\"}},\"id\":\"6deec7c8-b3c0-4035-88ef-d95b333ccca9\",\"type\":\"Circle\"},{\"attributes\":{\"data_source\":{\"id\":\"b50ad992-73e0-44a4-8a67-956afe0a2817\",\"type\":\"ColumnDataSource\"},\"glyph\":{\"id\":\"6d8bac00-9c70-4587-83dc-6cce952bc698\",\"type\":\"Circle\"},\"hover_glyph\":null,\"muted_glyph\":null,\"nonselection_glyph\":{\"id\":\"6deec7c8-b3c0-4035-88ef-d95b333ccca9\",\"type\":\"Circle\"},\"selection_glyph\":null,\"view\":{\"id\":\"ba42dd85-6ff5-474f-af3f-fe536f8237af\",\"type\":\"CDSView\"}},\"id\":\"4d609d06-69ac-44f4-b826-47ad794b1da0\",\"type\":\"GlyphRenderer\"},{\"attributes\":{},\"id\":\"abc99934-4957-4fd3-b595-a237c9e35dfe\",\"type\":\"HelpTool\"},{\"attributes\":{\"plot\":{\"id\":\"b5257558-709c-4cca-9f88-597fb057b690\",\"subtype\":\"Figure\",\"type\":\"Plot\"},\"ticker\":{\"id\":\"7b513424-e428-4059-9fc8-9c0fd35565fa\",\"type\":\"BasicTicker\"}},\"id\":\"2720bbc2-9437-47b2-8c40-ca7c17c6b5d0\",\"type\":\"Grid\"},{\"attributes\":{\"source\":{\"id\":\"b50ad992-73e0-44a4-8a67-956afe0a2817\",\"type\":\"ColumnDataSource\"}},\"id\":\"ba42dd85-6ff5-474f-af3f-fe536f8237af\",\"type\":\"CDSView\"},{\"attributes\":{},\"id\":\"103c5372-67f5-47bb-b255-fe6365e9c2fc\",\"type\":\"LinearScale\"},{\"attributes\":{\"callback\":null,\"column_names\":[\"x\",\"y\"],\"data\":{\"x\":{\"__ndarray__\":\"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\",\"dtype\":\"float64\",\"shape\":[506]},\"y\":{\"__ndarray__\":\"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\",\"dtype\":\"float64\",\"shape\":[506]}}},\"id\":\"f62ddd9f-a259-44a9-9911-6b5ffa85b6f2\",\"type\":\"ColumnDataSource\"},{\"attributes\":{\"axis_label\":\"Price in $1000s\",\"formatter\":{\"id\":\"75769245-ea90-4266-9f97-c4e0134158c7\",\"type\":\"BasicTickFormatter\"},\"plot\":{\"id\":\"0e905e3a-eb2b-42f3-8533-7e9e36128f40\",\"subtype\":\"Figure\",\"type\":\"Plot\"},\"ticker\":{\"id\":\"d327ef64-13eb-4ed8-a8e5-dcbb1f1f213e\",\"type\":\"BasicTicker\"}},\"id\":\"f62b42ee-537d-4928-94be-bee73427b8c5\",\"type\":\"LinearAxis\"},{\"attributes\":{},\"id\":\"f97e509c-313c-4601-872c-683ce826e8b7\",\"type\":\"LinearScale\"},{\"attributes\":{\"axis_label\":\"DIS\",\"formatter\":{\"id\":\"c149c06e-7de7-4f07-890f-cb9648718339\",\"type\":\"BasicTickFormatter\"},\"plot\":{\"id\":\"b5257558-709c-4cca-9f88-597fb057b690\",\"subtype\":\"Figure\",\"type\":\"Plot\"},\"ticker\":{\"id\":\"7b513424-e428-4059-9fc8-9c0fd35565fa\",\"type\":\"BasicTicker\"}},\"id\":\"b2e0889e-53fd-4d8e-9a5c-ae5a4194336f\",\"type\":\"LinearAxis\"},{\"attributes\":{},\"id\":\"458cd545-8884-4615-9288-3183ca536a6e\",\"type\":\"LinearScale\"},{\"attributes\":{},\"id\":\"4afe04dd-01ee-4e83-ac8d-1dfbe352fa69\",\"type\":\"BasicTickFormatter\"},{\"attributes\":{},\"id\":\"2aacef88-0b27-4bbc-853e-f858cb534410\",\"type\":\"BasicTickFormatter\"},{\"attributes\":{\"axis_label\":\"Price in $1000s\",\"formatter\":{\"id\":\"b73c62a4-a466-42d9-bd3b-c10064d54d3d\",\"type\":\"BasicTickFormatter\"},\"plot\":{\"id\":\"b5257558-709c-4cca-9f88-597fb057b690\",\"subtype\":\"Figure\",\"type\":\"Plot\"},\"ticker\":{\"id\":\"ee723f86-ac1c-4551-8edb-7c58f962dd6c\",\"type\":\"BasicTicker\"}},\"id\":\"7daff977-8fa5-46af-a0ef-6d08c6374579\",\"type\":\"LinearAxis\"},{\"attributes\":{},\"id\":\"7e7eb97b-25d3-4b2b-880b-2de9e728f541\",\"type\":\"BasicTicker\"},{\"attributes\":{\"fill_color\":{\"value\":\"#1f77b4\"},\"line_color\":{\"value\":\"#1f77b4\"},\"x\":{\"field\":\"x\"},\"y\":{\"field\":\"y\"}},\"id\":\"ba21efbd-c831-4d4e-af57-ca498df6c41e\",\"type\":\"Circle\"},{\"attributes\":{\"active_drag\":\"auto\",\"active_inspect\":\"auto\",\"active_scroll\":\"auto\",\"active_tap\":\"auto\",\"tools\":[{\"id\":\"e390370c-50d3-493f-a602-e2caca3c5af8\",\"type\":\"PanTool\"},{\"id\":\"d131c2eb-f9b8-468e-9b2b-d737c8d67620\",\"type\":\"WheelZoomTool\"},{\"id\":\"525ed0b5-18f1-418f-95fb-bc02950679c5\",\"type\":\"BoxZoomTool\"},{\"id\":\"ace04dd5-3dab-40db-bceb-0e1e7834ba0d\",\"type\":\"SaveTool\"},{\"id\":\"3daf7ade-22b6-4db4-afd1-d95957526368\",\"type\":\"ResetTool\"},{\"id\":\"6f6e8137-cf67-400f-9b60-9db392ffc758\",\"type\":\"HelpTool\"}]},\"id\":\"7f5f5369-f4e6-4b55-ae4a-e13a019defe1\",\"type\":\"Toolbar\"},{\"attributes\":{\"plot\":null,\"text\":\"\"},\"id\":\"d96ec4b1-28a3-4403-80e2-a4e981695ad1\",\"type\":\"Title\"},{\"attributes\":{},\"id\":\"7b513424-e428-4059-9fc8-9c0fd35565fa\",\"type\":\"BasicTicker\"},{\"attributes\":{\"dimension\":1,\"plot\":{\"id\":\"b5257558-709c-4cca-9f88-597fb057b690\",\"subtype\":\"Figure\",\"type\":\"Plot\"},\"ticker\":{\"id\":\"ee723f86-ac1c-4551-8edb-7c58f962dd6c\",\"type\":\"BasicTicker\"}},\"id\":\"dcb5392a-b774-4993-85cf-2a03067ad41c\",\"type\":\"Grid\"},{\"attributes\":{},\"id\":\"d327ef64-13eb-4ed8-a8e5-dcbb1f1f213e\",\"type\":\"BasicTicker\"},{\"attributes\":{\"fill_alpha\":{\"value\":0.1},\"fill_color\":{\"value\":\"#1f77b4\"},\"line_alpha\":{\"value\":0.1},\"line_color\":{\"value\":\"#1f77b4\"},\"x\":{\"field\":\"x\"},\"y\":{\"field\":\"y\"}},\"id\":\"f541d819-4e86-49ba-9af5-60c67f986825\",\"type\":\"Circle\"},{\"attributes\":{\"active_drag\":\"auto\",\"active_inspect\":\"auto\",\"active_scroll\":\"auto\",\"active_tap\":\"auto\",\"tools\":[{\"id\":\"947108bb-dabb-405a-b2fe-e3efbeaeac94\",\"type\":\"PanTool\"},{\"id\":\"4c6efb64-e5b6-445d-9bc4-dc44c041ae3f\",\"type\":\"WheelZoomTool\"},{\"id\":\"c2f28363-d3b9-49cf-afc8-d3f5dcb0bf64\",\"type\":\"BoxZoomTool\"},{\"id\":\"4ce120c9-fb4d-46ab-bd65-930e18b84517\",\"type\":\"SaveTool\"},{\"id\":\"1f7e350a-bb17-4329-86c8-de3a775e9cdf\",\"type\":\"ResetTool\"},{\"id\":\"a0940547-8e9b-42b7-af8e-8c01c0bcc843\",\"type\":\"HelpTool\"}]},\"id\":\"9bc2590d-39e9-46c6-8272-89f4c19f2f76\",\"type\":\"Toolbar\"},{\"attributes\":{\"data_source\":{\"id\":\"f62ddd9f-a259-44a9-9911-6b5ffa85b6f2\",\"type\":\"ColumnDataSource\"},\"glyph\":{\"id\":\"ba21efbd-c831-4d4e-af57-ca498df6c41e\",\"type\":\"Circle\"},\"hover_glyph\":null,\"muted_glyph\":null,\"nonselection_glyph\":{\"id\":\"f541d819-4e86-49ba-9af5-60c67f986825\",\"type\":\"Circle\"},\"selection_glyph\":null,\"view\":{\"id\":\"36a08654-e974-4710-b586-aada1054da26\",\"type\":\"CDSView\"}},\"id\":\"e23df043-b804-478b-802c-93d0cd195a8b\",\"type\":\"GlyphRenderer\"},{\"attributes\":{},\"id\":\"ee723f86-ac1c-4551-8edb-7c58f962dd6c\",\"type\":\"BasicTicker\"},{\"attributes\":{\"source\":{\"id\":\"6a0a34f6-b5bf-4393-8c7c-07ab2a0501ab\",\"type\":\"ColumnDataSource\"}},\"id\":\"62b2a9b7-a8f4-4621-a811-dd1e3872ca39\",\"type\":\"CDSView\"},{\"attributes\":{\"source\":{\"id\":\"f62ddd9f-a259-44a9-9911-6b5ffa85b6f2\",\"type\":\"ColumnDataSource\"}},\"id\":\"36a08654-e974-4710-b586-aada1054da26\",\"type\":\"CDSView\"},{\"attributes\":{\"fill_alpha\":{\"value\":0.1},\"fill_color\":{\"value\":\"#1f77b4\"},\"line_alpha\":{\"value\":0.1},\"line_color\":{\"value\":\"#1f77b4\"},\"x\":{\"field\":\"x\"},\"y\":{\"field\":\"y\"}},\"id\":\"72dc6c0f-7ac9-480d-bc43-d1636d1fe21f\",\"type\":\"Circle\"},{\"attributes\":{\"bottom_units\":\"screen\",\"fill_alpha\":{\"value\":0.5},\"fill_color\":{\"value\":\"lightgrey\"},\"left_units\":\"screen\",\"level\":\"overlay\",\"line_alpha\":{\"value\":1.0},\"line_color\":{\"value\":\"black\"},\"line_dash\":[4,4],\"line_width\":{\"value\":2},\"plot\":null,\"render_mode\":\"css\",\"right_units\":\"screen\",\"top_units\":\"screen\"},\"id\":\"78118d25-a722-49d0-94ce-dac2b54991ea\",\"type\":\"BoxAnnotation\"},{\"attributes\":{\"below\":[{\"id\":\"8b636724-f447-4da6-862c-3854232b3187\",\"type\":\"LinearAxis\"}],\"left\":[{\"id\":\"9ecfae2c-0b4d-4671-a1a2-0f6403ce1748\",\"type\":\"LinearAxis\"}],\"plot_height\":250,\"plot_width\":400,\"renderers\":[{\"id\":\"8b636724-f447-4da6-862c-3854232b3187\",\"type\":\"LinearAxis\"},{\"id\":\"5e17e471-413f-461b-a3a6-1af85d90a1cf\",\"type\":\"Grid\"},{\"id\":\"9ecfae2c-0b4d-4671-a1a2-0f6403ce1748\",\"type\":\"LinearAxis\"},{\"id\":\"77f1f1b3-c4c3-4a3b-958c-5c9bbcb25b0d\",\"type\":\"Grid\"},{\"id\":\"b41f8e37-2530-4cc6-84e7-0a8b292e8d76\",\"type\":\"BoxAnnotation\"},{\"id\":\"39a8123f-75bc-4700-a32f-30fb59cc4b4b\",\"type\":\"GlyphRenderer\"}],\"title\":{\"id\":\"c6c5ce04-7faa-4cf5-b424-2fbe3bdcddde\",\"type\":\"Title\"},\"toolbar\":{\"id\":\"ff11793b-05f9-4e26-84f7-56c92e818d3e\",\"type\":\"Toolbar\"},\"toolbar_location\":null,\"x_range\":{\"id\":\"0758dd7c-9cbd-4ea1-a0dd-f8a5d122dd69\",\"type\":\"DataRange1d\"},\"x_scale\":{\"id\":\"c1307ed5-8e4d-4be1-aa10-cf2d2072f22c\",\"type\":\"LinearScale\"},\"y_range\":{\"id\":\"f0f314fd-bfe5-4aa6-95c8-4788dab32a73\",\"type\":\"DataRange1d\"},\"y_scale\":{\"id\":\"ae3ee06f-4ca3-428f-8381-c1a609eb4d5a\",\"type\":\"LinearScale\"}},\"id\":\"d7922fbc-d70f-4913-91b5-b39736b255ed\",\"subtype\":\"Figure\",\"type\":\"Plot\"},{\"attributes\":{},\"id\":\"a79bf2f9-fd87-4b7d-afac-641c6ffae298\",\"type\":\"PanTool\"},{\"attributes\":{\"children\":[{\"id\":\"0ab4a9a4-d584-4814-b5bb-9090d390b021\",\"type\":\"Row\"},{\"id\":\"c209fd28-c6cb-4c66-aa36-6a8bfa6b34b6\",\"type\":\"Row\"},{\"id\":\"dc46ac34-92c9-461f-bd15-f244b5d471e8\",\"type\":\"Row\"},{\"id\":\"a08add1c-17ab-4aeb-b12d-8ece8e87b04c\",\"type\":\"Row\"}]},\"id\":\"7472275c-663a-4e14-af4d-072d3453306e\",\"type\":\"Column\"},{\"attributes\":{\"plot\":null,\"text\":\"\"},\"id\":\"fb7faf2e-a7ea-44ac-b39a-9efca406ea11\",\"type\":\"Title\"},{\"attributes\":{},\"id\":\"51d139f3-31d4-4c72-b406-4e1549afe9ee\",\"type\":\"WheelZoomTool\"},{\"attributes\":{\"callback\":null,\"column_names\":[\"x\",\"y\"],\"data\":{\"x\":{\"__ndarray__\":\"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\",\"dtype\":\"float64\",\"shape\":[506]},\"y\":{\"__ndarray__\":\"AAAAAAAAOECamZmZmZk1QJqZmZmZWUFAMzMzMzOzQECamZmZmRlCQDMzMzMzszxAZmZmZmbmNkCamZmZmRk7QAAAAAAAgDBAZmZmZmbmMkAAAAAAAAAuQGZmZmZm5jJAMzMzMzOzNUBmZmZmZmY0QDMzMzMzMzJAZmZmZmbmM0CamZmZmRk3QAAAAAAAgDFAMzMzMzMzNEAzMzMzMzMyQDMzMzMzMytAmpmZmZmZM0BmZmZmZmYuQAAAAAAAAC1AMzMzMzMzL0DNzMzMzMwrQJqZmZmZmTBAmpmZmZmZLUBmZmZmZmYyQAAAAAAAADVAZmZmZmZmKUAAAAAAAAAtQGZmZmZmZipAMzMzMzMzKkAAAAAAAAArQGZmZmZm5jJAAAAAAAAANEAAAAAAAAA1QDMzMzMzszhAzczMzMzMPkAzMzMzM3NBQJqZmZmZmTpAzczMzMxMOUAzMzMzM7M4QDMzMzMzMzVAzczMzMxMM0AAAAAAAAA0QJqZmZmZmTBAzczMzMzMLEBmZmZmZmYzQDMzMzMzszNAAAAAAACANEAAAAAAAAA5QGZmZmZmZjdAZmZmZmbmMkAzMzMzM7NBQDMzMzMzszhAmpmZmZmZP0DNzMzMzEw3QJqZmZmZmTNAMzMzMzOzMkAAAAAAAAAwQDMzMzMzMzZAAAAAAAAAOUAAAAAAAIBAQAAAAAAAgDdAZmZmZmZmM0AAAAAAAAA2QGZmZmZmZjFAZmZmZmbmNEAzMzMzMzM4QDMzMzMzszVAzczMzMzMNkBmZmZmZmY3QJqZmZmZGThAZmZmZmZmNUAAAAAAAAA0QM3MzMzMzDRAMzMzMzMzNUDNzMzMzEw0QAAAAAAAADxAZmZmZmbmN0DNzMzMzMw4QGZmZmZm5jZAZmZmZmbmN0CamZmZmZk6QAAAAAAAgDZAMzMzMzMzNkCamZmZmZk3QDMzMzMzszxAmpmZmZmZNkAAAAAAAAA2QGZmZmZm5jZAAAAAAAAAOUCamZmZmZk0QGZmZmZmZjxAZmZmZmZmNUCamZmZmVlDQGZmZmZm5kVAmpmZmZmZQEAAAAAAAIA7QAAAAAAAgDpAmpmZmZmZMkDNzMzMzEwzQJqZmZmZGTRAAAAAAACAM0AAAAAAAIAzQGZmZmZmZjRAzczMzMzMM0BmZmZmZmYzQDMzMzMzszVAzczMzMzMNkDNzMzMzMwyQDMzMzMzszJAAAAAAACAMkDNzMzMzEwyQDMzMzMzMzVAMzMzMzMzM0BmZmZmZmY0QM3MzMzMTDNAAAAAAAAANkDNzMzMzEw0QAAAAAAAgDRAzczMzMxMMUDNzMzMzMwyQGZmZmZmZjVAZmZmZmZmL0AzMzMzMzMwQAAAAAAAADJAmpmZmZmZLEAzMzMzMzMzQJqZmZmZmTNAAAAAAAAAN0BmZmZmZmYyQDMzMzMzMy9AmpmZmZkZMkBmZmZmZmYxQJqZmZmZGTFAmpmZmZmZKkDNzMzMzMwxQAAAAAAAACxAzczMzMzMLEDNzMzMzMwqQDMzMzMzMy9AmpmZmZmZJ0CamZmZmZkrQDMzMzMzMy9AMzMzMzMzLUDNzMzMzMwxQM3MzMzMzC5AAAAAAACANUCamZmZmZkzQJqZmZmZmS5AZmZmZmZmM0AAAAAAAAAxQDMzMzMzMy9AMzMzMzMzKkBmZmZmZqZEQM3MzMzMTDhAzczMzMxMN0AAAAAAAAA7QAAAAAAAAElAAAAAAAAASUAAAAAAAABJQDMzMzMzszZAAAAAAAAAOUAAAAAAAABJQM3MzMzMzDdAzczMzMzMN0DNzMzMzEw2QGZmZmZmZjFAmpmZmZkZM0CamZmZmRk3QJqZmZmZmTdAmpmZmZmZNkBmZmZmZmY9QDMzMzMzMzdAmpmZmZmZOEBmZmZmZuY9QJqZmZmZmUJAZmZmZmbmQ0CamZmZmRlCQDMzMzMz80JAAAAAAABAQEBmZmZmZmY6QJqZmZmZmT1AAAAAAAAASUAAAAAAAABAQM3MzMzMzD1AMzMzMzNzQUAAAAAAAIBCQAAAAAAAgD5AMzMzMzMzQkCamZmZmRk/QJqZmZmZGT1AAAAAAAAASUBmZmZmZqZAQM3MzMzMTD5AzczMzMxMQUAzMzMzM3NBQDMzMzMzc0BAmpmZmZkZOEBmZmZmZiZFQAAAAAAAQEhAAAAAAAAASUCamZmZmZk2QGZmZmZmZjhAAAAAAACANkBmZmZmZmY4QAAAAAAAADRAMzMzMzOzNUDNzMzMzEwzQGZmZmZmZjZAmpmZmZkZPEAzMzMzM7M3QAAAAAAAADlAzczMzMxMN0AzMzMzM7M8QAAAAAAAgDVAAAAAAAAAN0AzMzMzM7M6QDMzMzMzszVAAAAAAACAO0CamZmZmRk+QGZmZmZmZkZAAAAAAAAASUDNzMzMzMxCQJqZmZmZmT9AmpmZmZlZR0AAAAAAAIA/QM3MzMzMTDhAMzMzMzOzP0CamZmZmdlEQGZmZmZmJkhAAAAAAAAAPUAAAAAAAAA4QJqZmZmZGTlAAAAAAACAP0AzMzMzM7M3QM3MzMzMTDdAAAAAAAAANkCamZmZmRk0QDMzMzMzMzZAMzMzMzOzN0CamZmZmZkxQAAAAAAAgDJAzczMzMxMOEAAAAAAAIA0QAAAAAAAgDhAMzMzMzMzOkBmZmZmZmY4QM3MzMzMzDhAmpmZmZmZPUBmZmZmZmZFQGZmZmZm5jVAZmZmZmbmNEAAAAAAAABGQAAAAAAAAElAAAAAAAAAQkCamZmZmRk+QGZmZmZm5kBAzczMzMyMRUBmZmZmZmZIQAAAAAAAAD9AAAAAAABAQkDNzMzMzMw2QDMzMzMzsz5AAAAAAAAASUAAAAAAAMBFQDMzMzMzszRAmpmZmZkZNUAzMzMzMzM5QGZmZmZmZjhAmpmZmZmZQUAzMzMzMzNAQAAAAAAAAEBAmpmZmZmZQEDNzMzMzIxAQJqZmZmZGT1AzczMzMyMQUAzMzMzM7NGQDMzMzMzs0FAAAAAAAAAR0AAAAAAAABJQJqZmZmZGUBAAAAAAAAANkCamZmZmRk0QDMzMzMzMzdAzczMzMxMNkDNzMzMzMw4QAAAAAAAgDxAZmZmZmamQkBmZmZmZuY7QGZmZmZm5jdAMzMzMzOzNUCamZmZmZk8QJqZmZmZGTtAzczMzMxMNEAAAAAAAIA2QAAAAAAAAD1AzczMzMzMOEAAAAAAAAA2QGZmZmZmZjpAzczMzMyMQEDNzMzMzAxCQGZmZmZmZjxAMzMzMzOzQEAzMzMzMzM8QM3MzMzMzDZAzczMzMxMNECamZmZmRkwQJqZmZmZGTZAZmZmZmZmM0CamZmZmZk1QM3MzMzMzDdAMzMzMzMzMEDNzMzMzMwxQM3MzMzMzDNAmpmZmZkZN0AAAAAAAAA1QM3MzMzMzDdAmpmZmZkZN0BmZmZmZmY0QAAAAAAAgDJAAAAAAAAAOUCamZmZmZk4QAAAAAAAADdAMzMzMzMzNkDNzMzMzEwzQJqZmZmZmTZAzczMzMzMM0CamZmZmRkxQGZmZmZmZjNAMzMzMzMzNkAzMzMzM7M0QJqZmZmZGTVAAAAAAACAM0AAAAAAAIAyQJqZmZmZmTRAAAAAAAAAM0AzMzMzM7MyQJqZmZmZWUBAAAAAAACAMEBmZmZmZuY3QDMzMzMzMz9AAAAAAACAMUAzMzMzMzMxQJqZmZmZGTdAAAAAAACAOECamZmZmZk6QGZmZmZm5jZAmpmZmZkZOECamZmZmZkyQJqZmZmZGT5AMzMzMzMzMkCamZmZmZk0QM3MzMzMzDFAMzMzMzOzNUAzMzMzM7M2QJqZmZmZmTZAAAAAAAAAOUBmZmZmZuYzQM3MzMzMzDRAzczMzMzMMEBmZmZmZuY1QAAAAAAAgDtAZmZmZmbmNUCamZmZmRk3QAAAAAAAAElAAAAAAAAASUAAAAAAAABJQAAAAAAAAElAAAAAAAAASUCamZmZmZkrQJqZmZmZmStAAAAAAAAALkDNzMzMzMwrQJqZmZmZmSpAMzMzMzMzKkBmZmZmZmYkQM3MzMzMzCRAzczMzMzMJUCamZmZmZkmQJqZmZmZmShAmpmZmZmZIUDNzMzMzMwcQAAAAAAAACVAmpmZmZmZHUBmZmZmZmYkQAAAAAAAACdAMzMzMzMzLkAzMzMzMzM3QGZmZmZmZiNAmpmZmZmZK0BmZmZmZmYpQDMzMzMzMypAAAAAAAAAKUAAAAAAAAAhQAAAAAAAABRAMzMzMzMzGUBmZmZmZmYWQM3MzMzMzBxAMzMzMzMzKECamZmZmZkgQAAAAAAAACFAAAAAAAAAFEDNzMzMzMwnQGZmZmZm5jtAMzMzMzMzMUAAAAAAAIA7QAAAAAAAAC5AMzMzMzMzMUBmZmZmZuYxQM3MzMzMTDBAAAAAAAAAHEDNzMzMzMwcQAAAAAAAAB5AzczMzMzMJECamZmZmZkhQM3MzMzMzCBAMzMzMzOzMEBmZmZmZmYsQM3MzMzMzDRAzczMzMzMKkBmZmZmZmYnQJqZmZmZmSBAZmZmZmZmJEDNzMzMzMwlQAAAAAAAACZAAAAAAAAAI0AAAAAAAAAtQDMzMzMzMyxAmpmZmZkZMECamZmZmZksQGZmZmZmZidAzczMzMzMKkAzMzMzMzMjQGZmZmZmZiFAzczMzMzMIECamZmZmZkpQAAAAAAAACVAmpmZmZkZMUBmZmZmZmYyQM3MzMzMzC5AmpmZmZmZJUCamZmZmZknQM3MzMzMzC1AMzMzMzMzKUAzMzMzMzMsQAAAAAAAACpAzczMzMzMKkBmZmZmZmYuQJqZmZmZGTBAzczMzMzMMUDNzMzMzMwtQDMzMzMzMyxAZmZmZmZmKUAAAAAAAAArQM3MzMzMzC1AAAAAAAAANEBmZmZmZmYwQDMzMzMzszFAAAAAAACAM0AzMzMzMzM0QGZmZmZmZjVAZmZmZmbmM0AAAAAAAAAzQJqZmZmZGTNAmpmZmZkZM0CamZmZmRk0QGZmZmZm5jNAmpmZmZmZM0AzMzMzMzM3QM3MzMzMzD1AmpmZmZmZK0CamZmZmZkqQDMzMzMzszBAAAAAAAAAKEAzMzMzMzMtQGZmZmZmZjVAAAAAAAAAN0AzMzMzM7M3QAAAAAAAADlAzczMzMzMNUCamZmZmZk0QDMzMzMzMzVAmpmZmZkZM0CamZmZmZk0QGZmZmZmZi5AAAAAAAAAHEAzMzMzMzMgQDMzMzMzMytAmpmZmZkZNEDNzMzMzMw1QAAAAAAAgDhAmpmZmZkZN0AzMzMzM7MzQM3MzMzMTDJAMzMzMzMzNUAAAAAAAIAxQM3MzMzMzDBAZmZmZmZmNkCamZmZmZk0QGZmZmZm5jdAAAAAAAAANkDNzMzMzMwnQA==\",\"dtype\":\"float64\",\"shape\":[506]}}},\"id\":\"6a0a34f6-b5bf-4393-8c7c-07ab2a0501ab\",\"type\":\"ColumnDataSource\"},{\"attributes\":{\"overlay\":{\"id\":\"78118d25-a722-49d0-94ce-dac2b54991ea\",\"type\":\"BoxAnnotation\"}},\"id\":\"db070e5e-eba4-4790-b215-966e54ca11d4\",\"type\":\"BoxZoomTool\"},{\"attributes\":{},\"id\":\"3daf7ade-22b6-4db4-afd1-d95957526368\",\"type\":\"ResetTool\"},{\"attributes\":{},\"id\":\"24ff5b73-1bcd-4d44-9e03-0d42a063e15b\",\"type\":\"SaveTool\"},{\"attributes\":{},\"id\":\"08b7ab07-5a35-4c97-8a43-c6b243f838b1\",\"type\":\"ResetTool\"},{\"attributes\":{\"plot\":{\"id\":\"0e905e3a-eb2b-42f3-8533-7e9e36128f40\",\"subtype\":\"Figure\",\"type\":\"Plot\"},\"ticker\":{\"id\":\"7e7eb97b-25d3-4b2b-880b-2de9e728f541\",\"type\":\"BasicTicker\"}},\"id\":\"69045f26-d26b-41cd-9981-95e9bed4bcad\",\"type\":\"Grid\"},{\"attributes\":{},\"id\":\"e18abffb-3d81-4d50-9c4d-312ba22afe10\",\"type\":\"HelpTool\"},{\"attributes\":{\"callback\":null},\"id\":\"776cf78a-0000-45a2-9d83-7671ae689cf4\",\"type\":\"DataRange1d\"},{\"attributes\":{},\"id\":\"b4745af5-35cb-4073-bf51-386e9b261710\",\"type\":\"BasicTickFormatter\"},{\"attributes\":{},\"id\":\"e3a8cc1f-b764-4949-badd-ba2ea4557355\",\"type\":\"LinearScale\"},{\"attributes\":{\"fill_color\":{\"value\":\"#1f77b4\"},\"line_color\":{\"value\":\"#1f77b4\"},\"x\":{\"field\":\"x\"},\"y\":{\"field\":\"y\"}},\"id\":\"50bc428e-b733-4d26-9487-77949fbd8a61\",\"type\":\"Circle\"},{\"attributes\":{\"plot\":null,\"text\":\"\"},\"id\":\"f540c6c4-0262-4ef6-a728-c3e6c828d49b\",\"type\":\"Title\"},{\"attributes\":{\"callback\":null},\"id\":\"99dce065-55aa-4c39-835e-9f1e86787cd4\",\"type\":\"DataRange1d\"},{\"attributes\":{},\"id\":\"e390370c-50d3-493f-a602-e2caca3c5af8\",\"type\":\"PanTool\"},{\"attributes\":{\"source\":{\"id\":\"8ca85606-a5fd-47ba-bff3-56a3a6ff8f93\",\"type\":\"ColumnDataSource\"}},\"id\":\"5de7c0d2-6e67-4eb3-bc8b-7b4eb5e920f0\",\"type\":\"CDSView\"},{\"attributes\":{},\"id\":\"6f6e8137-cf67-400f-9b60-9db392ffc758\",\"type\":\"HelpTool\"},{\"attributes\":{\"fill_alpha\":{\"value\":0.1},\"fill_color\":{\"value\":\"#1f77b4\"},\"line_alpha\":{\"value\":0.1},\"line_color\":{\"value\":\"#1f77b4\"},\"x\":{\"field\":\"x\"},\"y\":{\"field\":\"y\"}},\"id\":\"ee9c2c86-11e7-4ab4-93f8-1b1f54d8f78a\",\"type\":\"Circle\"},{\"attributes\":{},\"id\":\"d131c2eb-f9b8-468e-9b2b-d737c8d67620\",\"type\":\"WheelZoomTool\"},{\"attributes\":{},\"id\":\"75769245-ea90-4266-9f97-c4e0134158c7\",\"type\":\"BasicTickFormatter\"},{\"attributes\":{\"bottom_units\":\"screen\",\"fill_alpha\":{\"value\":0.5},\"fill_color\":{\"value\":\"lightgrey\"},\"left_units\":\"screen\",\"level\":\"overlay\",\"line_alpha\":{\"value\":1.0},\"line_color\":{\"value\":\"black\"},\"line_dash\":[4,4],\"line_width\":{\"value\":2},\"plot\":null,\"render_mode\":\"css\",\"right_units\":\"screen\",\"top_units\":\"screen\"},\"id\":\"07c1976b-f4d4-4d9c-bed8-38edb98e1342\",\"type\":\"BoxAnnotation\"},{\"attributes\":{\"data_source\":{\"id\":\"8ca85606-a5fd-47ba-bff3-56a3a6ff8f93\",\"type\":\"ColumnDataSource\"},\"glyph\":{\"id\":\"50bc428e-b733-4d26-9487-77949fbd8a61\",\"type\":\"Circle\"},\"hover_glyph\":null,\"muted_glyph\":null,\"nonselection_glyph\":{\"id\":\"ee9c2c86-11e7-4ab4-93f8-1b1f54d8f78a\",\"type\":\"Circle\"},\"selection_glyph\":null,\"view\":{\"id\":\"5de7c0d2-6e67-4eb3-bc8b-7b4eb5e920f0\",\"type\":\"CDSView\"}},\"id\":\"822c9bdf-5897-48bc-acf3-cb38b4df4048\",\"type\":\"GlyphRenderer\"},{\"attributes\":{},\"id\":\"4e79786e-a06a-460b-904e-efa081702640\",\"type\":\"LinearScale\"},{\"attributes\":{\"below\":[{\"id\":\"b78e55cb-f648-4b12-a084-dd4f30c8274e\",\"type\":\"LinearAxis\"}],\"left\":[{\"id\":\"f62b42ee-537d-4928-94be-bee73427b8c5\",\"type\":\"LinearAxis\"}],\"plot_height\":250,\"plot_width\":400,\"renderers\":[{\"id\":\"b78e55cb-f648-4b12-a084-dd4f30c8274e\",\"type\":\"LinearAxis\"},{\"id\":\"69045f26-d26b-41cd-9981-95e9bed4bcad\",\"type\":\"Grid\"},{\"id\":\"f62b42ee-537d-4928-94be-bee73427b8c5\",\"type\":\"LinearAxis\"},{\"id\":\"261268af-66cb-4a32-9f2b-b83f20858273\",\"type\":\"Grid\"},{\"id\":\"07c1976b-f4d4-4d9c-bed8-38edb98e1342\",\"type\":\"BoxAnnotation\"},{\"id\":\"10dfc552-f231-4209-aa9c-bfbcfe4b128c\",\"type\":\"GlyphRenderer\"}],\"title\":{\"id\":\"fb7faf2e-a7ea-44ac-b39a-9efca406ea11\",\"type\":\"Title\"},\"toolbar\":{\"id\":\"7f5f5369-f4e6-4b55-ae4a-e13a019defe1\",\"type\":\"Toolbar\"},\"toolbar_location\":null,\"x_range\":{\"id\":\"776cf78a-0000-45a2-9d83-7671ae689cf4\",\"type\":\"DataRange1d\"},\"x_scale\":{\"id\":\"e3a8cc1f-b764-4949-badd-ba2ea4557355\",\"type\":\"LinearScale\"},\"y_range\":{\"id\":\"137638a3-d1e3-4680-afd3-e55fd57ead5d\",\"type\":\"DataRange1d\"},\"y_scale\":{\"id\":\"4e79786e-a06a-460b-904e-efa081702640\",\"type\":\"LinearScale\"}},\"id\":\"0e905e3a-eb2b-42f3-8533-7e9e36128f40\",\"subtype\":\"Figure\",\"type\":\"Plot\"},{\"attributes\":{},\"id\":\"a8a0ce6d-8fcf-4338-bde6-3204db79f5b1\",\"type\":\"BasicTickFormatter\"},{\"attributes\":{},\"id\":\"a0940547-8e9b-42b7-af8e-8c01c0bcc843\",\"type\":\"HelpTool\"},{\"attributes\":{\"callback\":null},\"id\":\"8b707d4b-fbe3-4cfc-b752-5bd3cfd674a7\",\"type\":\"DataRange1d\"},{\"attributes\":{},\"id\":\"947108bb-dabb-405a-b2fe-e3efbeaeac94\",\"type\":\"PanTool\"},{\"attributes\":{\"bottom_units\":\"screen\",\"fill_alpha\":{\"value\":0.5},\"fill_color\":{\"value\":\"lightgrey\"},\"left_units\":\"screen\",\"level\":\"overlay\",\"line_alpha\":{\"value\":1.0},\"line_color\":{\"value\":\"black\"},\"line_dash\":[4,4],\"line_width\":{\"value\":2},\"plot\":null,\"render_mode\":\"css\",\"right_units\":\"screen\",\"top_units\":\"screen\"},\"id\":\"041fe5a8-59d1-477b-b577-3d45cf18ae9e\",\"type\":\"BoxAnnotation\"},{\"attributes\":{},\"id\":\"4107d392-7e12-4654-ba8d-958c95c34d8e\",\"type\":\"LinearScale\"},{\"attributes\":{\"overlay\":{\"id\":\"a336361c-9f0f-474d-a9d0-be434a3b4ad1\",\"type\":\"BoxAnnotation\"}},\"id\":\"2d680a00-aa52-44d6-b105-908ab9687f5d\",\"type\":\"BoxZoomTool\"},{\"attributes\":{\"active_drag\":\"auto\",\"active_inspect\":\"auto\",\"active_scroll\":\"auto\",\"active_tap\":\"auto\",\"tools\":[{\"id\":\"506855dc-5383-4c93-88b6-a301b7c2ea2c\",\"type\":\"PanTool\"},{\"id\":\"9946dd3b-a71f-4fc7-a34b-f7ebe6716df8\",\"type\":\"WheelZoomTool\"},{\"id\":\"2d680a00-aa52-44d6-b105-908ab9687f5d\",\"type\":\"BoxZoomTool\"},{\"id\":\"56f703e3-4991-4c44-b45c-f6f873dbe9e1\",\"type\":\"SaveTool\"},{\"id\":\"775c9504-3138-479f-96fd-1848e2de77f3\",\"type\":\"ResetTool\"},{\"id\":\"c523c08a-b2ea-49ab-8bae-e78d920f0c35\",\"type\":\"HelpTool\"}]},\"id\":\"90cbf64c-0512-4447-904a-c1dad673eebc\",\"type\":\"Toolbar\"},{\"attributes\":{\"callback\":null},\"id\":\"c80f6bc7-4bf9-4364-ad3b-189deb5198be\",\"type\":\"DataRange1d\"},{\"attributes\":{},\"id\":\"5cf2b213-aceb-489b-b03e-81b0bc20018c\",\"type\":\"BasicTicker\"},{\"attributes\":{\"axis_label\":\"Price in $1000s\",\"formatter\":{\"id\":\"a8a0ce6d-8fcf-4338-bde6-3204db79f5b1\",\"type\":\"BasicTickFormatter\"},\"plot\":{\"id\":\"d4087870-d23e-4ee0-9052-157f92aa540d\",\"subtype\":\"Figure\",\"type\":\"Plot\"},\"ticker\":{\"id\":\"5cf2b213-aceb-489b-b03e-81b0bc20018c\",\"type\":\"BasicTicker\"}},\"id\":\"7d166c70-1587-436d-a83d-5233bb99713e\",\"type\":\"LinearAxis\"},{\"attributes\":{},\"id\":\"4c6efb64-e5b6-445d-9bc4-dc44c041ae3f\",\"type\":\"WheelZoomTool\"},{\"attributes\":{\"axis_label\":\"INDUS\",\"formatter\":{\"id\":\"8c5d11ec-db3e-49d4-ac86-c3dc4dc7bc97\",\"type\":\"BasicTickFormatter\"},\"plot\":{\"id\":\"45b48ea9-9ae6-4333-9a82-1ac5dc46d321\",\"subtype\":\"Figure\",\"type\":\"Plot\"},\"ticker\":{\"id\":\"f01599a1-f5ed-43a2-8ade-f289df34646f\",\"type\":\"BasicTicker\"}},\"id\":\"80648e42-2a9e-48e6-bd35-eef3406c6910\",\"type\":\"LinearAxis\"},{\"attributes\":{},\"id\":\"1f7e350a-bb17-4329-86c8-de3a775e9cdf\",\"type\":\"ResetTool\"},{\"attributes\":{},\"id\":\"4ce120c9-fb4d-46ab-bd65-930e18b84517\",\"type\":\"SaveTool\"},{\"attributes\":{\"overlay\":{\"id\":\"041fe5a8-59d1-477b-b577-3d45cf18ae9e\",\"type\":\"BoxAnnotation\"}},\"id\":\"c2f28363-d3b9-49cf-afc8-d3f5dcb0bf64\",\"type\":\"BoxZoomTool\"},{\"attributes\":{},\"id\":\"7285c533-9242-46ed-8ca8-f117dfb9bcfa\",\"type\":\"LinearScale\"},{\"attributes\":{},\"id\":\"f67eecc8-1eb6-4ae1-b13c-069a81a7e2f2\",\"type\":\"LinearScale\"},{\"attributes\":{},\"id\":\"3ddb43da-c02a-4af3-b503-b8116f3005e6\",\"type\":\"LinearScale\"},{\"attributes\":{\"plot\":{\"id\":\"45b48ea9-9ae6-4333-9a82-1ac5dc46d321\",\"subtype\":\"Figure\",\"type\":\"Plot\"},\"ticker\":{\"id\":\"f01599a1-f5ed-43a2-8ade-f289df34646f\",\"type\":\"BasicTicker\"}},\"id\":\"f2f373fb-14dd-4c72-8989-6967edcc2173\",\"type\":\"Grid\"},{\"attributes\":{},\"id\":\"9946dd3b-a71f-4fc7-a34b-f7ebe6716df8\",\"type\":\"WheelZoomTool\"},{\"attributes\":{\"plot\":{\"id\":\"d4087870-d23e-4ee0-9052-157f92aa540d\",\"subtype\":\"Figure\",\"type\":\"Plot\"},\"ticker\":{\"id\":\"c7657af2-554c-4ea8-8f00-abbde08a9dce\",\"type\":\"BasicTicker\"}},\"id\":\"d235967b-1a77-4508-a0dc-b229859c61da\",\"type\":\"Grid\"},{\"attributes\":{},\"id\":\"506855dc-5383-4c93-88b6-a301b7c2ea2c\",\"type\":\"PanTool\"},{\"attributes\":{},\"id\":\"c523c08a-b2ea-49ab-8bae-e78d920f0c35\",\"type\":\"HelpTool\"},{\"attributes\":{},\"id\":\"40df26a7-0f68-4e05-aef5-d3bc5159e7fe\",\"type\":\"BasicTicker\"},{\"attributes\":{\"bottom_units\":\"screen\",\"fill_alpha\":{\"value\":0.5},\"fill_color\":{\"value\":\"lightgrey\"},\"left_units\":\"screen\",\"level\":\"overlay\",\"line_alpha\":{\"value\":1.0},\"line_color\":{\"value\":\"black\"},\"line_dash\":[4,4],\"line_width\":{\"value\":2},\"plot\":null,\"render_mode\":\"css\",\"right_units\":\"screen\",\"top_units\":\"screen\"},\"id\":\"a336361c-9f0f-474d-a9d0-be434a3b4ad1\",\"type\":\"BoxAnnotation\"},{\"attributes\":{\"active_drag\":\"auto\",\"active_inspect\":\"auto\",\"active_scroll\":\"auto\",\"active_tap\":\"auto\",\"tools\":[{\"id\":\"88e6a648-eeed-4ff4-8681-51f69a7b71e8\",\"type\":\"PanTool\"},{\"id\":\"16ab39e4-2379-43f1-a994-a9df9972994c\",\"type\":\"WheelZoomTool\"},{\"id\":\"57f36632-9e66-4ba2-9824-d139770f3d18\",\"type\":\"BoxZoomTool\"},{\"id\":\"7e52300e-fb87-498e-805b-ba06849ce09e\",\"type\":\"SaveTool\"},{\"id\":\"0e7da08d-8b23-4705-bad8-cb432af990e2\",\"type\":\"ResetTool\"},{\"id\":\"f4e93aee-76a9-4387-a3ba-0b0216417726\",\"type\":\"HelpTool\"}]},\"id\":\"cbcd42f9-867e-4064-a874-a3204ee4b56e\",\"type\":\"Toolbar\"},{\"attributes\":{\"callback\":null},\"id\":\"36eaf124-7a2f-488c-9795-1bdddbd9a942\",\"type\":\"DataRange1d\"},{\"attributes\":{\"callback\":null},\"id\":\"580a40d5-1841-4cc2-981d-06f20c61623c\",\"type\":\"DataRange1d\"},{\"attributes\":{\"dimension\":1,\"plot\":{\"id\":\"45b48ea9-9ae6-4333-9a82-1ac5dc46d321\",\"subtype\":\"Figure\",\"type\":\"Plot\"},\"ticker\":{\"id\":\"40df26a7-0f68-4e05-aef5-d3bc5159e7fe\",\"type\":\"BasicTicker\"}},\"id\":\"b11658a2-4fbb-4998-a003-00e81f0ba164\",\"type\":\"Grid\"},{\"attributes\":{},\"id\":\"f01599a1-f5ed-43a2-8ade-f289df34646f\",\"type\":\"BasicTicker\"},{\"attributes\":{\"axis_label\":\"Price in $1000s\",\"formatter\":{\"id\":\"dfc33d61-a6f9-416f-9549-d200f53b39a7\",\"type\":\"BasicTickFormatter\"},\"plot\":{\"id\":\"45b48ea9-9ae6-4333-9a82-1ac5dc46d321\",\"subtype\":\"Figure\",\"type\":\"Plot\"},\"ticker\":{\"id\":\"40df26a7-0f68-4e05-aef5-d3bc5159e7fe\",\"type\":\"BasicTicker\"}},\"id\":\"400c3b54-69c6-4bc8-83d9-d26940706458\",\"type\":\"LinearAxis\"},{\"attributes\":{\"data_source\":{\"id\":\"6a0a34f6-b5bf-4393-8c7c-07ab2a0501ab\",\"type\":\"ColumnDataSource\"},\"glyph\":{\"id\":\"5a0a1e68-f7e3-4927-94b0-bbb95193d1a3\",\"type\":\"Circle\"},\"hover_glyph\":null,\"muted_glyph\":null,\"nonselection_glyph\":{\"id\":\"72dc6c0f-7ac9-480d-bc43-d1636d1fe21f\",\"type\":\"Circle\"},\"selection_glyph\":null,\"view\":{\"id\":\"62b2a9b7-a8f4-4621-a811-dd1e3872ca39\",\"type\":\"CDSView\"}},\"id\":\"10dfc552-f231-4209-aa9c-bfbcfe4b128c\",\"type\":\"GlyphRenderer\"},{\"attributes\":{\"active_drag\":\"auto\",\"active_inspect\":\"auto\",\"active_scroll\":\"auto\",\"active_tap\":\"auto\",\"tools\":[{\"id\":\"7ff6aaad-aac5-40d8-95d4-bd6370aae58d\",\"type\":\"PanTool\"},{\"id\":\"45961695-013f-4d44-9b5f-81e60f3d03c8\",\"type\":\"WheelZoomTool\"},{\"id\":\"8c8d5845-f2b8-4549-a0e4-9cd47577308d\",\"type\":\"BoxZoomTool\"},{\"id\":\"9e851825-0d9f-4ebc-ac6d-39dc5246aebf\",\"type\":\"SaveTool\"},{\"id\":\"db625789-730f-4c61-b098-e67f0b83353d\",\"type\":\"ResetTool\"},{\"id\":\"558bfcb3-0c25-46ab-a022-f6f744762fd1\",\"type\":\"HelpTool\"}]},\"id\":\"ff11793b-05f9-4e26-84f7-56c92e818d3e\",\"type\":\"Toolbar\"},{\"attributes\":{},\"id\":\"65d17d36-f1b4-473b-a219-b701f31588ba\",\"type\":\"BasicTicker\"},{\"attributes\":{},\"id\":\"775c9504-3138-479f-96fd-1848e2de77f3\",\"type\":\"ResetTool\"},{\"attributes\":{\"plot\":{\"id\":\"ed3181b0-117b-475b-81b2-0b8e49adda10\",\"subtype\":\"Figure\",\"type\":\"Plot\"},\"ticker\":{\"id\":\"65d17d36-f1b4-473b-a219-b701f31588ba\",\"type\":\"BasicTicker\"}},\"id\":\"c7e66da2-7857-41d3-9216-4c0cb004ba98\",\"type\":\"Grid\"},{\"attributes\":{\"axis_label\":\"CHAS\",\"formatter\":{\"id\":\"eb1345bb-acb4-4d5f-91a1-0136a0b33ad1\",\"type\":\"BasicTickFormatter\"},\"plot\":{\"id\":\"ed3181b0-117b-475b-81b2-0b8e49adda10\",\"subtype\":\"Figure\",\"type\":\"Plot\"},\"ticker\":{\"id\":\"65d17d36-f1b4-473b-a219-b701f31588ba\",\"type\":\"BasicTicker\"}},\"id\":\"5ab0603f-08a6-4253-9266-6bce302c1362\",\"type\":\"LinearAxis\"},{\"attributes\":{},\"id\":\"56f703e3-4991-4c44-b45c-f6f873dbe9e1\",\"type\":\"SaveTool\"},{\"attributes\":{},\"id\":\"ee1a0eee-c9db-46a0-91ce-c905b6cc8cd2\",\"type\":\"BasicTicker\"},{\"attributes\":{\"callback\":null},\"id\":\"0758dd7c-9cbd-4ea1-a0dd-f8a5d122dd69\",\"type\":\"DataRange1d\"},{\"attributes\":{\"dimension\":1,\"plot\":{\"id\":\"d4087870-d23e-4ee0-9052-157f92aa540d\",\"subtype\":\"Figure\",\"type\":\"Plot\"},\"ticker\":{\"id\":\"5cf2b213-aceb-489b-b03e-81b0bc20018c\",\"type\":\"BasicTicker\"}},\"id\":\"5ca2de5d-382e-4ca5-b031-2dbeaadc4e5a\",\"type\":\"Grid\"},{\"attributes\":{\"callback\":null},\"id\":\"7d4ac323-0b1c-4127-8add-4bbf6c653bba\",\"type\":\"DataRange1d\"},{\"attributes\":{},\"id\":\"88e6a648-eeed-4ff4-8681-51f69a7b71e8\",\"type\":\"PanTool\"},{\"attributes\":{},\"id\":\"7ff6aaad-aac5-40d8-95d4-bd6370aae58d\",\"type\":\"PanTool\"},{\"attributes\":{},\"id\":\"16ab39e4-2379-43f1-a994-a9df9972994c\",\"type\":\"WheelZoomTool\"},{\"attributes\":{},\"id\":\"c1307ed5-8e4d-4be1-aa10-cf2d2072f22c\",\"type\":\"LinearScale\"},{\"attributes\":{},\"id\":\"45961695-013f-4d44-9b5f-81e60f3d03c8\",\"type\":\"WheelZoomTool\"},{\"attributes\":{\"callback\":null},\"id\":\"f0f314fd-bfe5-4aa6-95c8-4788dab32a73\",\"type\":\"DataRange1d\"},{\"attributes\":{\"below\":[{\"id\":\"a29ddf90-2b9e-44f3-ad1b-7b33ec0121b2\",\"type\":\"LinearAxis\"}],\"left\":[{\"id\":\"7e987cec-0073-4c27-a283-4e76baf9023e\",\"type\":\"LinearAxis\"}],\"plot_height\":250,\"plot_width\":400,\"renderers\":[{\"id\":\"a29ddf90-2b9e-44f3-ad1b-7b33ec0121b2\",\"type\":\"LinearAxis\"},{\"id\":\"f26e6082-5d10-4ef3-aec1-27e24ef5573e\",\"type\":\"Grid\"},{\"id\":\"7e987cec-0073-4c27-a283-4e76baf9023e\",\"type\":\"LinearAxis\"},{\"id\":\"9537488b-4c96-4654-9e40-9d8ffa2c5b85\",\"type\":\"Grid\"},{\"id\":\"cde65654-3b20-4c9b-9304-82a25313abfd\",\"type\":\"BoxAnnotation\"},{\"id\":\"67231e31-74df-42ac-a4aa-fe759a16813d\",\"type\":\"GlyphRenderer\"}],\"title\":{\"id\":\"d9c900c8-3bd9-4815-9708-204981263198\",\"type\":\"Title\"},\"toolbar\":{\"id\":\"2b2e7110-b843-4563-a1d8-39a834b40ba7\",\"type\":\"Toolbar\"},\"toolbar_location\":null,\"x_range\":{\"id\":\"ef376354-6713-4a00-b745-128831535987\",\"type\":\"DataRange1d\"},\"x_scale\":{\"id\":\"566a1896-3e90-4dec-9e3c-d6ef6b85fcc0\",\"type\":\"LinearScale\"},\"y_range\":{\"id\":\"7d4ac323-0b1c-4127-8add-4bbf6c653bba\",\"type\":\"DataRange1d\"},\"y_scale\":{\"id\":\"f035b6aa-b48f-43d2-91e0-8e8db9238ceb\",\"type\":\"LinearScale\"}},\"id\":\"2f21fdda-ca81-40d0-b8b9-cf41b7738947\",\"subtype\":\"Figure\",\"type\":\"Plot\"},{\"attributes\":{\"plot\":{\"id\":\"d7922fbc-d70f-4913-91b5-b39736b255ed\",\"subtype\":\"Figure\",\"type\":\"Plot\"},\"ticker\":{\"id\":\"fdd96d3a-338a-4da8-a20e-e57cdbd5a13f\",\"type\":\"BasicTicker\"}},\"id\":\"5e17e471-413f-461b-a3a6-1af85d90a1cf\",\"type\":\"Grid\"},{\"attributes\":{\"axis_label\":\"Price in $1000s\",\"formatter\":{\"id\":\"42b52b9c-e846-43ec-8d4c-53e344606089\",\"type\":\"BasicTickFormatter\"},\"plot\":{\"id\":\"ed3181b0-117b-475b-81b2-0b8e49adda10\",\"subtype\":\"Figure\",\"type\":\"Plot\"},\"ticker\":{\"id\":\"ee1a0eee-c9db-46a0-91ce-c905b6cc8cd2\",\"type\":\"BasicTicker\"}},\"id\":\"d218609a-9625-4842-9385-693ca0f60df2\",\"type\":\"LinearAxis\"},{\"attributes\":{\"dimension\":1,\"plot\":{\"id\":\"d7922fbc-d70f-4913-91b5-b39736b255ed\",\"subtype\":\"Figure\",\"type\":\"Plot\"},\"ticker\":{\"id\":\"ce2a1b59-dc4d-43db-9a7d-3b4e3c49c63a\",\"type\":\"BasicTicker\"}},\"id\":\"77f1f1b3-c4c3-4a3b-958c-5c9bbcb25b0d\",\"type\":\"Grid\"},{\"attributes\":{\"bottom_units\":\"screen\",\"fill_alpha\":{\"value\":0.5},\"fill_color\":{\"value\":\"lightgrey\"},\"left_units\":\"screen\",\"level\":\"overlay\",\"line_alpha\":{\"value\":1.0},\"line_color\":{\"value\":\"black\"},\"line_dash\":[4,4],\"line_width\":{\"value\":2},\"plot\":null,\"render_mode\":\"css\",\"right_units\":\"screen\",\"top_units\":\"screen\"},\"id\":\"c89a8ad0-6342-4597-96c4-db98f526603f\",\"type\":\"BoxAnnotation\"},{\"attributes\":{},\"id\":\"ae3ee06f-4ca3-428f-8381-c1a609eb4d5a\",\"type\":\"LinearScale\"},{\"attributes\":{\"dimension\":1,\"plot\":{\"id\":\"ed3181b0-117b-475b-81b2-0b8e49adda10\",\"subtype\":\"Figure\",\"type\":\"Plot\"},\"ticker\":{\"id\":\"ee1a0eee-c9db-46a0-91ce-c905b6cc8cd2\",\"type\":\"BasicTicker\"}},\"id\":\"24bc3efc-c092-4bd7-b13b-29931427c677\",\"type\":\"Grid\"},{\"attributes\":{},\"id\":\"0e7da08d-8b23-4705-bad8-cb432af990e2\",\"type\":\"ResetTool\"},{\"attributes\":{},\"id\":\"ce2a1b59-dc4d-43db-9a7d-3b4e3c49c63a\",\"type\":\"BasicTicker\"},{\"attributes\":{},\"id\":\"7e52300e-fb87-498e-805b-ba06849ce09e\",\"type\":\"SaveTool\"},{\"attributes\":{\"active_drag\":\"auto\",\"active_inspect\":\"auto\",\"active_scroll\":\"auto\",\"active_tap\":\"auto\",\"tools\":[{\"id\":\"6e06c04b-c987-49bf-94cd-07b2112675f4\",\"type\":\"PanTool\"},{\"id\":\"700e9c54-d077-4a2d-92ef-9e422f3130db\",\"type\":\"WheelZoomTool\"},{\"id\":\"ddfbbac6-8933-4d0b-9d57-13dd7af172cc\",\"type\":\"BoxZoomTool\"},{\"id\":\"4bf58f75-af96-450d-af2d-a405f94d9e9c\",\"type\":\"SaveTool\"},{\"id\":\"a11a9e90-a207-4acc-a2d5-c2963ab626fb\",\"type\":\"ResetTool\"},{\"id\":\"fcbeefd1-dfc1-48bc-9093-dd5a3f8189ae\",\"type\":\"HelpTool\"}]},\"id\":\"2b2e7110-b843-4563-a1d8-39a834b40ba7\",\"type\":\"Toolbar\"},{\"attributes\":{},\"id\":\"566a1896-3e90-4dec-9e3c-d6ef6b85fcc0\",\"type\":\"LinearScale\"},{\"attributes\":{},\"id\":\"f4e93aee-76a9-4387-a3ba-0b0216417726\",\"type\":\"HelpTool\"},{\"attributes\":{\"overlay\":{\"id\":\"c89a8ad0-6342-4597-96c4-db98f526603f\",\"type\":\"BoxAnnotation\"}},\"id\":\"57f36632-9e66-4ba2-9824-d139770f3d18\",\"type\":\"BoxZoomTool\"},{\"attributes\":{\"callback\":null},\"id\":\"ef376354-6713-4a00-b745-128831535987\",\"type\":\"DataRange1d\"},{\"attributes\":{\"axis_label\":\"NOX\",\"formatter\":{\"id\":\"427639ab-84d9-412f-9b0d-b906bcfc3745\",\"type\":\"BasicTickFormatter\"},\"plot\":{\"id\":\"d7922fbc-d70f-4913-91b5-b39736b255ed\",\"subtype\":\"Figure\",\"type\":\"Plot\"},\"ticker\":{\"id\":\"fdd96d3a-338a-4da8-a20e-e57cdbd5a13f\",\"type\":\"BasicTicker\"}},\"id\":\"8b636724-f447-4da6-862c-3854232b3187\",\"type\":\"LinearAxis\"},{\"attributes\":{\"axis_label\":\"Price in $1000s\",\"formatter\":{\"id\":\"ea61c7e6-adf9-475d-a87d-580fc648d04d\",\"type\":\"BasicTickFormatter\"},\"plot\":{\"id\":\"d7922fbc-d70f-4913-91b5-b39736b255ed\",\"subtype\":\"Figure\",\"type\":\"Plot\"},\"ticker\":{\"id\":\"ce2a1b59-dc4d-43db-9a7d-3b4e3c49c63a\",\"type\":\"BasicTicker\"}},\"id\":\"9ecfae2c-0b4d-4671-a1a2-0f6403ce1748\",\"type\":\"LinearAxis\"},{\"attributes\":{},\"id\":\"fdd96d3a-338a-4da8-a20e-e57cdbd5a13f\",\"type\":\"BasicTicker\"},{\"attributes\":{\"below\":[{\"id\":\"ead4f9b6-ad09-4392-9dc5-e32b8bb6f365\",\"type\":\"LinearAxis\"}],\"left\":[{\"id\":\"d1161777-9f05-4ff4-a885-8f7ada775a4b\",\"type\":\"LinearAxis\"}],\"plot_height\":250,\"plot_width\":400,\"renderers\":[{\"id\":\"ead4f9b6-ad09-4392-9dc5-e32b8bb6f365\",\"type\":\"LinearAxis\"},{\"id\":\"600c3ede-8e88-4040-9b6b-5fd3c6db8fa7\",\"type\":\"Grid\"},{\"id\":\"d1161777-9f05-4ff4-a885-8f7ada775a4b\",\"type\":\"LinearAxis\"},{\"id\":\"2ffeb56e-aca2-4cf9-8f4a-5123f8cff5ac\",\"type\":\"Grid\"},{\"id\":\"7238102a-e77c-4b5c-a3c1-306045a87e40\",\"type\":\"BoxAnnotation\"},{\"id\":\"4d609d06-69ac-44f4-b826-47ad794b1da0\",\"type\":\"GlyphRenderer\"}],\"title\":{\"id\":\"117a4fc2-6708-4099-8fe7-113888c386e1\",\"type\":\"Title\"},\"toolbar\":{\"id\":\"262aaa8d-7542-42ab-a8df-d15ced53a4f2\",\"type\":\"Toolbar\"},\"toolbar_location\":null,\"x_range\":{\"id\":\"aa3bae99-78e1-43ce-8f49-521f64ca6ba6\",\"type\":\"DataRange1d\"},\"x_scale\":{\"id\":\"636ba208-3e6a-48fd-9210-37a7d59847b7\",\"type\":\"LinearScale\"},\"y_range\":{\"id\":\"9d565077-42ee-40f7-9099-7dff5d2b9dfc\",\"type\":\"DataRange1d\"},\"y_scale\":{\"id\":\"d86eeb22-9089-4f2c-92c8-bdf2dfe16524\",\"type\":\"LinearScale\"}},\"id\":\"604398dc-993b-4d76-ba4f-dffba7cb36cc\",\"subtype\":\"Figure\",\"type\":\"Plot\"}],\"root_ids\":[\"7472275c-663a-4e14-af4d-072d3453306e\"]},\"title\":\"Bokeh Application\",\"version\":\"0.12.13\"}};\n",
       "  var render_items = [{\"docid\":\"793f2574-1150-4735-90be-3a492ed3621e\",\"elementid\":\"7bbeca6b-b27b-4b03-a633-77c73282b584\",\"modelid\":\"7472275c-663a-4e14-af4d-072d3453306e\"}];\n",
       "  root.Bokeh.embed.embed_items_notebook(docs_json, render_items);\n",
       "\n",
       "  }\n",
       "  if (root.Bokeh !== undefined) {\n",
       "    embed_document(root);\n",
       "  } else {\n",
       "    var attempts = 0;\n",
       "    var timer = setInterval(function(root) {\n",
       "      if (root.Bokeh !== undefined) {\n",
       "        embed_document(root);\n",
       "        clearInterval(timer);\n",
       "      }\n",
       "      attempts++;\n",
       "      if (attempts > 100) {\n",
       "        console.log(\"Bokeh: ERROR: Unable to run BokehJS code because BokehJS library is missing\")\n",
       "        clearInterval(timer);\n",
       "      }\n",
       "    }, 10, root)\n",
       "  }\n",
       "})(window);"
      ],
      "application/vnd.bokehjs_exec.v0+json": ""
     },
     "metadata": {
      "application/vnd.bokehjs_exec.v0+json": {
       "id": "7472275c-663a-4e14-af4d-072d3453306e"
      }
     },
     "output_type": "display_data"
    }
   ],
   "source": [
    "# You can see what these names mean in the description that we printed at the start\n",
    "print(boston.feature_names[:8])\n",
    "\n",
    "figures = [figure() for _ in range(8)]\n",
    "for index, fig in enumerate(figures):\n",
    "    # Create a scatter-plot\n",
    "    fig.scatter(boston_df[boston.feature_names[index]], boston_df[\"Price\"])\n",
    "    \n",
    "    ## Add some axis information\n",
    "    fig.xaxis.axis_label = boston.feature_names[index]\n",
    "    fig.yaxis.axis_label = \"Price in $1000s\"\n",
    "\n",
    "    \n",
    "show(gridplot(figures, ncols=2, plot_width=400, plot_height=250, toolbar_location=None))"
   ]
  },
  {
   "cell_type": "markdown",
   "metadata": {},
   "source": [
    "So out of the plotted variables RM looks quite promising to perhaps be fitted by a linear function. So let's go with that one for now for our linear regression example.\n",
    "\n",
    "For the sake of this initial example, I will first plot the fitted line using a simple univariate linear regression using Numpy, to explain the theorie. Afterwards we will run through multivariate regression using scikit-learn."
   ]
  },
  {
   "cell_type": "markdown",
   "metadata": {},
   "source": [
    "### Univariate Linear Regression (Using Numpy)\n",
    "\n",
    "Numpy requires us to create two (N, 1) shaped arrays, that will act as the X and Y values. Where X represents the attribute (feature) and the Y represents the target. There are a few ways to do this, but an easy way to do this is by using numpy's built-in vertical stack tool, vstack.\n"
   ]
  },
  {
   "cell_type": "code",
   "execution_count": 21,
   "metadata": {},
   "outputs": [],
   "source": [
    "# Set up X as median room values and use Use vstack to make X two-dimensional\n",
    "# Remember that X normally is (N,) instead of (N,1).\n",
    "X = np.vstack(boston_df.RM)\n",
    "\n",
    "# Set up Y as the target price of the houses.\n",
    "Y = boston_df.Price"
   ]
  },
  {
   "cell_type": "markdown",
   "metadata": {},
   "source": [
    "Now that we have our X and Y, let's go ahead and use numpy to create the single variable linear regression.\n",
    "\n",
    "We know that a line has the equation:\n",
    "$$y=ax+b$$\n",
    "which we can rewrite using matrices:\n",
    "$$y=Mp$$\n",
    "where:\n",
    "$$M = \\begin{bmatrix}x & 1\\end{bmatrix}$$\n",
    "and\n",
    "$$p= \\begin{bmatrix}a \\\\b\\end{bmatrix}$$\n",
    "\n",
    "This is the same as the first equation if you carry out the linear algebra. \n",
    "So we'll start by creating the M matrix using numpy. We'll do this by creating a matrix in the form [X 1], so we'll call every value in our original X using a list comprehension and then set up an array in the form [X 1]\n",
    "\n",
    "Side Note: In most literature the variables $y$, $a$, and $b$ are referred to differently, to make them more generalizable, namely $h(x)$ (derived from the word hypothesis), $\\theta_1$, and $\\theta_0$ respectively. We will keep them as $y$, $a$, and $b$ for the univariate example, as this notation is most hopefully more familiar/intuitive to you."
   ]
  },
  {
   "cell_type": "code",
   "execution_count": 22,
   "metadata": {},
   "outputs": [
    {
     "name": "stdout",
     "output_type": "stream",
     "text": [
      "9.102108981180313 -34.670620776438575\n"
     ]
    },
    {
     "name": "stderr",
     "output_type": "stream",
     "text": [
      "C:\\Users\\Marijn\\Anaconda3\\lib\\site-packages\\ipykernel_launcher.py:6: FutureWarning: `rcond` parameter will change to the default of machine precision times ``max(M, N)`` where M and N are the input matrix dimensions.\n",
      "To use the future default and silence this warning we advise to pass `rcond=None`, to keep using the old, explicitly pass `rcond=-1`.\n",
      "  \n"
     ]
    }
   ],
   "source": [
    "# Creating [X 1] (remember the useful np.ones function from the first notebook?)\n",
    "X = np.vstack(boston_df.RM)\n",
    "X = np.column_stack((X, np.ones(X.shape[0])))\n",
    "\n",
    "# Now get out m and b values for our best fit line\n",
    "a, b = np.linalg.lstsq(X, Y)[0]\n",
    "print(a, b)"
   ]
  },
  {
   "cell_type": "markdown",
   "metadata": {},
   "source": [
    "We now have all the ingredients to plot a line using:\n",
    "$$y = ax + b$$"
   ]
  },
  {
   "cell_type": "code",
   "execution_count": 23,
   "metadata": {},
   "outputs": [
    {
     "data": {
      "text/html": [
       "\n",
       "<div class=\"bk-root\">\n",
       "    <div class=\"bk-plotdiv\" id=\"f03c2943-d041-4c0b-a28f-ace5f839a8f0\"></div>\n",
       "</div>"
      ]
     },
     "metadata": {},
     "output_type": "display_data"
    },
    {
     "data": {
      "application/javascript": [
       "(function(root) {\n",
       "  function embed_document(root) {\n",
       "    \n",
       "  var docs_json = {\"b8795d80-ed5f-4fb9-a106-e13dd8d82383\":{\"roots\":{\"references\":[{\"attributes\":{\"source\":{\"id\":\"d9b76737-0f5f-49aa-a12c-5b6dc5bda64b\",\"type\":\"ColumnDataSource\"}},\"id\":\"8e362915-2cf0-4282-ac86-ffcdffaab4d9\",\"type\":\"CDSView\"},{\"attributes\":{\"below\":[{\"id\":\"cee5c3f1-083a-43c5-aaf9-1488584a5a88\",\"type\":\"LinearAxis\"}],\"left\":[{\"id\":\"6f0f1bcd-39fd-4f76-a2e3-cecb62f3b2d2\",\"type\":\"LinearAxis\"}],\"plot_height\":250,\"plot_width\":400,\"renderers\":[{\"id\":\"cee5c3f1-083a-43c5-aaf9-1488584a5a88\",\"type\":\"LinearAxis\"},{\"id\":\"65c95b74-722e-4d94-a670-e1cc55933020\",\"type\":\"Grid\"},{\"id\":\"6f0f1bcd-39fd-4f76-a2e3-cecb62f3b2d2\",\"type\":\"LinearAxis\"},{\"id\":\"0c8e5682-d80e-41b7-8a4b-e51fff20c3b7\",\"type\":\"Grid\"},{\"id\":\"9273b44a-71e1-4d49-a9b4-3201f80d8138\",\"type\":\"BoxAnnotation\"},{\"id\":\"b2e1df54-9ad5-436b-a1fd-0e7ac1c4dd93\",\"type\":\"GlyphRenderer\"},{\"id\":\"573924b5-61d3-486e-b6b9-afc5370c9b59\",\"type\":\"GlyphRenderer\"}],\"title\":{\"id\":\"8cdee59a-4e6e-49e1-a44f-803fd395f485\",\"type\":\"Title\"},\"toolbar\":{\"id\":\"3fecd685-a89d-400e-840c-030f8b709d8d\",\"type\":\"Toolbar\"},\"x_range\":{\"id\":\"56c386d2-c065-416f-b348-e683d2ed8491\",\"type\":\"DataRange1d\"},\"x_scale\":{\"id\":\"500b707e-d200-4054-b82d-618a8d406564\",\"type\":\"LinearScale\"},\"y_range\":{\"id\":\"6738aa86-a7b1-4769-b3c0-cc7308b30035\",\"type\":\"DataRange1d\"},\"y_scale\":{\"id\":\"c54ce8d8-bf0f-4282-a829-36e50d8698a2\",\"type\":\"LinearScale\"}},\"id\":\"fee3a530-96b7-4ce8-ae51-df598a6050ad\",\"subtype\":\"Figure\",\"type\":\"Plot\"},{\"attributes\":{},\"id\":\"37f92f26-8a81-42a6-ac95-1b9d0377b29d\",\"type\":\"BasicTickFormatter\"},{\"attributes\":{\"plot\":null,\"text\":\"\"},\"id\":\"8cdee59a-4e6e-49e1-a44f-803fd395f485\",\"type\":\"Title\"},{\"attributes\":{\"line_alpha\":0.1,\"line_color\":\"#1f77b4\",\"x\":{\"field\":\"x\"},\"y\":{\"field\":\"y\"}},\"id\":\"64ecb466-a4a9-42c0-8b34-5d242a20627c\",\"type\":\"Line\"},{\"attributes\":{},\"id\":\"38b1c755-131f-497c-9d27-175f098dface\",\"type\":\"HelpTool\"},{\"attributes\":{\"source\":{\"id\":\"38ad3df6-0dc6-4810-97ed-187f54040cbf\",\"type\":\"ColumnDataSource\"}},\"id\":\"a621fbc8-09b3-4a5a-a3b7-b26db5b0af2a\",\"type\":\"CDSView\"},{\"attributes\":{},\"id\":\"500b707e-d200-4054-b82d-618a8d406564\",\"type\":\"LinearScale\"},{\"attributes\":{},\"id\":\"acaa55dc-3971-4fbb-94d3-4d98759ab59a\",\"type\":\"BasicTickFormatter\"},{\"attributes\":{\"callback\":null},\"id\":\"56c386d2-c065-416f-b348-e683d2ed8491\",\"type\":\"DataRange1d\"},{\"attributes\":{\"active_drag\":\"auto\",\"active_inspect\":\"auto\",\"active_scroll\":\"auto\",\"active_tap\":\"auto\",\"tools\":[{\"id\":\"3c0fc3e1-f84c-44f7-bc07-8ef116970fde\",\"type\":\"PanTool\"},{\"id\":\"87febf7a-f08a-4c91-83a5-2178f448cf6b\",\"type\":\"WheelZoomTool\"},{\"id\":\"23654408-340f-4c91-b493-a28e95e133cf\",\"type\":\"BoxZoomTool\"},{\"id\":\"aea783c1-71d8-4601-b1e2-8bba161d0957\",\"type\":\"SaveTool\"},{\"id\":\"41e718fe-cdb3-4252-9127-1911430ff233\",\"type\":\"ResetTool\"},{\"id\":\"38b1c755-131f-497c-9d27-175f098dface\",\"type\":\"HelpTool\"}]},\"id\":\"3fecd685-a89d-400e-840c-030f8b709d8d\",\"type\":\"Toolbar\"},{\"attributes\":{\"callback\":null,\"column_names\":[\"x\",\"y\"],\"data\":{\"x\":{\"__ndarray__\":\"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\",\"dtype\":\"float64\",\"shape\":[506]},\"y\":{\"__ndarray__\":\"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\",\"dtype\":\"float64\",\"shape\":[506]}}},\"id\":\"d9b76737-0f5f-49aa-a12c-5b6dc5bda64b\",\"type\":\"ColumnDataSource\"},{\"attributes\":{\"callback\":null},\"id\":\"6738aa86-a7b1-4769-b3c0-cc7308b30035\",\"type\":\"DataRange1d\"},{\"attributes\":{\"line_color\":\"red\",\"x\":{\"field\":\"x\"},\"y\":{\"field\":\"y\"}},\"id\":\"3b4773d8-1c7a-44f3-9f3f-a8fb8a9acab3\",\"type\":\"Line\"},{\"attributes\":{\"axis_label\":\"Price in $1000s\",\"formatter\":{\"id\":\"37f92f26-8a81-42a6-ac95-1b9d0377b29d\",\"type\":\"BasicTickFormatter\"},\"plot\":{\"id\":\"fee3a530-96b7-4ce8-ae51-df598a6050ad\",\"subtype\":\"Figure\",\"type\":\"Plot\"},\"ticker\":{\"id\":\"fe7c4e68-fe5e-4db2-a8f3-e3297653da88\",\"type\":\"BasicTicker\"}},\"id\":\"6f0f1bcd-39fd-4f76-a2e3-cecb62f3b2d2\",\"type\":\"LinearAxis\"},{\"attributes\":{},\"id\":\"ec370cc7-f3aa-4ff1-8a95-bfe017fc7b9f\",\"type\":\"BasicTicker\"},{\"attributes\":{\"data_source\":{\"id\":\"d9b76737-0f5f-49aa-a12c-5b6dc5bda64b\",\"type\":\"ColumnDataSource\"},\"glyph\":{\"id\":\"ef4968b9-1c5e-4232-b07b-e5c026699584\",\"type\":\"Circle\"},\"hover_glyph\":null,\"muted_glyph\":null,\"nonselection_glyph\":{\"id\":\"c39e4ec3-cd68-4f7d-8beb-f2877852ea5d\",\"type\":\"Circle\"},\"selection_glyph\":null,\"view\":{\"id\":\"8e362915-2cf0-4282-ac86-ffcdffaab4d9\",\"type\":\"CDSView\"}},\"id\":\"b2e1df54-9ad5-436b-a1fd-0e7ac1c4dd93\",\"type\":\"GlyphRenderer\"},{\"attributes\":{\"axis_label\":\"DIS\",\"formatter\":{\"id\":\"acaa55dc-3971-4fbb-94d3-4d98759ab59a\",\"type\":\"BasicTickFormatter\"},\"plot\":{\"id\":\"fee3a530-96b7-4ce8-ae51-df598a6050ad\",\"subtype\":\"Figure\",\"type\":\"Plot\"},\"ticker\":{\"id\":\"ec370cc7-f3aa-4ff1-8a95-bfe017fc7b9f\",\"type\":\"BasicTicker\"}},\"id\":\"cee5c3f1-083a-43c5-aaf9-1488584a5a88\",\"type\":\"LinearAxis\"},{\"attributes\":{\"plot\":{\"id\":\"fee3a530-96b7-4ce8-ae51-df598a6050ad\",\"subtype\":\"Figure\",\"type\":\"Plot\"},\"ticker\":{\"id\":\"ec370cc7-f3aa-4ff1-8a95-bfe017fc7b9f\",\"type\":\"BasicTicker\"}},\"id\":\"65c95b74-722e-4d94-a670-e1cc55933020\",\"type\":\"Grid\"},{\"attributes\":{},\"id\":\"c54ce8d8-bf0f-4282-a829-36e50d8698a2\",\"type\":\"LinearScale\"},{\"attributes\":{\"dimension\":1,\"plot\":{\"id\":\"fee3a530-96b7-4ce8-ae51-df598a6050ad\",\"subtype\":\"Figure\",\"type\":\"Plot\"},\"ticker\":{\"id\":\"fe7c4e68-fe5e-4db2-a8f3-e3297653da88\",\"type\":\"BasicTicker\"}},\"id\":\"0c8e5682-d80e-41b7-8a4b-e51fff20c3b7\",\"type\":\"Grid\"},{\"attributes\":{},\"id\":\"fe7c4e68-fe5e-4db2-a8f3-e3297653da88\",\"type\":\"BasicTicker\"},{\"attributes\":{\"fill_alpha\":{\"value\":0.1},\"fill_color\":{\"value\":\"#1f77b4\"},\"line_alpha\":{\"value\":0.1},\"line_color\":{\"value\":\"#1f77b4\"},\"x\":{\"field\":\"x\"},\"y\":{\"field\":\"y\"}},\"id\":\"c39e4ec3-cd68-4f7d-8beb-f2877852ea5d\",\"type\":\"Circle\"},{\"attributes\":{\"fill_color\":{\"value\":\"#1f77b4\"},\"line_color\":{\"value\":\"#1f77b4\"},\"x\":{\"field\":\"x\"},\"y\":{\"field\":\"y\"}},\"id\":\"ef4968b9-1c5e-4232-b07b-e5c026699584\",\"type\":\"Circle\"},{\"attributes\":{\"overlay\":{\"id\":\"9273b44a-71e1-4d49-a9b4-3201f80d8138\",\"type\":\"BoxAnnotation\"}},\"id\":\"23654408-340f-4c91-b493-a28e95e133cf\",\"type\":\"BoxZoomTool\"},{\"attributes\":{},\"id\":\"3c0fc3e1-f84c-44f7-bc07-8ef116970fde\",\"type\":\"PanTool\"},{\"attributes\":{\"callback\":null,\"column_names\":[\"x\",\"y\"],\"data\":{\"x\":{\"__ndarray__\":\"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\",\"dtype\":\"float64\",\"shape\":[506]},\"y\":{\"__ndarray__\":\"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\",\"dtype\":\"float64\",\"shape\":[506]}}},\"id\":\"38ad3df6-0dc6-4810-97ed-187f54040cbf\",\"type\":\"ColumnDataSource\"},{\"attributes\":{\"bottom_units\":\"screen\",\"fill_alpha\":{\"value\":0.5},\"fill_color\":{\"value\":\"lightgrey\"},\"left_units\":\"screen\",\"level\":\"overlay\",\"line_alpha\":{\"value\":1.0},\"line_color\":{\"value\":\"black\"},\"line_dash\":[4,4],\"line_width\":{\"value\":2},\"plot\":null,\"render_mode\":\"css\",\"right_units\":\"screen\",\"top_units\":\"screen\"},\"id\":\"9273b44a-71e1-4d49-a9b4-3201f80d8138\",\"type\":\"BoxAnnotation\"},{\"attributes\":{},\"id\":\"41e718fe-cdb3-4252-9127-1911430ff233\",\"type\":\"ResetTool\"},{\"attributes\":{\"data_source\":{\"id\":\"38ad3df6-0dc6-4810-97ed-187f54040cbf\",\"type\":\"ColumnDataSource\"},\"glyph\":{\"id\":\"3b4773d8-1c7a-44f3-9f3f-a8fb8a9acab3\",\"type\":\"Line\"},\"hover_glyph\":null,\"muted_glyph\":null,\"nonselection_glyph\":{\"id\":\"64ecb466-a4a9-42c0-8b34-5d242a20627c\",\"type\":\"Line\"},\"selection_glyph\":null,\"view\":{\"id\":\"a621fbc8-09b3-4a5a-a3b7-b26db5b0af2a\",\"type\":\"CDSView\"}},\"id\":\"573924b5-61d3-486e-b6b9-afc5370c9b59\",\"type\":\"GlyphRenderer\"},{\"attributes\":{},\"id\":\"87febf7a-f08a-4c91-83a5-2178f448cf6b\",\"type\":\"WheelZoomTool\"},{\"attributes\":{},\"id\":\"aea783c1-71d8-4601-b1e2-8bba161d0957\",\"type\":\"SaveTool\"}],\"root_ids\":[\"fee3a530-96b7-4ce8-ae51-df598a6050ad\"]},\"title\":\"Bokeh Application\",\"version\":\"0.12.13\"}};\n",
       "  var render_items = [{\"docid\":\"b8795d80-ed5f-4fb9-a106-e13dd8d82383\",\"elementid\":\"f03c2943-d041-4c0b-a28f-ace5f839a8f0\",\"modelid\":\"fee3a530-96b7-4ce8-ae51-df598a6050ad\"}];\n",
       "  root.Bokeh.embed.embed_items_notebook(docs_json, render_items);\n",
       "\n",
       "  }\n",
       "  if (root.Bokeh !== undefined) {\n",
       "    embed_document(root);\n",
       "  } else {\n",
       "    var attempts = 0;\n",
       "    var timer = setInterval(function(root) {\n",
       "      if (root.Bokeh !== undefined) {\n",
       "        embed_document(root);\n",
       "        clearInterval(timer);\n",
       "      }\n",
       "      attempts++;\n",
       "      if (attempts > 100) {\n",
       "        console.log(\"Bokeh: ERROR: Unable to run BokehJS code because BokehJS library is missing\")\n",
       "        clearInterval(timer);\n",
       "      }\n",
       "    }, 10, root)\n",
       "  }\n",
       "})(window);"
      ],
      "application/vnd.bokehjs_exec.v0+json": ""
     },
     "metadata": {
      "application/vnd.bokehjs_exec.v0+json": {
       "id": "fee3a530-96b7-4ce8-ae51-df598a6050ad"
      }
     },
     "output_type": "display_data"
    }
   ],
   "source": [
    "f = figure(plot_width=400, plot_height=250)\n",
    "\n",
    "# Create a scatter-plot\n",
    "f.scatter(boston_df[\"RM\"], boston_df[\"Price\"])\n",
    "    \n",
    "# Create the line\n",
    "x = boston_df[\"RM\"]\n",
    "f.line(x, a * x + b, color='red')\n",
    "\n",
    "## Add some axis information\n",
    "f.xaxis.axis_label = boston.feature_names[index]\n",
    "f.yaxis.axis_label = \"Price in $1000s\"\n",
    "\n",
    "show(f)"
   ]
  },
  {
   "cell_type": "markdown",
   "metadata": {},
   "source": [
    "### Computing the error\n",
    "So we see that this line obviously does not cover all the points in our dataset. To determine how good our solution is, we compute an error measure. In order to see what error measure makes sense, we must also see what the least squares method actually tries to minimize:\n",
    "\n",
    "If we recall that we want to make a line $\\mathbf{y}=a\\mathbf{x} +b$ that fits the data best. We want to minimize the distance of all points to this line (on the y scale). So if we assume that $\\mathbf{r}$ is the real value of the data point, we could determine the error by taking the average of the sum of differences between the vectors $\\mathbf{r}$ and $\\mathbf{y}$ to determine how far our estimation deviates from the truth, naively this would look like:\n",
    "\n",
    "$$J(a, b) = \\frac{1}{N}\\sum\\limits_{i = 1}^{N} (r(i) - y(i) ),$$\n",
    "\n",
    "where $y(i) = ax(i) + b$. As the above could also result into negative errors and we also kinda want to punish larger distances more, we square this error.\n",
    "\n",
    "$$J(a, b) = \\frac{1}{N}\\sum\\limits_{i = 1}^{N} (r(i) - y(i) )^2$$\n",
    "\n",
    "The above is also referred to as the Mean Squared Error (MSE), and this is one of the most used error functions for regression problems. Sometimes you also see it defined slightly differently, with a $\\frac{1}{2}$ added infront of the algorithm:\n",
    "\n",
    "$$J(a, b) = \\frac{1}{2N}\\sum\\limits_{i = 1}^{N} (r(i) - y(i) )^2$$\n",
    "\n",
    "this is just to make certain mathematical tricks easier for other problems. This does not change it's function though, as minimizing the half of a certain cost function, essentially does the same as minimizing just the cost function.\n",
    "\n",
    "We also have another cost function, called Root Mean Squared Error (RMSE), which is really just the following:\n",
    "\n",
    "$$ \\sqrt{MSE}$$\n",
    "\n",
    "This function might be nice to use, because it is very similar to computing the standard deviation.\n",
    "\n",
    "The goal of the algorithm in our univariate example is to minimize the cost function over $a$ and $b$. Which means that we want to find the best solution, while only modifying $a$ and $b$.\n",
    "\n",
    "*These videos are great for building intuition on the relation between the hypothesis function and the associated cost of that hypothesis for the data.*\n",
    "* [Cost function 1](https://www.youtube.com/watch?v=EANr4YttXIQ&list=PLZ9qNFMHZ-A4rycgrgOYma6zxF4BZGGPW&index=6)\n",
    "* [Cost function 2](https://www.youtube.com/watch?v=J5vJFwQWOaY&list=PLZ9qNFMHZ-A4rycgrgOYma6zxF4BZGGPW&index=7)"
   ]
  },
  {
   "cell_type": "markdown",
   "metadata": {},
   "source": [
    "So if we now want to compute this error for our example, we need a vector with the real prices, and the vector with our estimation.\n"
   ]
  },
  {
   "cell_type": "code",
   "execution_count": 24,
   "metadata": {},
   "outputs": [
    {
     "name": "stdout",
     "output_type": "stream",
     "text": [
      "506\n",
      "43.60055177116957\n",
      "6.603071389222562\n"
     ]
    }
   ],
   "source": [
    "r = np.array(boston_df[\"Price\"])\n",
    "x = np.array(boston_df[\"RM\"])\n",
    "y = a * x + b\n",
    "\n",
    "print(len(x))\n",
    "mse = sum((r-y) **2) / len(x)\n",
    "print(mse)\n",
    "rmse = np.sqrt(mse)\n",
    "print(rmse)"
   ]
  },
  {
   "cell_type": "markdown",
   "metadata": {},
   "source": [
    "Since the root mean square error (RMSE) corresponds approximately to the standard deviation we can now say that the price of a house won't vary more than 2 times the RMSE 95% of the time. [RMSE](https://en.wikipedia.org/wiki/Root-mean-square_deviation) and some additional [Theory](https://en.wikipedia.org/wiki/68%E2%80%9395%E2%80%9399.7_rule)\n",
    "\n",
    "Thus we can reasonably expect a house price to be within $13,200 of our line fit."
   ]
  },
  {
   "cell_type": "code",
   "execution_count": 25,
   "metadata": {},
   "outputs": [
    {
     "name": "stdout",
     "output_type": "stream",
     "text": [
      "43.60055177116956\n"
     ]
    }
   ],
   "source": [
    "# Or just cheat and use built-ins to compute the MSE (but now you atleast know how it's done):\n",
    "from sklearn.metrics import mean_squared_error\n",
    "mse = mean_squared_error(r, y)\n",
    "print(mse)"
   ]
  },
  {
   "cell_type": "markdown",
   "metadata": {},
   "source": [
    "## Multivariate Regression\n",
    "As promised, we will not just stick to univariate regression. For multivariate regression we will maintain a similar strategy, but now we will use scikit-learn to use more than one feature.\n",
    "\n",
    "We'll start by importing the [linear regression library](http://scikit-learn.org/stable/modules/generated/sklearn.linear_model.LinearRegression.html) from the sklearn module.\n",
    "\n",
    "The sklearn.linear_model.LinearRegression class is an estimator. Estimators predict a value based on the observed data. In scikit-learn, all estimators implement the `fit()` and `predict()` methods. The former method is used to learn the parameters of a model, and the latter method is used to predict the value of a response variable for an explanatory variable using the learned parameters. It is easy to experiment with different models using scikit-learn because all estimators implement the fit and predict methods (more re-usable code!!)."
   ]
  },
  {
   "cell_type": "code",
   "execution_count": 26,
   "metadata": {},
   "outputs": [],
   "source": [
    "# Import for Linear Regression\n",
    "import sklearn\n",
    "from sklearn.linear_model import LinearRegression"
   ]
  },
  {
   "cell_type": "code",
   "execution_count": 27,
   "metadata": {},
   "outputs": [],
   "source": [
    "# Create a LinearRegression Object\n",
    "lreg = LinearRegression()"
   ]
  },
  {
   "cell_type": "markdown",
   "metadata": {},
   "source": [
    "The functions we will be using are:\n",
    "\n",
    "* `lreg.fit()` which fits a linear model\n",
    "* `reg.predict()` which is used to predict Y using the linear model with estimated coefficients\n",
    "* `lreg.score()` which returns the coefficient of determination (R^2). A measure of how well observed outcomes are replicated by the model, learn more about it [here](http://en.wikipedia.org/wiki/Coefficient_of_determination)\n"
   ]
  },
  {
   "cell_type": "markdown",
   "metadata": {},
   "source": [
    "\n",
    "But first we will split our DataFrame into data and target (pretty much going back to how we were handed the data originally, but now in a DataFrame). We then feed this data into the fit function."
   ]
  },
  {
   "cell_type": "code",
   "execution_count": 28,
   "metadata": {},
   "outputs": [
    {
     "data": {
      "text/plain": [
       "LinearRegression(copy_X=True, fit_intercept=True, n_jobs=1, normalize=False)"
      ]
     },
     "execution_count": 28,
     "metadata": {},
     "output_type": "execute_result"
    }
   ],
   "source": [
    "# Data Columns\n",
    "X_multi = boston_df.drop('Price',1)\n",
    "\n",
    "# Targets\n",
    "Y_target = boston_df.Price\n",
    "\n",
    "# Implement Linear Regression\n",
    "lreg.fit(X_multi,Y_target)"
   ]
  },
  {
   "cell_type": "markdown",
   "metadata": {},
   "source": [
    "We can now also see how many of the variables were actually used for this prediction"
   ]
  },
  {
   "cell_type": "code",
   "execution_count": 29,
   "metadata": {},
   "outputs": [
    {
     "name": "stdout",
     "output_type": "stream",
     "text": [
      " The estimated intercept coefficient is 36.49\n",
      " The number of coefficients used was 13\n"
     ]
    }
   ],
   "source": [
    "# What is our constant? (b in univariate regression)\n",
    "print(' The estimated intercept coefficient is {0:.2f}'.format(lreg.intercept_))\n",
    "\n",
    "print(' The number of coefficients used was {0:d}'.format(len(lreg.coef_)))"
   ]
  },
  {
   "cell_type": "markdown",
   "metadata": {},
   "source": [
    "Here we see that 13 coefficients were used this time (the same amount as the columns in our feature set). Where with univariate we used only 1 ($a$). So this time we get:\n",
    "\n",
    "$$ y(w,x) = w_0 + w_1 x_1 + ... + w_p x_p $$\n",
    "\n",
    "Where \n",
    "\n",
    "$$w = (w_1, ...w_p)$$ \n",
    "\n",
    "as the coefficients and $ w_0 $ as the intercept "
   ]
  },
  {
   "cell_type": "markdown",
   "metadata": {},
   "source": [
    "We can also easily see these variables:"
   ]
  },
  {
   "cell_type": "code",
   "execution_count": 30,
   "metadata": {},
   "outputs": [
    {
     "data": {
      "text/html": [
       "<div>\n",
       "<style scoped>\n",
       "    .dataframe tbody tr th:only-of-type {\n",
       "        vertical-align: middle;\n",
       "    }\n",
       "\n",
       "    .dataframe tbody tr th {\n",
       "        vertical-align: top;\n",
       "    }\n",
       "\n",
       "    .dataframe thead th {\n",
       "        text-align: right;\n",
       "    }\n",
       "</style>\n",
       "<table border=\"1\" class=\"dataframe\">\n",
       "  <thead>\n",
       "    <tr style=\"text-align: right;\">\n",
       "      <th></th>\n",
       "      <th>Features</th>\n",
       "      <th>Coefficient Estimate</th>\n",
       "    </tr>\n",
       "  </thead>\n",
       "  <tbody>\n",
       "    <tr>\n",
       "      <th>5</th>\n",
       "      <td>RM</td>\n",
       "      <td>3.804752</td>\n",
       "    </tr>\n",
       "    <tr>\n",
       "      <th>3</th>\n",
       "      <td>CHAS</td>\n",
       "      <td>2.688561</td>\n",
       "    </tr>\n",
       "    <tr>\n",
       "      <th>8</th>\n",
       "      <td>RAD</td>\n",
       "      <td>0.305655</td>\n",
       "    </tr>\n",
       "    <tr>\n",
       "      <th>1</th>\n",
       "      <td>ZN</td>\n",
       "      <td>0.046395</td>\n",
       "    </tr>\n",
       "    <tr>\n",
       "      <th>2</th>\n",
       "      <td>INDUS</td>\n",
       "      <td>0.020860</td>\n",
       "    </tr>\n",
       "    <tr>\n",
       "      <th>11</th>\n",
       "      <td>B</td>\n",
       "      <td>0.009393</td>\n",
       "    </tr>\n",
       "    <tr>\n",
       "      <th>6</th>\n",
       "      <td>AGE</td>\n",
       "      <td>0.000751</td>\n",
       "    </tr>\n",
       "    <tr>\n",
       "      <th>9</th>\n",
       "      <td>TAX</td>\n",
       "      <td>-0.012329</td>\n",
       "    </tr>\n",
       "    <tr>\n",
       "      <th>0</th>\n",
       "      <td>CRIM</td>\n",
       "      <td>-0.107171</td>\n",
       "    </tr>\n",
       "    <tr>\n",
       "      <th>12</th>\n",
       "      <td>LSTAT</td>\n",
       "      <td>-0.525467</td>\n",
       "    </tr>\n",
       "    <tr>\n",
       "      <th>10</th>\n",
       "      <td>PTRATIO</td>\n",
       "      <td>-0.953464</td>\n",
       "    </tr>\n",
       "    <tr>\n",
       "      <th>7</th>\n",
       "      <td>DIS</td>\n",
       "      <td>-1.475759</td>\n",
       "    </tr>\n",
       "    <tr>\n",
       "      <th>4</th>\n",
       "      <td>NOX</td>\n",
       "      <td>-17.795759</td>\n",
       "    </tr>\n",
       "  </tbody>\n",
       "</table>\n",
       "</div>"
      ],
      "text/plain": [
       "   Features  Coefficient Estimate\n",
       "5        RM              3.804752\n",
       "3      CHAS              2.688561\n",
       "8       RAD              0.305655\n",
       "1        ZN              0.046395\n",
       "2     INDUS              0.020860\n",
       "11        B              0.009393\n",
       "6       AGE              0.000751\n",
       "9       TAX             -0.012329\n",
       "0      CRIM             -0.107171\n",
       "12    LSTAT             -0.525467\n",
       "10  PTRATIO             -0.953464\n",
       "7       DIS             -1.475759\n",
       "4       NOX            -17.795759"
      ]
     },
     "execution_count": 30,
     "metadata": {},
     "output_type": "execute_result"
    }
   ],
   "source": [
    "# Set a DataFrame from the Features\n",
    "coeff_df = DataFrame(boston_df.drop('Price', 1).columns)\n",
    "coeff_df.columns = ['Features']\n",
    "\n",
    "# Set a new column lining up the coefficients from the linear regression\n",
    "coeff_df[\"Coefficient Estimate\"] = pd.Series(lreg.coef_)\n",
    "\n",
    "# Show\n",
    "coeff_df.sort_values(by='Coefficient Estimate', ascending=False)"
   ]
  },
  {
   "cell_type": "markdown",
   "metadata": {},
   "source": [
    "Here we see that our number of rooms, is also the feature that has the highest positive correlation with the house price (What a coincidence that we totally randomly picked this column!)"
   ]
  },
  {
   "cell_type": "markdown",
   "metadata": {},
   "source": [
    "## Training and Test set\n",
    "This time we used all data for training (fitting). An annoying side-effect is that we now can no longer used this training data for testing (else it would be cheating). Hence we have to make seperate train and test set. The correct way to pick out samples from your dataset to be part either the training or test (also called validation) set is *randomly*.\n",
    "\n",
    "Fortunately, scikit learn has a built in function specifically for this called train_test_split.\n",
    "\n",
    "The parameters passed are your X and Y, then optionally test_size parameter, representing the proportion of the dataset to include in the test split. As well a train_size parameter. you can learn more about these parameters [here](http://scikit-learn.org/stable/modules/generated/sklearn.cross_validation.train_test_split.html)"
   ]
  },
  {
   "cell_type": "code",
   "execution_count": 31,
   "metadata": {},
   "outputs": [
    {
     "name": "stdout",
     "output_type": "stream",
     "text": [
      "(379, 2) (127, 2) (379,) (127,)\n",
      "[[5.965 1.   ]\n",
      " [5.879 1.   ]\n",
      " [6.874 1.   ]\n",
      " [5.803 1.   ]\n",
      " [6.377 1.   ]\n",
      " [5.362 1.   ]\n",
      " [5.747 1.   ]\n",
      " [5.594 1.   ]\n",
      " [7.007 1.   ]\n",
      " [6.38  1.   ]\n",
      " [6.162 1.   ]\n",
      " [5.613 1.   ]\n",
      " [6.279 1.   ]\n",
      " [6.939 1.   ]\n",
      " [6.375 1.   ]\n",
      " [6.249 1.   ]\n",
      " [5.572 1.   ]\n",
      " [5.186 1.   ]\n",
      " [5.926 1.   ]\n",
      " [6.245 1.   ]\n",
      " [5.986 1.   ]\n",
      " [6.185 1.   ]\n",
      " [7.016 1.   ]\n",
      " [7.178 1.   ]\n",
      " [5.914 1.   ]\n",
      " [5.277 1.   ]\n",
      " [5.854 1.   ]\n",
      " [6.897 1.   ]\n",
      " [6.254 1.   ]\n",
      " [6.968 1.   ]\n",
      " [6.144 1.   ]\n",
      " [7.206 1.   ]\n",
      " [5.304 1.   ]\n",
      " [5.987 1.   ]\n",
      " [5.454 1.   ]\n",
      " [6.812 1.   ]\n",
      " [5.859 1.   ]\n",
      " [5.794 1.   ]\n",
      " [6.474 1.   ]\n",
      " [6.358 1.   ]\n",
      " [5.79  1.   ]\n",
      " [6.485 1.   ]\n",
      " [5.966 1.   ]\n",
      " [6.525 1.   ]\n",
      " [5.404 1.   ]\n",
      " [6.023 1.   ]\n",
      " [6.065 1.   ]\n",
      " [6.31  1.   ]\n",
      " [5.036 1.   ]\n",
      " [7.765 1.   ]\n",
      " [4.519 1.   ]\n",
      " [5.924 1.   ]\n",
      " [7.104 1.   ]\n",
      " [6.982 1.   ]\n",
      " [7.489 1.   ]\n",
      " [7.287 1.   ]\n",
      " [6.24  1.   ]\n",
      " [6.389 1.   ]\n",
      " [4.652 1.   ]\n",
      " [6.209 1.   ]\n",
      " [6.176 1.   ]\n",
      " [7.203 1.   ]\n",
      " [7.107 1.   ]\n",
      " [5.155 1.   ]\n",
      " [5.875 1.   ]\n",
      " [5.56  1.   ]\n",
      " [5.456 1.   ]\n",
      " [5.961 1.   ]\n",
      " [6.405 1.   ]\n",
      " [5.887 1.   ]\n",
      " [5.884 1.   ]\n",
      " [5.627 1.   ]\n",
      " [5.705 1.   ]\n",
      " [6.438 1.   ]\n",
      " [5.834 1.   ]\n",
      " [6.683 1.   ]\n",
      " [6.49  1.   ]\n",
      " [6.852 1.   ]\n",
      " [6.047 1.   ]\n",
      " [6.565 1.   ]\n",
      " [7.313 1.   ]\n",
      " [5.895 1.   ]\n",
      " [5.951 1.   ]\n",
      " [6.655 1.   ]\n",
      " [6.678 1.   ]\n",
      " [6.219 1.   ]\n",
      " [5.852 1.   ]\n",
      " [6.458 1.   ]\n",
      " [6.739 1.   ]\n",
      " [6.461 1.   ]\n",
      " [5.92  1.   ]\n",
      " [5.757 1.   ]\n",
      " [6.657 1.   ]\n",
      " [7.024 1.   ]\n",
      " [4.97  1.   ]\n",
      " [6.593 1.   ]\n",
      " [5.968 1.   ]\n",
      " [7.163 1.   ]\n",
      " [6.316 1.   ]\n",
      " [6.182 1.   ]\n",
      " [6.003 1.   ]\n",
      " [6.108 1.   ]\n",
      " [4.963 1.   ]\n",
      " [6.376 1.   ]\n",
      " [6.879 1.   ]\n",
      " [5.403 1.   ]\n",
      " [5.713 1.   ]\n",
      " [6.211 1.   ]\n",
      " [6.484 1.   ]\n",
      " [7.236 1.   ]\n",
      " [6.251 1.   ]\n",
      " [5.952 1.   ]\n",
      " [6.77  1.   ]\n",
      " [5.412 1.   ]\n",
      " [6.103 1.   ]\n",
      " [7.274 1.   ]\n",
      " [6.229 1.   ]\n",
      " [6.826 1.   ]\n",
      " [6.064 1.   ]\n",
      " [6.545 1.   ]\n",
      " [6.301 1.   ]\n",
      " [8.337 1.   ]\n",
      " [6.315 1.   ]\n",
      " [5.706 1.   ]\n",
      " [5.593 1.   ]\n",
      " [6.041 1.   ]\n",
      " [6.951 1.   ]\n",
      " [6.009 1.   ]\n",
      " [8.704 1.   ]\n",
      " [6.25  1.   ]\n",
      " [6.417 1.   ]\n",
      " [6.398 1.   ]\n",
      " [3.561 1.   ]\n",
      " [6.195 1.   ]\n",
      " [5.813 1.   ]\n",
      " [6.223 1.   ]\n",
      " [5.787 1.   ]\n",
      " [5.759 1.   ]\n",
      " [6.273 1.   ]\n",
      " [7.923 1.   ]\n",
      " [6.842 1.   ]\n",
      " [6.185 1.   ]\n",
      " [6.112 1.   ]\n",
      " [5.727 1.   ]\n",
      " [6.341 1.   ]\n",
      " [6.312 1.   ]\n",
      " [5.936 1.   ]\n",
      " [6.75  1.   ]\n",
      " [5.898 1.   ]\n",
      " [5.875 1.   ]\n",
      " [8.247 1.   ]\n",
      " [6.121 1.   ]\n",
      " [5.762 1.   ]\n",
      " [6.113 1.   ]\n",
      " [6.127 1.   ]\n",
      " [6.861 1.   ]\n",
      " [6.487 1.   ]\n",
      " [5.927 1.   ]\n",
      " [5.565 1.   ]\n",
      " [5.786 1.   ]\n",
      " [6.824 1.   ]\n",
      " [5.52  1.   ]\n",
      " [6.083 1.   ]\n",
      " [5.757 1.   ]\n",
      " [5.878 1.   ]\n",
      " [6.152 1.   ]\n",
      " [5.841 1.   ]\n",
      " [7.82  1.   ]\n",
      " [6.122 1.   ]\n",
      " [6.51  1.   ]\n",
      " [6.343 1.   ]\n",
      " [7.249 1.   ]\n",
      " [5.99  1.   ]\n",
      " [6.425 1.   ]\n",
      " [6.437 1.   ]\n",
      " [6.137 1.   ]\n",
      " [6.635 1.   ]\n",
      " [6.03  1.   ]\n",
      " [6.086 1.   ]\n",
      " [6.968 1.   ]\n",
      " [6.943 1.   ]\n",
      " [6.604 1.   ]\n",
      " [6.059 1.   ]\n",
      " [5.604 1.   ]\n",
      " [5.928 1.   ]\n",
      " [6.163 1.   ]\n",
      " [7.47  1.   ]\n",
      " [4.88  1.   ]\n",
      " [5.605 1.   ]\n",
      " [6.404 1.   ]\n",
      " [7.327 1.   ]\n",
      " [5.926 1.   ]\n",
      " [5.985 1.   ]\n",
      " [6.728 1.   ]\n",
      " [7.686 1.   ]\n",
      " [6.8   1.   ]\n",
      " [7.185 1.   ]\n",
      " [6.395 1.   ]\n",
      " [5.608 1.   ]\n",
      " [8.259 1.   ]\n",
      " [6.129 1.   ]\n",
      " [6.59  1.   ]\n",
      " [6.095 1.   ]\n",
      " [5.972 1.   ]\n",
      " [5.597 1.   ]\n",
      " [6.108 1.   ]\n",
      " [4.138 1.   ]\n",
      " [6.021 1.   ]\n",
      " [6.152 1.   ]\n",
      " [6.63  1.   ]\n",
      " [6.14  1.   ]\n",
      " [5.637 1.   ]\n",
      " [7.088 1.   ]\n",
      " [3.863 1.   ]\n",
      " [5.599 1.   ]\n",
      " [7.831 1.   ]\n",
      " [7.333 1.   ]\n",
      " [6.031 1.   ]\n",
      " [6.174 1.   ]\n",
      " [6.649 1.   ]\n",
      " [5.    1.   ]\n",
      " [6.782 1.   ]\n",
      " [5.57  1.   ]\n",
      " [5.683 1.   ]\n",
      " [7.412 1.   ]\n",
      " [6.453 1.   ]\n",
      " [6.511 1.   ]\n",
      " [6.629 1.   ]\n",
      " [6.232 1.   ]\n",
      " [6.072 1.   ]\n",
      " [6.976 1.   ]\n",
      " [6.63  1.   ]\n",
      " [5.942 1.   ]\n",
      " [7.929 1.   ]\n",
      " [6.434 1.   ]\n",
      " [6.728 1.   ]\n",
      " [5.272 1.   ]\n",
      " [5.837 1.   ]\n",
      " [6.372 1.   ]\n",
      " [5.012 1.   ]\n",
      " [6.635 1.   ]\n",
      " [6.951 1.   ]\n",
      " [6.202 1.   ]\n",
      " [6.696 1.   ]\n",
      " [6.538 1.   ]\n",
      " [5.966 1.   ]\n",
      " [6.101 1.   ]\n",
      " [6.575 1.   ]\n",
      " [4.138 1.   ]\n",
      " [6.027 1.   ]\n",
      " [5.304 1.   ]\n",
      " [6.297 1.   ]\n",
      " [6.069 1.   ]\n",
      " [6.393 1.   ]\n",
      " [6.012 1.   ]\n",
      " [7.241 1.   ]\n",
      " [5.961 1.   ]\n",
      " [6.164 1.   ]\n",
      " [6.405 1.   ]\n",
      " [6.417 1.   ]\n",
      " [6.701 1.   ]\n",
      " [6.312 1.   ]\n",
      " [5.905 1.   ]\n",
      " [5.813 1.   ]\n",
      " [4.973 1.   ]\n",
      " [6.081 1.   ]\n",
      " [5.349 1.   ]\n",
      " [5.399 1.   ]\n",
      " [6.957 1.   ]\n",
      " [5.981 1.   ]\n",
      " [6.162 1.   ]\n",
      " [5.87  1.   ]\n",
      " [5.663 1.   ]\n",
      " [5.856 1.   ]\n",
      " [6.86  1.   ]\n",
      " [6.13  1.   ]\n",
      " [6.319 1.   ]\n",
      " [6.431 1.   ]\n",
      " [5.782 1.   ]\n",
      " [6.12  1.   ]\n",
      " [5.468 1.   ]\n",
      " [5.807 1.   ]\n",
      " [5.093 1.   ]\n",
      " [5.39  1.   ]\n",
      " [4.906 1.   ]\n",
      " [5.019 1.   ]\n",
      " [6.315 1.   ]\n",
      " [6.051 1.   ]\n",
      " [5.983 1.   ]\n",
      " [5.536 1.   ]\n",
      " [5.709 1.   ]\n",
      " [5.648 1.   ]\n",
      " [6.416 1.   ]\n",
      " [6.495 1.   ]\n",
      " [6.616 1.   ]\n",
      " [6.556 1.   ]\n",
      " [6.019 1.   ]\n",
      " [5.631 1.   ]\n",
      " [6.115 1.   ]\n",
      " [6.212 1.   ]\n",
      " [6.383 1.   ]\n",
      " [6.402 1.   ]\n",
      " [6.006 1.   ]\n",
      " [5.872 1.   ]\n",
      " [5.67  1.   ]\n",
      " [5.856 1.   ]\n",
      " [6.471 1.   ]\n",
      " [6.251 1.   ]\n",
      " [6.092 1.   ]\n",
      " [7.041 1.   ]\n",
      " [6.762 1.   ]\n",
      " [4.926 1.   ]\n",
      " [7.148 1.   ]\n",
      " [7.147 1.   ]\n",
      " [8.297 1.   ]\n",
      " [5.713 1.   ]\n",
      " [6.014 1.   ]\n",
      " [5.871 1.   ]\n",
      " [5.531 1.   ]\n",
      " [5.713 1.   ]\n",
      " [6.229 1.   ]\n",
      " [6.579 1.   ]\n",
      " [6.563 1.   ]\n",
      " [6.193 1.   ]\n",
      " [6.326 1.   ]\n",
      " [5.693 1.   ]\n",
      " [6.426 1.   ]\n",
      " [6.415 1.   ]\n",
      " [6.004 1.   ]\n",
      " [5.818 1.   ]\n",
      " [5.885 1.   ]\n",
      " [6.209 1.   ]\n",
      " [5.731 1.   ]\n",
      " [5.868 1.   ]\n",
      " [5.876 1.   ]\n",
      " [6.782 1.   ]\n",
      " [6.144 1.   ]\n",
      " [4.368 1.   ]\n",
      " [5.854 1.   ]\n",
      " [6.004 1.   ]\n",
      " [6.794 1.   ]\n",
      " [8.266 1.   ]\n",
      " [6.096 1.   ]\n",
      " [6.454 1.   ]\n",
      " [6.317 1.   ]\n",
      " [6.406 1.   ]\n",
      " [5.963 1.   ]\n",
      " [6.495 1.   ]\n",
      " [5.414 1.   ]\n",
      " [6.405 1.   ]\n",
      " [5.957 1.   ]\n",
      " [5.877 1.   ]\n",
      " [6.726 1.   ]\n",
      " [8.034 1.   ]\n",
      " [6.758 1.   ]\n",
      " [5.874 1.   ]\n",
      " [7.802 1.   ]\n",
      " [5.836 1.   ]\n",
      " [7.061 1.   ]\n",
      " [5.701 1.   ]\n",
      " [5.39  1.   ]\n",
      " [6.153 1.   ]\n",
      " [7.079 1.   ]\n",
      " [6.114 1.   ]\n",
      " [5.888 1.   ]\n",
      " [6.718 1.   ]\n",
      " [6.286 1.   ]\n",
      " [6.715 1.   ]\n",
      " [6.816 1.   ]\n",
      " [6.335 1.   ]\n",
      " [5.857 1.   ]\n",
      " [5.95  1.   ]\n",
      " [8.04  1.   ]\n",
      " [5.427 1.   ]\n",
      " [6.431 1.   ]\n",
      " [5.891 1.   ]\n",
      " [6.373 1.   ]\n",
      " [8.069 1.   ]\n",
      " [6.382 1.   ]]\n"
     ]
    }
   ],
   "source": [
    "import sklearn.model_selection\n",
    "# Grab the output and set as X and Y test and train data sets!\n",
    "X_train, X_test, Y_train, Y_test = sklearn.model_selection.train_test_split(X,boston_df.Price)\n",
    "\n",
    "# Print shapes of the training and testing data sets\n",
    "print(X_train.shape, X_test.shape, Y_train.shape, Y_test.shape)\n",
    "print(X_train)"
   ]
  },
  {
   "cell_type": "markdown",
   "metadata": {},
   "source": [
    "Now that we fixed this minor inconvenience of not having a train/test set, we can actually get started with the predictions!"
   ]
  },
  {
   "cell_type": "markdown",
   "metadata": {},
   "source": [
    "## The Prediction"
   ]
  },
  {
   "cell_type": "code",
   "execution_count": 32,
   "metadata": {},
   "outputs": [
    {
     "data": {
      "text/plain": [
       "LinearRegression(copy_X=True, fit_intercept=True, n_jobs=1, normalize=False)"
      ]
     },
     "execution_count": 32,
     "metadata": {},
     "output_type": "execute_result"
    }
   ],
   "source": [
    "# Create our regression object\n",
    "lreg = LinearRegression()\n",
    "\n",
    "# Once again do a linear regression, except only on the training sets this time\n",
    "lreg.fit(X_train,Y_train)"
   ]
  },
  {
   "cell_type": "code",
   "execution_count": 33,
   "metadata": {},
   "outputs": [],
   "source": [
    "# Predictions on training and testing sets\n",
    "pred_train = lreg.predict(X_train)\n",
    "pred_test = lreg.predict(X_test)"
   ]
  },
  {
   "cell_type": "code",
   "execution_count": 34,
   "metadata": {},
   "outputs": [
    {
     "name": "stdout",
     "output_type": "stream",
     "text": [
      "Fit a model X_train, and calculate MSE with Y_train: 43.90\n",
      "Fit a model X_train, and calculate MSE with X_test and Y_test: 42.86\n"
     ]
    }
   ],
   "source": [
    "from sklearn.metrics import mean_squared_error\n",
    "mse = mean_squared_error(r, y)\n",
    "\n",
    "print(\"Fit a model X_train, and calculate MSE with Y_train: {0:.2f}\".format(mean_squared_error(Y_train, pred_train)))\n",
    "    \n",
    "print(\"Fit a model X_train, and calculate MSE with X_test and Y_test: {0:.2f}\".format(mean_squared_error(Y_test, pred_test)))"
   ]
  },
  {
   "cell_type": "markdown",
   "metadata": {},
   "source": [
    "# K-Means Clustering"
   ]
  },
  {
   "cell_type": "markdown",
   "metadata": {},
   "source": [
    "K-means is a clustering algorithm that tries to partition a set of points into K sets (clusters) such that the points in each cluster tend to be near each other. It is unsupervised because the points have no external classification."
   ]
  },
  {
   "cell_type": "code",
   "execution_count": 35,
   "metadata": {},
   "outputs": [],
   "source": [
    "import matplotlib.pyplot as plt\n",
    "from sklearn import datasets\n",
    "from sklearn.cluster import KMeans\n",
    "import sklearn.metrics as sm\n",
    " \n",
    "import pandas as pd\n",
    "import numpy as np\n",
    " \n",
    "# Only needed if you want to display your plots inline if using Notebook\n",
    "# change inline to auto if you have Spyder installed\n",
    "%matplotlib inline"
   ]
  },
  {
   "cell_type": "markdown",
   "metadata": {},
   "source": [
    "Now we will use a familiar face again, the Iris dataset. Can you think of a reason why we might not want to take the boston dataset as an example for K-Means clustering?"
   ]
  },
  {
   "cell_type": "code",
   "execution_count": 36,
   "metadata": {},
   "outputs": [],
   "source": [
    "# import some data to play with\n",
    "iris = datasets.load_iris()"
   ]
  },
  {
   "cell_type": "markdown",
   "metadata": {},
   "source": [
    "I love Pandas, hence you shall come to love it too (and it simply makes some things just a lot easier)."
   ]
  },
  {
   "cell_type": "code",
   "execution_count": 37,
   "metadata": {},
   "outputs": [],
   "source": [
    "# Store the inputs as a Pandas Dataframe and set the column names\n",
    "x = pd.DataFrame(iris.data)\n",
    "x.columns = ['Sepal_Length','Sepal_Width','Petal_Length','Petal_Width']\n",
    " \n",
    "y = pd.DataFrame(iris.target)\n",
    "y.columns = ['Targets']"
   ]
  },
  {
   "cell_type": "markdown",
   "metadata": {},
   "source": [
    "Although we have seen this dataset before, it is always good to visualize the dataset before working with it. Hence we shall do so again. Similar to before, we will do this by using a scatter plot. We will also set it to use some colours so it is clearer what the official classes are."
   ]
  },
  {
   "cell_type": "code",
   "execution_count": 38,
   "metadata": {},
   "outputs": [
    {
     "data": {
      "text/plain": [
       "Text(0,0.5,'Petal Width')"
      ]
     },
     "execution_count": 38,
     "metadata": {},
     "output_type": "execute_result"
    },
    {
     "data": {
      "image/png": "[encoded data removed]",
      "text/plain": [
       "<matplotlib.figure.Figure at 0x20d8f6ce748>"
      ]
     },
     "metadata": {},
     "output_type": "display_data"
    }
   ],
   "source": [
    "# Set the size of the plot\n",
    "plt.figure(figsize=(7,7))\n",
    " \n",
    "# Create a colormap\n",
    "colormap = np.array(['red', 'lime', 'black'])\n",
    " \n",
    "# Plotting the petals\n",
    " \n",
    "plt.scatter(x.Petal_Length, x.Petal_Width, c=colormap[y.Targets], s=40)\n",
    "plt.title('Petal')\n",
    "plt.xlabel('Petal Length')\n",
    "plt.ylabel('Petal Width')"
   ]
  },
  {
   "cell_type": "markdown",
   "metadata": {},
   "source": [
    "### K-Means model\n",
    "\n",
    "Setting up the K-Means model is pretty simple with scikit-learn. The simplest approach really just needs one variable, namely the number of clusters.\n",
    "\n",
    "For an initial display, we create the model and specify the number of clusters the model should find (n_clusters=3) next we fit the model to the data."
   ]
  },
  {
   "cell_type": "code",
   "execution_count": 39,
   "metadata": {},
   "outputs": [
    {
     "data": {
      "text/plain": [
       "array([1, 1, 1, 1, 1, 1, 1, 1, 1, 1, 1, 1, 1, 1, 1, 1, 1, 1, 1, 1, 1, 1,\n",
       "       1, 1, 1, 1, 1, 1, 1, 1, 1, 1, 1, 1, 1, 1, 1, 1, 1, 1, 1, 1, 1, 1,\n",
       "       1, 1, 1, 1, 1, 1, 2, 2, 0, 2, 2, 2, 2, 2, 2, 2, 2, 2, 2, 2, 2, 2,\n",
       "       2, 2, 2, 2, 2, 2, 2, 2, 2, 2, 2, 0, 2, 2, 2, 2, 2, 2, 2, 2, 2, 2,\n",
       "       2, 2, 2, 2, 2, 2, 2, 2, 2, 2, 2, 2, 0, 2, 0, 0, 0, 0, 2, 0, 0, 0,\n",
       "       0, 0, 0, 2, 2, 0, 0, 0, 0, 2, 0, 2, 0, 2, 0, 0, 2, 2, 0, 0, 0, 0,\n",
       "       0, 2, 0, 0, 0, 0, 2, 0, 0, 0, 2, 0, 0, 0, 2, 0, 0, 2])"
      ]
     },
     "execution_count": 39,
     "metadata": {},
     "output_type": "execute_result"
    }
   ],
   "source": [
    "# K Means Cluster\n",
    "model = KMeans(n_clusters=3)\n",
    "model.fit(x)\n",
    "\n",
    "# This is what KMeans thought\n",
    "model.labels_"
   ]
  },
  {
   "cell_type": "markdown",
   "metadata": {},
   "source": [
    "## Well... that sure tells us a lot... not. Let us try visualising once more!"
   ]
  },
  {
   "cell_type": "code",
   "execution_count": 40,
   "metadata": {},
   "outputs": [
    {
     "data": {
      "image/png": "[encoded data removed]",
      "text/plain": [
       "<matplotlib.figure.Figure at 0x20d8f8f94e0>"
      ]
     },
     "metadata": {},
     "output_type": "display_data"
    }
   ],
   "source": [
    "# View the results\n",
    "# Set the size of the plot\n",
    "plt.figure(figsize=(14,7))\n",
    " \n",
    "# Create a colormap\n",
    "colormap = np.array(['red', 'lime', 'black'])\n",
    " \n",
    "# Plot the Original Classifications\n",
    "plt.subplot(1, 2, 1)\n",
    "plt.scatter(x.Petal_Length, x.Petal_Width, c=colormap[y.Targets], s=40)\n",
    "plt.title('Real Classification')\n",
    " \n",
    "# Plot the Models Classifications\n",
    "plt.subplot(1, 2, 2)\n",
    "plt.scatter(x.Petal_Length, x.Petal_Width, c=colormap[model.labels_], s=40)\n",
    "plt.title('K Mean Classification')\n",
    "predY = model.labels_"
   ]
  },
  {
   "cell_type": "markdown",
   "metadata": {},
   "source": [
    "The order of colors might be messed up. The perfectionists that we are, we can not let this slide! Now because the approach is unsupervised, the nubmer assignment can be different every time. Hence the code below might have to be different for you to correct the colors."
   ]
  },
  {
   "cell_type": "code",
   "execution_count": 41,
   "metadata": {},
   "outputs": [
    {
     "name": "stdout",
     "output_type": "stream",
     "text": [
      "[0, 0, 0, 0, 0, 0, 0, 0, 0, 0, 0, 0, 0, 0, 0, 0, 0, 0, 0, 0, 0, 0, 0, 0, 0, 0, 0, 0, 0, 0, 0, 0, 0, 0, 0, 0, 0, 0, 0, 0, 0, 0, 0, 0, 0, 0, 0, 0, 0, 0, 1, 1, 1, 1, 1, 1, 1, 1, 1, 1, 1, 1, 1, 1, 1, 1, 1, 1, 1, 1, 1, 1, 1, 1, 1, 1, 1, 1, 1, 1, 1, 1, 1, 1, 1, 1, 1, 1, 1, 1, 1, 1, 1, 1, 1, 1, 1, 1, 1, 1, 2, 2, 2, 2, 2, 2, 2, 2, 2, 2, 2, 2, 2, 2, 2, 2, 2, 2, 2, 2, 2, 2, 2, 2, 2, 2, 2, 2, 2, 2, 2, 2, 2, 2, 2, 2, 2, 2, 2, 2, 2, 2, 2, 2, 2, 2, 2, 2, 2, 2]\n",
      "[1 1 1 1 1 1 1 1 1 1 1 1 1 1 1 1 1 1 1 1 1 1 1 1 1 1 1 1 1 1 1 1 1 1 1 1 1\n",
      " 1 1 1 1 1 1 1 1 1 1 1 1 1 2 2 0 2 2 2 2 2 2 2 2 2 2 2 2 2 2 2 2 2 2 2 2 2\n",
      " 2 2 2 0 2 2 2 2 2 2 2 2 2 2 2 2 2 2 2 2 2 2 2 2 2 2 0 2 0 0 0 0 2 0 0 0 0\n",
      " 0 0 2 2 0 0 0 0 2 0 2 0 2 0 0 2 2 0 0 0 0 0 2 0 0 0 0 2 0 0 0 2 0 0 0 2 0\n",
      " 0 2]\n",
      "[0 0 0 0 0 0 0 0 0 0 0 0 0 0 0 0 0 0 0 0 0 0 0 0 0 0 0 0 0 0 0 0 0 0 0 0 0\n",
      " 0 0 0 0 0 0 0 0 0 0 0 0 0 1 1 2 1 1 1 1 1 1 1 1 1 1 1 1 1 1 1 1 1 1 1 1 1\n",
      " 1 1 1 2 1 1 1 1 1 1 1 1 1 1 1 1 1 1 1 1 1 1 1 1 1 1 2 1 2 2 2 2 1 2 2 2 2\n",
      " 2 2 1 1 2 2 2 2 1 2 1 2 1 2 2 1 1 2 2 2 2 2 1 2 2 2 2 1 2 2 2 1 2 2 2 1 2\n",
      " 2 1]\n"
     ]
    }
   ],
   "source": [
    "# The fix, we convert all the 0s to 2s and 1s to 0s and 2s to 1s.\n",
    "predY = np.choose(model.labels_, [2, 0, 1]).astype(np.int64)\n",
    "print(list(y.Targets))\n",
    "print (model.labels_)\n",
    "print (predY)"
   ]
  },
  {
   "cell_type": "code",
   "execution_count": 42,
   "metadata": {},
   "outputs": [
    {
     "data": {
      "text/plain": [
       "Text(0.5,1,'K Mean Classification')"
      ]
     },
     "execution_count": 42,
     "metadata": {},
     "output_type": "execute_result"
    },
    {
     "data": {
      "image/png": "[encoded data removed]",
      "text/plain": [
       "<matplotlib.figure.Figure at 0x20d8fbec240>"
      ]
     },
     "metadata": {},
     "output_type": "display_data"
    }
   ],
   "source": [
    "# View the results\n",
    "# Set the size of the plot\n",
    "plt.figure(figsize=(14,7))\n",
    " \n",
    "# Create a colormap\n",
    "colormap = np.array(['red', 'lime', 'black'])\n",
    "\n",
    "# Plot Orginal\n",
    "plt.subplot(1, 2, 1)\n",
    "plt.scatter(x.Petal_Length, x.Petal_Width, c=colormap[y.Targets], s=40)\n",
    "plt.title('Real Classification')\n",
    " \n",
    "# Plot Predicted with corrected values\n",
    "plt.subplot(1, 2, 2)\n",
    "plt.scatter(x.Petal_Length, x.Petal_Width, c=colormap[predY], s=40)\n",
    "plt.title('K Mean Classification')"
   ]
  },
  {
   "cell_type": "markdown",
   "metadata": {},
   "source": [
    "No we can see that the K Means classifier has identified one class correctly (red) but some blacks have been classed as greens and vice versa."
   ]
  },
  {
   "cell_type": "markdown",
   "metadata": {},
   "source": [
    "### Measuring Performance\n",
    "There are a number of ways in which we can measure a classifiers performance. Here we will calculate the accuracy and also the confusion matrix.\n",
    "\n",
    "We need to values y which is the true (original) values and predY which are the models values."
   ]
  },
  {
   "cell_type": "code",
   "execution_count": 43,
   "metadata": {},
   "outputs": [
    {
     "data": {
      "text/plain": [
       "0.8933333333333333"
      ]
     },
     "execution_count": 43,
     "metadata": {},
     "output_type": "execute_result"
    }
   ],
   "source": [
    "# Performance Metrics (All hail the built-ins!)\n",
    "sm.accuracy_score(y, predY)"
   ]
  },
  {
   "cell_type": "markdown",
   "metadata": {},
   "source": [
    "My result was 0.89, so we can say that the model has an accuracy of 89%. Seeing how the we worked with an unsupervised model, these certainly don't look like bad results! Although accuracy can be used in multi-class classification/clustering. We also often use the mean Average Precision instead (mAP, do note that `Average Precision` is a metric by itself, hence we can take the mean of it). This metrics works better with skewed data (e.g. with accuracy you can have the problem that your data consist of 90% of class 1s, your model just always predicts 1. Easy 90% accuracy. But your model is probably worthless)."
   ]
  },
  {
   "cell_type": "markdown",
   "metadata": {},
   "source": [
    "Another thing you can look at is the confusion matrix. This matrix can tell you which class has been misclassified as another class in detail.\n",
    "You can see which classes get mixed up, and hence might be messing up your results."
   ]
  },
  {
   "cell_type": "code",
   "execution_count": 44,
   "metadata": {},
   "outputs": [
    {
     "data": {
      "text/plain": [
       "array([[50,  0,  0],\n",
       "       [ 0, 48,  2],\n",
       "       [ 0, 14, 36]], dtype=int64)"
      ]
     },
     "execution_count": 44,
     "metadata": {},
     "output_type": "execute_result"
    }
   ],
   "source": [
    "# Confusion Matrix\n",
    "sm.confusion_matrix(y, predY)"
   ]
  },
  {
   "cell_type": "markdown",
   "metadata": {},
   "source": [
    "We can derive the following things from this matrix:\n",
    "    \n",
    "* All objects that are of class 0, have also been classified as 0.\n",
    "* 48  objects that are of class 1, have been classified as 1. 2 of those objects have been classified as class 2.\n",
    "* 36 objects of class 2 were classified correctly. 14 objects of class 2 were classified as class 1.\n"
   ]
  },
  {
   "cell_type": "markdown",
   "metadata": {},
   "source": [
    "### Are we note forgetting something?\n",
    "So in the example above we just picked the number of clusters to be equal to 3. We came to this number by simply abusing the fact that we know the dataset. But sadly we are not all-knowing, and we might encounter datasets where we do not know the number of unique classes. Which begs the question, is there a way to determina this number if you do not know the dataset? (Hint: yes)"
   ]
  },
  {
   "cell_type": "code",
   "execution_count": 45,
   "metadata": {},
   "outputs": [],
   "source": [
    "# Let's grab our example again:\n",
    "iris = datasets.load_iris()\n",
    "# Store the inputs as a Pandas Dataframe and set the column names\n",
    "x = pd.DataFrame(iris.data)\n",
    "x.columns = ['Sepal_Length','Sepal_Width','Petal_Length','Petal_Width']\n",
    " \n",
    "y = pd.DataFrame(iris.target)\n",
    "y.columns = ['Targets']"
   ]
  },
  {
   "cell_type": "markdown",
   "metadata": {},
   "source": [
    "[Paraphrased from here](https://www.datascience.com/blog/k-means-clustering)\n",
    "\n",
    "To find the number of clusters in the data, we can run the K-means clustering algorithm for a range of K values and compare the results. In general, there is no method for determining exact value of K, but an accurate estimate can be obtained using the following simple technique.\n",
    "\n",
    "One of the metrics that is commonly used to compare results across different values of K is the mean distance between data points and their cluster centroid. Since increasing the number of clusters will always reduce the distance to data points, increasing K will always decrease this metric, to the extreme of reaching zero when K is the same as the number of data points. Thus, this metric cannot be used as the sole target. Instead, mean distance to the centroid as a function of K is plotted and the `elbow point`, where the rate of decrease sharply shifts, can be used to roughly determine K."
   ]
  },
  {
   "cell_type": "code",
   "execution_count": 46,
   "metadata": {},
   "outputs": [
    {
     "name": "stdout",
     "output_type": "stream",
     "text": [
      "KMeans(algorithm='auto', copy_x=True, init='k-means++', max_iter=300,\n",
      "    n_clusters=3, n_init=10, n_jobs=1, precompute_distances='auto',\n",
      "    random_state=None, tol=0.0001, verbose=0)\n",
      "\n"
     ]
    },
    {
     "data": {
      "text/plain": [
       "78.94084142614602"
      ]
     },
     "execution_count": 46,
     "metadata": {},
     "output_type": "execute_result"
    }
   ],
   "source": [
    "# K Means Cluster\n",
    "model = KMeans(n_clusters=3)\n",
    "model.fit(x)\n",
    "\n",
    "print(model)\n",
    "print()\n",
    "\n",
    "# http://scikit-learn.org/stable/modules/generated/sklearn.cluster.KMeans.html\n",
    "\n",
    "# This is what KMeans thought\n",
    "model.inertia_"
   ]
  },
  {
   "cell_type": "code",
   "execution_count": 47,
   "metadata": {},
   "outputs": [
    {
     "name": "stdout",
     "output_type": "stream",
     "text": [
      "[680.8244, 152.36870647733906, 78.94084142614602, 57.31787321428571, 46.56163015873016, 38.95701115711985, 34.19068792479662, 30.297640556553873, 27.839591136933244]\n"
     ]
    }
   ],
   "source": [
    "inertias = []\n",
    "\n",
    "for i in range(1, 10):\n",
    "    model = KMeans(n_clusters=i)\n",
    "    model.fit(x)\n",
    "    inertias.append(model.inertia_)\n",
    "print(inertias)"
   ]
  },
  {
   "cell_type": "code",
   "execution_count": 48,
   "metadata": {},
   "outputs": [
    {
     "data": {
      "text/html": [
       "\n",
       "<div class=\"bk-root\">\n",
       "    <div class=\"bk-plotdiv\" id=\"608fd600-8f9d-4261-b9b0-b3753da30716\"></div>\n",
       "</div>"
      ]
     },
     "metadata": {},
     "output_type": "display_data"
    },
    {
     "data": {
      "application/javascript": [
       "(function(root) {\n",
       "  function embed_document(root) {\n",
       "    \n",
       "  var docs_json = {\"7afc44ad-f948-48d5-8b18-299c061c39bd\":{\"roots\":{\"references\":[{\"attributes\":{\"active_drag\":\"auto\",\"active_inspect\":\"auto\",\"active_scroll\":\"auto\",\"active_tap\":\"auto\",\"tools\":[{\"id\":\"e9c3ddf3-a750-4dbc-a4f4-55df714f6146\",\"type\":\"PanTool\"},{\"id\":\"3d2bad9b-7487-4ea1-a1d5-b94d253572c3\",\"type\":\"WheelZoomTool\"},{\"id\":\"43479b04-620d-49f4-8bdb-c5a9af2f9f9b\",\"type\":\"BoxZoomTool\"},{\"id\":\"3af4d072-2c90-4089-9326-6ba4290ad1eb\",\"type\":\"SaveTool\"},{\"id\":\"360233c0-9a8e-4f06-a334-7afd177ecfdf\",\"type\":\"ResetTool\"},{\"id\":\"78e18599-2b31-4d12-b5c3-f44c16e0a7a8\",\"type\":\"HelpTool\"}]},\"id\":\"bcbb9f40-5e88-4b85-8819-0aeffab94721\",\"type\":\"Toolbar\"},{\"attributes\":{},\"id\":\"f08a91a0-d5fb-4764-82c2-e762b64fc127\",\"type\":\"BasicTicker\"},{\"attributes\":{\"callback\":null},\"id\":\"563a2e3f-e3f0-45a9-a060-b3e28669e085\",\"type\":\"DataRange1d\"},{\"attributes\":{\"overlay\":{\"id\":\"755e4ca8-89da-46ee-8d32-a0ac0b9b4ae7\",\"type\":\"BoxAnnotation\"}},\"id\":\"43479b04-620d-49f4-8bdb-c5a9af2f9f9b\",\"type\":\"BoxZoomTool\"},{\"attributes\":{\"line_color\":\"#1f77b4\",\"x\":{\"field\":\"x\"},\"y\":{\"field\":\"y\"}},\"id\":\"8736b320-058d-4490-964b-1ff8eb798edf\",\"type\":\"Line\"},{\"attributes\":{\"callback\":null,\"column_names\":[\"x\",\"y\"],\"data\":{\"x\":[1,2,3,4,5,6,7,8,9],\"y\":[680.8244,152.36870647733906,78.94084142614602,57.31787321428571,46.56163015873016,38.95701115711985,34.19068792479662,30.297640556553873,27.839591136933244]}},\"id\":\"d983e4dc-16eb-459b-8007-8a6ef6e3d5f5\",\"type\":\"ColumnDataSource\"},{\"attributes\":{},\"id\":\"3d2bad9b-7487-4ea1-a1d5-b94d253572c3\",\"type\":\"WheelZoomTool\"},{\"attributes\":{\"data_source\":{\"id\":\"d983e4dc-16eb-459b-8007-8a6ef6e3d5f5\",\"type\":\"ColumnDataSource\"},\"glyph\":{\"id\":\"8736b320-058d-4490-964b-1ff8eb798edf\",\"type\":\"Line\"},\"hover_glyph\":null,\"muted_glyph\":null,\"nonselection_glyph\":{\"id\":\"8f0e2cc4-4eb8-4c5e-8954-09c7798b24e0\",\"type\":\"Line\"},\"selection_glyph\":null,\"view\":{\"id\":\"031f54a4-282b-413f-b763-30319e1f36b4\",\"type\":\"CDSView\"}},\"id\":\"9d37c932-9239-4078-8f04-c89fd6bafab7\",\"type\":\"GlyphRenderer\"},{\"attributes\":{},\"id\":\"e9c3ddf3-a750-4dbc-a4f4-55df714f6146\",\"type\":\"PanTool\"},{\"attributes\":{},\"id\":\"412c17f1-934c-4998-b75c-dfcbcbe64117\",\"type\":\"BasicTicker\"},{\"attributes\":{\"callback\":null},\"id\":\"b29a80de-a526-4336-9474-55aec60b0657\",\"type\":\"DataRange1d\"},{\"attributes\":{},\"id\":\"360233c0-9a8e-4f06-a334-7afd177ecfdf\",\"type\":\"ResetTool\"},{\"attributes\":{\"dimension\":1,\"plot\":{\"id\":\"5258ac32-d1ad-4319-a72f-a7bdf941f161\",\"subtype\":\"Figure\",\"type\":\"Plot\"},\"ticker\":{\"id\":\"412c17f1-934c-4998-b75c-dfcbcbe64117\",\"type\":\"BasicTicker\"}},\"id\":\"c6313f4b-d862-40bb-9f80-75f0ee9e758c\",\"type\":\"Grid\"},{\"attributes\":{\"below\":[{\"id\":\"24ca5d1f-759e-4e75-bdce-6ce3a930d910\",\"type\":\"LinearAxis\"}],\"left\":[{\"id\":\"7896b9cc-7453-4097-9acd-2f6c2877f93a\",\"type\":\"LinearAxis\"}],\"plot_height\":250,\"plot_width\":400,\"renderers\":[{\"id\":\"24ca5d1f-759e-4e75-bdce-6ce3a930d910\",\"type\":\"LinearAxis\"},{\"id\":\"86807438-2b1b-43ec-ae34-2ce89bdab081\",\"type\":\"Grid\"},{\"id\":\"7896b9cc-7453-4097-9acd-2f6c2877f93a\",\"type\":\"LinearAxis\"},{\"id\":\"c6313f4b-d862-40bb-9f80-75f0ee9e758c\",\"type\":\"Grid\"},{\"id\":\"755e4ca8-89da-46ee-8d32-a0ac0b9b4ae7\",\"type\":\"BoxAnnotation\"},{\"id\":\"9d37c932-9239-4078-8f04-c89fd6bafab7\",\"type\":\"GlyphRenderer\"}],\"title\":{\"id\":\"2f2fa55c-73d0-416a-b70e-f6afcd80f20a\",\"type\":\"Title\"},\"toolbar\":{\"id\":\"bcbb9f40-5e88-4b85-8819-0aeffab94721\",\"type\":\"Toolbar\"},\"x_range\":{\"id\":\"563a2e3f-e3f0-45a9-a060-b3e28669e085\",\"type\":\"DataRange1d\"},\"x_scale\":{\"id\":\"d8931059-9226-4f58-98d0-6404815b96b0\",\"type\":\"LinearScale\"},\"y_range\":{\"id\":\"b29a80de-a526-4336-9474-55aec60b0657\",\"type\":\"DataRange1d\"},\"y_scale\":{\"id\":\"04cb7b7c-a644-44d0-b198-92778267f063\",\"type\":\"LinearScale\"}},\"id\":\"5258ac32-d1ad-4319-a72f-a7bdf941f161\",\"subtype\":\"Figure\",\"type\":\"Plot\"},{\"attributes\":{\"line_alpha\":0.1,\"line_color\":\"#1f77b4\",\"x\":{\"field\":\"x\"},\"y\":{\"field\":\"y\"}},\"id\":\"8f0e2cc4-4eb8-4c5e-8954-09c7798b24e0\",\"type\":\"Line\"},{\"attributes\":{},\"id\":\"d8931059-9226-4f58-98d0-6404815b96b0\",\"type\":\"LinearScale\"},{\"attributes\":{\"plot\":null,\"text\":\"\"},\"id\":\"2f2fa55c-73d0-416a-b70e-f6afcd80f20a\",\"type\":\"Title\"},{\"attributes\":{},\"id\":\"3af4d072-2c90-4089-9326-6ba4290ad1eb\",\"type\":\"SaveTool\"},{\"attributes\":{},\"id\":\"04cb7b7c-a644-44d0-b198-92778267f063\",\"type\":\"LinearScale\"},{\"attributes\":{\"bottom_units\":\"screen\",\"fill_alpha\":{\"value\":0.5},\"fill_color\":{\"value\":\"lightgrey\"},\"left_units\":\"screen\",\"level\":\"overlay\",\"line_alpha\":{\"value\":1.0},\"line_color\":{\"value\":\"black\"},\"line_dash\":[4,4],\"line_width\":{\"value\":2},\"plot\":null,\"render_mode\":\"css\",\"right_units\":\"screen\",\"top_units\":\"screen\"},\"id\":\"755e4ca8-89da-46ee-8d32-a0ac0b9b4ae7\",\"type\":\"BoxAnnotation\"},{\"attributes\":{\"plot\":{\"id\":\"5258ac32-d1ad-4319-a72f-a7bdf941f161\",\"subtype\":\"Figure\",\"type\":\"Plot\"},\"ticker\":{\"id\":\"f08a91a0-d5fb-4764-82c2-e762b64fc127\",\"type\":\"BasicTicker\"}},\"id\":\"86807438-2b1b-43ec-ae34-2ce89bdab081\",\"type\":\"Grid\"},{\"attributes\":{},\"id\":\"78e18599-2b31-4d12-b5c3-f44c16e0a7a8\",\"type\":\"HelpTool\"},{\"attributes\":{\"axis_label\":\"Number of Clusters\",\"formatter\":{\"id\":\"891d3b59-339e-4381-af84-8547444ffeee\",\"type\":\"BasicTickFormatter\"},\"plot\":{\"id\":\"5258ac32-d1ad-4319-a72f-a7bdf941f161\",\"subtype\":\"Figure\",\"type\":\"Plot\"},\"ticker\":{\"id\":\"f08a91a0-d5fb-4764-82c2-e762b64fc127\",\"type\":\"BasicTicker\"}},\"id\":\"24ca5d1f-759e-4e75-bdce-6ce3a930d910\",\"type\":\"LinearAxis\"},{\"attributes\":{\"source\":{\"id\":\"d983e4dc-16eb-459b-8007-8a6ef6e3d5f5\",\"type\":\"ColumnDataSource\"}},\"id\":\"031f54a4-282b-413f-b763-30319e1f36b4\",\"type\":\"CDSView\"},{\"attributes\":{\"axis_label\":\"Inertia\",\"formatter\":{\"id\":\"c1be352e-be01-4023-a376-6a8931f4a274\",\"type\":\"BasicTickFormatter\"},\"plot\":{\"id\":\"5258ac32-d1ad-4319-a72f-a7bdf941f161\",\"subtype\":\"Figure\",\"type\":\"Plot\"},\"ticker\":{\"id\":\"412c17f1-934c-4998-b75c-dfcbcbe64117\",\"type\":\"BasicTicker\"}},\"id\":\"7896b9cc-7453-4097-9acd-2f6c2877f93a\",\"type\":\"LinearAxis\"},{\"attributes\":{},\"id\":\"891d3b59-339e-4381-af84-8547444ffeee\",\"type\":\"BasicTickFormatter\"},{\"attributes\":{},\"id\":\"c1be352e-be01-4023-a376-6a8931f4a274\",\"type\":\"BasicTickFormatter\"}],\"root_ids\":[\"5258ac32-d1ad-4319-a72f-a7bdf941f161\"]},\"title\":\"Bokeh Application\",\"version\":\"0.12.13\"}};\n",
       "  var render_items = [{\"docid\":\"7afc44ad-f948-48d5-8b18-299c061c39bd\",\"elementid\":\"608fd600-8f9d-4261-b9b0-b3753da30716\",\"modelid\":\"5258ac32-d1ad-4319-a72f-a7bdf941f161\"}];\n",
       "  root.Bokeh.embed.embed_items_notebook(docs_json, render_items);\n",
       "\n",
       "  }\n",
       "  if (root.Bokeh !== undefined) {\n",
       "    embed_document(root);\n",
       "  } else {\n",
       "    var attempts = 0;\n",
       "    var timer = setInterval(function(root) {\n",
       "      if (root.Bokeh !== undefined) {\n",
       "        embed_document(root);\n",
       "        clearInterval(timer);\n",
       "      }\n",
       "      attempts++;\n",
       "      if (attempts > 100) {\n",
       "        console.log(\"Bokeh: ERROR: Unable to run BokehJS code because BokehJS library is missing\")\n",
       "        clearInterval(timer);\n",
       "      }\n",
       "    }, 10, root)\n",
       "  }\n",
       "})(window);"
      ],
      "application/vnd.bokehjs_exec.v0+json": ""
     },
     "metadata": {
      "application/vnd.bokehjs_exec.v0+json": {
       "id": "5258ac32-d1ad-4319-a72f-a7bdf941f161"
      }
     },
     "output_type": "display_data"
    }
   ],
   "source": [
    "f = figure(plot_width=400, plot_height=250)\n",
    "\n",
    "# Create the line\n",
    "x = boston_df[\"RM\"]\n",
    "f.line(range(1, 10), inertias)\n",
    "\n",
    "## Add some axis information\n",
    "f.xaxis.axis_label = 'Number of Clusters'\n",
    "f.yaxis.axis_label = 'Inertia'\n",
    "\n",
    "show(f)"
   ]
  },
  {
   "cell_type": "markdown",
   "metadata": {},
   "source": [
    "So well, hopefully you see why we refer to a an `elbow point`. We look for a change in direction between inertia values.\n",
    "Here we see a distinct change at both 2 and 3 clusters. Normally you wouldh ave tried both, to see which fits best. But remember.. if you have knowledge of a dataset, you can choose to cheat. Just document to your reader why you chose a specific value. We do not like `Magic numbers` (values that appear out of thin air)."
   ]
  },
  {
   "cell_type": "code",
   "execution_count": null,
   "metadata": {},
   "outputs": [],
   "source": []
  }
 ],
 "metadata": {
  "kernelspec": {
   "display_name": "Python 3",
   "language": "python",
   "name": "python3"
  },
  "language_info": {
   "codemirror_mode": {
    "name": "ipython",
    "version": 3
   },
   "file_extension": ".py",
   "mimetype": "text/x-python",
   "name": "python",
   "nbconvert_exporter": "python",
   "pygments_lexer": "ipython3",
   "version": "3.6.4"
  }
 },
 "nbformat": 4,
 "nbformat_minor": 2
}
