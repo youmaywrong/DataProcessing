{
 "cells": [
  {
   "cell_type": "markdown",
   "metadata": {
    "collapsed": true
   },
   "source": [
    "# Scikit-learn\n",
    "\n",
    "Machine learning is a very broad field, and you will get a more detailed course on this in your second year. We will provide some minor background information, but as time is limited we will only focus on Linear regression and K-means Clustering.\n",
    "\n",
    "Most techniques within Machine Learning can be divided within two groups (although there are many of these splits that you could make, e.g. supervised vs. unsupervised). Those being Regression algorithms and Classification algorithims. These two type of algorithms tackle two distinct problems.\n",
    "\n",
    "Throughout the notebook you will find some links to videos of Andrew Ng (some of his videos can safely be viewed at 1.5x speed). Here they use $\\theta$ to refer to the parameters you learn, so apart from notation, the material is the same.\n",
    "\n",
    "## Regression\n",
    "With regression you assume that the values come from some sort of function, and you try to find this function. Most techniques will try to fit some mathematical function that describes a curve, such that the curve passes as close as possible to all the data points. \n",
    "\n",
    "## Classification\n",
    "Classification is discrete, an object belongs to precisely one class, and the set of all classes covers all posibilities. You have no values in-between classes. \n",
    "\n",
    "## Supervised Learning\n",
    "Can be applied to data that has both features and labels. Your task usually exsits of contructing an estimator which is able to predict the label of an object given its features.\n",
    "\n",
    "Useful video: \n",
    "* [Supervised Learning](https://www.youtube.com/watch?v=ls7Ke48jCt8&list=PLZ9qNFMHZ-A4rycgrgOYma6zxF4BZGGPW&index=3)\n",
    "* [Linear Regression](https://www.youtube.com/watch?v=PBZUjnGuXjA&index=5&list=PLZ9qNFMHZ-A4rycgrgOYma6zxF4BZGGPW)\n",
    "\n",
    "## Unsupervised Learning\n",
    "Can be applies to data that has no labels, and with these techniques we attempt to find interesting similarities between the objects. You are essentially trying to discover labels yourself.\n",
    "\n",
    "Useful video: [Unsupervised Learning](https://www.youtube.com/watch?v=qHfUlFHGG08&index=4&list=PLZ9qNFMHZ-A4rycgrgOYma6zxF4BZGGPW)"
   ]
  },
  {
   "cell_type": "markdown",
   "metadata": {},
   "source": [
    "# Linear Regression\n",
    "\n",
    "We will be going over how to use the scikit-learn regression model, as well as how to train the regressor using the `fit()` method, and how to predict new labels using the `predict()` method. From time to time we might introduce some mathematics as well, but the intention is to focus on implementation details.\n",
    "\n",
    "If you're interested in the deeper mathematics of linear regession methods, check out the [wikipedia page](http://en.wikipedia.org/wiki/Linear_regression)."
   ]
  },
  {
   "cell_type": "markdown",
   "metadata": {},
   "source": [
    "## Setup and Data\n",
    "For the following examples we will be using a built-in data set (quite convenient) containing housing prices of Boston. The following code will contain the imports for numpy, bokeh, pandas and the dataset from sklearn."
   ]
  },
  {
   "cell_type": "code",
   "execution_count": 1,
   "metadata": {},
   "outputs": [
    {
     "data": {
      "text/html": [
       "\n",
       "    <div class=\"bk-root\">\n",
       "        <a href=\"https://bokeh.pydata.org\" target=\"_blank\" class=\"bk-logo bk-logo-small bk-logo-notebook\"></a>\n",
       "        <span id=\"98f6204e-f885-4fcc-b71a-eef9a4540649\">Loading BokehJS ...</span>\n",
       "    </div>"
      ]
     },
     "metadata": {},
     "output_type": "display_data"
    },
    {
     "data": {
      "application/javascript": [
       "\n",
       "(function(root) {\n",
       "  function now() {\n",
       "    return new Date();\n",
       "  }\n",
       "\n",
       "  var force = true;\n",
       "\n",
       "  if (typeof (root._bokeh_onload_callbacks) === \"undefined\" || force === true) {\n",
       "    root._bokeh_onload_callbacks = [];\n",
       "    root._bokeh_is_loading = undefined;\n",
       "  }\n",
       "\n",
       "  var JS_MIME_TYPE = 'application/javascript';\n",
       "  var HTML_MIME_TYPE = 'text/html';\n",
       "  var EXEC_MIME_TYPE = 'application/vnd.bokehjs_exec.v0+json';\n",
       "  var CLASS_NAME = 'output_bokeh rendered_html';\n",
       "\n",
       "  /**\n",
       "   * Render data to the DOM node\n",
       "   */\n",
       "  function render(props, node) {\n",
       "    var script = document.createElement(\"script\");\n",
       "    node.appendChild(script);\n",
       "  }\n",
       "\n",
       "  /**\n",
       "   * Handle when an output is cleared or removed\n",
       "   */\n",
       "  function handleClearOutput(event, handle) {\n",
       "    var cell = handle.cell;\n",
       "\n",
       "    var id = cell.output_area._bokeh_element_id;\n",
       "    var server_id = cell.output_area._bokeh_server_id;\n",
       "    // Clean up Bokeh references\n",
       "    if (id !== undefined) {\n",
       "      Bokeh.index[id].model.document.clear();\n",
       "      delete Bokeh.index[id];\n",
       "    }\n",
       "\n",
       "    if (server_id !== undefined) {\n",
       "      // Clean up Bokeh references\n",
       "      var cmd = \"from bokeh.io.state import curstate; print(curstate().uuid_to_server['\" + server_id + \"'].get_sessions()[0].document.roots[0]._id)\";\n",
       "      cell.notebook.kernel.execute(cmd, {\n",
       "        iopub: {\n",
       "          output: function(msg) {\n",
       "            var element_id = msg.content.text.trim();\n",
       "            Bokeh.index[element_id].model.document.clear();\n",
       "            delete Bokeh.index[element_id];\n",
       "          }\n",
       "        }\n",
       "      });\n",
       "      // Destroy server and session\n",
       "      var cmd = \"import bokeh.io.notebook as ion; ion.destroy_server('\" + server_id + \"')\";\n",
       "      cell.notebook.kernel.execute(cmd);\n",
       "    }\n",
       "  }\n",
       "\n",
       "  /**\n",
       "   * Handle when a new output is added\n",
       "   */\n",
       "  function handleAddOutput(event, handle) {\n",
       "    var output_area = handle.output_area;\n",
       "    var output = handle.output;\n",
       "\n",
       "    // limit handleAddOutput to display_data with EXEC_MIME_TYPE content only\n",
       "    if ((output.output_type != \"display_data\") || (!output.data.hasOwnProperty(EXEC_MIME_TYPE))) {\n",
       "      return\n",
       "    }\n",
       "\n",
       "    var toinsert = output_area.element.find(\".\" + CLASS_NAME.split(' ')[0]);\n",
       "\n",
       "    if (output.metadata[EXEC_MIME_TYPE][\"id\"] !== undefined) {\n",
       "      toinsert[0].firstChild.textContent = output.data[JS_MIME_TYPE];\n",
       "      // store reference to embed id on output_area\n",
       "      output_area._bokeh_element_id = output.metadata[EXEC_MIME_TYPE][\"id\"];\n",
       "    }\n",
       "    if (output.metadata[EXEC_MIME_TYPE][\"server_id\"] !== undefined) {\n",
       "      var bk_div = document.createElement(\"div\");\n",
       "      bk_div.innerHTML = output.data[HTML_MIME_TYPE];\n",
       "      var script_attrs = bk_div.children[0].attributes;\n",
       "      for (var i = 0; i < script_attrs.length; i++) {\n",
       "        toinsert[0].firstChild.setAttribute(script_attrs[i].name, script_attrs[i].value);\n",
       "      }\n",
       "      // store reference to server id on output_area\n",
       "      output_area._bokeh_server_id = output.metadata[EXEC_MIME_TYPE][\"server_id\"];\n",
       "    }\n",
       "  }\n",
       "\n",
       "  function register_renderer(events, OutputArea) {\n",
       "\n",
       "    function append_mime(data, metadata, element) {\n",
       "      // create a DOM node to render to\n",
       "      var toinsert = this.create_output_subarea(\n",
       "        metadata,\n",
       "        CLASS_NAME,\n",
       "        EXEC_MIME_TYPE\n",
       "      );\n",
       "      this.keyboard_manager.register_events(toinsert);\n",
       "      // Render to node\n",
       "      var props = {data: data, metadata: metadata[EXEC_MIME_TYPE]};\n",
       "      render(props, toinsert[0]);\n",
       "      element.append(toinsert);\n",
       "      return toinsert\n",
       "    }\n",
       "\n",
       "    /* Handle when an output is cleared or removed */\n",
       "    events.on('clear_output.CodeCell', handleClearOutput);\n",
       "    events.on('delete.Cell', handleClearOutput);\n",
       "\n",
       "    /* Handle when a new output is added */\n",
       "    events.on('output_added.OutputArea', handleAddOutput);\n",
       "\n",
       "    /**\n",
       "     * Register the mime type and append_mime function with output_area\n",
       "     */\n",
       "    OutputArea.prototype.register_mime_type(EXEC_MIME_TYPE, append_mime, {\n",
       "      /* Is output safe? */\n",
       "      safe: true,\n",
       "      /* Index of renderer in `output_area.display_order` */\n",
       "      index: 0\n",
       "    });\n",
       "  }\n",
       "\n",
       "  // register the mime type if in Jupyter Notebook environment and previously unregistered\n",
       "  if (root.Jupyter !== undefined) {\n",
       "    var events = require('base/js/events');\n",
       "    var OutputArea = require('notebook/js/outputarea').OutputArea;\n",
       "\n",
       "    if (OutputArea.prototype.mime_types().indexOf(EXEC_MIME_TYPE) == -1) {\n",
       "      register_renderer(events, OutputArea);\n",
       "    }\n",
       "  }\n",
       "\n",
       "  \n",
       "  if (typeof (root._bokeh_timeout) === \"undefined\" || force === true) {\n",
       "    root._bokeh_timeout = Date.now() + 5000;\n",
       "    root._bokeh_failed_load = false;\n",
       "  }\n",
       "\n",
       "  var NB_LOAD_WARNING = {'data': {'text/html':\n",
       "     \"<div style='background-color: #fdd'>\\n\"+\n",
       "     \"<p>\\n\"+\n",
       "     \"BokehJS does not appear to have successfully loaded. If loading BokehJS from CDN, this \\n\"+\n",
       "     \"may be due to a slow or bad network connection. Possible fixes:\\n\"+\n",
       "     \"</p>\\n\"+\n",
       "     \"<ul>\\n\"+\n",
       "     \"<li>re-rerun `output_notebook()` to attempt to load from CDN again, or</li>\\n\"+\n",
       "     \"<li>use INLINE resources instead, as so:</li>\\n\"+\n",
       "     \"</ul>\\n\"+\n",
       "     \"<code>\\n\"+\n",
       "     \"from bokeh.resources import INLINE\\n\"+\n",
       "     \"output_notebook(resources=INLINE)\\n\"+\n",
       "     \"</code>\\n\"+\n",
       "     \"</div>\"}};\n",
       "\n",
       "  function display_loaded() {\n",
       "    var el = document.getElementById(\"98f6204e-f885-4fcc-b71a-eef9a4540649\");\n",
       "    if (el != null) {\n",
       "      el.textContent = \"BokehJS is loading...\";\n",
       "    }\n",
       "    if (root.Bokeh !== undefined) {\n",
       "      if (el != null) {\n",
       "        el.textContent = \"BokehJS \" + root.Bokeh.version + \" successfully loaded.\";\n",
       "      }\n",
       "    } else if (Date.now() < root._bokeh_timeout) {\n",
       "      setTimeout(display_loaded, 100)\n",
       "    }\n",
       "  }\n",
       "\n",
       "\n",
       "  function run_callbacks() {\n",
       "    try {\n",
       "      root._bokeh_onload_callbacks.forEach(function(callback) { callback() });\n",
       "    }\n",
       "    finally {\n",
       "      delete root._bokeh_onload_callbacks\n",
       "    }\n",
       "    console.info(\"Bokeh: all callbacks have finished\");\n",
       "  }\n",
       "\n",
       "  function load_libs(js_urls, callback) {\n",
       "    root._bokeh_onload_callbacks.push(callback);\n",
       "    if (root._bokeh_is_loading > 0) {\n",
       "      console.log(\"Bokeh: BokehJS is being loaded, scheduling callback at\", now());\n",
       "      return null;\n",
       "    }\n",
       "    if (js_urls == null || js_urls.length === 0) {\n",
       "      run_callbacks();\n",
       "      return null;\n",
       "    }\n",
       "    console.log(\"Bokeh: BokehJS not loaded, scheduling load and callback at\", now());\n",
       "    root._bokeh_is_loading = js_urls.length;\n",
       "    for (var i = 0; i < js_urls.length; i++) {\n",
       "      var url = js_urls[i];\n",
       "      var s = document.createElement('script');\n",
       "      s.src = url;\n",
       "      s.async = false;\n",
       "      s.onreadystatechange = s.onload = function() {\n",
       "        root._bokeh_is_loading--;\n",
       "        if (root._bokeh_is_loading === 0) {\n",
       "          console.log(\"Bokeh: all BokehJS libraries loaded\");\n",
       "          run_callbacks()\n",
       "        }\n",
       "      };\n",
       "      s.onerror = function() {\n",
       "        console.warn(\"failed to load library \" + url);\n",
       "      };\n",
       "      console.log(\"Bokeh: injecting script tag for BokehJS library: \", url);\n",
       "      document.getElementsByTagName(\"head\")[0].appendChild(s);\n",
       "    }\n",
       "  };var element = document.getElementById(\"98f6204e-f885-4fcc-b71a-eef9a4540649\");\n",
       "  if (element == null) {\n",
       "    console.log(\"Bokeh: ERROR: autoload.js configured with elementid '98f6204e-f885-4fcc-b71a-eef9a4540649' but no matching script tag was found. \")\n",
       "    return false;\n",
       "  }\n",
       "\n",
       "  var js_urls = [\"https://cdn.pydata.org/bokeh/release/bokeh-0.12.13.min.js\", \"https://cdn.pydata.org/bokeh/release/bokeh-widgets-0.12.13.min.js\", \"https://cdn.pydata.org/bokeh/release/bokeh-tables-0.12.13.min.js\", \"https://cdn.pydata.org/bokeh/release/bokeh-gl-0.12.13.min.js\"];\n",
       "\n",
       "  var inline_js = [\n",
       "    function(Bokeh) {\n",
       "      Bokeh.set_log_level(\"info\");\n",
       "    },\n",
       "    \n",
       "    function(Bokeh) {\n",
       "      \n",
       "    },\n",
       "    function(Bokeh) {\n",
       "      console.log(\"Bokeh: injecting CSS: https://cdn.pydata.org/bokeh/release/bokeh-0.12.13.min.css\");\n",
       "      Bokeh.embed.inject_css(\"https://cdn.pydata.org/bokeh/release/bokeh-0.12.13.min.css\");\n",
       "      console.log(\"Bokeh: injecting CSS: https://cdn.pydata.org/bokeh/release/bokeh-widgets-0.12.13.min.css\");\n",
       "      Bokeh.embed.inject_css(\"https://cdn.pydata.org/bokeh/release/bokeh-widgets-0.12.13.min.css\");\n",
       "      console.log(\"Bokeh: injecting CSS: https://cdn.pydata.org/bokeh/release/bokeh-tables-0.12.13.min.css\");\n",
       "      Bokeh.embed.inject_css(\"https://cdn.pydata.org/bokeh/release/bokeh-tables-0.12.13.min.css\");\n",
       "    }\n",
       "  ];\n",
       "\n",
       "  function run_inline_js() {\n",
       "    \n",
       "    if ((root.Bokeh !== undefined) || (force === true)) {\n",
       "      for (var i = 0; i < inline_js.length; i++) {\n",
       "        inline_js[i].call(root, root.Bokeh);\n",
       "      }if (force === true) {\n",
       "        display_loaded();\n",
       "      }} else if (Date.now() < root._bokeh_timeout) {\n",
       "      setTimeout(run_inline_js, 100);\n",
       "    } else if (!root._bokeh_failed_load) {\n",
       "      console.log(\"Bokeh: BokehJS failed to load within specified timeout.\");\n",
       "      root._bokeh_failed_load = true;\n",
       "    } else if (force !== true) {\n",
       "      var cell = $(document.getElementById(\"98f6204e-f885-4fcc-b71a-eef9a4540649\")).parents('.cell').data().cell;\n",
       "      cell.output_area.append_execute_result(NB_LOAD_WARNING)\n",
       "    }\n",
       "\n",
       "  }\n",
       "\n",
       "  if (root._bokeh_is_loading === 0) {\n",
       "    console.log(\"Bokeh: BokehJS loaded, going straight to plotting\");\n",
       "    run_inline_js();\n",
       "  } else {\n",
       "    load_libs(js_urls, function() {\n",
       "      console.log(\"Bokeh: BokehJS plotting callback run at\", now());\n",
       "      run_inline_js();\n",
       "    });\n",
       "  }\n",
       "}(window));"
      ],
      "application/vnd.bokehjs_load.v0+json": "\n(function(root) {\n  function now() {\n    return new Date();\n  }\n\n  var force = true;\n\n  if (typeof (root._bokeh_onload_callbacks) === \"undefined\" || force === true) {\n    root._bokeh_onload_callbacks = [];\n    root._bokeh_is_loading = undefined;\n  }\n\n  \n\n  \n  if (typeof (root._bokeh_timeout) === \"undefined\" || force === true) {\n    root._bokeh_timeout = Date.now() + 5000;\n    root._bokeh_failed_load = false;\n  }\n\n  var NB_LOAD_WARNING = {'data': {'text/html':\n     \"<div style='background-color: #fdd'>\\n\"+\n     \"<p>\\n\"+\n     \"BokehJS does not appear to have successfully loaded. If loading BokehJS from CDN, this \\n\"+\n     \"may be due to a slow or bad network connection. Possible fixes:\\n\"+\n     \"</p>\\n\"+\n     \"<ul>\\n\"+\n     \"<li>re-rerun `output_notebook()` to attempt to load from CDN again, or</li>\\n\"+\n     \"<li>use INLINE resources instead, as so:</li>\\n\"+\n     \"</ul>\\n\"+\n     \"<code>\\n\"+\n     \"from bokeh.resources import INLINE\\n\"+\n     \"output_notebook(resources=INLINE)\\n\"+\n     \"</code>\\n\"+\n     \"</div>\"}};\n\n  function display_loaded() {\n    var el = document.getElementById(\"98f6204e-f885-4fcc-b71a-eef9a4540649\");\n    if (el != null) {\n      el.textContent = \"BokehJS is loading...\";\n    }\n    if (root.Bokeh !== undefined) {\n      if (el != null) {\n        el.textContent = \"BokehJS \" + root.Bokeh.version + \" successfully loaded.\";\n      }\n    } else if (Date.now() < root._bokeh_timeout) {\n      setTimeout(display_loaded, 100)\n    }\n  }\n\n\n  function run_callbacks() {\n    try {\n      root._bokeh_onload_callbacks.forEach(function(callback) { callback() });\n    }\n    finally {\n      delete root._bokeh_onload_callbacks\n    }\n    console.info(\"Bokeh: all callbacks have finished\");\n  }\n\n  function load_libs(js_urls, callback) {\n    root._bokeh_onload_callbacks.push(callback);\n    if (root._bokeh_is_loading > 0) {\n      console.log(\"Bokeh: BokehJS is being loaded, scheduling callback at\", now());\n      return null;\n    }\n    if (js_urls == null || js_urls.length === 0) {\n      run_callbacks();\n      return null;\n    }\n    console.log(\"Bokeh: BokehJS not loaded, scheduling load and callback at\", now());\n    root._bokeh_is_loading = js_urls.length;\n    for (var i = 0; i < js_urls.length; i++) {\n      var url = js_urls[i];\n      var s = document.createElement('script');\n      s.src = url;\n      s.async = false;\n      s.onreadystatechange = s.onload = function() {\n        root._bokeh_is_loading--;\n        if (root._bokeh_is_loading === 0) {\n          console.log(\"Bokeh: all BokehJS libraries loaded\");\n          run_callbacks()\n        }\n      };\n      s.onerror = function() {\n        console.warn(\"failed to load library \" + url);\n      };\n      console.log(\"Bokeh: injecting script tag for BokehJS library: \", url);\n      document.getElementsByTagName(\"head\")[0].appendChild(s);\n    }\n  };var element = document.getElementById(\"98f6204e-f885-4fcc-b71a-eef9a4540649\");\n  if (element == null) {\n    console.log(\"Bokeh: ERROR: autoload.js configured with elementid '98f6204e-f885-4fcc-b71a-eef9a4540649' but no matching script tag was found. \")\n    return false;\n  }\n\n  var js_urls = [\"https://cdn.pydata.org/bokeh/release/bokeh-0.12.13.min.js\", \"https://cdn.pydata.org/bokeh/release/bokeh-widgets-0.12.13.min.js\", \"https://cdn.pydata.org/bokeh/release/bokeh-tables-0.12.13.min.js\", \"https://cdn.pydata.org/bokeh/release/bokeh-gl-0.12.13.min.js\"];\n\n  var inline_js = [\n    function(Bokeh) {\n      Bokeh.set_log_level(\"info\");\n    },\n    \n    function(Bokeh) {\n      \n    },\n    function(Bokeh) {\n      console.log(\"Bokeh: injecting CSS: https://cdn.pydata.org/bokeh/release/bokeh-0.12.13.min.css\");\n      Bokeh.embed.inject_css(\"https://cdn.pydata.org/bokeh/release/bokeh-0.12.13.min.css\");\n      console.log(\"Bokeh: injecting CSS: https://cdn.pydata.org/bokeh/release/bokeh-widgets-0.12.13.min.css\");\n      Bokeh.embed.inject_css(\"https://cdn.pydata.org/bokeh/release/bokeh-widgets-0.12.13.min.css\");\n      console.log(\"Bokeh: injecting CSS: https://cdn.pydata.org/bokeh/release/bokeh-tables-0.12.13.min.css\");\n      Bokeh.embed.inject_css(\"https://cdn.pydata.org/bokeh/release/bokeh-tables-0.12.13.min.css\");\n    }\n  ];\n\n  function run_inline_js() {\n    \n    if ((root.Bokeh !== undefined) || (force === true)) {\n      for (var i = 0; i < inline_js.length; i++) {\n        inline_js[i].call(root, root.Bokeh);\n      }if (force === true) {\n        display_loaded();\n      }} else if (Date.now() < root._bokeh_timeout) {\n      setTimeout(run_inline_js, 100);\n    } else if (!root._bokeh_failed_load) {\n      console.log(\"Bokeh: BokehJS failed to load within specified timeout.\");\n      root._bokeh_failed_load = true;\n    } else if (force !== true) {\n      var cell = $(document.getElementById(\"98f6204e-f885-4fcc-b71a-eef9a4540649\")).parents('.cell').data().cell;\n      cell.output_area.append_execute_result(NB_LOAD_WARNING)\n    }\n\n  }\n\n  if (root._bokeh_is_loading === 0) {\n    console.log(\"Bokeh: BokehJS loaded, going straight to plotting\");\n    run_inline_js();\n  } else {\n    load_libs(js_urls, function() {\n      console.log(\"Bokeh: BokehJS plotting callback run at\", now());\n      run_inline_js();\n    });\n  }\n}(window));"
     },
     "metadata": {},
     "output_type": "display_data"
    }
   ],
   "source": [
    "import numpy as np\n",
    "\n",
    "import pandas as pd\n",
    "from pandas import Series,DataFrame\n",
    "from bokeh.layouts import gridplot, row, column\n",
    "\n",
    "from bokeh.io import push_notebook, show, output_notebook\n",
    "from bokeh.plotting import figure\n",
    "\n",
    "from sklearn.datasets import load_boston\n",
    "\n",
    "# For very simple visualizations (without too much interaction, output_notebook works too, which we enable here)\n",
    "output_notebook()"
   ]
  },
  {
   "cell_type": "code",
   "execution_count": 3,
   "metadata": {},
   "outputs": [
    {
     "name": "stdout",
     "output_type": "stream",
     "text": [
      "dict_keys(['data', 'target', 'feature_names', 'DESCR'])\n",
      "Boston House Prices dataset\n",
      "===========================\n",
      "\n",
      "Notes\n",
      "------\n",
      "Data Set Characteristics:  \n",
      "\n",
      "    :Number of Instances: 506 \n",
      "\n",
      "    :Number of Attributes: 13 numeric/categorical predictive\n",
      "    \n",
      "    :Median Value (attribute 14) is usually the target\n",
      "\n",
      "    :Attribute Information (in order):\n",
      "        - CRIM     per capita crime rate by town\n",
      "        - ZN       proportion of residential land zoned for lots over 25,000 sq.ft.\n",
      "        - INDUS    proportion of non-retail business acres per town\n",
      "        - CHAS     Charles River dummy variable (= 1 if tract bounds river; 0 otherwise)\n",
      "        - NOX      nitric oxides concentration (parts per 10 million)\n",
      "        - RM       average number of rooms per dwelling\n",
      "        - AGE      proportion of owner-occupied units built prior to 1940\n",
      "        - DIS      weighted distances to five Boston employment centres\n",
      "        - RAD      index of accessibility to radial highways\n",
      "        - TAX      full-value property-tax rate per $10,000\n",
      "        - PTRATIO  pupil-teacher ratio by town\n",
      "        - B        1000(Bk - 0.63)^2 where Bk is the proportion of blacks by town\n",
      "        - LSTAT    % lower status of the population\n",
      "        - MEDV     Median value of owner-occupied homes in $1000's\n",
      "\n",
      "    :Missing Attribute Values: None\n",
      "\n",
      "    :Creator: Harrison, D. and Rubinfeld, D.L.\n",
      "\n",
      "This is a copy of UCI ML housing dataset.\n",
      "http://archive.ics.uci.edu/ml/datasets/Housing\n",
      "\n",
      "\n",
      "This dataset was taken from the StatLib library which is maintained at Carnegie Mellon University.\n",
      "\n",
      "The Boston house-price data of Harrison, D. and Rubinfeld, D.L. 'Hedonic\n",
      "prices and the demand for clean air', J. Environ. Economics & Management,\n",
      "vol.5, 81-102, 1978.   Used in Belsley, Kuh & Welsch, 'Regression diagnostics\n",
      "...', Wiley, 1980.   N.B. Various transformations are used in the table on\n",
      "pages 244-261 of the latter.\n",
      "\n",
      "The Boston house-price data has been used in many machine learning papers that address regression\n",
      "problems.   \n",
      "     \n",
      "**References**\n",
      "\n",
      "   - Belsley, Kuh & Welsch, 'Regression diagnostics: Identifying Influential Data and Sources of Collinearity', Wiley, 1980. 244-261.\n",
      "   - Quinlan,R. (1993). Combining Instance-Based and Model-Based Learning. In Proceedings on the Tenth International Conference of Machine Learning, 236-243, University of Massachusetts, Amherst. Morgan Kaufmann.\n",
      "   - many more! (see http://archive.ics.uci.edu/ml/datasets/Housing)\n",
      "\n"
     ]
    }
   ],
   "source": [
    "# Load the housing dataset - a dictionary\n",
    "boston = load_boston()\n",
    "print(boston.keys())\n",
    "# Let's see some details\n",
    "print(boston.DESCR)"
   ]
  },
  {
   "cell_type": "markdown",
   "metadata": {},
   "source": [
    "So with the above information we deduce that we have some variables stored under de `data` key, the names of each of these features stored in `feature_names`, and that we have their expected prices stored in `target`. We might as well whip the `data` into a DataFrame as well, while we are at it."
   ]
  },
  {
   "cell_type": "code",
   "execution_count": 4,
   "metadata": {},
   "outputs": [
    {
     "data": {
      "text/html": [
       "<div>\n",
       "<style scoped>\n",
       "    .dataframe tbody tr th:only-of-type {\n",
       "        vertical-align: middle;\n",
       "    }\n",
       "\n",
       "    .dataframe tbody tr th {\n",
       "        vertical-align: top;\n",
       "    }\n",
       "\n",
       "    .dataframe thead th {\n",
       "        text-align: right;\n",
       "    }\n",
       "</style>\n",
       "<table border=\"1\" class=\"dataframe\">\n",
       "  <thead>\n",
       "    <tr style=\"text-align: right;\">\n",
       "      <th></th>\n",
       "      <th>CRIM</th>\n",
       "      <th>ZN</th>\n",
       "      <th>INDUS</th>\n",
       "      <th>CHAS</th>\n",
       "      <th>NOX</th>\n",
       "      <th>RM</th>\n",
       "      <th>AGE</th>\n",
       "      <th>DIS</th>\n",
       "      <th>RAD</th>\n",
       "      <th>TAX</th>\n",
       "      <th>PTRATIO</th>\n",
       "      <th>B</th>\n",
       "      <th>LSTAT</th>\n",
       "      <th>Price</th>\n",
       "    </tr>\n",
       "  </thead>\n",
       "  <tbody>\n",
       "    <tr>\n",
       "      <th>0</th>\n",
       "      <td>0.00632</td>\n",
       "      <td>18.0</td>\n",
       "      <td>2.31</td>\n",
       "      <td>0.0</td>\n",
       "      <td>0.538</td>\n",
       "      <td>6.575</td>\n",
       "      <td>65.2</td>\n",
       "      <td>4.0900</td>\n",
       "      <td>1.0</td>\n",
       "      <td>296.0</td>\n",
       "      <td>15.3</td>\n",
       "      <td>396.90</td>\n",
       "      <td>4.98</td>\n",
       "      <td>24.0</td>\n",
       "    </tr>\n",
       "    <tr>\n",
       "      <th>1</th>\n",
       "      <td>0.02731</td>\n",
       "      <td>0.0</td>\n",
       "      <td>7.07</td>\n",
       "      <td>0.0</td>\n",
       "      <td>0.469</td>\n",
       "      <td>6.421</td>\n",
       "      <td>78.9</td>\n",
       "      <td>4.9671</td>\n",
       "      <td>2.0</td>\n",
       "      <td>242.0</td>\n",
       "      <td>17.8</td>\n",
       "      <td>396.90</td>\n",
       "      <td>9.14</td>\n",
       "      <td>21.6</td>\n",
       "    </tr>\n",
       "    <tr>\n",
       "      <th>2</th>\n",
       "      <td>0.02729</td>\n",
       "      <td>0.0</td>\n",
       "      <td>7.07</td>\n",
       "      <td>0.0</td>\n",
       "      <td>0.469</td>\n",
       "      <td>7.185</td>\n",
       "      <td>61.1</td>\n",
       "      <td>4.9671</td>\n",
       "      <td>2.0</td>\n",
       "      <td>242.0</td>\n",
       "      <td>17.8</td>\n",
       "      <td>392.83</td>\n",
       "      <td>4.03</td>\n",
       "      <td>34.7</td>\n",
       "    </tr>\n",
       "    <tr>\n",
       "      <th>3</th>\n",
       "      <td>0.03237</td>\n",
       "      <td>0.0</td>\n",
       "      <td>2.18</td>\n",
       "      <td>0.0</td>\n",
       "      <td>0.458</td>\n",
       "      <td>6.998</td>\n",
       "      <td>45.8</td>\n",
       "      <td>6.0622</td>\n",
       "      <td>3.0</td>\n",
       "      <td>222.0</td>\n",
       "      <td>18.7</td>\n",
       "      <td>394.63</td>\n",
       "      <td>2.94</td>\n",
       "      <td>33.4</td>\n",
       "    </tr>\n",
       "    <tr>\n",
       "      <th>4</th>\n",
       "      <td>0.06905</td>\n",
       "      <td>0.0</td>\n",
       "      <td>2.18</td>\n",
       "      <td>0.0</td>\n",
       "      <td>0.458</td>\n",
       "      <td>7.147</td>\n",
       "      <td>54.2</td>\n",
       "      <td>6.0622</td>\n",
       "      <td>3.0</td>\n",
       "      <td>222.0</td>\n",
       "      <td>18.7</td>\n",
       "      <td>396.90</td>\n",
       "      <td>5.33</td>\n",
       "      <td>36.2</td>\n",
       "    </tr>\n",
       "  </tbody>\n",
       "</table>\n",
       "</div>"
      ],
      "text/plain": [
       "      CRIM    ZN  INDUS  CHAS    NOX     RM   AGE     DIS  RAD    TAX  \\\n",
       "0  0.00632  18.0   2.31   0.0  0.538  6.575  65.2  4.0900  1.0  296.0   \n",
       "1  0.02731   0.0   7.07   0.0  0.469  6.421  78.9  4.9671  2.0  242.0   \n",
       "2  0.02729   0.0   7.07   0.0  0.469  7.185  61.1  4.9671  2.0  242.0   \n",
       "3  0.03237   0.0   2.18   0.0  0.458  6.998  45.8  6.0622  3.0  222.0   \n",
       "4  0.06905   0.0   2.18   0.0  0.458  7.147  54.2  6.0622  3.0  222.0   \n",
       "\n",
       "   PTRATIO       B  LSTAT  Price  \n",
       "0     15.3  396.90   4.98   24.0  \n",
       "1     17.8  396.90   9.14   21.6  \n",
       "2     17.8  392.83   4.03   34.7  \n",
       "3     18.7  394.63   2.94   33.4  \n",
       "4     18.7  396.90   5.33   36.2  "
      ]
     },
     "execution_count": 4,
     "metadata": {},
     "output_type": "execute_result"
    }
   ],
   "source": [
    "# set data as pandas DataFrame\n",
    "boston_df = DataFrame(boston.data)\n",
    "\n",
    "# label columns\n",
    "boston_df.columns = boston.feature_names\n",
    "\n",
    "# Add target prices\n",
    "boston_df['Price'] = boston.target\n",
    "\n",
    "#show\n",
    "boston_df.head()"
   ]
  },
  {
   "cell_type": "markdown",
   "metadata": {},
   "source": [
    "Let us now do an initial visualisation, to explore to some degree what we have"
   ]
  },
  {
   "cell_type": "code",
   "execution_count": 5,
   "metadata": {},
   "outputs": [
    {
     "data": {
      "text/html": [
       "\n",
       "<div class=\"bk-root\">\n",
       "    <div class=\"bk-plotdiv\" id=\"c0b07fa8-897e-4539-b8cc-0ab94161dbe9\"></div>\n",
       "</div>"
      ]
     },
     "metadata": {},
     "output_type": "display_data"
    },
    {
     "data": {
      "application/javascript": [
       "(function(root) {\n",
       "  function embed_document(root) {\n",
       "    \n",
       "  var docs_json = {\"b5959976-8a9e-45a7-8469-811edac5e755\":{\"roots\":{\"references\":[{\"attributes\":{\"plot\":null,\"text\":\"\"},\"id\":\"ef099afc-301b-4522-b7f5-baa7de767d93\",\"type\":\"Title\"},{\"attributes\":{\"callback\":null,\"column_names\":[\"left\",\"right\",\"top\"],\"data\":{\"left\":{\"__ndarray__\":\"AAAAAAAAFECamZmZmZkXQDMzMzMzMxtAzczMzMzMHkAzMzMzMzMhQAAAAAAAACNAzczMzMzMJECamZmZmZkmQGZmZmZmZihAMzMzMzMzKkAAAAAAAAAsQM3MzMzMzC1AmpmZmZmZL0A0MzMzM7MwQJqZmZmZmTFAAAAAAACAMkBmZmZmZmYzQM3MzMzMTDRAMzMzMzMzNUCamZmZmRk2QAAAAAAAADdAZ2ZmZmbmN0DNzMzMzMw4QDMzMzMzszlAmpmZmZmZOkAAAAAAAIA7QGdmZmZmZjxAzczMzMxMPUAzMzMzMzM+QJqZmZmZGT9AAAAAAAAAQEA0MzMzM3NAQGZmZmZm5kBAmpmZmZlZQUDNzMzMzMxBQAAAAAAAQEJAMzMzMzOzQkBnZmZmZiZDQJqZmZmZmUNAzczMzMwMREAAAAAAAIBEQDMzMzMz80RAZ2ZmZmZmRUCamZmZmdlFQM3MzMzMTEZAAAAAAADARkAzMzMzMzNHQGdmZmZmpkdAmpmZmZkZSEDNzMzMzIxIQA==\",\"dtype\":\"float64\",\"shape\":[50]},\"right\":{\"__ndarray__\":\"mpmZmZmZF0AzMzMzMzMbQM3MzMzMzB5AMzMzMzMzIUAAAAAAAAAjQM3MzMzMzCRAmpmZmZmZJkBmZmZmZmYoQDMzMzMzMypAAAAAAAAALEDNzMzMzMwtQJqZmZmZmS9ANDMzMzOzMECamZmZmZkxQAAAAAAAgDJAZmZmZmZmM0DNzMzMzEw0QDMzMzMzMzVAmpmZmZkZNkAAAAAAAAA3QGdmZmZm5jdAzczMzMzMOEAzMzMzM7M5QJqZmZmZmTpAAAAAAACAO0BnZmZmZmY8QM3MzMzMTD1AMzMzMzMzPkCamZmZmRk/QAAAAAAAAEBANDMzMzNzQEBmZmZmZuZAQJqZmZmZWUFAzczMzMzMQUAAAAAAAEBCQDMzMzMzs0JAZ2ZmZmYmQ0CamZmZmZlDQM3MzMzMDERAAAAAAACAREAzMzMzM/NEQGdmZmZmZkVAmpmZmZnZRUDNzMzMzExGQAAAAAAAwEZAMzMzMzMzR0BnZmZmZqZHQJqZmZmZGUhAzczMzMyMSEAAAAAAAABJQA==\",\"dtype\":\"float64\",\"shape\":[50]},\"top\":{\"__ndarray__\":\"fkc0g537ej8Ehc2sE/1hP76oZ27ieo8/xqhnbuJ6jz9+RzSDnft6P35HNIOd+4o//4TNrBP9kT9L5gCYWHyWP/+EzawT/ZE/L29nSMzbqT+vrAByQt2gP+8NNF2HXKU/rKhnbuJ6nz8Jhc2sE/2hP6o1ZyK2PKQ/z6hnbuJ6rz+UNWcitjy0P5BAmtRZTbA/HPEzSvyMsj/PqGdu4nqvP7uhzb+ezLQ/nL7N0imcpz+4rAByQt2gP/WEzawT/YE/z6hnbuJ6jz/QlpoN+7uYP6o1ZyK2PJQ/qjVnIrY8lD8y5gCYWHyGP8+oZ27ieo8/iqhnbuJ6jz8xhc2sE/2RP+GEzawT/XE/CYXNrBP9kT9L5gCYWHyGPwmFzawT/YE/4YTNrBP9cT8Jhc2sE/1hPwmFzawT/WE/AAAAAAAAAAAJhc2sE/1xP+GEzawT/XE/CYXNrBP9cT8Jhc2sE/1xPwmFzawT/XE/CYXNrBP9YT/hhM2sE/1hPwAAAAAAAAAAjkc0g537ej8Jhc2sE/2hPw==\",\"dtype\":\"float64\",\"shape\":[50]}}},\"id\":\"795fe249-c302-4573-b9cf-7bf4c22531a1\",\"type\":\"ColumnDataSource\"},{\"attributes\":{},\"id\":\"45fc5a30-7c94-432c-925d-18289d898cc2\",\"type\":\"PanTool\"},{\"attributes\":{},\"id\":\"34dd271c-589e-4a82-a277-15d486b4b352\",\"type\":\"BasicTicker\"},{\"attributes\":{\"bottom_units\":\"screen\",\"fill_alpha\":{\"value\":0.5},\"fill_color\":{\"value\":\"lightgrey\"},\"left_units\":\"screen\",\"level\":\"overlay\",\"line_alpha\":{\"value\":1.0},\"line_color\":{\"value\":\"black\"},\"line_dash\":[4,4],\"line_width\":{\"value\":2},\"plot\":null,\"render_mode\":\"css\",\"right_units\":\"screen\",\"top_units\":\"screen\"},\"id\":\"6b517cff-70bd-40f9-a8b4-061e2a378f1b\",\"type\":\"BoxAnnotation\"},{\"attributes\":{},\"id\":\"aff2cf3a-1e05-4452-bd05-9d02b1918012\",\"type\":\"WheelZoomTool\"},{\"attributes\":{},\"id\":\"648bc3cd-9e90-4f71-8447-910c1f3ca399\",\"type\":\"BasicTickFormatter\"},{\"attributes\":{\"overlay\":{\"id\":\"6b517cff-70bd-40f9-a8b4-061e2a378f1b\",\"type\":\"BoxAnnotation\"}},\"id\":\"fa2c2319-e655-4ccf-b324-37263032fbb5\",\"type\":\"BoxZoomTool\"},{\"attributes\":{},\"id\":\"74cd65d7-c438-4d98-86d6-6c2c9498dd73\",\"type\":\"SaveTool\"},{\"attributes\":{},\"id\":\"e88312ca-6561-4ba0-b94d-4079a0ee98df\",\"type\":\"LinearScale\"},{\"attributes\":{},\"id\":\"b1d2b0f4-3a23-47ec-8425-09710228050c\",\"type\":\"ResetTool\"},{\"attributes\":{\"axis_label\":\"Number of houses\",\"formatter\":{\"id\":\"092b2a8c-853d-4d86-b538-d5253378c7d3\",\"type\":\"BasicTickFormatter\"},\"plot\":{\"id\":\"5eb58ee6-3294-40c6-957f-b8519c47c2e2\",\"subtype\":\"Figure\",\"type\":\"Plot\"},\"ticker\":{\"id\":\"72fbd4c3-9c81-417c-9f51-73af456b4f13\",\"type\":\"BasicTicker\"}},\"id\":\"a01808fd-0d8a-4665-936d-e8dd934ad3f7\",\"type\":\"LinearAxis\"},{\"attributes\":{},\"id\":\"cc1e18d6-08ee-47d5-b363-78cd4b06f625\",\"type\":\"HelpTool\"},{\"attributes\":{\"data_source\":{\"id\":\"795fe249-c302-4573-b9cf-7bf4c22531a1\",\"type\":\"ColumnDataSource\"},\"glyph\":{\"id\":\"d520b925-4f6e-4a17-a049-076348ced178\",\"type\":\"Quad\"},\"hover_glyph\":null,\"muted_glyph\":null,\"nonselection_glyph\":{\"id\":\"ddf1ba98-9ead-406f-8559-e9b2a2e7f980\",\"type\":\"Quad\"},\"selection_glyph\":null,\"view\":{\"id\":\"8072f31e-476e-4b45-b659-76e373b6be6b\",\"type\":\"CDSView\"}},\"id\":\"6535c499-cef7-418b-abee-3c84a4a3f391\",\"type\":\"GlyphRenderer\"},{\"attributes\":{},\"id\":\"092b2a8c-853d-4d86-b538-d5253378c7d3\",\"type\":\"BasicTickFormatter\"},{\"attributes\":{\"active_drag\":\"auto\",\"active_inspect\":\"auto\",\"active_scroll\":\"auto\",\"active_tap\":\"auto\",\"tools\":[{\"id\":\"45fc5a30-7c94-432c-925d-18289d898cc2\",\"type\":\"PanTool\"},{\"id\":\"aff2cf3a-1e05-4452-bd05-9d02b1918012\",\"type\":\"WheelZoomTool\"},{\"id\":\"fa2c2319-e655-4ccf-b324-37263032fbb5\",\"type\":\"BoxZoomTool\"},{\"id\":\"74cd65d7-c438-4d98-86d6-6c2c9498dd73\",\"type\":\"SaveTool\"},{\"id\":\"b1d2b0f4-3a23-47ec-8425-09710228050c\",\"type\":\"ResetTool\"},{\"id\":\"cc1e18d6-08ee-47d5-b363-78cd4b06f625\",\"type\":\"HelpTool\"}]},\"id\":\"d93bf9f8-18c7-47f8-b516-fcab5a1613bd\",\"type\":\"Toolbar\"},{\"attributes\":{\"callback\":null},\"id\":\"349d3f9c-31d5-494f-9e79-24aab6c9513d\",\"type\":\"DataRange1d\"},{\"attributes\":{\"callback\":null},\"id\":\"7cb986ea-6f92-4b55-aea7-66cd2a0e6326\",\"type\":\"DataRange1d\"},{\"attributes\":{\"bottom\":{\"value\":0},\"fill_color\":{\"value\":\"#036564\"},\"left\":{\"field\":\"left\"},\"line_color\":{\"value\":\"#033649\"},\"right\":{\"field\":\"right\"},\"top\":{\"field\":\"top\"}},\"id\":\"d520b925-4f6e-4a17-a049-076348ced178\",\"type\":\"Quad\"},{\"attributes\":{\"bottom\":{\"value\":0},\"fill_alpha\":{\"value\":0.1},\"fill_color\":{\"value\":\"#1f77b4\"},\"left\":{\"field\":\"left\"},\"line_alpha\":{\"value\":0.1},\"line_color\":{\"value\":\"#1f77b4\"},\"right\":{\"field\":\"right\"},\"top\":{\"field\":\"top\"}},\"id\":\"ddf1ba98-9ead-406f-8559-e9b2a2e7f980\",\"type\":\"Quad\"},{\"attributes\":{},\"id\":\"699c0a80-d951-49c6-875e-90d1c5ccf9e9\",\"type\":\"LinearScale\"},{\"attributes\":{\"below\":[{\"id\":\"b19bcd7e-b382-44af-bad6-37444aaf6f5c\",\"type\":\"LinearAxis\"}],\"left\":[{\"id\":\"a01808fd-0d8a-4665-936d-e8dd934ad3f7\",\"type\":\"LinearAxis\"}],\"plot_height\":250,\"plot_width\":400,\"renderers\":[{\"id\":\"b19bcd7e-b382-44af-bad6-37444aaf6f5c\",\"type\":\"LinearAxis\"},{\"id\":\"bc788188-1d74-4e93-873d-fabd4e4e8a08\",\"type\":\"Grid\"},{\"id\":\"a01808fd-0d8a-4665-936d-e8dd934ad3f7\",\"type\":\"LinearAxis\"},{\"id\":\"1ce95ed0-3d0d-44d8-b946-3c288077e6ad\",\"type\":\"Grid\"},{\"id\":\"6b517cff-70bd-40f9-a8b4-061e2a378f1b\",\"type\":\"BoxAnnotation\"},{\"id\":\"6535c499-cef7-418b-abee-3c84a4a3f391\",\"type\":\"GlyphRenderer\"}],\"title\":{\"id\":\"ef099afc-301b-4522-b7f5-baa7de767d93\",\"type\":\"Title\"},\"toolbar\":{\"id\":\"d93bf9f8-18c7-47f8-b516-fcab5a1613bd\",\"type\":\"Toolbar\"},\"x_range\":{\"id\":\"349d3f9c-31d5-494f-9e79-24aab6c9513d\",\"type\":\"DataRange1d\"},\"x_scale\":{\"id\":\"699c0a80-d951-49c6-875e-90d1c5ccf9e9\",\"type\":\"LinearScale\"},\"y_range\":{\"id\":\"7cb986ea-6f92-4b55-aea7-66cd2a0e6326\",\"type\":\"DataRange1d\"},\"y_scale\":{\"id\":\"e88312ca-6561-4ba0-b94d-4079a0ee98df\",\"type\":\"LinearScale\"}},\"id\":\"5eb58ee6-3294-40c6-957f-b8519c47c2e2\",\"subtype\":\"Figure\",\"type\":\"Plot\"},{\"attributes\":{\"plot\":{\"id\":\"5eb58ee6-3294-40c6-957f-b8519c47c2e2\",\"subtype\":\"Figure\",\"type\":\"Plot\"},\"ticker\":{\"id\":\"34dd271c-589e-4a82-a277-15d486b4b352\",\"type\":\"BasicTicker\"}},\"id\":\"bc788188-1d74-4e93-873d-fabd4e4e8a08\",\"type\":\"Grid\"},{\"attributes\":{\"source\":{\"id\":\"795fe249-c302-4573-b9cf-7bf4c22531a1\",\"type\":\"ColumnDataSource\"}},\"id\":\"8072f31e-476e-4b45-b659-76e373b6be6b\",\"type\":\"CDSView\"},{\"attributes\":{\"dimension\":1,\"plot\":{\"id\":\"5eb58ee6-3294-40c6-957f-b8519c47c2e2\",\"subtype\":\"Figure\",\"type\":\"Plot\"},\"ticker\":{\"id\":\"72fbd4c3-9c81-417c-9f51-73af456b4f13\",\"type\":\"BasicTicker\"}},\"id\":\"1ce95ed0-3d0d-44d8-b946-3c288077e6ad\",\"type\":\"Grid\"},{\"attributes\":{},\"id\":\"72fbd4c3-9c81-417c-9f51-73af456b4f13\",\"type\":\"BasicTicker\"},{\"attributes\":{\"axis_label\":\"Price in $1000s\",\"formatter\":{\"id\":\"648bc3cd-9e90-4f71-8447-910c1f3ca399\",\"type\":\"BasicTickFormatter\"},\"plot\":{\"id\":\"5eb58ee6-3294-40c6-957f-b8519c47c2e2\",\"subtype\":\"Figure\",\"type\":\"Plot\"},\"ticker\":{\"id\":\"34dd271c-589e-4a82-a277-15d486b4b352\",\"type\":\"BasicTicker\"}},\"id\":\"b19bcd7e-b382-44af-bad6-37444aaf6f5c\",\"type\":\"LinearAxis\"}],\"root_ids\":[\"5eb58ee6-3294-40c6-957f-b8519c47c2e2\"]},\"title\":\"Bokeh Application\",\"version\":\"0.12.13\"}};\n",
       "  var render_items = [{\"docid\":\"b5959976-8a9e-45a7-8469-811edac5e755\",\"elementid\":\"c0b07fa8-897e-4539-b8cc-0ab94161dbe9\",\"modelid\":\"5eb58ee6-3294-40c6-957f-b8519c47c2e2\"}];\n",
       "  root.Bokeh.embed.embed_items_notebook(docs_json, render_items);\n",
       "\n",
       "  }\n",
       "  if (root.Bokeh !== undefined) {\n",
       "    embed_document(root);\n",
       "  } else {\n",
       "    var attempts = 0;\n",
       "    var timer = setInterval(function(root) {\n",
       "      if (root.Bokeh !== undefined) {\n",
       "        embed_document(root);\n",
       "        clearInterval(timer);\n",
       "      }\n",
       "      attempts++;\n",
       "      if (attempts > 100) {\n",
       "        console.log(\"Bokeh: ERROR: Unable to run BokehJS code because BokehJS library is missing\")\n",
       "        clearInterval(timer);\n",
       "      }\n",
       "    }, 10, root)\n",
       "  }\n",
       "})(window);"
      ],
      "application/vnd.bokehjs_exec.v0+json": ""
     },
     "metadata": {
      "application/vnd.bokehjs_exec.v0+json": {
       "id": "5eb58ee6-3294-40c6-957f-b8519c47c2e2"
      }
     },
     "output_type": "display_data"
    }
   ],
   "source": [
    "# Create the figure object\n",
    "f = figure(plot_width=400, plot_height=250)\n",
    "\n",
    "# Make a histogram\n",
    "hist, edges = np.histogram(boston_df[\"Price\"], density=True, bins=50)\n",
    "\n",
    "f.quad(top=hist, bottom=0, left=edges[:-1], right=edges[1:],\n",
    "        fill_color=\"#036564\", line_color=\"#033649\")\n",
    "\n",
    "## Add some axis information (after all, a plot without axis descriptions is nothing more than abstract art)\n",
    "f.xaxis.axis_label = \"Price in $1000s\"\n",
    "f.yaxis.axis_label = \"Number of houses\"\n",
    "\n",
    "show(f)"
   ]
  },
  {
   "cell_type": "markdown",
   "metadata": {},
   "source": [
    "I suppose it appears number of houses are quite dense near the $20.000 mark. Let us look into it a little further (before we actually start looking at the linear regression). We will plot the features, to see if we can find any correlation that could potential be used to predict the price with. We will inspect the first 6 features. Namely:\n",
    "\n",
    "* CRIM:     per capita crime rate by town\n",
    "* ZN:       proportion of residential land zoned for lots over 25,000 sq.ft.\n",
    "* INDUS:    proportion of non-retail business acres per town\n",
    "* CHAS:     Charles River dummy variable (= 1 if tract bounds river; 0 otherwise)\n",
    "* NOX:      nitric oxides concentration (parts per 10 million)\n",
    "* RM:       average number of rooms per dwelling"
   ]
  },
  {
   "cell_type": "code",
   "execution_count": 7,
   "metadata": {},
   "outputs": [
    {
     "name": "stdout",
     "output_type": "stream",
     "text": [
      "['CRIM' 'ZN' 'INDUS' 'CHAS' 'NOX' 'RM' 'AGE' 'DIS']\n"
     ]
    },
    {
     "data": {
      "text/html": [
       "\n",
       "<div class=\"bk-root\">\n",
       "    <div class=\"bk-plotdiv\" id=\"33ddbe18-3138-4afc-a73c-9b721df5ea3d\"></div>\n",
       "</div>"
      ]
     },
     "metadata": {},
     "output_type": "display_data"
    },
    {
     "data": {
      "application/javascript": [
       "(function(root) {\n",
       "  function embed_document(root) {\n",
       "    \n",
       "  var docs_json = {\"ec50125c-0bb9-48a1-b2f7-ef2989d05178\":{\"roots\":{\"references\":[{\"attributes\":{\"callback\":null,\"column_names\":[\"x\",\"y\"],\"data\":{\"x\":{\"__ndarray__\":\"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\",\"dtype\":\"float64\",\"shape\":[506]},\"y\":{\"__ndarray__\":\"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\",\"dtype\":\"float64\",\"shape\":[506]}}},\"id\":\"c92e332d-530f-4c27-bb31-0259e337c26f\",\"type\":\"ColumnDataSource\"},{\"attributes\":{},\"id\":\"47fb2337-cb61-4244-ab0c-b3a366ec1795\",\"type\":\"BasicTickFormatter\"},{\"attributes\":{\"fill_color\":{\"value\":\"#1f77b4\"},\"line_color\":{\"value\":\"#1f77b4\"},\"x\":{\"field\":\"x\"},\"y\":{\"field\":\"y\"}},\"id\":\"f11080b7-f024-4170-a44e-3f316660d488\",\"type\":\"Circle\"},{\"attributes\":{\"fill_alpha\":{\"value\":0.1},\"fill_color\":{\"value\":\"#1f77b4\"},\"line_alpha\":{\"value\":0.1},\"line_color\":{\"value\":\"#1f77b4\"},\"x\":{\"field\":\"x\"},\"y\":{\"field\":\"y\"}},\"id\":\"a5b91331-c2a6-4142-92e1-02862865a8af\",\"type\":\"Circle\"},{\"attributes\":{\"data_source\":{\"id\":\"c92e332d-530f-4c27-bb31-0259e337c26f\",\"type\":\"ColumnDataSource\"},\"glyph\":{\"id\":\"f11080b7-f024-4170-a44e-3f316660d488\",\"type\":\"Circle\"},\"hover_glyph\":null,\"muted_glyph\":null,\"nonselection_glyph\":{\"id\":\"a5b91331-c2a6-4142-92e1-02862865a8af\",\"type\":\"Circle\"},\"selection_glyph\":null,\"view\":{\"id\":\"e68d1e1b-dbc1-4275-aaa5-858b11658321\",\"type\":\"CDSView\"}},\"id\":\"5b39b876-41a4-487a-9732-9b5178feba22\",\"type\":\"GlyphRenderer\"},{\"attributes\":{\"source\":{\"id\":\"c92e332d-530f-4c27-bb31-0259e337c26f\",\"type\":\"ColumnDataSource\"}},\"id\":\"e68d1e1b-dbc1-4275-aaa5-858b11658321\",\"type\":\"CDSView\"},{\"attributes\":{},\"id\":\"223c2078-dc87-4760-8974-830e21ac3c3d\",\"type\":\"BasicTickFormatter\"},{\"attributes\":{\"plot\":null,\"text\":\"\"},\"id\":\"030ee343-8818-42bd-84f5-c423537cf06a\",\"type\":\"Title\"},{\"attributes\":{\"fill_color\":{\"value\":\"#1f77b4\"},\"line_color\":{\"value\":\"#1f77b4\"},\"x\":{\"field\":\"x\"},\"y\":{\"field\":\"y\"}},\"id\":\"cd047cf7-58a4-4940-94b9-803ca476656b\",\"type\":\"Circle\"},{\"attributes\":{},\"id\":\"cc6ad58b-847c-456a-be86-3a8fbe0300f6\",\"type\":\"BasicTickFormatter\"},{\"attributes\":{\"fill_alpha\":{\"value\":0.1},\"fill_color\":{\"value\":\"#1f77b4\"},\"line_alpha\":{\"value\":0.1},\"line_color\":{\"value\":\"#1f77b4\"},\"x\":{\"field\":\"x\"},\"y\":{\"field\":\"y\"}},\"id\":\"3c87b330-6d09-4782-9236-7ca2ae272eef\",\"type\":\"Circle\"},{\"attributes\":{\"plot\":null,\"text\":\"\"},\"id\":\"2bff8943-234e-4ea7-9876-db521151feda\",\"type\":\"Title\"},{\"attributes\":{\"callback\":null,\"column_names\":[\"x\",\"y\"],\"data\":{\"x\":{\"__ndarray__\":\"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\",\"dtype\":\"float64\",\"shape\":[506]},\"y\":{\"__ndarray__\":\"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\",\"dtype\":\"float64\",\"shape\":[506]}}},\"id\":\"ee0542aa-068b-4458-bc33-d0bddc2a990a\",\"type\":\"ColumnDataSource\"},{\"attributes\":{\"below\":[{\"id\":\"95e0bcc7-3f92-49de-8df6-f396a1cb69e0\",\"type\":\"LinearAxis\"}],\"left\":[{\"id\":\"3f9d20b7-aaad-44b4-b59a-d726ccce0d74\",\"type\":\"LinearAxis\"}],\"plot_height\":250,\"plot_width\":400,\"renderers\":[{\"id\":\"95e0bcc7-3f92-49de-8df6-f396a1cb69e0\",\"type\":\"LinearAxis\"},{\"id\":\"3ab53a3a-89bb-4a39-8e42-5938f8a84475\",\"type\":\"Grid\"},{\"id\":\"3f9d20b7-aaad-44b4-b59a-d726ccce0d74\",\"type\":\"LinearAxis\"},{\"id\":\"52e473e7-eaf8-41aa-828b-8470f18bb660\",\"type\":\"Grid\"},{\"id\":\"b7a571bf-ba70-4bf4-8d00-8a8d6e43c32e\",\"type\":\"BoxAnnotation\"},{\"id\":\"7e52563a-6549-47c7-9db1-f042ba610fc2\",\"type\":\"GlyphRenderer\"}],\"title\":{\"id\":\"2bff8943-234e-4ea7-9876-db521151feda\",\"type\":\"Title\"},\"toolbar\":{\"id\":\"5f0e2130-9f3b-4224-b8a9-7a7555a90d6e\",\"type\":\"Toolbar\"},\"toolbar_location\":null,\"x_range\":{\"id\":\"f256c60b-6e61-483a-bd30-e718f8f89965\",\"type\":\"DataRange1d\"},\"x_scale\":{\"id\":\"f84072e9-9f43-4acc-919c-f46d0cf330bb\",\"type\":\"LinearScale\"},\"y_range\":{\"id\":\"34fca4ba-4b35-487a-8dc9-490f99132421\",\"type\":\"DataRange1d\"},\"y_scale\":{\"id\":\"decb308f-ed65-447f-aadc-daaecad1f335\",\"type\":\"LinearScale\"}},\"id\":\"4b4ab4e3-7a55-4263-9880-393461bb33bf\",\"subtype\":\"Figure\",\"type\":\"Plot\"},{\"attributes\":{},\"id\":\"57359a7b-7489-4cb0-984c-98c132ee11ea\",\"type\":\"BasicTickFormatter\"},{\"attributes\":{\"data_source\":{\"id\":\"ee0542aa-068b-4458-bc33-d0bddc2a990a\",\"type\":\"ColumnDataSource\"},\"glyph\":{\"id\":\"cd047cf7-58a4-4940-94b9-803ca476656b\",\"type\":\"Circle\"},\"hover_glyph\":null,\"muted_glyph\":null,\"nonselection_glyph\":{\"id\":\"3c87b330-6d09-4782-9236-7ca2ae272eef\",\"type\":\"Circle\"},\"selection_glyph\":null,\"view\":{\"id\":\"2f562c39-f2a7-43bf-9ee4-9a9d581144e5\",\"type\":\"CDSView\"}},\"id\":\"7e52563a-6549-47c7-9db1-f042ba610fc2\",\"type\":\"GlyphRenderer\"},{\"attributes\":{\"callback\":null},\"id\":\"cd4ab9f5-ff8e-47d7-9d27-111979107e1f\",\"type\":\"DataRange1d\"},{\"attributes\":{\"source\":{\"id\":\"ee0542aa-068b-4458-bc33-d0bddc2a990a\",\"type\":\"ColumnDataSource\"}},\"id\":\"2f562c39-f2a7-43bf-9ee4-9a9d581144e5\",\"type\":\"CDSView\"},{\"attributes\":{},\"id\":\"8b71a2e4-7d5f-4921-981f-da90ee9a578a\",\"type\":\"LinearScale\"},{\"attributes\":{},\"id\":\"a0b27f85-31c7-4f65-9671-e643a997368b\",\"type\":\"BasicTickFormatter\"},{\"attributes\":{},\"id\":\"05913c13-11d0-4fe8-8563-5c1324a267df\",\"type\":\"BasicTicker\"},{\"attributes\":{\"callback\":null,\"column_names\":[\"x\",\"y\"],\"data\":{\"x\":{\"__ndarray__\":\"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\",\"dtype\":\"float64\",\"shape\":[506]},\"y\":{\"__ndarray__\":\"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\",\"dtype\":\"float64\",\"shape\":[506]}}},\"id\":\"125be9aa-1791-40c8-9253-bf57d8f82818\",\"type\":\"ColumnDataSource\"},{\"attributes\":{\"fill_color\":{\"value\":\"#1f77b4\"},\"line_color\":{\"value\":\"#1f77b4\"},\"x\":{\"field\":\"x\"},\"y\":{\"field\":\"y\"}},\"id\":\"207e10e4-a033-4d9a-b461-06e9fa4e79d1\",\"type\":\"Circle\"},{\"attributes\":{},\"id\":\"60109263-f558-42ac-8189-de89676b53da\",\"type\":\"BasicTickFormatter\"},{\"attributes\":{},\"id\":\"153bc178-030d-40b0-bc56-38616060fa3f\",\"type\":\"BasicTickFormatter\"},{\"attributes\":{},\"id\":\"55640bf8-ffb1-4af3-98e0-7468093d7e55\",\"type\":\"LinearScale\"},{\"attributes\":{\"plot\":{\"id\":\"a6d1f977-05e9-4883-a4dd-b224eed3ad39\",\"subtype\":\"Figure\",\"type\":\"Plot\"},\"ticker\":{\"id\":\"3e3c2b51-39aa-48e9-afe9-02fab7045f19\",\"type\":\"BasicTicker\"}},\"id\":\"ea3d333f-4200-48e4-9901-1709fa27d817\",\"type\":\"Grid\"},{\"attributes\":{\"plot\":null,\"text\":\"\"},\"id\":\"edb54abc-6fc0-4394-a7bf-8bc4557ee422\",\"type\":\"Title\"},{\"attributes\":{\"fill_alpha\":{\"value\":0.1},\"fill_color\":{\"value\":\"#1f77b4\"},\"line_alpha\":{\"value\":0.1},\"line_color\":{\"value\":\"#1f77b4\"},\"x\":{\"field\":\"x\"},\"y\":{\"field\":\"y\"}},\"id\":\"093e2211-0bce-4761-b2a7-73a4c7f0fefa\",\"type\":\"Circle\"},{\"attributes\":{\"data_source\":{\"id\":\"125be9aa-1791-40c8-9253-bf57d8f82818\",\"type\":\"ColumnDataSource\"},\"glyph\":{\"id\":\"207e10e4-a033-4d9a-b461-06e9fa4e79d1\",\"type\":\"Circle\"},\"hover_glyph\":null,\"muted_glyph\":null,\"nonselection_glyph\":{\"id\":\"093e2211-0bce-4761-b2a7-73a4c7f0fefa\",\"type\":\"Circle\"},\"selection_glyph\":null,\"view\":{\"id\":\"4ad0d574-5133-44c6-9af6-6264f1e33326\",\"type\":\"CDSView\"}},\"id\":\"237282f0-ba55-4c4e-97a0-88a2382d9abf\",\"type\":\"GlyphRenderer\"},{\"attributes\":{},\"id\":\"7794f1b1-92ba-4725-bcbb-6695ef4f4795\",\"type\":\"SaveTool\"},{\"attributes\":{\"source\":{\"id\":\"125be9aa-1791-40c8-9253-bf57d8f82818\",\"type\":\"ColumnDataSource\"}},\"id\":\"4ad0d574-5133-44c6-9af6-6264f1e33326\",\"type\":\"CDSView\"},{\"attributes\":{},\"id\":\"5948103a-cee9-4e09-8078-a1c1eee16e55\",\"type\":\"BasicTickFormatter\"},{\"attributes\":{\"callback\":null,\"column_names\":[\"x\",\"y\"],\"data\":{\"x\":{\"__ndarray__\":\"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\",\"dtype\":\"float64\",\"shape\":[506]},\"y\":{\"__ndarray__\":\"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\",\"dtype\":\"float64\",\"shape\":[506]}}},\"id\":\"00f25905-bf12-40c7-86f3-44e3373c985f\",\"type\":\"ColumnDataSource\"},{\"attributes\":{\"fill_color\":{\"value\":\"#1f77b4\"},\"line_color\":{\"value\":\"#1f77b4\"},\"x\":{\"field\":\"x\"},\"y\":{\"field\":\"y\"}},\"id\":\"dbea3c46-9fd8-4153-8690-b1bcde6b0117\",\"type\":\"Circle\"},{\"attributes\":{\"plot\":{\"id\":\"209ba218-4c4c-4e75-922c-bcf8249f9d09\",\"subtype\":\"Figure\",\"type\":\"Plot\"},\"ticker\":{\"id\":\"05913c13-11d0-4fe8-8563-5c1324a267df\",\"type\":\"BasicTicker\"}},\"id\":\"9972e85b-d944-4bb1-b2da-20a294672367\",\"type\":\"Grid\"},{\"attributes\":{},\"id\":\"69a46fb3-76c9-47fe-b60f-94a998e7a6eb\",\"type\":\"BasicTickFormatter\"},{\"attributes\":{\"plot\":null,\"text\":\"\"},\"id\":\"d2350f32-9064-4270-a8e4-a77f0834e8a6\",\"type\":\"Title\"},{\"attributes\":{},\"id\":\"443422b6-11be-4cb9-acba-d490efa98598\",\"type\":\"BasicTicker\"},{\"attributes\":{\"below\":[{\"id\":\"29682b9c-8fe6-4275-825a-9b3d109a71f2\",\"type\":\"LinearAxis\"}],\"left\":[{\"id\":\"249a23e7-804f-4ab7-bf95-461db0f4a1b8\",\"type\":\"LinearAxis\"}],\"plot_height\":250,\"plot_width\":400,\"renderers\":[{\"id\":\"29682b9c-8fe6-4275-825a-9b3d109a71f2\",\"type\":\"LinearAxis\"},{\"id\":\"73be73c5-b9ea-423c-a109-09d399eab44b\",\"type\":\"Grid\"},{\"id\":\"249a23e7-804f-4ab7-bf95-461db0f4a1b8\",\"type\":\"LinearAxis\"},{\"id\":\"e74fe238-f8f4-4abb-a114-1cf07e3ef149\",\"type\":\"Grid\"},{\"id\":\"ca2d7beb-1990-47c5-a1d2-1cf9f2690efc\",\"type\":\"BoxAnnotation\"},{\"id\":\"237282f0-ba55-4c4e-97a0-88a2382d9abf\",\"type\":\"GlyphRenderer\"}],\"title\":{\"id\":\"edb54abc-6fc0-4394-a7bf-8bc4557ee422\",\"type\":\"Title\"},\"toolbar\":{\"id\":\"ca655822-5f71-4aa9-9833-64150165fbb5\",\"type\":\"Toolbar\"},\"toolbar_location\":null,\"x_range\":{\"id\":\"dec1fc15-1598-4006-a55c-3806c67033e0\",\"type\":\"DataRange1d\"},\"x_scale\":{\"id\":\"f706c738-840a-49f3-9fcf-70ead6f619ac\",\"type\":\"LinearScale\"},\"y_range\":{\"id\":\"d84b97d0-53ed-40a0-a124-f85168fcf072\",\"type\":\"DataRange1d\"},\"y_scale\":{\"id\":\"27a33211-988e-44f4-9f87-2128c8dafcf2\",\"type\":\"LinearScale\"}},\"id\":\"6185446e-8fd7-485f-b0c8-a7381aa7a24a\",\"subtype\":\"Figure\",\"type\":\"Plot\"},{\"attributes\":{\"fill_alpha\":{\"value\":0.1},\"fill_color\":{\"value\":\"#1f77b4\"},\"line_alpha\":{\"value\":0.1},\"line_color\":{\"value\":\"#1f77b4\"},\"x\":{\"field\":\"x\"},\"y\":{\"field\":\"y\"}},\"id\":\"d279e95b-202f-425c-a3c2-6732836e5ea0\",\"type\":\"Circle\"},{\"attributes\":{\"data_source\":{\"id\":\"00f25905-bf12-40c7-86f3-44e3373c985f\",\"type\":\"ColumnDataSource\"},\"glyph\":{\"id\":\"dbea3c46-9fd8-4153-8690-b1bcde6b0117\",\"type\":\"Circle\"},\"hover_glyph\":null,\"muted_glyph\":null,\"nonselection_glyph\":{\"id\":\"d279e95b-202f-425c-a3c2-6732836e5ea0\",\"type\":\"Circle\"},\"selection_glyph\":null,\"view\":{\"id\":\"37df811e-921a-4669-96be-3d7916ee9343\",\"type\":\"CDSView\"}},\"id\":\"575cdeea-9fe0-4cdf-8a87-1ca55734ff06\",\"type\":\"GlyphRenderer\"},{\"attributes\":{\"source\":{\"id\":\"00f25905-bf12-40c7-86f3-44e3373c985f\",\"type\":\"ColumnDataSource\"}},\"id\":\"37df811e-921a-4669-96be-3d7916ee9343\",\"type\":\"CDSView\"},{\"attributes\":{\"children\":[{\"id\":\"a6d1f977-05e9-4883-a4dd-b224eed3ad39\",\"subtype\":\"Figure\",\"type\":\"Plot\"},{\"id\":\"209ba218-4c4c-4e75-922c-bcf8249f9d09\",\"subtype\":\"Figure\",\"type\":\"Plot\"}]},\"id\":\"b2cf42f5-7375-42a9-a156-add36c77e41e\",\"type\":\"Row\"},{\"attributes\":{\"children\":[{\"id\":\"6542038f-a050-465b-8aa6-53d2971daddc\",\"subtype\":\"Figure\",\"type\":\"Plot\"},{\"id\":\"db4257c6-557b-456a-8b0f-72d2b12d8103\",\"subtype\":\"Figure\",\"type\":\"Plot\"}]},\"id\":\"6b9b2db4-9089-47d8-99f1-12a071b20d00\",\"type\":\"Row\"},{\"attributes\":{\"bottom_units\":\"screen\",\"fill_alpha\":{\"value\":0.5},\"fill_color\":{\"value\":\"lightgrey\"},\"left_units\":\"screen\",\"level\":\"overlay\",\"line_alpha\":{\"value\":1.0},\"line_color\":{\"value\":\"black\"},\"line_dash\":[4,4],\"line_width\":{\"value\":2},\"plot\":null,\"render_mode\":\"css\",\"right_units\":\"screen\",\"top_units\":\"screen\"},\"id\":\"93565627-6580-45ff-bebe-cc30adb6f0f6\",\"type\":\"BoxAnnotation\"},{\"attributes\":{\"children\":[{\"id\":\"b2cf42f5-7375-42a9-a156-add36c77e41e\",\"type\":\"Row\"},{\"id\":\"6b9b2db4-9089-47d8-99f1-12a071b20d00\",\"type\":\"Row\"},{\"id\":\"a5b9b197-91cd-4e33-a3b5-164dd4fe6376\",\"type\":\"Row\"},{\"id\":\"a5e4c038-c502-4ed8-a8c3-6f45c6b5e529\",\"type\":\"Row\"}]},\"id\":\"4117fe50-3cf4-4ccb-9a48-d064af8a9bab\",\"type\":\"Column\"},{\"attributes\":{},\"id\":\"ed5ebfdc-d5a6-4a52-93d1-d049f33be543\",\"type\":\"PanTool\"},{\"attributes\":{\"dimension\":1,\"plot\":{\"id\":\"a6d1f977-05e9-4883-a4dd-b224eed3ad39\",\"subtype\":\"Figure\",\"type\":\"Plot\"},\"ticker\":{\"id\":\"443422b6-11be-4cb9-acba-d490efa98598\",\"type\":\"BasicTicker\"}},\"id\":\"a59def8e-ee45-43e6-b73b-4f6a6e179f31\",\"type\":\"Grid\"},{\"attributes\":{\"children\":[{\"id\":\"6185446e-8fd7-485f-b0c8-a7381aa7a24a\",\"subtype\":\"Figure\",\"type\":\"Plot\"},{\"id\":\"154bd7fe-c250-468a-9e6c-7dd5b8e64f3d\",\"subtype\":\"Figure\",\"type\":\"Plot\"}]},\"id\":\"a5e4c038-c502-4ed8-a8c3-6f45c6b5e529\",\"type\":\"Row\"},{\"attributes\":{\"children\":[{\"id\":\"18838f23-a61f-4454-9f75-80621f8619b1\",\"subtype\":\"Figure\",\"type\":\"Plot\"},{\"id\":\"4b4ab4e3-7a55-4263-9880-393461bb33bf\",\"subtype\":\"Figure\",\"type\":\"Plot\"}]},\"id\":\"a5b9b197-91cd-4e33-a3b5-164dd4fe6376\",\"type\":\"Row\"},{\"attributes\":{\"below\":[{\"id\":\"12039ef4-cb9f-404a-850a-8071979b4e10\",\"type\":\"LinearAxis\"}],\"left\":[{\"id\":\"a3f5fdf3-f35b-4c86-8be2-91c471102efc\",\"type\":\"LinearAxis\"}],\"plot_height\":250,\"plot_width\":400,\"renderers\":[{\"id\":\"12039ef4-cb9f-404a-850a-8071979b4e10\",\"type\":\"LinearAxis\"},{\"id\":\"a5d4c43d-efad-46ef-b8f7-9c5823fa191f\",\"type\":\"Grid\"},{\"id\":\"a3f5fdf3-f35b-4c86-8be2-91c471102efc\",\"type\":\"LinearAxis\"},{\"id\":\"765a2051-f6dd-440b-bf61-d444e89bc725\",\"type\":\"Grid\"},{\"id\":\"ba45e9bd-c38e-4b2e-89fc-8aeb7c035ea0\",\"type\":\"BoxAnnotation\"},{\"id\":\"7794c287-c826-415a-9530-0271d4c740a1\",\"type\":\"GlyphRenderer\"}],\"title\":{\"id\":\"6ecd2d5e-6e49-414a-84ad-10646cf3c5de\",\"type\":\"Title\"},\"toolbar\":{\"id\":\"ed68dbf6-324e-4d8d-a4ad-a3f394f7e6c9\",\"type\":\"Toolbar\"},\"toolbar_location\":null,\"x_range\":{\"id\":\"aeee819a-caf9-42a1-814a-df1663a2cc55\",\"type\":\"DataRange1d\"},\"x_scale\":{\"id\":\"d3ce316a-928d-43fe-b422-172c30d973ef\",\"type\":\"LinearScale\"},\"y_range\":{\"id\":\"9dac7320-9c76-4ee3-ac2d-003a55e67bce\",\"type\":\"DataRange1d\"},\"y_scale\":{\"id\":\"8952a9f9-0b55-4c74-aee7-e420674d05f4\",\"type\":\"LinearScale\"}},\"id\":\"db4257c6-557b-456a-8b0f-72d2b12d8103\",\"subtype\":\"Figure\",\"type\":\"Plot\"},{\"attributes\":{\"bottom_units\":\"screen\",\"fill_alpha\":{\"value\":0.5},\"fill_color\":{\"value\":\"lightgrey\"},\"left_units\":\"screen\",\"level\":\"overlay\",\"line_alpha\":{\"value\":1.0},\"line_color\":{\"value\":\"black\"},\"line_dash\":[4,4],\"line_width\":{\"value\":2},\"plot\":null,\"render_mode\":\"css\",\"right_units\":\"screen\",\"top_units\":\"screen\"},\"id\":\"425c2a33-5cdc-4689-ba46-dbe736e6fa47\",\"type\":\"BoxAnnotation\"},{\"attributes\":{\"callback\":null,\"column_names\":[\"x\",\"y\"],\"data\":{\"x\":{\"__ndarray__\":\"ibX4FADjeT8QQGoTJ/ebPzUHCObo8Zs/3ze+9sySoD/M7snDQq2xP1R0JJf/kJ4/0VeQZiyatj+qglFJnYDCP32zzY3pCcs/+YOB597DxT+3RZkNMsnMP8PYQpCDEr4/UtUEUfcBuD/Xhopx/ibkP0P/BBcrauQ/T8x6MZQT5D9bXyS05dzwPw6+MJkqGOk/VoLF4cyv6T9E+u3rwDnnP4Fbd/NUB/Q/a0jcY+lD6z9j0XR2MrjzPzdUjPM3oe8/GedvQiEC6D/ZWl8ktOXqPxxfe2ZJgOU/9u6P96qV7j8/UkSGVbzoP9IA3gIJCvA/D9b/OcwX8j8+y/Pg7qz1P/fMkgA1NfY/zGJi83Ft8j8DWyVYHM75P8xiYvNxbbA/Un5S7dPxuD/59xkXDoS0PysYldQJaMY/s82N6QlLnD/f/fFetTKhPwDjGTT0T8A/6SYxCKwcwj8SMSWS6GXEP2LWi6GcaL8/U67wLhfxxT+V8e8zLhzIPw0a+ie4WM0/j9/b9Gc/0D9vKlJhbCHMP4KQLGACt7Y/TUpBt5c0pj9TliGOdXGrP40LB0KygKk/XwfOGVHaiz+aJQFqatmKP+wvuycPC5U/wARu3c1TjT9pAG+BBMXDP420VN6OcLo/lMFR8uocwz9ftTLhl/rFPwrcupunOrw//tR46SYxwD+Yo8fvbfqTP9L7xteeWaI/QZ/Ik6Rrpj/A54cRwqOtPyhhpu1fWcE/1uJTAIxnwD+AgosVNZi2P+Db9Gc/UsQ/hGQBE7h1tz+Kk/sdigLJP2Yxsfm4NrQ/mQ0yychZuD/nGJC93v25P9F0djI4SrY/R3cQO1PorD+4kh0bgXi1P5DaxMn9DqU/8bp+wW7Ypj/Opbiq7LuiP8qmXOFdLqI/LWACt+7mqT8+6Nms+lytP6sJou4DkKo/A0NWt3pOsj9CPujZrPqsP/ZdEfxvJas/QQ5KmGn7pz/9TShEwCGkP77Z5sb0hKU/cT0K16NwnT8jZ2FPO/ylP3XIzXADPr8/3lm77UJzvT+RLGACt+6+P2gFhqxu9bQ/AG+BBMWPsT8Plxx3SgfDPzJaR1UTRL0/1QRR9wFIzT/11sBWCRbLP8rDQq1p3sE/mdNlMbH5wD8noImw4enFP2CwG7YtysA/F/GdmPViwD+PpQ9dUN/QPxrdQexMobs/je4gdqbQuT/HgOz17o+/P3XN5Jttbsw/umbyzTY3wj/mkT8YeO7FPw9iZwqd18A/bM8sCVBTwz+7fsFu2LbAP0ht4uR+h8I/KETAIVSpsT+BJsKGp1eyP+fj2lAxzrc/Onr83qY/wz+CqPsApDa5P4pZL4ZyosU/J8KGp1fK2D+gibDh6ZXQPzLJyFnY09Q/MzMzMzMz7D9rYKsEi8PVP59x4UBIFvM/UiegibDh4j8kRWRYxRvVPyLDKt7IPO8/t5xLcVXZ4T+DaRg+IqbUP1uU2SCTjNY/7zhFR3L5zz/NkgA1tWzhP3UCmggbntI/rVEP0egO+j/hC5OpgpEKQIiFWtO8YxBAdxA7U+g8BkBihPBo4wgDQFr1udqKPQFAUDblCu/yAkCgbMoV3qUCQAH20akr3wVAjNtoAG+B+j+NnIU97fD3Py0+BcB4BvI//bypSIUxAUCQMXctIZ/2P4FDqFKzRwxA3ze+9sySA0CHokCfyJPzP5UrvMtFfPU/sFWCxeHM9j8AOsyXF2D0P5lk5Czsafc/uiwmNh9X/T/LhF/q5034P1XejnBa8AFAMQisHFpkB0BN+KV+3hQAQD1Jumbyzfw/SL99HThnAkAqkUQvo5gDQMSUSKKXUfM/F7fRAN6CAkBXYMjqVs/BPwJIbeLkfrc/HT1+b9OftT8e/pqsUQ+xP0Ruhhvw+bE/LbKd76fGqz/G4cyv5gCxP9Xnaiv2l60/BOJ1/YLdsD/8NVmjHqKxPwRz9Pi9Tbc/dNL7xteeuT9NofMau0S1P706x4Ds9a4/5gXYR6eurD8pXI/C9Si0P7b4FADjGcA/6Nms+lxttT9JumbyzTa3P3CZ02UxsbE/PIOG/gkutj8w2A3bFmWWP7iSHRuBeI0/RrHc0mpIjD/TMHxETImkP2sOEMzR46c/CTNt/8pKoz9U46WbxCCgP9ttF5rrNJI/M8SxLm6joT/tuyL430qWPw3gLZCg+KE/URToE3mSlD/ZmULnNXbBP0rvG197Zs0/jdE6qpog0D9q9kArMGTBP/uRIjKs4ts/huY6jbRUxj+Uap+OxwzYP7BVgsXhzMs/sYo3Mo/8wT+coiO5/IfSPw0a+ie4WMk/1CtlGeJYpz9O7ncoCvSxP4OG/gkuVrw/c2iR7Xw/vT+0k8FR8urWP2QjEK/rF9o/FQDjGTT04z8IPZtVn6vjP8qmXOFdLtQ/PwCpTZzc4D+FlJ9U+3TYPxWRYRVvZNo/oaF/gosV0z9nuAGfH0bcP8l2vp8aL+E/U8vW+iKh3T8p6PaSxmjiP0m6ZvLNNtU/e0ljtI6q3D8Spb3BFybVPyp0XmOXqOA/4pLjTulg4D972uGvyRq1P+XVOQZkr7c/OL72zJIAvT/RlnMpriq7P4EmwoanV7o/MbH5uDZUwD//CS5W1GDKP+gwX16Afcg/j8cMVMa/1T/T9q+sNCnJP18M5US7CsU/ttsuNNdpyD+FfNCzWfXBPyxIMxZNZ8s/CHdn7bYLtT9b64uEtpzXPwYN/RNcrKg/JvxSP28qoj8djxmojH+PP1JEhlW8keM/7DTSUnk75T+IY13cRgPlPw3DR8SUSOE/83aE04IX4T8U7Sqk/KTgP39N1qiHaOo/0VeQZiya4T86WP/nMF/oP03zjlN0JOk/Gf8+48KB4j+yne+nxkvhP/fkYaHWNLc/9l0R/G8l0z85Yi0+BcDEPy0hH/RsVr0/LXjRV5BmzD/ZWl8ktOWsP2ebG9MTlrg/lN43vvbMuj/Jq3MMyF6vPyP430p2bLQ/6MHdWbvtyj+LprOTwVGiP5wzorQ3+KI/NsgkI2dhrz+TV+cYkL2OP1k0nZ0MjoI/UWaDTDJyhj+QMXctIR+UP/1qDhDM0aM/OdbFbTSApz/HEWvxKQCmP1luaTUk7qE/VWr2QCswtD9uNIC3QIKiP7ivA+eMKLU/r1qZ8Ev9tD8E/1vJjo3AP+FASBYwgas/6J/gYkUNwj8E/1vJjo2wPyk/qfbpeKw/WrvtQnOdpj/O34RCBByiP2O5pdWQuLc/mpmZmZmZuT9bsb/snjysP6+xS1RvDaw/hQg4hCo1sz8c0xOWeECpP8xAZfz7jN8/zTtO0ZFc1j+9GMqJdhUFQLPNjekJS+k/5CzsaYe/0D8hk4ychT3RP4y5awn5oNc/fLjkuFM60D8fEVMiiV7UP4idKXReY88/e6AVGLK62T/nqQ65GW7eP/mgZ7Pqc8U/A+yjU1c+xz/wUBToE3nWP12Kq8q+K9I/aoe/JmvU1T87jbRU3o7IP7JLVG8NbNM/tWytLxLazj8c8PlhhPCwP4Ko+wCkNrE/a0jcY+lDpz+AYI4ev7epP61u9Zz0vqE/SrVPx2MGqj+kiAyreCOjPytqMA3DR6Q/XcR3YtaLoT8yrOKNzCOfP5OMnIU97aA/hbGFIAclrD/nAMEcPX6vPxTtKqT8pIo/v2A3bFuUmT/uX1lpUgqaP5uPa0PFOJ8/46qy74rgnz8/HY8ZqIyvPxKlvcEXJpM/k1fnGJC9jj+r56T3ja+dP7BVgsXhzK8/JzEIrBxatD/sF+yGbYuyP3LEWnwKgJE/oUrNHmgFpj/TpBR0e0m7P2WNeohG9yFAI0p7gy/MDkB0QX3LnM4UQJZ4QNmUCxFAezGUE+0qEkCL4H8r2bEOQOnxe5v+bA1Aa9RDNLrjEEDPLAlQU8sLQGFPO/w1ORJA3pOHhVqTDUBB8WPMXQsrQNZz0vvGlxNAdeWzPA+uFkBkkpGzsCcaQLu4jQbwdiJARrbz/dSIIEAsZRniWDcmQAHeAgmKfzJAXf5D+u2bM0D6fmq8dJMuQIQqNXugpSNAZ0Rpb/ClN0B2cRsN4N0xQLyWkA96PlZAqz5XW7G/L0BWZd8VwV8iQH+8V61M+B9AL26jAbwVNECP5PIf0s8wQDAqqRPQZDhADXGsi9uYNkC0WfW52qosQHb9gt2wTSBAt2J/2T3ZG0AHX5hMFSwVQIC3QILiJydAtYmT+x1KIUCcM6K0N7gqQOXQItv5biFAPujZrPp8F0AcCMkCJrAeQMxdS8gHLUNAMEymCkbVI0B5WKg1zQs5QGKh1jTveCxA4syv5gAxI0AFNBE2PM04QIiFWtO8w0RACYofY+76UEAsZRniWLc0QIJzRpT25idAy7kUV5WdHUBxrIvbaOAsQP5l9+RhkUlAfdCzWfUZLEBWDi2ync8yQIC3QILipzxA1sVtNIDfRkDZPXlYqBUyQHqlLEMcqyVAG55eKcvwOUDKMsSxLmJSQOQUHcnlnydAP1dbsb8sJkDX3TzVIRccQJtVn6utGChA3UHsTKEzHEDaA63AkJUhQGN/2T15uC9AdCSX/5B+KEB4nKIjudRCQGQjEK/rdx1ABOJ1/YKtIkDOwp52+PsgQOQUHcnlHyRAuycPC7XGGUA0v5oDBFMWQDJVMCqp0ytAio7k8h9SJkBIUPwYc9csQNCzWfW5Wi5A0NVW7C9bK0BHrMWnAMgiQFvTvOMUDTZAptWQuMdyI0BfJLTlXKoWQDuNtFTe7iNAXynLEMeaKUBWfa62Yn/lP7vVc9L7JhlARGlv8IXZI0Cc4QZ8fqgiQNF5jV2iGh5AkL3e/fHeGkBr1EM0usMVQD9SRIZVXBRA5e0IpwV/IEAsfeiC+gYjQFH3AUhtAhNAsFWCxeGsEkCfdvhrsmYgQMNHxJRIAh9AMSWS6GU0G0DkZrgBnz8TQJY+dEF9iw1AO/w1WaOeGkANcayL20gXQM+Du7N2Wx9AOwFNhA1PCUDBbti2KDMOQP8EFytqsBFASZ2AJsImL0D129eBcyYqQPevrDQpZRFAgVt381QnEEA/HY8ZqIwMQBFwCFVqlhJAP+PCgZAcIEA0nZ0MjpIZQCOhLedSfBNA63O1FfsLLkCe76fGS3ckQLRZ9bnaqixAz04GR8lLF0ChuU4jLdUWQM2SADW17BZAlZo90AqMBkBI+Um1TwcDQN1e0hitYw1AMQisHFrEFkBI/mDguVcTQMgkI2dhT8M/f6SIDKt4xz9ZNJ2dDI7KP8QI4dHGEbs/OgZkr3d/vD/l7QinBS/GP4ZVvJF55NE/KdAn8iTpxj9/+zpwzojSP3ehuU4jLdE/CObo8Xubzj/6sx8pIsPGP38w8Nx7uMw/Y5y/CYUIsD/L1voioS2nP+tWz0nvG68/y/j3GRcOvD9nuAGfH0aoPw==\",\"dtype\":\"float64\",\"shape\":[506]},\"y\":{\"__ndarray__\":\"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\",\"dtype\":\"float64\",\"shape\":[506]}}},\"id\":\"0170fd4a-61e1-4eb7-9f74-e3c4c7587639\",\"type\":\"ColumnDataSource\"},{\"attributes\":{\"overlay\":{\"id\":\"93565627-6580-45ff-bebe-cc30adb6f0f6\",\"type\":\"BoxAnnotation\"}},\"id\":\"78f5b7bc-b8e1-4a33-934d-8fbb667cb1d7\",\"type\":\"BoxZoomTool\"},{\"attributes\":{},\"id\":\"94c688b7-87c5-484f-9667-11c98bb65830\",\"type\":\"ResetTool\"},{\"attributes\":{\"below\":[{\"id\":\"2ceef536-0f3d-4836-8f3c-a292d0bd1462\",\"type\":\"LinearAxis\"}],\"left\":[{\"id\":\"ba4df5d1-a970-40a3-abeb-71cbb6e6db59\",\"type\":\"LinearAxis\"}],\"plot_height\":250,\"plot_width\":400,\"renderers\":[{\"id\":\"2ceef536-0f3d-4836-8f3c-a292d0bd1462\",\"type\":\"LinearAxis\"},{\"id\":\"ab267799-7104-4c3c-bb2d-1a45f6bf4616\",\"type\":\"Grid\"},{\"id\":\"ba4df5d1-a970-40a3-abeb-71cbb6e6db59\",\"type\":\"LinearAxis\"},{\"id\":\"194c0b73-6fd6-49ad-8b65-76bbfc498eb3\",\"type\":\"Grid\"},{\"id\":\"929be886-f53e-4d8f-8fbe-beb9950b3ac0\",\"type\":\"BoxAnnotation\"},{\"id\":\"975e60e0-ee4a-45ab-83b8-1ad5183b3df6\",\"type\":\"GlyphRenderer\"}],\"title\":{\"id\":\"7de20eb0-48d4-4aa2-8dc7-11334ae8ba61\",\"type\":\"Title\"},\"toolbar\":{\"id\":\"6ed5f028-c39a-4cce-b62e-e17044aef6dd\",\"type\":\"Toolbar\"},\"toolbar_location\":null,\"x_range\":{\"id\":\"007c0339-34b4-462d-85e3-70756990f153\",\"type\":\"DataRange1d\"},\"x_scale\":{\"id\":\"b7eaf622-2a62-48fe-ac6a-aa05425afb32\",\"type\":\"LinearScale\"},\"y_range\":{\"id\":\"330b28a1-8a0d-4423-894a-07ae793b9f6d\",\"type\":\"DataRange1d\"},\"y_scale\":{\"id\":\"68e2fcca-14eb-4c8a-a4f3-e5eceae713da\",\"type\":\"LinearScale\"}},\"id\":\"6542038f-a050-465b-8aa6-53d2971daddc\",\"subtype\":\"Figure\",\"type\":\"Plot\"},{\"attributes\":{\"axis_label\":\"Price in $1000s\",\"formatter\":{\"id\":\"cc6ad58b-847c-456a-be86-3a8fbe0300f6\",\"type\":\"BasicTickFormatter\"},\"plot\":{\"id\":\"4b4ab4e3-7a55-4263-9880-393461bb33bf\",\"subtype\":\"Figure\",\"type\":\"Plot\"},\"ticker\":{\"id\":\"310e6124-0db9-4697-886e-8fd55e014351\",\"type\":\"BasicTicker\"}},\"id\":\"3f9d20b7-aaad-44b4-b59a-d726ccce0d74\",\"type\":\"LinearAxis\"},{\"attributes\":{\"dimension\":1,\"plot\":{\"id\":\"209ba218-4c4c-4e75-922c-bcf8249f9d09\",\"subtype\":\"Figure\",\"type\":\"Plot\"},\"ticker\":{\"id\":\"7b2ffb82-3c94-49b5-b5e5-7323f822be64\",\"type\":\"BasicTicker\"}},\"id\":\"07320bb8-daaf-4df7-aeca-c8a52da1f21c\",\"type\":\"Grid\"},{\"attributes\":{\"callback\":null},\"id\":\"87dc63b2-9af2-4fe9-8668-77d33503f5ae\",\"type\":\"DataRange1d\"},{\"attributes\":{\"callback\":null},\"id\":\"0abafae4-66e2-478a-9e36-e867a81fada8\",\"type\":\"DataRange1d\"},{\"attributes\":{},\"id\":\"caac3dd9-d391-4d03-a2c2-294c5ca5b062\",\"type\":\"WheelZoomTool\"},{\"attributes\":{},\"id\":\"310e6124-0db9-4697-886e-8fd55e014351\",\"type\":\"BasicTicker\"},{\"attributes\":{},\"id\":\"d421d40e-4436-46f0-a9c7-ce9c3ce7b41b\",\"type\":\"HelpTool\"},{\"attributes\":{\"active_drag\":\"auto\",\"active_inspect\":\"auto\",\"active_scroll\":\"auto\",\"active_tap\":\"auto\",\"tools\":[{\"id\":\"6a17ca38-5cb0-401b-930b-5e47d5217333\",\"type\":\"PanTool\"},{\"id\":\"bd2805b5-33a7-4d66-8fe6-56e21c486789\",\"type\":\"WheelZoomTool\"},{\"id\":\"436d1745-34d6-46ad-b27d-00ae712cafd1\",\"type\":\"BoxZoomTool\"},{\"id\":\"6ff9ef50-ebda-4aff-b9d8-00e3e54103b6\",\"type\":\"SaveTool\"},{\"id\":\"c788ac44-fdcb-46e0-86c8-798352758e22\",\"type\":\"ResetTool\"},{\"id\":\"255d7327-b9af-4cdc-8795-274a72163be1\",\"type\":\"HelpTool\"}]},\"id\":\"3fcc17e3-9d5d-41d5-92e3-25a8aee2456f\",\"type\":\"Toolbar\"},{\"attributes\":{},\"id\":\"e105cee2-e24d-484c-9bf2-f8c6203d36d6\",\"type\":\"LinearScale\"},{\"attributes\":{\"axis_label\":\"Price in $1000s\",\"formatter\":{\"id\":\"25cce404-c3db-4b03-9a90-fd9d76c948d0\",\"type\":\"BasicTickFormatter\"},\"plot\":{\"id\":\"209ba218-4c4c-4e75-922c-bcf8249f9d09\",\"subtype\":\"Figure\",\"type\":\"Plot\"},\"ticker\":{\"id\":\"7b2ffb82-3c94-49b5-b5e5-7323f822be64\",\"type\":\"BasicTicker\"}},\"id\":\"df0bdd66-6a1f-48af-a7dd-c25383e30a04\",\"type\":\"LinearAxis\"},{\"attributes\":{},\"id\":\"7b2ffb82-3c94-49b5-b5e5-7323f822be64\",\"type\":\"BasicTicker\"},{\"attributes\":{},\"id\":\"1ff47f76-487a-4b98-bade-e58cf60c6909\",\"type\":\"LinearScale\"},{\"attributes\":{\"axis_label\":\"Price in $1000s\",\"formatter\":{\"id\":\"d899df94-40cf-451a-a270-d2688bf15028\",\"type\":\"BasicTickFormatter\"},\"plot\":{\"id\":\"a6d1f977-05e9-4883-a4dd-b224eed3ad39\",\"subtype\":\"Figure\",\"type\":\"Plot\"},\"ticker\":{\"id\":\"443422b6-11be-4cb9-acba-d490efa98598\",\"type\":\"BasicTicker\"}},\"id\":\"d79466a4-f7de-472b-bf3a-df48c34a4e87\",\"type\":\"LinearAxis\"},{\"attributes\":{},\"id\":\"3e3c2b51-39aa-48e9-afe9-02fab7045f19\",\"type\":\"BasicTicker\"},{\"attributes\":{\"axis_label\":\"CRIM\",\"formatter\":{\"id\":\"60109263-f558-42ac-8189-de89676b53da\",\"type\":\"BasicTickFormatter\"},\"plot\":{\"id\":\"a6d1f977-05e9-4883-a4dd-b224eed3ad39\",\"subtype\":\"Figure\",\"type\":\"Plot\"},\"ticker\":{\"id\":\"3e3c2b51-39aa-48e9-afe9-02fab7045f19\",\"type\":\"BasicTicker\"}},\"id\":\"789166e8-acdf-43a4-b07b-90368506e7f6\",\"type\":\"LinearAxis\"},{\"attributes\":{\"axis_label\":\"ZN\",\"formatter\":{\"id\":\"a290f3ad-ac56-43f8-8f4f-d8bccb0a7758\",\"type\":\"BasicTickFormatter\"},\"plot\":{\"id\":\"209ba218-4c4c-4e75-922c-bcf8249f9d09\",\"subtype\":\"Figure\",\"type\":\"Plot\"},\"ticker\":{\"id\":\"05913c13-11d0-4fe8-8563-5c1324a267df\",\"type\":\"BasicTicker\"}},\"id\":\"61173bd9-4efc-46e5-a6cf-254a296fd7e5\",\"type\":\"LinearAxis\"},{\"attributes\":{\"callback\":null},\"id\":\"aeee819a-caf9-42a1-814a-df1663a2cc55\",\"type\":\"DataRange1d\"},{\"attributes\":{\"active_drag\":\"auto\",\"active_inspect\":\"auto\",\"active_scroll\":\"auto\",\"active_tap\":\"auto\",\"tools\":[{\"id\":\"f0c2cb9e-e00a-4cb1-ba51-e6a112b462af\",\"type\":\"PanTool\"},{\"id\":\"2031fa6a-1f21-47b1-9dd1-e99b9300f7c4\",\"type\":\"WheelZoomTool\"},{\"id\":\"78cc77e1-0aaf-4cb6-b40b-1b968fa8b178\",\"type\":\"BoxZoomTool\"},{\"id\":\"8e5c75db-74d2-4a7a-a3bf-ca8c13c95c03\",\"type\":\"SaveTool\"},{\"id\":\"a48adb0f-4c9b-42f6-b76c-11512bb8e0b9\",\"type\":\"ResetTool\"},{\"id\":\"1dbfd576-cf1a-4839-8c45-a4948ba9e679\",\"type\":\"HelpTool\"}]},\"id\":\"0054c0eb-e4cc-4d13-a3d0-8bd4d8d826e6\",\"type\":\"Toolbar\"},{\"attributes\":{\"callback\":null},\"id\":\"007c0339-34b4-462d-85e3-70756990f153\",\"type\":\"DataRange1d\"},{\"attributes\":{\"callback\":null},\"id\":\"dec1fc15-1598-4006-a55c-3806c67033e0\",\"type\":\"DataRange1d\"},{\"attributes\":{\"bottom_units\":\"screen\",\"fill_alpha\":{\"value\":0.5},\"fill_color\":{\"value\":\"lightgrey\"},\"left_units\":\"screen\",\"level\":\"overlay\",\"line_alpha\":{\"value\":1.0},\"line_color\":{\"value\":\"black\"},\"line_dash\":[4,4],\"line_width\":{\"value\":2},\"plot\":null,\"render_mode\":\"css\",\"right_units\":\"screen\",\"top_units\":\"screen\"},\"id\":\"9186e14b-674b-4816-986b-6c7632f2c8a7\",\"type\":\"BoxAnnotation\"},{\"attributes\":{\"active_drag\":\"auto\",\"active_inspect\":\"auto\",\"active_scroll\":\"auto\",\"active_tap\":\"auto\",\"tools\":[{\"id\":\"70ca23e1-e214-4eab-b441-25ceec3575db\",\"type\":\"PanTool\"},{\"id\":\"62fc2a85-b171-412d-b3eb-4fe55e73619d\",\"type\":\"WheelZoomTool\"},{\"id\":\"b65cffe2-79e6-42ed-ab21-9a8e04138d19\",\"type\":\"BoxZoomTool\"},{\"id\":\"c0e9532c-cd4b-4479-8d56-ccd3bed1ad38\",\"type\":\"SaveTool\"},{\"id\":\"1d83fd61-67c0-4c58-b494-a9145de877e8\",\"type\":\"ResetTool\"},{\"id\":\"42e8c2c7-e11c-4c28-b0d7-958ff929cbb3\",\"type\":\"HelpTool\"}]},\"id\":\"ca655822-5f71-4aa9-9833-64150165fbb5\",\"type\":\"Toolbar\"},{\"attributes\":{\"data_source\":{\"id\":\"0170fd4a-61e1-4eb7-9f74-e3c4c7587639\",\"type\":\"ColumnDataSource\"},\"glyph\":{\"id\":\"39572383-beba-49ca-8d73-5f94b16b7080\",\"type\":\"Circle\"},\"hover_glyph\":null,\"muted_glyph\":null,\"nonselection_glyph\":{\"id\":\"b0af7992-1ca1-432a-8632-5cbf957918f3\",\"type\":\"Circle\"},\"selection_glyph\":null,\"view\":{\"id\":\"902960d4-9c55-4fc5-8422-92619de77dde\",\"type\":\"CDSView\"}},\"id\":\"2b541dec-9667-4aba-9315-a5c33410d92d\",\"type\":\"GlyphRenderer\"},{\"attributes\":{},\"id\":\"6a17ca38-5cb0-401b-930b-5e47d5217333\",\"type\":\"PanTool\"},{\"attributes\":{\"callback\":null},\"id\":\"330b28a1-8a0d-4423-894a-07ae793b9f6d\",\"type\":\"DataRange1d\"},{\"attributes\":{\"bottom_units\":\"screen\",\"fill_alpha\":{\"value\":0.5},\"fill_color\":{\"value\":\"lightgrey\"},\"left_units\":\"screen\",\"level\":\"overlay\",\"line_alpha\":{\"value\":1.0},\"line_color\":{\"value\":\"black\"},\"line_dash\":[4,4],\"line_width\":{\"value\":2},\"plot\":null,\"render_mode\":\"css\",\"right_units\":\"screen\",\"top_units\":\"screen\"},\"id\":\"b7a571bf-ba70-4bf4-8d00-8a8d6e43c32e\",\"type\":\"BoxAnnotation\"},{\"attributes\":{},\"id\":\"bd2805b5-33a7-4d66-8fe6-56e21c486789\",\"type\":\"WheelZoomTool\"},{\"attributes\":{},\"id\":\"7a09cc21-adbd-46aa-8bc7-feb519f9d352\",\"type\":\"PanTool\"},{\"attributes\":{\"callback\":null},\"id\":\"d84b97d0-53ed-40a0-a124-f85168fcf072\",\"type\":\"DataRange1d\"},{\"attributes\":{\"overlay\":{\"id\":\"9186e14b-674b-4816-986b-6c7632f2c8a7\",\"type\":\"BoxAnnotation\"}},\"id\":\"436d1745-34d6-46ad-b27d-00ae712cafd1\",\"type\":\"BoxZoomTool\"},{\"attributes\":{},\"id\":\"6ff9ef50-ebda-4aff-b9d8-00e3e54103b6\",\"type\":\"SaveTool\"},{\"attributes\":{},\"id\":\"cfacdc38-b134-4283-be5d-94a4aab73d29\",\"type\":\"WheelZoomTool\"},{\"attributes\":{},\"id\":\"c788ac44-fdcb-46e0-86c8-798352758e22\",\"type\":\"ResetTool\"},{\"attributes\":{\"overlay\":{\"id\":\"b7a571bf-ba70-4bf4-8d00-8a8d6e43c32e\",\"type\":\"BoxAnnotation\"}},\"id\":\"6784c780-2b70-4054-ad4e-79855cd68132\",\"type\":\"BoxZoomTool\"},{\"attributes\":{},\"id\":\"255d7327-b9af-4cdc-8795-274a72163be1\",\"type\":\"HelpTool\"},{\"attributes\":{},\"id\":\"ef92d070-b2f0-42d1-9163-6d89b2607984\",\"type\":\"SaveTool\"},{\"attributes\":{\"plot\":{\"id\":\"6542038f-a050-465b-8aa6-53d2971daddc\",\"subtype\":\"Figure\",\"type\":\"Plot\"},\"ticker\":{\"id\":\"cb190774-2d26-48f0-9f51-fcb5093a1008\",\"type\":\"BasicTicker\"}},\"id\":\"ab267799-7104-4c3c-bb2d-1a45f6bf4616\",\"type\":\"Grid\"},{\"attributes\":{},\"id\":\"a2fc27c2-a2ee-4b35-9f39-035858f3561c\",\"type\":\"ResetTool\"},{\"attributes\":{},\"id\":\"b7eaf622-2a62-48fe-ac6a-aa05425afb32\",\"type\":\"LinearScale\"},{\"attributes\":{},\"id\":\"ae9fd120-3b4c-4423-9c7c-7701988c17ca\",\"type\":\"HelpTool\"},{\"attributes\":{},\"id\":\"68e2fcca-14eb-4c8a-a4f3-e5eceae713da\",\"type\":\"LinearScale\"},{\"attributes\":{\"plot\":{\"id\":\"6185446e-8fd7-485f-b0c8-a7381aa7a24a\",\"subtype\":\"Figure\",\"type\":\"Plot\"},\"ticker\":{\"id\":\"3465ceb1-6df6-4ff7-950a-3d70ff3cc959\",\"type\":\"BasicTicker\"}},\"id\":\"73be73c5-b9ea-423c-a109-09d399eab44b\",\"type\":\"Grid\"},{\"attributes\":{\"axis_label\":\"INDUS\",\"formatter\":{\"id\":\"e0a628c4-db0c-4716-8f06-b65e0717b8f7\",\"type\":\"BasicTickFormatter\"},\"plot\":{\"id\":\"6542038f-a050-465b-8aa6-53d2971daddc\",\"subtype\":\"Figure\",\"type\":\"Plot\"},\"ticker\":{\"id\":\"cb190774-2d26-48f0-9f51-fcb5093a1008\",\"type\":\"BasicTicker\"}},\"id\":\"2ceef536-0f3d-4836-8f3c-a292d0bd1462\",\"type\":\"LinearAxis\"},{\"attributes\":{},\"id\":\"f706c738-840a-49f3-9fcf-70ead6f619ac\",\"type\":\"LinearScale\"},{\"attributes\":{\"active_drag\":\"auto\",\"active_inspect\":\"auto\",\"active_scroll\":\"auto\",\"active_tap\":\"auto\",\"tools\":[{\"id\":\"e30f8553-7204-45ae-be5c-b63e1fd3aa5a\",\"type\":\"PanTool\"},{\"id\":\"6d0ca172-6c4f-4a90-8d7e-d625747acf08\",\"type\":\"WheelZoomTool\"},{\"id\":\"e0fec9ed-06f2-4370-9a28-3eabc3b45063\",\"type\":\"BoxZoomTool\"},{\"id\":\"06c28c5a-9be1-4f1c-85f5-31e06430ab8e\",\"type\":\"SaveTool\"},{\"id\":\"bce60538-e5e2-4cfe-af43-65253583f1b7\",\"type\":\"ResetTool\"},{\"id\":\"9f25168d-98e0-4861-9bde-92f2d1b0c20f\",\"type\":\"HelpTool\"}]},\"id\":\"178622aa-94f6-4eaf-b57f-efb557748ef2\",\"type\":\"Toolbar\"},{\"attributes\":{},\"id\":\"27a33211-988e-44f4-9f87-2128c8dafcf2\",\"type\":\"LinearScale\"},{\"attributes\":{\"axis_label\":\"Price in $1000s\",\"formatter\":{\"id\":\"d01c7fc0-dee6-4375-87bb-1937e6cc4a2d\",\"type\":\"BasicTickFormatter\"},\"plot\":{\"id\":\"6542038f-a050-465b-8aa6-53d2971daddc\",\"subtype\":\"Figure\",\"type\":\"Plot\"},\"ticker\":{\"id\":\"c8655a95-f6d6-47a1-9ef3-f19e469f244d\",\"type\":\"BasicTicker\"}},\"id\":\"ba4df5d1-a970-40a3-abeb-71cbb6e6db59\",\"type\":\"LinearAxis\"},{\"attributes\":{\"axis_label\":\"AGE\",\"formatter\":{\"id\":\"153bc178-030d-40b0-bc56-38616060fa3f\",\"type\":\"BasicTickFormatter\"},\"plot\":{\"id\":\"6185446e-8fd7-485f-b0c8-a7381aa7a24a\",\"subtype\":\"Figure\",\"type\":\"Plot\"},\"ticker\":{\"id\":\"3465ceb1-6df6-4ff7-950a-3d70ff3cc959\",\"type\":\"BasicTicker\"}},\"id\":\"29682b9c-8fe6-4275-825a-9b3d109a71f2\",\"type\":\"LinearAxis\"},{\"attributes\":{\"callback\":null},\"id\":\"7ee19439-bd68-4aca-a4ba-a76a278cf285\",\"type\":\"DataRange1d\"},{\"attributes\":{},\"id\":\"cb190774-2d26-48f0-9f51-fcb5093a1008\",\"type\":\"BasicTicker\"},{\"attributes\":{\"dimension\":1,\"plot\":{\"id\":\"6542038f-a050-465b-8aa6-53d2971daddc\",\"subtype\":\"Figure\",\"type\":\"Plot\"},\"ticker\":{\"id\":\"c8655a95-f6d6-47a1-9ef3-f19e469f244d\",\"type\":\"BasicTicker\"}},\"id\":\"194c0b73-6fd6-49ad-8b65-76bbfc498eb3\",\"type\":\"Grid\"},{\"attributes\":{\"axis_label\":\"Price in $1000s\",\"formatter\":{\"id\":\"57359a7b-7489-4cb0-984c-98c132ee11ea\",\"type\":\"BasicTickFormatter\"},\"plot\":{\"id\":\"6185446e-8fd7-485f-b0c8-a7381aa7a24a\",\"subtype\":\"Figure\",\"type\":\"Plot\"},\"ticker\":{\"id\":\"34e4314d-27a8-424c-a31c-3d3273891963\",\"type\":\"BasicTicker\"}},\"id\":\"249a23e7-804f-4ab7-bf95-461db0f4a1b8\",\"type\":\"LinearAxis\"},{\"attributes\":{},\"id\":\"c8655a95-f6d6-47a1-9ef3-f19e469f244d\",\"type\":\"BasicTicker\"},{\"attributes\":{},\"id\":\"3465ceb1-6df6-4ff7-950a-3d70ff3cc959\",\"type\":\"BasicTicker\"},{\"attributes\":{\"active_drag\":\"auto\",\"active_inspect\":\"auto\",\"active_scroll\":\"auto\",\"active_tap\":\"auto\",\"tools\":[{\"id\":\"013d9b59-bdb1-4163-b9af-6ae33057a9da\",\"type\":\"PanTool\"},{\"id\":\"ec081625-bff3-4ae4-9c50-57d45bee4584\",\"type\":\"WheelZoomTool\"},{\"id\":\"71f9c239-0e9a-48c4-896f-0b2b26a68c58\",\"type\":\"BoxZoomTool\"},{\"id\":\"c3da348a-cdf0-411c-ab4a-80b629e9da7e\",\"type\":\"SaveTool\"},{\"id\":\"7f88f997-f058-46ad-a964-4b93be354d80\",\"type\":\"ResetTool\"},{\"id\":\"adab211c-b7e0-4693-a327-adb8480f73e0\",\"type\":\"HelpTool\"}]},\"id\":\"ed68dbf6-324e-4d8d-a4ad-a3f394f7e6c9\",\"type\":\"Toolbar\"},{\"attributes\":{\"dimension\":1,\"plot\":{\"id\":\"6185446e-8fd7-485f-b0c8-a7381aa7a24a\",\"subtype\":\"Figure\",\"type\":\"Plot\"},\"ticker\":{\"id\":\"34e4314d-27a8-424c-a31c-3d3273891963\",\"type\":\"BasicTicker\"}},\"id\":\"e74fe238-f8f4-4abb-a114-1cf07e3ef149\",\"type\":\"Grid\"},{\"attributes\":{\"dimension\":1,\"plot\":{\"id\":\"4b4ab4e3-7a55-4263-9880-393461bb33bf\",\"subtype\":\"Figure\",\"type\":\"Plot\"},\"ticker\":{\"id\":\"310e6124-0db9-4697-886e-8fd55e014351\",\"type\":\"BasicTicker\"}},\"id\":\"52e473e7-eaf8-41aa-828b-8470f18bb660\",\"type\":\"Grid\"},{\"attributes\":{},\"id\":\"34e4314d-27a8-424c-a31c-3d3273891963\",\"type\":\"BasicTicker\"},{\"attributes\":{\"bottom_units\":\"screen\",\"fill_alpha\":{\"value\":0.5},\"fill_color\":{\"value\":\"lightgrey\"},\"left_units\":\"screen\",\"level\":\"overlay\",\"line_alpha\":{\"value\":1.0},\"line_color\":{\"value\":\"black\"},\"line_dash\":[4,4],\"line_width\":{\"value\":2},\"plot\":null,\"render_mode\":\"css\",\"right_units\":\"screen\",\"top_units\":\"screen\"},\"id\":\"929be886-f53e-4d8f-8fbe-beb9950b3ac0\",\"type\":\"BoxAnnotation\"},{\"attributes\":{\"fill_color\":{\"value\":\"#1f77b4\"},\"line_color\":{\"value\":\"#1f77b4\"},\"x\":{\"field\":\"x\"},\"y\":{\"field\":\"y\"}},\"id\":\"c7065e51-41ef-4dbf-93c3-35af7af64f3d\",\"type\":\"Circle\"},{\"attributes\":{\"below\":[{\"id\":\"8078ab1b-5503-475a-b506-66ba3d76f7a8\",\"type\":\"LinearAxis\"}],\"left\":[{\"id\":\"cf7c8bf2-cf18-43f5-ba20-8db9ed07724e\",\"type\":\"LinearAxis\"}],\"plot_height\":250,\"plot_width\":400,\"renderers\":[{\"id\":\"8078ab1b-5503-475a-b506-66ba3d76f7a8\",\"type\":\"LinearAxis\"},{\"id\":\"55dfbe83-bd82-418c-9113-a130583a546d\",\"type\":\"Grid\"},{\"id\":\"cf7c8bf2-cf18-43f5-ba20-8db9ed07724e\",\"type\":\"LinearAxis\"},{\"id\":\"c31426cb-0439-4701-b57c-b5850a95a11a\",\"type\":\"Grid\"},{\"id\":\"425c2a33-5cdc-4689-ba46-dbe736e6fa47\",\"type\":\"BoxAnnotation\"},{\"id\":\"575cdeea-9fe0-4cdf-8a87-1ca55734ff06\",\"type\":\"GlyphRenderer\"}],\"title\":{\"id\":\"d2350f32-9064-4270-a8e4-a77f0834e8a6\",\"type\":\"Title\"},\"toolbar\":{\"id\":\"0054c0eb-e4cc-4d13-a3d0-8bd4d8d826e6\",\"type\":\"Toolbar\"},\"toolbar_location\":null,\"x_range\":{\"id\":\"7ee19439-bd68-4aca-a4ba-a76a278cf285\",\"type\":\"DataRange1d\"},\"x_scale\":{\"id\":\"8b595bca-f249-4161-a3e3-acaf75c52454\",\"type\":\"LinearScale\"},\"y_range\":{\"id\":\"89fd2823-be92-49fb-8942-f7bce7d34a53\",\"type\":\"DataRange1d\"},\"y_scale\":{\"id\":\"c6d8310c-fde7-4fc6-aedc-3edd7bc9cac6\",\"type\":\"LinearScale\"}},\"id\":\"154bd7fe-c250-468a-9e6c-7dd5b8e64f3d\",\"subtype\":\"Figure\",\"type\":\"Plot\"},{\"attributes\":{},\"id\":\"d1ef1c2a-091a-4983-8431-12230066df8f\",\"type\":\"PanTool\"},{\"attributes\":{\"callback\":null},\"id\":\"9dac7320-9c76-4ee3-ac2d-003a55e67bce\",\"type\":\"DataRange1d\"},{\"attributes\":{\"bottom_units\":\"screen\",\"fill_alpha\":{\"value\":0.5},\"fill_color\":{\"value\":\"lightgrey\"},\"left_units\":\"screen\",\"level\":\"overlay\",\"line_alpha\":{\"value\":1.0},\"line_color\":{\"value\":\"black\"},\"line_dash\":[4,4],\"line_width\":{\"value\":2},\"plot\":null,\"render_mode\":\"css\",\"right_units\":\"screen\",\"top_units\":\"screen\"},\"id\":\"ca2d7beb-1990-47c5-a1d2-1cf9f2690efc\",\"type\":\"BoxAnnotation\"},{\"attributes\":{},\"id\":\"f9488755-8cba-4a38-a54f-e2f8be1060ee\",\"type\":\"WheelZoomTool\"},{\"attributes\":{},\"id\":\"70ca23e1-e214-4eab-b441-25ceec3575db\",\"type\":\"PanTool\"},{\"attributes\":{\"callback\":null},\"id\":\"89fd2823-be92-49fb-8942-f7bce7d34a53\",\"type\":\"DataRange1d\"},{\"attributes\":{\"overlay\":{\"id\":\"929be886-f53e-4d8f-8fbe-beb9950b3ac0\",\"type\":\"BoxAnnotation\"}},\"id\":\"ff4b08ae-49a4-4dd5-a3c0-cbda6ed514ae\",\"type\":\"BoxZoomTool\"},{\"attributes\":{},\"id\":\"1d79f472-9dde-433d-a2f7-f1722f43718b\",\"type\":\"SaveTool\"},{\"attributes\":{},\"id\":\"62fc2a85-b171-412d-b3eb-4fe55e73619d\",\"type\":\"WheelZoomTool\"},{\"attributes\":{},\"id\":\"651a7d43-a1dd-40a0-82ed-391f71b798bb\",\"type\":\"ResetTool\"},{\"attributes\":{\"overlay\":{\"id\":\"ca2d7beb-1990-47c5-a1d2-1cf9f2690efc\",\"type\":\"BoxAnnotation\"}},\"id\":\"b65cffe2-79e6-42ed-ab21-9a8e04138d19\",\"type\":\"BoxZoomTool\"},{\"attributes\":{},\"id\":\"948bc7be-dce4-4333-b389-dda592446649\",\"type\":\"HelpTool\"},{\"attributes\":{},\"id\":\"c0e9532c-cd4b-4479-8d56-ccd3bed1ad38\",\"type\":\"SaveTool\"},{\"attributes\":{\"plot\":{\"id\":\"db4257c6-557b-456a-8b0f-72d2b12d8103\",\"subtype\":\"Figure\",\"type\":\"Plot\"},\"ticker\":{\"id\":\"2af94c79-ab9f-46b1-886c-228e9ec755cd\",\"type\":\"BasicTicker\"}},\"id\":\"a5d4c43d-efad-46ef-b8f7-9c5823fa191f\",\"type\":\"Grid\"},{\"attributes\":{},\"id\":\"1d83fd61-67c0-4c58-b494-a9145de877e8\",\"type\":\"ResetTool\"},{\"attributes\":{},\"id\":\"d3ce316a-928d-43fe-b422-172c30d973ef\",\"type\":\"LinearScale\"},{\"attributes\":{},\"id\":\"42e8c2c7-e11c-4c28-b0d7-958ff929cbb3\",\"type\":\"HelpTool\"},{\"attributes\":{},\"id\":\"8952a9f9-0b55-4c74-aee7-e420674d05f4\",\"type\":\"LinearScale\"},{\"attributes\":{\"plot\":{\"id\":\"154bd7fe-c250-468a-9e6c-7dd5b8e64f3d\",\"subtype\":\"Figure\",\"type\":\"Plot\"},\"ticker\":{\"id\":\"7a774ead-1a1b-407a-9ac5-7a4fea5c7b3a\",\"type\":\"BasicTicker\"}},\"id\":\"55dfbe83-bd82-418c-9113-a130583a546d\",\"type\":\"Grid\"},{\"attributes\":{\"axis_label\":\"CHAS\",\"formatter\":{\"id\":\"aa1b8dc4-f6b5-4a3e-8e92-f02a75f1e31e\",\"type\":\"BasicTickFormatter\"},\"plot\":{\"id\":\"db4257c6-557b-456a-8b0f-72d2b12d8103\",\"subtype\":\"Figure\",\"type\":\"Plot\"},\"ticker\":{\"id\":\"2af94c79-ab9f-46b1-886c-228e9ec755cd\",\"type\":\"BasicTicker\"}},\"id\":\"12039ef4-cb9f-404a-850a-8071979b4e10\",\"type\":\"LinearAxis\"},{\"attributes\":{},\"id\":\"8b595bca-f249-4161-a3e3-acaf75c52454\",\"type\":\"LinearScale\"},{\"attributes\":{\"callback\":null},\"id\":\"845a4240-4743-466c-a4dc-6f64e1a3afb8\",\"type\":\"DataRange1d\"},{\"attributes\":{},\"id\":\"c6d8310c-fde7-4fc6-aedc-3edd7bc9cac6\",\"type\":\"LinearScale\"},{\"attributes\":{\"axis_label\":\"Price in $1000s\",\"formatter\":{\"id\":\"13112c7e-a9a3-4389-a8bb-2e6e6802f19d\",\"type\":\"BasicTickFormatter\"},\"plot\":{\"id\":\"db4257c6-557b-456a-8b0f-72d2b12d8103\",\"subtype\":\"Figure\",\"type\":\"Plot\"},\"ticker\":{\"id\":\"f3429e88-07e6-49c4-8a63-35033451ca09\",\"type\":\"BasicTicker\"}},\"id\":\"a3f5fdf3-f35b-4c86-8be2-91c471102efc\",\"type\":\"LinearAxis\"},{\"attributes\":{\"axis_label\":\"DIS\",\"formatter\":{\"id\":\"69a46fb3-76c9-47fe-b60f-94a998e7a6eb\",\"type\":\"BasicTickFormatter\"},\"plot\":{\"id\":\"154bd7fe-c250-468a-9e6c-7dd5b8e64f3d\",\"subtype\":\"Figure\",\"type\":\"Plot\"},\"ticker\":{\"id\":\"7a774ead-1a1b-407a-9ac5-7a4fea5c7b3a\",\"type\":\"BasicTicker\"}},\"id\":\"8078ab1b-5503-475a-b506-66ba3d76f7a8\",\"type\":\"LinearAxis\"},{\"attributes\":{\"source\":{\"id\":\"0170fd4a-61e1-4eb7-9f74-e3c4c7587639\",\"type\":\"ColumnDataSource\"}},\"id\":\"902960d4-9c55-4fc5-8422-92619de77dde\",\"type\":\"CDSView\"},{\"attributes\":{},\"id\":\"2af94c79-ab9f-46b1-886c-228e9ec755cd\",\"type\":\"BasicTicker\"},{\"attributes\":{\"dimension\":1,\"plot\":{\"id\":\"db4257c6-557b-456a-8b0f-72d2b12d8103\",\"subtype\":\"Figure\",\"type\":\"Plot\"},\"ticker\":{\"id\":\"f3429e88-07e6-49c4-8a63-35033451ca09\",\"type\":\"BasicTicker\"}},\"id\":\"765a2051-f6dd-440b-bf61-d444e89bc725\",\"type\":\"Grid\"},{\"attributes\":{\"axis_label\":\"Price in $1000s\",\"formatter\":{\"id\":\"5948103a-cee9-4e09-8078-a1c1eee16e55\",\"type\":\"BasicTickFormatter\"},\"plot\":{\"id\":\"154bd7fe-c250-468a-9e6c-7dd5b8e64f3d\",\"subtype\":\"Figure\",\"type\":\"Plot\"},\"ticker\":{\"id\":\"6e9334c7-60e3-4ff6-9760-be76172bbde1\",\"type\":\"BasicTicker\"}},\"id\":\"cf7c8bf2-cf18-43f5-ba20-8db9ed07724e\",\"type\":\"LinearAxis\"},{\"attributes\":{},\"id\":\"f3429e88-07e6-49c4-8a63-35033451ca09\",\"type\":\"BasicTicker\"},{\"attributes\":{},\"id\":\"7a774ead-1a1b-407a-9ac5-7a4fea5c7b3a\",\"type\":\"BasicTicker\"},{\"attributes\":{},\"id\":\"f84072e9-9f43-4acc-919c-f46d0cf330bb\",\"type\":\"LinearScale\"},{\"attributes\":{\"dimension\":1,\"plot\":{\"id\":\"154bd7fe-c250-468a-9e6c-7dd5b8e64f3d\",\"subtype\":\"Figure\",\"type\":\"Plot\"},\"ticker\":{\"id\":\"6e9334c7-60e3-4ff6-9760-be76172bbde1\",\"type\":\"BasicTicker\"}},\"id\":\"c31426cb-0439-4701-b57c-b5850a95a11a\",\"type\":\"Grid\"},{\"attributes\":{\"below\":[{\"id\":\"66c50c67-e3cd-4981-bb0d-93289e630379\",\"type\":\"LinearAxis\"}],\"left\":[{\"id\":\"b54fde15-700f-4b37-80e5-4be1768bd795\",\"type\":\"LinearAxis\"}],\"plot_height\":250,\"plot_width\":400,\"renderers\":[{\"id\":\"66c50c67-e3cd-4981-bb0d-93289e630379\",\"type\":\"LinearAxis\"},{\"id\":\"8f3c3a63-7b02-4597-8edd-2f89382d9cd2\",\"type\":\"Grid\"},{\"id\":\"b54fde15-700f-4b37-80e5-4be1768bd795\",\"type\":\"LinearAxis\"},{\"id\":\"84892458-79d2-499d-9f40-b7b72c59062a\",\"type\":\"Grid\"},{\"id\":\"962d6695-7f9e-473e-bd27-8ef9712fda15\",\"type\":\"BoxAnnotation\"},{\"id\":\"5b39b876-41a4-487a-9732-9b5178feba22\",\"type\":\"GlyphRenderer\"}],\"title\":{\"id\":\"030ee343-8818-42bd-84f5-c423537cf06a\",\"type\":\"Title\"},\"toolbar\":{\"id\":\"178622aa-94f6-4eaf-b57f-efb557748ef2\",\"type\":\"Toolbar\"},\"toolbar_location\":null,\"x_range\":{\"id\":\"845a4240-4743-466c-a4dc-6f64e1a3afb8\",\"type\":\"DataRange1d\"},\"x_scale\":{\"id\":\"8029a0ba-bb23-4f9d-8444-0249cfa93192\",\"type\":\"LinearScale\"},\"y_range\":{\"id\":\"21f14a6f-f0fc-4323-be18-4b48cad1f765\",\"type\":\"DataRange1d\"},\"y_scale\":{\"id\":\"390e591c-e42c-4775-a7bc-dfebbeaed35a\",\"type\":\"LinearScale\"}},\"id\":\"18838f23-a61f-4454-9f75-80621f8619b1\",\"subtype\":\"Figure\",\"type\":\"Plot\"},{\"attributes\":{},\"id\":\"6e9334c7-60e3-4ff6-9760-be76172bbde1\",\"type\":\"BasicTicker\"},{\"attributes\":{\"bottom_units\":\"screen\",\"fill_alpha\":{\"value\":0.5},\"fill_color\":{\"value\":\"lightgrey\"},\"left_units\":\"screen\",\"level\":\"overlay\",\"line_alpha\":{\"value\":1.0},\"line_color\":{\"value\":\"black\"},\"line_dash\":[4,4],\"line_width\":{\"value\":2},\"plot\":null,\"render_mode\":\"css\",\"right_units\":\"screen\",\"top_units\":\"screen\"},\"id\":\"ba45e9bd-c38e-4b2e-89fc-8aeb7c035ea0\",\"type\":\"BoxAnnotation\"},{\"attributes\":{\"fill_alpha\":{\"value\":0.1},\"fill_color\":{\"value\":\"#1f77b4\"},\"line_alpha\":{\"value\":0.1},\"line_color\":{\"value\":\"#1f77b4\"},\"x\":{\"field\":\"x\"},\"y\":{\"field\":\"y\"}},\"id\":\"b0af7992-1ca1-432a-8632-5cbf957918f3\",\"type\":\"Circle\"},{\"attributes\":{\"callback\":null,\"column_names\":[\"x\",\"y\"],\"data\":{\"x\":{\"__ndarray__\":\"AAAAAAAAMkAAAAAAAAAAAAAAAAAAAAAAAAAAAAAAAAAAAAAAAAAAAAAAAAAAAAAAAAAAAAAAKUAAAAAAAAApQAAAAAAAAClAAAAAAAAAKUAAAAAAAAApQAAAAAAAAClAAAAAAAAAKUAAAAAAAAAAAAAAAAAAAAAAAAAAAAAAAAAAAAAAAAAAAAAAAAAAAAAAAAAAAAAAAAAAAAAAAAAAAAAAAAAAAAAAAAAAAAAAAAAAAAAAAAAAAAAAAAAAAAAAAAAAAAAAAAAAAAAAAAAAAAAAAAAAAAAAAAAAAAAAAAAAAAAAAAAAAAAAAAAAAAAAAAAAAAAAAAAAAAAAAAAAAAAAAAAAAAAAAAAAAAAAAAAAAAAAAAAAAAAAAAAAAAAAAAAAAAAAAAAAAAAAAAAAAAAAAAAAAAAAAAAAAADAUkAAAAAAAMBSQAAAAAAAAAAAAAAAAAAAAAAAAAAAAAAAAAAAAAAAAAAAAAAAAAAAAAAAAAAAAAAAAAAAAAAAAAAAAAAAAAAAAAAAAAAAAAAAAAAAAAAAADVAAAAAAAAANUAAAAAAAAA1QAAAAAAAADVAAAAAAADAUkAAAAAAAIBWQAAAAAAAQFVAAAAAAAAAWUAAAAAAAAA5QAAAAAAAADlAAAAAAAAAOUAAAAAAAAA5QAAAAAAAADlAAAAAAAAAOUAAAAAAAIAxQAAAAAAAAFRAAAAAAAAAVEAAAAAAAAApQAAAAAAAAClAAAAAAAAAKUAAAAAAAAAAAAAAAAAAAAAAAAAAAAAAAAAAAAAAAAAAAAAAAAAAAAAAAAAAAAAAAAAAAAAAAAAAAAAAAAAAAAAAAAAAAAAAAAAAAAAAAAAAAAAAAAAAADlAAAAAAAAAOUAAAAAAAAA5QAAAAAAAADlAAAAAAAAAAAAAAAAAAAAAAAAAAAAAAAAAAAAAAAAAAAAAAAAAAAAAAAAAAAAAAAAAAAAAAAAAAAAAAAAAAAAAAAAAAAAAADxAAAAAAAAAPEAAAAAAAAA8QAAAAAAAAAAAAAAAAAAAAAAAAAAAAAAAAAAAAAAAAAAAAAAAAAAAAAAAAAAAAAAAAAAAAAAAAAAAAAAAAAAAAAAAAAAAAAAAAAAAAAAAAAAAAAAAAAAAAAAAAAAAAAAAAAAAAAAAAAAAAAAAAAAAAAAAAAAAAAAAAAAAAAAAAAAAAAAAAAAAAAAAAAAAAAAAAAAAAAAAAAAAAAAAAAAAAAAAAAAAAAAAAAAAAAAAAAAAAAAAAAAAAAAAAAAAAAAAAAAAAAAAAAAAAAAAAAAAAAAAAAAAAAAAAAAAAAAAAAAAAAAAAAAAAAAAAAAAAAAAAAAAAAAAAAAAAAAAAAAAAAAAAAAAAAAAAAAAAAAAAAAAAAAAAAAAAAAAAAAAAAAAAAAAAAAAAAAAAAAAAAAAAAAAAAAAAAAAAAAAAAAAAAAAAAAAAAAAAAAAAAAAAAAAAAAAAAAAAAAAAAAAAAAAAAAAAAAAAAAAAAAAAAAAAAAAAAAAAAAAAAAAAAAAAAAAAAAAAAAAAAAAAAAAAAAAAAAAAAAAAAAAAAAAAAAAAAAAAAAAAAAAAAAAAAAAAAAAAAAAAAAAAAAAAAAAAAAAAAAAAAAAAAAAAAAAAAAAAAAAAAAAAAAAAAAAAAAAAAAAAAAAAAAAAAAAAAAAAAAAAAAAAAAAAAAAAAAAAAAAAAAAAAAAAAAAAAAAAAAAAAAAAAAAAAAAAAAAAAAAAAAAAAAAAAAAAAAAAAAAAAAAAAAAAAAAAAAAAAAAAAAAAAAAAAAAAAAAAAAAAAAAAAAAAAAAAAAAAAAAAAAAAAAAAAAAAAAAAAAAAAAAAAAAAAAAAAAAAAAAAAAAAAAAAAAAAAAAAAAAAAAAAAAAAAAAAAAAAAAAAAAAAAAAAAAAAAAAAAAAAAAAAAAAAAAAAAAAAAAAAAAAAAAAAAAAAAAAAAAAAAAAAAAAAAAAAAAAAAAAAAAAAAAAAAAAAAAAAAAAAAAAAAAAAIBGQAAAAAAAgEZAAAAAAACARkAAAAAAAIBGQAAAAAAAgEZAAAAAAACARkAAAAAAAABOQAAAAAAAAE5AAAAAAAAAVEAAAAAAAABUQAAAAAAAAFRAAAAAAAAAVEAAAAAAAMBXQAAAAAAAwFdAAAAAAACgVEAAAAAAAKBUQAAAAAAAwFdAAAAAAADAV0AAAAAAAAAAAAAAAAAAAAAAAAAAAAAAAAAAAAAAAAAAAAAAAAAAAAAAAAAAAAAAAAAAAAAAAAAAAAAAAAAAAAAAAAAAAAAAAAAAAAAAAAAAAAAAAAAAAAAAAAAAAAAAAAAAAAAAAAAAAAAAAAAAAAAAAAAAAAAAAAAAAAAAAAAAAAAAAAAAAAAAAAAAAAAAAAAAAAAAAAAAAAAAAAAAAAAAAAAAAAAAAAAAAAAAAAAAAAAAAAAAAAAAAAAAAAAAAAAAAAAAAAAAAAAAAAAAAAAAAAAAAAAAAAAAAAAAAAAAAAAAAAAAAAAAAAAAAAAAAAAAAAAAAAAAAAAAAAAAAAAAAAAAAAAAAAAAAAAAAAA+QAAAAAAAAD5AAAAAAAAAPkAAAAAAAAA+QAAAAAAAAD5AAAAAAAAAPkAAAAAAAAA2QAAAAAAAADZAAAAAAAAANkAAAAAAAAA2QAAAAAAAADZAAAAAAAAANkAAAAAAAAA2QAAAAAAAADZAAAAAAAAANkAAAAAAAAA2QAAAAAAAAFRAAAAAAAAAVEAAAAAAAIBWQAAAAAAAADRAAAAAAAAANEAAAAAAAAA0QAAAAAAAADRAAAAAAAAANEAAAAAAAAA0QAAAAAAAADRAAAAAAAAANEAAAAAAAAA0QAAAAAAAADRAAAAAAAAANEAAAAAAAAA0QAAAAAAAADRAAAAAAAAANEAAAAAAAAA0QAAAAAAAADRAAAAAAAAANEAAAAAAAABEQAAAAAAAAERAAAAAAAAAREAAAAAAAABEQAAAAAAAAERAAAAAAAAANEAAAAAAAAA0QAAAAAAAADRAAAAAAAAANEAAAAAAAIBWQAAAAAAAgFZAAAAAAACAS0AAAAAAAABUQAAAAAAAQEpAAAAAAABASkAAAAAAAEBKQAAAAAAAAFRAAAAAAAAAVEAAAAAAAABUQAAAAAAAAAAAAAAAAAAAAAAAAAAAAAAAAAAAAAAAAAAAAAAAAAAAAAAAAAAAAIBRQAAAAAAAgFFAAAAAAACAUUAAAAAAAABBQAAAAAAAAEFAAAAAAAAAQUAAAAAAAIBAQAAAAAAAgEBAAAAAAACAQEAAAAAAAIBAQAAAAAAAAAAAAAAAAAAAAAAAAAAAAAAAAAAAAAAAAAAAAAAAAAAAAAAAAAAAAAAAAAAAAAAAAAAAAAAAAAAAAAAAAAAAAAAAAAAAAAAAAAAAAAAAAAAAAAAAAAAAAAAAAAAAAAAAAAAAAAAAAAAAAAAAAAAAAAAAAAAAAAAAAAAAAAAAAAAAAAAAAAAAAAAAAAAAAAAAAAAAAAAAAAAAAAAAAAAAAAAAAAAAAAAAAAAAAAAAAAAAAAAAAAAAAIBBQAAAAAAAgEFAAAAAAAAAAAAAAAAAAAAAAAAAAAAAAAAAAAAAAAAAAAAAAAAAAAAAAAAAAAAAAAAAAAAAAAAAAAAAAAAAAAAAAAAAAAAAgEFAAAAAAAAAAAAAAAAAAIBLQAAAAAAAgEtAAAAAAAAAAAAAAAAAAAAAAAAAAAAAQFVAAAAAAAAAVEAAAAAAAABEQAAAAAAAAERAAAAAAAAATkAAAAAAAABOQAAAAAAAgFZAAAAAAAAAVEAAAAAAAABUQAAAAAAAAAAAAAAAAAAAAAAAAAAAAAAAAAAAAAAAAAAAAAAAAAAAAAAAAAAAAAAAAAAAAAAAAAAAAAAAAAAAAAAAAAAAAAAAAAAAAAAAAAAAAAAAAAAAAAAAAAAAAAAAAAAAAAAAAAAAAAAAAAAAAAAAAAAAAAAAAAAAAAAAAAAAAAAAAAAAAAAAAAAAAAAAAAAAAAAAAAAAAAAAAAAAAAAAAAAAAAAAAAAAAAAAAAAAAAAAAAAAAAAAAAAAAAAAAAAAAAAAAAAAAAAAAAAAAAAAAAAAAAAAAAAAAAAAAAAAAAAAAAAAAAAAAAAAAAAAAAAAAAAAAAAAAAAAAAAAAAAAAAAAAAAAAAAAAAAAAAAAAAAAAAAAAAAAAAAAAAAAAAAAAAAAAAAAAAAAAAAAAAAAAAAAAAAAAAAAAAAAAAAAAAAAAAAAAAAAAAAAAAAAAAAAAAAAAAAAAAAAAAAAAAAAAAAAAAAAAAAAAAAAAAAAAAAAAAAAAAAAAAAAAAAAAAAAAAAAAAAAAAAAAAAAAAAAAAAAAAAAAAAAAAAAAAAAAAAAAAAAAAAAAAAAAAAAAAAAAAAAAAAAAAAAAAAAAAAAAAAAAAAAAAAAAAAAAAAAAAAAAAAAAAAAAAAAAAAAAAAAAAAAAAAAAAAAAAAAAAAAAAAAAAAAAAAAAAAAAAAAAAAAAAAAAAAAAAAAAAAAAAAAAAAAAAAAAAAAAAAAAAAAAAAAAAAAAAAAAAAAAAAAAAAAAAAAAAAAAAAAAAAAAAAAAAAAAAAAAAAAAAAAAAAAAAAAAAAAAAAAAAAAAAAAAAAAAAAAAAAAAAAAAAAAAAAAAAAAAAAAAAAAAAAAAAAAAAAAAAAAAAAAAAAAAAAAAAAAAAAAAAAAAAAAAAAAAAAAAAAAAAAAAAAAAAAAAAAAAAAAAAAAAAAAAAAAAAAAAAAAAAAAAAAAAAAAAAAAAAAAAAAAAAAAAAAAAAAAAAAAAAAAAAAAAAAAAAAAAAAAAAAAAAAAAAAAAAAAAAAAAAAAAAAAAAAAAAAAAAAAAAAAAAAAAAAAAAAAAAAAAAAAAAAAAAAAAAAAAAAAAAAAAAAAAAAAAAAAAAAAAAAAAAAAAAAAAAAAAAAAAAAAAAAAAAAAAAAAAAAAAAAAAAAAAAAAAAAAAAAAAAAAAAAAAAAAAAAAAAAAAAAAAAAAAAAAAAAAAAAAAAAAAAAAAAAAAAAAAAAAAAAAAAAAAAAAAAAAAAAAAAAAAAAAAAAAAAAAAAAAAAAAAAAAAAAAAAAAAAAAAAAAAAAAAAAAAAAAAAAAAAAAAAAAAAAAAAAAAAAAAAAAAAAAAAAAAAAAAAAAAAAAAAAAAAAAAAAAAAAAAAAAAAAAAAAAAAAAAAAAAAAAAAAAAAAAAAAAAAAAAAAAAAAAAAAAAAAAAAAAAAAAAAAAAAAAAAAAAAAAAAAAAAAAAAAAAAAAAAAAAAAAAAAAAAAAAAAAAAAAAAAAAAAAAAAAAAAAAAAAAAAAAAAAAAAAAAAAAAAAAAAAAAAAAAAAAAAAAAAAAAAAAAAAAAAAAAAAAAAAAAAAAAAAAAAAAAAAAAAAAAAAAAAAAAAAAAAAAA==\",\"dtype\":\"float64\",\"shape\":[506]},\"y\":{\"__ndarray__\":\"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\",\"dtype\":\"float64\",\"shape\":[506]}}},\"id\":\"f3ceb32a-0da2-436b-83ac-ed641e618471\",\"type\":\"ColumnDataSource\"},{\"attributes\":{},\"id\":\"013d9b59-bdb1-4163-b9af-6ae33057a9da\",\"type\":\"PanTool\"},{\"attributes\":{\"callback\":null},\"id\":\"21f14a6f-f0fc-4323-be18-4b48cad1f765\",\"type\":\"DataRange1d\"},{\"attributes\":{\"fill_alpha\":{\"value\":0.1},\"fill_color\":{\"value\":\"#1f77b4\"},\"line_alpha\":{\"value\":0.1},\"line_color\":{\"value\":\"#1f77b4\"},\"x\":{\"field\":\"x\"},\"y\":{\"field\":\"y\"}},\"id\":\"6e2e04e1-b9dd-4dbb-a79c-983b5f0ac17b\",\"type\":\"Circle\"},{\"attributes\":{},\"id\":\"ec081625-bff3-4ae4-9c50-57d45bee4584\",\"type\":\"WheelZoomTool\"},{\"attributes\":{},\"id\":\"f0c2cb9e-e00a-4cb1-ba51-e6a112b462af\",\"type\":\"PanTool\"},{\"attributes\":{\"plot\":null,\"text\":\"\"},\"id\":\"60ba6994-4f06-4ea6-b1fd-39235be105e0\",\"type\":\"Title\"},{\"attributes\":{\"overlay\":{\"id\":\"ba45e9bd-c38e-4b2e-89fc-8aeb7c035ea0\",\"type\":\"BoxAnnotation\"}},\"id\":\"71f9c239-0e9a-48c4-896f-0b2b26a68c58\",\"type\":\"BoxZoomTool\"},{\"attributes\":{},\"id\":\"c3da348a-cdf0-411c-ab4a-80b629e9da7e\",\"type\":\"SaveTool\"},{\"attributes\":{},\"id\":\"2031fa6a-1f21-47b1-9dd1-e99b9300f7c4\",\"type\":\"WheelZoomTool\"},{\"attributes\":{},\"id\":\"7f88f997-f058-46ad-a964-4b93be354d80\",\"type\":\"ResetTool\"},{\"attributes\":{\"overlay\":{\"id\":\"425c2a33-5cdc-4689-ba46-dbe736e6fa47\",\"type\":\"BoxAnnotation\"}},\"id\":\"78cc77e1-0aaf-4cb6-b40b-1b968fa8b178\",\"type\":\"BoxZoomTool\"},{\"attributes\":{},\"id\":\"adab211c-b7e0-4693-a327-adb8480f73e0\",\"type\":\"HelpTool\"},{\"attributes\":{},\"id\":\"8e5c75db-74d2-4a7a-a3bf-ca8c13c95c03\",\"type\":\"SaveTool\"},{\"attributes\":{\"plot\":{\"id\":\"18838f23-a61f-4454-9f75-80621f8619b1\",\"subtype\":\"Figure\",\"type\":\"Plot\"},\"ticker\":{\"id\":\"7632ad06-7065-4e75-9e3b-1a58eb81898d\",\"type\":\"BasicTicker\"}},\"id\":\"8f3c3a63-7b02-4597-8edd-2f89382d9cd2\",\"type\":\"Grid\"},{\"attributes\":{},\"id\":\"a48adb0f-4c9b-42f6-b76c-11512bb8e0b9\",\"type\":\"ResetTool\"},{\"attributes\":{},\"id\":\"8029a0ba-bb23-4f9d-8444-0249cfa93192\",\"type\":\"LinearScale\"},{\"attributes\":{},\"id\":\"1dbfd576-cf1a-4839-8c45-a4948ba9e679\",\"type\":\"HelpTool\"},{\"attributes\":{},\"id\":\"390e591c-e42c-4775-a7bc-dfebbeaed35a\",\"type\":\"LinearScale\"},{\"attributes\":{},\"id\":\"d899df94-40cf-451a-a270-d2688bf15028\",\"type\":\"BasicTickFormatter\"},{\"attributes\":{\"plot\":null,\"text\":\"\"},\"id\":\"8f158e16-1f7b-4658-8e8e-2ad65e31fd3e\",\"type\":\"Title\"},{\"attributes\":{\"axis_label\":\"NOX\",\"formatter\":{\"id\":\"223c2078-dc87-4760-8974-830e21ac3c3d\",\"type\":\"BasicTickFormatter\"},\"plot\":{\"id\":\"18838f23-a61f-4454-9f75-80621f8619b1\",\"subtype\":\"Figure\",\"type\":\"Plot\"},\"ticker\":{\"id\":\"7632ad06-7065-4e75-9e3b-1a58eb81898d\",\"type\":\"BasicTicker\"}},\"id\":\"66c50c67-e3cd-4981-bb0d-93289e630379\",\"type\":\"LinearAxis\"},{\"attributes\":{\"callback\":null},\"id\":\"34fca4ba-4b35-487a-8dc9-490f99132421\",\"type\":\"DataRange1d\"},{\"attributes\":{},\"id\":\"a290f3ad-ac56-43f8-8f4f-d8bccb0a7758\",\"type\":\"BasicTickFormatter\"},{\"attributes\":{\"axis_label\":\"Price in $1000s\",\"formatter\":{\"id\":\"47fb2337-cb61-4244-ab0c-b3a366ec1795\",\"type\":\"BasicTickFormatter\"},\"plot\":{\"id\":\"18838f23-a61f-4454-9f75-80621f8619b1\",\"subtype\":\"Figure\",\"type\":\"Plot\"},\"ticker\":{\"id\":\"e1485577-095b-4a94-ba7e-9461dae92a56\",\"type\":\"BasicTicker\"}},\"id\":\"b54fde15-700f-4b37-80e5-4be1768bd795\",\"type\":\"LinearAxis\"},{\"attributes\":{},\"id\":\"25cce404-c3db-4b03-9a90-fd9d76c948d0\",\"type\":\"BasicTickFormatter\"},{\"attributes\":{\"fill_color\":{\"value\":\"#1f77b4\"},\"line_color\":{\"value\":\"#1f77b4\"},\"x\":{\"field\":\"x\"},\"y\":{\"field\":\"y\"}},\"id\":\"b32b7b3f-650b-492b-b3be-16295a564011\",\"type\":\"Circle\"},{\"attributes\":{},\"id\":\"7632ad06-7065-4e75-9e3b-1a58eb81898d\",\"type\":\"BasicTicker\"},{\"attributes\":{\"callback\":null},\"id\":\"3f558ef6-3918-430d-a8b0-a63447c1f13e\",\"type\":\"DataRange1d\"},{\"attributes\":{\"dimension\":1,\"plot\":{\"id\":\"18838f23-a61f-4454-9f75-80621f8619b1\",\"subtype\":\"Figure\",\"type\":\"Plot\"},\"ticker\":{\"id\":\"e1485577-095b-4a94-ba7e-9461dae92a56\",\"type\":\"BasicTicker\"}},\"id\":\"84892458-79d2-499d-9f40-b7b72c59062a\",\"type\":\"Grid\"},{\"attributes\":{\"source\":{\"id\":\"f3ceb32a-0da2-436b-83ac-ed641e618471\",\"type\":\"ColumnDataSource\"}},\"id\":\"c50b7aac-b96e-40f2-9f1d-d1cd6ff9342f\",\"type\":\"CDSView\"},{\"attributes\":{\"data_source\":{\"id\":\"f3ceb32a-0da2-436b-83ac-ed641e618471\",\"type\":\"ColumnDataSource\"},\"glyph\":{\"id\":\"c7065e51-41ef-4dbf-93c3-35af7af64f3d\",\"type\":\"Circle\"},\"hover_glyph\":null,\"muted_glyph\":null,\"nonselection_glyph\":{\"id\":\"6e2e04e1-b9dd-4dbb-a79c-983b5f0ac17b\",\"type\":\"Circle\"},\"selection_glyph\":null,\"view\":{\"id\":\"c50b7aac-b96e-40f2-9f1d-d1cd6ff9342f\",\"type\":\"CDSView\"}},\"id\":\"e81afc2a-1420-498f-8308-e87b9dda80c3\",\"type\":\"GlyphRenderer\"},{\"attributes\":{},\"id\":\"e1485577-095b-4a94-ba7e-9461dae92a56\",\"type\":\"BasicTicker\"},{\"attributes\":{\"callback\":null},\"id\":\"f256c60b-6e61-483a-bd30-e718f8f89965\",\"type\":\"DataRange1d\"},{\"attributes\":{},\"id\":\"d01c7fc0-dee6-4375-87bb-1937e6cc4a2d\",\"type\":\"BasicTickFormatter\"},{\"attributes\":{\"below\":[{\"id\":\"789166e8-acdf-43a4-b07b-90368506e7f6\",\"type\":\"LinearAxis\"}],\"left\":[{\"id\":\"d79466a4-f7de-472b-bf3a-df48c34a4e87\",\"type\":\"LinearAxis\"}],\"plot_height\":250,\"plot_width\":400,\"renderers\":[{\"id\":\"789166e8-acdf-43a4-b07b-90368506e7f6\",\"type\":\"LinearAxis\"},{\"id\":\"ea3d333f-4200-48e4-9901-1709fa27d817\",\"type\":\"Grid\"},{\"id\":\"d79466a4-f7de-472b-bf3a-df48c34a4e87\",\"type\":\"LinearAxis\"},{\"id\":\"a59def8e-ee45-43e6-b73b-4f6a6e179f31\",\"type\":\"Grid\"},{\"id\":\"93565627-6580-45ff-bebe-cc30adb6f0f6\",\"type\":\"BoxAnnotation\"},{\"id\":\"2b541dec-9667-4aba-9315-a5c33410d92d\",\"type\":\"GlyphRenderer\"}],\"title\":{\"id\":\"60ba6994-4f06-4ea6-b1fd-39235be105e0\",\"type\":\"Title\"},\"toolbar\":{\"id\":\"7ab45024-fd8f-4ada-a836-fd4a5efd6c2e\",\"type\":\"Toolbar\"},\"toolbar_location\":null,\"x_range\":{\"id\":\"3f558ef6-3918-430d-a8b0-a63447c1f13e\",\"type\":\"DataRange1d\"},\"x_scale\":{\"id\":\"55640bf8-ffb1-4af3-98e0-7468093d7e55\",\"type\":\"LinearScale\"},\"y_range\":{\"id\":\"cd4ab9f5-ff8e-47d7-9d27-111979107e1f\",\"type\":\"DataRange1d\"},\"y_scale\":{\"id\":\"8b71a2e4-7d5f-4921-981f-da90ee9a578a\",\"type\":\"LinearScale\"}},\"id\":\"a6d1f977-05e9-4883-a4dd-b224eed3ad39\",\"subtype\":\"Figure\",\"type\":\"Plot\"},{\"attributes\":{\"active_drag\":\"auto\",\"active_inspect\":\"auto\",\"active_scroll\":\"auto\",\"active_tap\":\"auto\",\"tools\":[{\"id\":\"d1ef1c2a-091a-4983-8431-12230066df8f\",\"type\":\"PanTool\"},{\"id\":\"f9488755-8cba-4a38-a54f-e2f8be1060ee\",\"type\":\"WheelZoomTool\"},{\"id\":\"ff4b08ae-49a4-4dd5-a3c0-cbda6ed514ae\",\"type\":\"BoxZoomTool\"},{\"id\":\"1d79f472-9dde-433d-a2f7-f1722f43718b\",\"type\":\"SaveTool\"},{\"id\":\"651a7d43-a1dd-40a0-82ed-391f71b798bb\",\"type\":\"ResetTool\"},{\"id\":\"948bc7be-dce4-4333-b389-dda592446649\",\"type\":\"HelpTool\"}]},\"id\":\"6ed5f028-c39a-4cce-b62e-e17044aef6dd\",\"type\":\"Toolbar\"},{\"attributes\":{\"active_drag\":\"auto\",\"active_inspect\":\"auto\",\"active_scroll\":\"auto\",\"active_tap\":\"auto\",\"tools\":[{\"id\":\"7a09cc21-adbd-46aa-8bc7-feb519f9d352\",\"type\":\"PanTool\"},{\"id\":\"cfacdc38-b134-4283-be5d-94a4aab73d29\",\"type\":\"WheelZoomTool\"},{\"id\":\"6784c780-2b70-4054-ad4e-79855cd68132\",\"type\":\"BoxZoomTool\"},{\"id\":\"ef92d070-b2f0-42d1-9163-6d89b2607984\",\"type\":\"SaveTool\"},{\"id\":\"a2fc27c2-a2ee-4b35-9f39-035858f3561c\",\"type\":\"ResetTool\"},{\"id\":\"ae9fd120-3b4c-4423-9c7c-7701988c17ca\",\"type\":\"HelpTool\"}]},\"id\":\"5f0e2130-9f3b-4224-b8a9-7a7555a90d6e\",\"type\":\"Toolbar\"},{\"attributes\":{\"fill_alpha\":{\"value\":0.1},\"fill_color\":{\"value\":\"#1f77b4\"},\"line_alpha\":{\"value\":0.1},\"line_color\":{\"value\":\"#1f77b4\"},\"x\":{\"field\":\"x\"},\"y\":{\"field\":\"y\"}},\"id\":\"0e96fcc9-8e61-4de1-a322-d0ca7d14796e\",\"type\":\"Circle\"},{\"attributes\":{\"plot\":null,\"text\":\"\"},\"id\":\"7de20eb0-48d4-4aa2-8dc7-11334ae8ba61\",\"type\":\"Title\"},{\"attributes\":{\"bottom_units\":\"screen\",\"fill_alpha\":{\"value\":0.5},\"fill_color\":{\"value\":\"lightgrey\"},\"left_units\":\"screen\",\"level\":\"overlay\",\"line_alpha\":{\"value\":1.0},\"line_color\":{\"value\":\"black\"},\"line_dash\":[4,4],\"line_width\":{\"value\":2},\"plot\":null,\"render_mode\":\"css\",\"right_units\":\"screen\",\"top_units\":\"screen\"},\"id\":\"962d6695-7f9e-473e-bd27-8ef9712fda15\",\"type\":\"BoxAnnotation\"},{\"attributes\":{\"callback\":null,\"column_names\":[\"x\",\"y\"],\"data\":{\"x\":{\"__ndarray__\":\"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\",\"dtype\":\"float64\",\"shape\":[506]},\"y\":{\"__ndarray__\":\"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\",\"dtype\":\"float64\",\"shape\":[506]}}},\"id\":\"442e0550-68ff-40d4-bd87-4b306c2a1e69\",\"type\":\"ColumnDataSource\"},{\"attributes\":{},\"id\":\"e30f8553-7204-45ae-be5c-b63e1fd3aa5a\",\"type\":\"PanTool\"},{\"attributes\":{},\"id\":\"decb308f-ed65-447f-aadc-daaecad1f335\",\"type\":\"LinearScale\"},{\"attributes\":{\"fill_color\":{\"value\":\"#1f77b4\"},\"line_color\":{\"value\":\"#1f77b4\"},\"x\":{\"field\":\"x\"},\"y\":{\"field\":\"y\"}},\"id\":\"b44dd7c6-a162-4cd5-a3f7-f5f13b97f871\",\"type\":\"Circle\"},{\"attributes\":{\"data_source\":{\"id\":\"442e0550-68ff-40d4-bd87-4b306c2a1e69\",\"type\":\"ColumnDataSource\"},\"glyph\":{\"id\":\"b32b7b3f-650b-492b-b3be-16295a564011\",\"type\":\"Circle\"},\"hover_glyph\":null,\"muted_glyph\":null,\"nonselection_glyph\":{\"id\":\"0e96fcc9-8e61-4de1-a322-d0ca7d14796e\",\"type\":\"Circle\"},\"selection_glyph\":null,\"view\":{\"id\":\"a5df81e4-70fe-4639-b5f2-d4e9703c5212\",\"type\":\"CDSView\"}},\"id\":\"975e60e0-ee4a-45ab-83b8-1ad5183b3df6\",\"type\":\"GlyphRenderer\"},{\"attributes\":{\"fill_color\":{\"value\":\"#1f77b4\"},\"line_color\":{\"value\":\"#1f77b4\"},\"x\":{\"field\":\"x\"},\"y\":{\"field\":\"y\"}},\"id\":\"39572383-beba-49ca-8d73-5f94b16b7080\",\"type\":\"Circle\"},{\"attributes\":{},\"id\":\"6d0ca172-6c4f-4a90-8d7e-d625747acf08\",\"type\":\"WheelZoomTool\"},{\"attributes\":{\"source\":{\"id\":\"442e0550-68ff-40d4-bd87-4b306c2a1e69\",\"type\":\"ColumnDataSource\"}},\"id\":\"a5df81e4-70fe-4639-b5f2-d4e9703c5212\",\"type\":\"CDSView\"},{\"attributes\":{\"overlay\":{\"id\":\"962d6695-7f9e-473e-bd27-8ef9712fda15\",\"type\":\"BoxAnnotation\"}},\"id\":\"e0fec9ed-06f2-4370-9a28-3eabc3b45063\",\"type\":\"BoxZoomTool\"},{\"attributes\":{\"active_drag\":\"auto\",\"active_inspect\":\"auto\",\"active_scroll\":\"auto\",\"active_tap\":\"auto\",\"tools\":[{\"id\":\"ed5ebfdc-d5a6-4a52-93d1-d049f33be543\",\"type\":\"PanTool\"},{\"id\":\"caac3dd9-d391-4d03-a2c2-294c5ca5b062\",\"type\":\"WheelZoomTool\"},{\"id\":\"78f5b7bc-b8e1-4a33-934d-8fbb667cb1d7\",\"type\":\"BoxZoomTool\"},{\"id\":\"7794f1b1-92ba-4725-bcbb-6695ef4f4795\",\"type\":\"SaveTool\"},{\"id\":\"94c688b7-87c5-484f-9667-11c98bb65830\",\"type\":\"ResetTool\"},{\"id\":\"d421d40e-4436-46f0-a9c7-ce9c3ce7b41b\",\"type\":\"HelpTool\"}]},\"id\":\"7ab45024-fd8f-4ada-a836-fd4a5efd6c2e\",\"type\":\"Toolbar\"},{\"attributes\":{},\"id\":\"e0a628c4-db0c-4716-8f06-b65e0717b8f7\",\"type\":\"BasicTickFormatter\"},{\"attributes\":{},\"id\":\"06c28c5a-9be1-4f1c-85f5-31e06430ab8e\",\"type\":\"SaveTool\"},{\"attributes\":{},\"id\":\"13112c7e-a9a3-4389-a8bb-2e6e6802f19d\",\"type\":\"BasicTickFormatter\"},{\"attributes\":{},\"id\":\"bce60538-e5e2-4cfe-af43-65253583f1b7\",\"type\":\"ResetTool\"},{\"attributes\":{\"below\":[{\"id\":\"61173bd9-4efc-46e5-a6cf-254a296fd7e5\",\"type\":\"LinearAxis\"}],\"left\":[{\"id\":\"df0bdd66-6a1f-48af-a7dd-c25383e30a04\",\"type\":\"LinearAxis\"}],\"plot_height\":250,\"plot_width\":400,\"renderers\":[{\"id\":\"61173bd9-4efc-46e5-a6cf-254a296fd7e5\",\"type\":\"LinearAxis\"},{\"id\":\"9972e85b-d944-4bb1-b2da-20a294672367\",\"type\":\"Grid\"},{\"id\":\"df0bdd66-6a1f-48af-a7dd-c25383e30a04\",\"type\":\"LinearAxis\"},{\"id\":\"07320bb8-daaf-4df7-aeca-c8a52da1f21c\",\"type\":\"Grid\"},{\"id\":\"9186e14b-674b-4816-986b-6c7632f2c8a7\",\"type\":\"BoxAnnotation\"},{\"id\":\"e81afc2a-1420-498f-8308-e87b9dda80c3\",\"type\":\"GlyphRenderer\"}],\"title\":{\"id\":\"8f158e16-1f7b-4658-8e8e-2ad65e31fd3e\",\"type\":\"Title\"},\"toolbar\":{\"id\":\"3fcc17e3-9d5d-41d5-92e3-25a8aee2456f\",\"type\":\"Toolbar\"},\"toolbar_location\":null,\"x_range\":{\"id\":\"87dc63b2-9af2-4fe9-8668-77d33503f5ae\",\"type\":\"DataRange1d\"},\"x_scale\":{\"id\":\"e105cee2-e24d-484c-9bf2-f8c6203d36d6\",\"type\":\"LinearScale\"},\"y_range\":{\"id\":\"0abafae4-66e2-478a-9e36-e867a81fada8\",\"type\":\"DataRange1d\"},\"y_scale\":{\"id\":\"1ff47f76-487a-4b98-bade-e58cf60c6909\",\"type\":\"LinearScale\"}},\"id\":\"209ba218-4c4c-4e75-922c-bcf8249f9d09\",\"subtype\":\"Figure\",\"type\":\"Plot\"},{\"attributes\":{\"fill_alpha\":{\"value\":0.1},\"fill_color\":{\"value\":\"#1f77b4\"},\"line_alpha\":{\"value\":0.1},\"line_color\":{\"value\":\"#1f77b4\"},\"x\":{\"field\":\"x\"},\"y\":{\"field\":\"y\"}},\"id\":\"00f4340c-855d-4446-97a1-744543a305c9\",\"type\":\"Circle\"},{\"attributes\":{},\"id\":\"9f25168d-98e0-4861-9bde-92f2d1b0c20f\",\"type\":\"HelpTool\"},{\"attributes\":{\"axis_label\":\"RM\",\"formatter\":{\"id\":\"a0b27f85-31c7-4f65-9671-e643a997368b\",\"type\":\"BasicTickFormatter\"},\"plot\":{\"id\":\"4b4ab4e3-7a55-4263-9880-393461bb33bf\",\"subtype\":\"Figure\",\"type\":\"Plot\"},\"ticker\":{\"id\":\"6241137e-2d98-4ac4-8deb-797b6efad519\",\"type\":\"BasicTicker\"}},\"id\":\"95e0bcc7-3f92-49de-8df6-f396a1cb69e0\",\"type\":\"LinearAxis\"},{\"attributes\":{\"source\":{\"id\":\"745ee97e-c1e9-46a3-88bf-258b64ca51ae\",\"type\":\"ColumnDataSource\"}},\"id\":\"e2213376-8c1f-4606-9e64-0bac5d201b49\",\"type\":\"CDSView\"},{\"attributes\":{\"plot\":{\"id\":\"4b4ab4e3-7a55-4263-9880-393461bb33bf\",\"subtype\":\"Figure\",\"type\":\"Plot\"},\"ticker\":{\"id\":\"6241137e-2d98-4ac4-8deb-797b6efad519\",\"type\":\"BasicTicker\"}},\"id\":\"3ab53a3a-89bb-4a39-8e42-5938f8a84475\",\"type\":\"Grid\"},{\"attributes\":{\"callback\":null,\"column_names\":[\"x\",\"y\"],\"data\":{\"x\":{\"__ndarray__\":\"AAAAAAAAAAAAAAAAAAAAAAAAAAAAAAAAAAAAAAAAAAAAAAAAAAAAAAAAAAAAAAAAAAAAAAAAAAAAAAAAAAAAAAAAAAAAAAAAAAAAAAAAAAAAAAAAAAAAAAAAAAAAAAAAAAAAAAAAAAAAAAAAAAAAAAAAAAAAAAAAAAAAAAAAAAAAAAAAAAAAAAAAAAAAAAAAAAAAAAAAAAAAAAAAAAAAAAAAAAAAAAAAAAAAAAAAAAAAAAAAAAAAAAAAAAAAAAAAAAAAAAAAAAAAAAAAAAAAAAAAAAAAAAAAAAAAAAAAAAAAAAAAAAAAAAAAAAAAAAAAAAAAAAAAAAAAAAAAAAAAAAAAAAAAAAAAAAAAAAAAAAAAAAAAAAAAAAAAAAAAAAAAAAAAAAAAAAAAAAAAAAAAAAAAAAAAAAAAAAAAAAAAAAAAAAAAAAAAAAAAAAAAAAAAAAAAAAAAAAAAAAAAAAAAAAAAAAAAAAAAAAAAAAAAAAAAAAAAAAAAAAAAAAAAAAAAAAAAAAAAAAAAAAAAAAAAAAAAAAAAAAAAAAAAAAAAAAAAAAAAAAAAAAAAAAAAAAAAAAAAAAAAAAAAAAAAAAAAAAAAAAAAAAAAAAAAAAAAAAAAAAAAAAAAAAAAAAAAAAAAAAAAAAAAAAAAAAAAAAAAAAAAAAAAAAAAAAAAAAAAAAAAAAAAAAAAAAAAAAAAAAAAAAAAAAAAAAAAAAAAAAAAAAAAAAAAAAAAAAAAAAAAAAAAAAAAAAAAAAAAAAAAAAAAAAAAAAAAAAAAAAAAAAAAAAAAAAAAAAAAAAAAAAAAAAAAAAAAAAAAAAAAAAAAAAAAAAAAAAAAAAAAAAAAAAAAAAAAAAAAAAAAAAAAAAAAAAAAAAAAAAAAAAAAAAAAAAAAAAAAAAAAAAAAAAAAAAAAAAAAAAAAAAAAAAAAAAAAAAAAAAAAAAAAAAAAAAAAAAAAAAAAAAAAAAAAAAAAAAAAAAAAAAAAAAAAAAAAAAAAAAAAAAAAAAAAAAAAAAAAAAAAAAAAAAAAAAAAAAAAAAAAAAAAAAAAAAAAAAAAAAAAAAAAAAAAAAAAAAAAAAAAAAAAAAAAAAAAAAAAAAAAAAAAAAAAAAAAAAAAAAAAAAAAAAAAAAAAAAAAAAAAAAAAAAAAAAAAAAAAAAAAAAAAAAAAAAAAAAAAAAAAAAAAAAAAAAAAAAAAAAAAAAAAAAAAAAAAAAAAAAAAAAAAAAAAAAAAAAAAAAAAAAAAAAAAAAAAAAAAAAAAAAAAAAAAAAAAAAAAAAAAAAAAAAAAAAAAAAAAAAAAAAAAAAAAAAAAAAAAAAAAAAAAAAAAAAAAAAAAAAAAAAAAAAAAAAAAAAAAAAAAAAAAAAAAAAAAAAAAAAAAAAAAAAAAAAAAAAAAAAAAAAAAAAAAAAAAAAAAAAAAAAAAAAAAAAAAAAAAAAAAAAAAAAAAAAAAAAAAAAAAAAAAAAAAAAAAAAAAAAAAAAAAAAAAAAAAAAAAAAAAAAAAAAAAAAAAAAAAAADwPwAAAAAAAAAAAAAAAAAAAAAAAAAAAAAAAAAAAAAAAAAAAAAAAAAAAAAAAAAAAAAAAAAAAAAAAAAAAAAAAAAAAAAAAAAAAAAAAAAAAAAAAPA/AAAAAAAAAAAAAAAAAADwPwAAAAAAAPA/AAAAAAAAAAAAAAAAAAAAAAAAAAAAAAAAAAAAAAAAAAAAAAAAAADwPwAAAAAAAAAAAAAAAAAA8D8AAAAAAADwPwAAAAAAAAAAAAAAAAAAAAAAAAAAAAAAAAAAAAAAAAAAAAAAAAAAAAAAAAAAAAAAAAAAAAAAAAAAAAAAAAAAAAAAAAAAAAAAAAAAAAAAAAAAAAAAAAAAAAAAAAAAAAAAAAAAAAAAAAAAAAAAAAAAAAAAAAAAAAAAAAAAAAAAAAAAAAAAAAAAAAAAAAAAAAAAAAAAAAAAAAAAAAAAAAAAAAAAAAAAAAAAAAAAAAAAAAAAAAAAAAAAAAAAAAAAAAAAAAAAAAAAAAAAAAAAAAAAAAAAAAAAAAAAAAAAAAAAAAAAAAAAAAAAAAAAAAAAAAAAAAAAAAAAAAAAAAAAAAAAAAAAAAAAAAAAAAAAAAAAAAAAAAAAAAAAAAAAAAAAAAAAAAAAAAAAAAAAAAAAAAAAAAAAAAAAAAAAAAAAAAAAAAAAAAAAAAAAAAAAAAAAAAAAAAAAAAAAAAAAAAAAAAAAAAAAAAAAAADwPwAAAAAAAPA/AAAAAAAA8D8AAAAAAADwPwAAAAAAAPA/AAAAAAAAAAAAAAAAAAAAAAAAAAAAAAAAAAAAAAAA8D8AAAAAAAAAAAAAAAAAAPA/AAAAAAAA8D8AAAAAAADwPwAAAAAAAPA/AAAAAAAA8D8AAAAAAAAAAAAAAAAAAAAAAAAAAAAAAAAAAAAAAAAAAAAAAAAAAAAAAAAAAAAAAAAAAAAAAAAAAAAAAAAAAAAAAAAAAAAAAAAAAAAAAAAAAAAAAAAAAAAAAAAAAAAA8D8AAAAAAAAAAAAAAAAAAPA/AAAAAAAAAAAAAAAAAAAAAAAAAAAAAAAAAAAAAAAAAAAAAAAAAAAAAAAAAAAAAAAAAAAAAAAAAAAAAAAAAAAAAAAAAAAAAAAAAAAAAAAAAAAAAAAAAAAAAAAAAAAAAAAAAAAAAAAAAAAAAAAAAAAAAAAAAAAAAAAAAAAAAAAAAAAAAAAAAAAAAAAAAAAAAAAAAAAAAAAAAAAAAAAAAAAAAAAAAAAAAAAAAAAAAAAAAAAAAAAAAAAAAAAAAAAAAAAAAAAAAAAAAAAAAAAAAAAAAAAAAAAAAAAAAAAAAAAAAAAAAAAAAAAAAAAAAAAAAAAAAAAAAAAAAAAAAAAAAAAAAAAAAAAAAPA/AAAAAAAAAAAAAAAAAAAAAAAAAAAAAAAAAAAAAAAA8D8AAAAAAADwPwAAAAAAAAAAAAAAAAAA8D8AAAAAAADwPwAAAAAAAAAAAAAAAAAAAAAAAAAAAAAAAAAAAAAAAAAAAAAAAAAA8D8AAAAAAADwPwAAAAAAAAAAAAAAAAAAAAAAAAAAAAAAAAAAAAAAAAAAAAAAAAAAAAAAAAAAAAAAAAAAAAAAAAAAAAAAAAAAAAAAAAAAAAAAAAAAAAAAAAAAAAAAAAAAAAAAAAAAAAAAAAAAAAAAAAAAAAAAAAAAAAAAAAAAAAAAAAAAAAAAAAAAAAAAAAAAAAAAAAAAAAAAAAAAAAAAAAAAAAAAAAAAAAAAAAAAAAAAAAAAAAAAAAAAAAAAAAAAAAAAAAAAAAAAAAAAAAAAAAAAAAAAAAAAAAAAAAAAAAAAAAAAAAAAAAAAAAAAAAAAAAAAAAAAAAAAAAAAAAAAAAAAAAAAAAAAAAAAAAAAAAAAAAAAAAAAAAAAAAAAAAAAAAAAAAAAAAAAAAAAAAAAAAAAAAAAAAAAAAAAAAAAAAAAAAAAAAAAAAAAAAAAAAAAAAAAAAAAAAAAAAAAAAAAAAAAAAAAAAAAAAAAAAAAAAAAAAAAAAAAAAAAAAAAAAAAAAAAAAAAAAAAAAAAAAAAAAAAAAAAAAAAAAAAAAAAAAAAAAAAAAAAAAAAAAAAAAAAAAAAAAAAAAAAAAAAAAAAAAAAAAAAAAAAAAAAAAAAAAAAAAAAAAAAAAAAAAAAAAAAAAAAAAAAAAAAAAAAAAAAAAAAAAAAAAAAAAAAAAAAAAAAAAAAAAAAAAAAAAAAAAAAAAAAAAAAAAAAAAAAAAAAAAAAAAAAAAAAAAAAAAAAAAAAAAAAAAAAAAAAAAAAAAAAAAAAAAAAAAAAAAAAAAAAAPA/AAAAAAAA8D8AAAAAAADwPwAAAAAAAAAAAAAAAAAAAAAAAAAAAAAAAAAAAAAAAAAAAAAAAAAA8D8AAAAAAADwPwAAAAAAAAAAAAAAAAAAAAAAAAAAAAAAAAAAAAAAAAAAAAAAAAAA8D8AAAAAAADwPwAAAAAAAAAAAAAAAAAA8D8AAAAAAAAAAAAAAAAAAAAAAAAAAAAAAAAAAAAAAAAAAAAAAAAAAAAAAAAAAAAAAAAAAAAAAAAAAAAAAAAAAAAAAAAAAAAAAAAAAAAAAAAAAAAAAAAAAAAAAAAAAAAAAAAAAAAAAAAAAAAAAAAAAAAAAAAAAAAAAAAAAAAAAAAAAAAAAAAAAAAAAAAAAAAAAAAAAAAAAAAAAAAAAAAAAAAAAAAAAAAAAAAAAAAAAAAAAAAAAAAAAAAAAAAAAAAAAAAAAAAAAAAAAAAAAAAAAAAAAAAAAAAAAAAAAAAAAAAAAAAAAAAAAAAAAAAAAAAAAAAAAAAAAAAAAAAAAAAAAAAAAAAAAAAAAAAAAAAAAAAAAAAAAAAAAAAAAAAAAAAAAAAAAAAAAAAAAAAAAAAAAAAAAAAAAAAAAAAAAAAAAAAAAAAAAAAAAAAAAAAAAAAAAAAAAAAAAAAAAAAAAAAAAAAAAAAAAAAAAAAAAAAAAAAAAAAAAAAAAAAAAAAAAAAAAAAAAAAAAAAAAAAAAAAAAAAAAAAAAAAAAAAAAAAAAAAAAAAAAAAAAAAAAAAAAAAAAAAAAAAAAAAAAAAAAAAAAAAAAAAAAAAAAAAAAAAAAAAAAAAAAAAAAAAAAAAAAAAAAAAAAAAAAAAAAAAAAAAAAAAAAAAAAAAAAAAAAAAAAAAAAAAAAAAAAAAAAAAAAAAAAAAAAAAAAAAAAAAAAAAAAAAAAAAAAAAAAAAAAAAAAAAAAAAAAAAAAAAAAAAAAAAAAAAAAAAAAAAAAAAAAAAAAAAAAAAAAAAAAAAAAAAAAAAAAAAAAAAAAAAAAAAAAAAAAAAAAAAAAAAAAAAAAAAAAAAAAAAAAAAAAAAAAAAAAAAAAAAAAAAAAAAAAAAAAAAAAAAAAAAAAAAAAAAAAAAAAAAAAAAAAAAAAAAAAAAAAAAAAAAAAAAAAAAAAAAAAAAAAAAAAAAAAAAAAAAAAAAAAAAAAAAAAAAAAAAAAAAAAAAAAAAAAAAAAAAAAAAAAAAAAAAAAAAAAAAAAAAAAAAAAAAAAAAAAAAAAAAAAAAAAAAAAAAAAAAAAAAAAAAAAAAAAAAAAAAAAAAAAAAAAAAAAAAAAAAAAAAAAAAAAAAAAAAAAAAAAAAAAAAAAAAAAAAAAAAAAAAAAAAAAAAAAAAAAAAAAAAAAAAAAAAAAAAAAAAAAAAAAAAAAAAAAAAAAAAAAAAAAAAAAAAAAAAAAAAAAAAAAAAAAAAAAAAAAAAAAAAAAAAAAAAAAAAAAAAAAAAAAAAAAAAAAAAAAAAAAAAAAAAAAAAAAAAAAAAAAAAAAAAAAAAAAAAAAAAAAAAAAAAAAAAAAAAAAAAAAAAAAAAAAAAAAAAAAAAAAAAAAAAAAAAAAAAAAAAAAAAAAAAAAAAAAAAAAAAAAAAAAA==\",\"dtype\":\"float64\",\"shape\":[506]},\"y\":{\"__ndarray__\":\"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\",\"dtype\":\"float64\",\"shape\":[506]}}},\"id\":\"745ee97e-c1e9-46a3-88bf-258b64ca51ae\",\"type\":\"ColumnDataSource\"},{\"attributes\":{},\"id\":\"aa1b8dc4-f6b5-4a3e-8e92-f02a75f1e31e\",\"type\":\"BasicTickFormatter\"},{\"attributes\":{},\"id\":\"6241137e-2d98-4ac4-8deb-797b6efad519\",\"type\":\"BasicTicker\"},{\"attributes\":{\"data_source\":{\"id\":\"745ee97e-c1e9-46a3-88bf-258b64ca51ae\",\"type\":\"ColumnDataSource\"},\"glyph\":{\"id\":\"b44dd7c6-a162-4cd5-a3f7-f5f13b97f871\",\"type\":\"Circle\"},\"hover_glyph\":null,\"muted_glyph\":null,\"nonselection_glyph\":{\"id\":\"00f4340c-855d-4446-97a1-744543a305c9\",\"type\":\"Circle\"},\"selection_glyph\":null,\"view\":{\"id\":\"e2213376-8c1f-4606-9e64-0bac5d201b49\",\"type\":\"CDSView\"}},\"id\":\"7794c287-c826-415a-9530-0271d4c740a1\",\"type\":\"GlyphRenderer\"},{\"attributes\":{\"plot\":null,\"text\":\"\"},\"id\":\"6ecd2d5e-6e49-414a-84ad-10646cf3c5de\",\"type\":\"Title\"}],\"root_ids\":[\"4117fe50-3cf4-4ccb-9a48-d064af8a9bab\"]},\"title\":\"Bokeh Application\",\"version\":\"0.12.13\"}};\n",
       "  var render_items = [{\"docid\":\"ec50125c-0bb9-48a1-b2f7-ef2989d05178\",\"elementid\":\"33ddbe18-3138-4afc-a73c-9b721df5ea3d\",\"modelid\":\"4117fe50-3cf4-4ccb-9a48-d064af8a9bab\"}];\n",
       "  root.Bokeh.embed.embed_items_notebook(docs_json, render_items);\n",
       "\n",
       "  }\n",
       "  if (root.Bokeh !== undefined) {\n",
       "    embed_document(root);\n",
       "  } else {\n",
       "    var attempts = 0;\n",
       "    var timer = setInterval(function(root) {\n",
       "      if (root.Bokeh !== undefined) {\n",
       "        embed_document(root);\n",
       "        clearInterval(timer);\n",
       "      }\n",
       "      attempts++;\n",
       "      if (attempts > 100) {\n",
       "        console.log(\"Bokeh: ERROR: Unable to run BokehJS code because BokehJS library is missing\")\n",
       "        clearInterval(timer);\n",
       "      }\n",
       "    }, 10, root)\n",
       "  }\n",
       "})(window);"
      ],
      "application/vnd.bokehjs_exec.v0+json": ""
     },
     "metadata": {
      "application/vnd.bokehjs_exec.v0+json": {
       "id": "4117fe50-3cf4-4ccb-9a48-d064af8a9bab"
      }
     },
     "output_type": "display_data"
    }
   ],
   "source": [
    "# You can see what these names mean in the description that we printed at the start\n",
    "print(boston.feature_names[:8])\n",
    "\n",
    "figures = [figure() for _ in range(8)]\n",
    "for index, fig in enumerate(figures):\n",
    "    # Create a scatter-plot\n",
    "    fig.scatter(boston_df[boston.feature_names[index]], boston_df[\"Price\"])\n",
    "    \n",
    "    ## Add some axis information\n",
    "    fig.xaxis.axis_label = boston.feature_names[index]\n",
    "    fig.yaxis.axis_label = \"Price in $1000s\"\n",
    "\n",
    "    \n",
    "show(gridplot(figures, ncols=2, plot_width=400, plot_height=250, toolbar_location=None))"
   ]
  },
  {
   "cell_type": "markdown",
   "metadata": {},
   "source": [
    "So out of the plotted variables RM looks quite promising to perhaps be fitted by a linear function. So let's go with that one for now for our linear regression example.\n",
    "\n",
    "For the sake of this initial example, I will first plot the fitted line using a simple univariate linear regression using Numpy, to explain the theorie. Afterwards we will run through multivariate regression using scikit-learn."
   ]
  },
  {
   "cell_type": "markdown",
   "metadata": {},
   "source": [
    "### Univariate Linear Regression (Using Numpy)\n",
    "\n",
    "Numpy requires us to create two (N, 1) shaped arrays, that will act as the X and Y values. Where X represents the attribute (feature) and the Y represents the target. There are a few ways to do this, but an easy way to do this is by using numpy's built-in vertical stack tool, vstack.\n"
   ]
  },
  {
   "cell_type": "code",
   "execution_count": 8,
   "metadata": {},
   "outputs": [],
   "source": [
    "# Set up X as median room values and use Use vstack to make X two-dimensional\n",
    "# Remember that X normally is (N,) instead of (N,1).\n",
    "X = np.vstack(boston_df.RM)\n",
    "\n",
    "# Set up Y as the target price of the houses.\n",
    "Y = boston_df.Price"
   ]
  },
  {
   "cell_type": "markdown",
   "metadata": {},
   "source": [
    "Now that we have our X and Y, let's go ahead and use numpy to create the single variable linear regression.\n",
    "\n",
    "We know that a line has the equation:\n",
    "$$y=ax+b$$\n",
    "which we can rewrite using matrices:\n",
    "$$y=Mp$$\n",
    "where:\n",
    "$$M = \\begin{bmatrix}x & 1\\end{bmatrix}$$\n",
    "and\n",
    "$$p= \\begin{bmatrix}a \\\\b\\end{bmatrix}$$\n",
    "\n",
    "This is the same as the first equation if you carry out the linear algebra. \n",
    "So we'll start by creating the M matrix using numpy. We'll do this by creating a matrix in the form [X 1], so we'll call every value in our original X using a list comprehension and then set up an array in the form [X 1]\n",
    "\n",
    "Side Note: In most literature the variables $y$, $a$, and $b$ are referred to differently, to make them more generalizable, namely $h(x)$ (derived from the word hypothesis), $\\theta_1$, and $\\theta_0$ respectively. We will keep them as $y$, $a$, and $b$ for the univariate example, as this notation is most hopefully more familiar/intuitive to you."
   ]
  },
  {
   "cell_type": "code",
   "execution_count": 9,
   "metadata": {},
   "outputs": [
    {
     "name": "stdout",
     "output_type": "stream",
     "text": [
      "9.102108981180313 -34.670620776438575\n"
     ]
    },
    {
     "name": "stderr",
     "output_type": "stream",
     "text": [
      "C:\\Users\\Marijn\\Anaconda3\\lib\\site-packages\\ipykernel_launcher.py:6: FutureWarning: `rcond` parameter will change to the default of machine precision times ``max(M, N)`` where M and N are the input matrix dimensions.\n",
      "To use the future default and silence this warning we advise to pass `rcond=None`, to keep using the old, explicitly pass `rcond=-1`.\n",
      "  \n"
     ]
    }
   ],
   "source": [
    "# Creating [X 1] (remember the useful np.ones function from the first notebook?)\n",
    "X = np.vstack(boston_df.RM)\n",
    "X = np.column_stack((X, np.ones(X.shape[0])))\n",
    "\n",
    "# Now get out m and b values for our best fit line\n",
    "a, b = np.linalg.lstsq(X, Y)[0]\n",
    "print(a, b)"
   ]
  },
  {
   "cell_type": "markdown",
   "metadata": {},
   "source": [
    "We now have all the ingredients to plot a line using:\n",
    "$$y = ax + b$$"
   ]
  },
  {
   "cell_type": "code",
   "execution_count": 15,
   "metadata": {},
   "outputs": [
    {
     "data": {
      "text/html": [
       "\n",
       "<div class=\"bk-root\">\n",
       "    <div class=\"bk-plotdiv\" id=\"b665db88-7cee-42d7-a4ec-c4f6fe39ad56\"></div>\n",
       "</div>"
      ]
     },
     "metadata": {},
     "output_type": "display_data"
    },
    {
     "data": {
      "application/javascript": [
       "(function(root) {\n",
       "  function embed_document(root) {\n",
       "    \n",
       "  var docs_json = {\"edbc5aff-8c6e-4241-900c-010dda6c9728\":{\"roots\":{\"references\":[{\"attributes\":{\"bottom_units\":\"screen\",\"fill_alpha\":{\"value\":0.5},\"fill_color\":{\"value\":\"lightgrey\"},\"left_units\":\"screen\",\"level\":\"overlay\",\"line_alpha\":{\"value\":1.0},\"line_color\":{\"value\":\"black\"},\"line_dash\":[4,4],\"line_width\":{\"value\":2},\"plot\":null,\"render_mode\":\"css\",\"right_units\":\"screen\",\"top_units\":\"screen\"},\"id\":\"1f1416ca-36cc-47ae-810d-1367411fbdcc\",\"type\":\"BoxAnnotation\"},{\"attributes\":{},\"id\":\"2fd4d847-e6f3-4559-8708-3455a3bb34f8\",\"type\":\"PanTool\"},{\"attributes\":{},\"id\":\"29ac461d-efb8-4436-80f8-7c701e0576f8\",\"type\":\"WheelZoomTool\"},{\"attributes\":{\"overlay\":{\"id\":\"1f1416ca-36cc-47ae-810d-1367411fbdcc\",\"type\":\"BoxAnnotation\"}},\"id\":\"c157d920-339a-4c60-9246-5b54b285c986\",\"type\":\"BoxZoomTool\"},{\"attributes\":{},\"id\":\"667e4c48-4c1e-454b-8ad0-931810e44a29\",\"type\":\"LinearScale\"},{\"attributes\":{},\"id\":\"0a605aaa-555c-4212-8f27-979dd1a17d30\",\"type\":\"SaveTool\"},{\"attributes\":{},\"id\":\"15e4f0ab-4094-43e2-809d-d72d6cfde7d1\",\"type\":\"ResetTool\"},{\"attributes\":{},\"id\":\"a97c14bf-71e4-49b3-bb67-c23faaf95586\",\"type\":\"HelpTool\"},{\"attributes\":{},\"id\":\"b6c4ff69-1edf-4be4-b38c-83f57229505a\",\"type\":\"BasicTickFormatter\"},{\"attributes\":{\"callback\":null,\"column_names\":[\"x\",\"y\"],\"data\":{\"x\":{\"__ndarray__\":\"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\",\"dtype\":\"float64\",\"shape\":[506]},\"y\":{\"__ndarray__\":\"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\",\"dtype\":\"float64\",\"shape\":[506]}}},\"id\":\"ace039a9-cf11-4bed-92a2-9b3d912be9bb\",\"type\":\"ColumnDataSource\"},{\"attributes\":{\"line_color\":\"red\",\"x\":{\"field\":\"x\"},\"y\":{\"field\":\"y\"}},\"id\":\"11e2439a-8057-4d9e-aeb6-5b5b2e753e62\",\"type\":\"Line\"},{\"attributes\":{},\"id\":\"fc52c765-056a-4609-aeb0-b0faffd00dcc\",\"type\":\"BasicTicker\"},{\"attributes\":{\"line_alpha\":0.1,\"line_color\":\"#1f77b4\",\"x\":{\"field\":\"x\"},\"y\":{\"field\":\"y\"}},\"id\":\"25c6a2ba-fd49-4ae7-8f08-2320a1eb54ff\",\"type\":\"Line\"},{\"attributes\":{\"data_source\":{\"id\":\"ace039a9-cf11-4bed-92a2-9b3d912be9bb\",\"type\":\"ColumnDataSource\"},\"glyph\":{\"id\":\"11e2439a-8057-4d9e-aeb6-5b5b2e753e62\",\"type\":\"Line\"},\"hover_glyph\":null,\"muted_glyph\":null,\"nonselection_glyph\":{\"id\":\"25c6a2ba-fd49-4ae7-8f08-2320a1eb54ff\",\"type\":\"Line\"},\"selection_glyph\":null,\"view\":{\"id\":\"bf951e9c-361e-4d78-be4b-c6371e6cc6b5\",\"type\":\"CDSView\"}},\"id\":\"43caa559-cea4-4dfa-bd7b-8d12e57d7027\",\"type\":\"GlyphRenderer\"},{\"attributes\":{\"source\":{\"id\":\"ace039a9-cf11-4bed-92a2-9b3d912be9bb\",\"type\":\"ColumnDataSource\"}},\"id\":\"bf951e9c-361e-4d78-be4b-c6371e6cc6b5\",\"type\":\"CDSView\"},{\"attributes\":{\"callback\":null},\"id\":\"514e1759-d105-4f8a-b501-8416bd62b96c\",\"type\":\"DataRange1d\"},{\"attributes\":{},\"id\":\"08501987-e433-41ec-989b-f5e512909948\",\"type\":\"BasicTicker\"},{\"attributes\":{\"axis_label\":\"DIS\",\"formatter\":{\"id\":\"344e8511-f83c-4402-bc58-f2d74a091e57\",\"type\":\"BasicTickFormatter\"},\"plot\":{\"id\":\"3b01b0db-0ae8-41c9-845e-84145e3717e9\",\"subtype\":\"Figure\",\"type\":\"Plot\"},\"ticker\":{\"id\":\"08501987-e433-41ec-989b-f5e512909948\",\"type\":\"BasicTicker\"}},\"id\":\"ae6738c4-9bb7-463a-a9ed-bd68a150181c\",\"type\":\"LinearAxis\"},{\"attributes\":{\"callback\":null,\"column_names\":[\"x\",\"y\"],\"data\":{\"x\":{\"__ndarray__\":\"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\",\"dtype\":\"float64\",\"shape\":[506]},\"y\":{\"__ndarray__\":\"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\",\"dtype\":\"float64\",\"shape\":[506]}}},\"id\":\"99f055a0-cb60-4664-aa7a-62b93839e2cc\",\"type\":\"ColumnDataSource\"},{\"attributes\":{\"below\":[{\"id\":\"ae6738c4-9bb7-463a-a9ed-bd68a150181c\",\"type\":\"LinearAxis\"}],\"left\":[{\"id\":\"834a15c0-383b-42f6-8028-78c53c381895\",\"type\":\"LinearAxis\"}],\"plot_height\":250,\"plot_width\":400,\"renderers\":[{\"id\":\"ae6738c4-9bb7-463a-a9ed-bd68a150181c\",\"type\":\"LinearAxis\"},{\"id\":\"1def4a61-aff0-4b0d-8020-be7fef05f5b4\",\"type\":\"Grid\"},{\"id\":\"834a15c0-383b-42f6-8028-78c53c381895\",\"type\":\"LinearAxis\"},{\"id\":\"a4723c24-fc20-4e9d-b7d6-d6f0b19aaef3\",\"type\":\"Grid\"},{\"id\":\"1f1416ca-36cc-47ae-810d-1367411fbdcc\",\"type\":\"BoxAnnotation\"},{\"id\":\"3adee958-bac3-48d8-8e03-5fca8cc13d60\",\"type\":\"GlyphRenderer\"},{\"id\":\"43caa559-cea4-4dfa-bd7b-8d12e57d7027\",\"type\":\"GlyphRenderer\"}],\"title\":{\"id\":\"acf51170-8a4e-4678-84af-98d96ec0df78\",\"type\":\"Title\"},\"toolbar\":{\"id\":\"86db0b59-8bcf-4bec-9854-b6ba5aae964f\",\"type\":\"Toolbar\"},\"x_range\":{\"id\":\"754c3454-6f50-4b17-b56d-b153028bf48f\",\"type\":\"DataRange1d\"},\"x_scale\":{\"id\":\"667e4c48-4c1e-454b-8ad0-931810e44a29\",\"type\":\"LinearScale\"},\"y_range\":{\"id\":\"514e1759-d105-4f8a-b501-8416bd62b96c\",\"type\":\"DataRange1d\"},\"y_scale\":{\"id\":\"de13618a-42bb-4b27-a66a-05a9dac86971\",\"type\":\"LinearScale\"}},\"id\":\"3b01b0db-0ae8-41c9-845e-84145e3717e9\",\"subtype\":\"Figure\",\"type\":\"Plot\"},{\"attributes\":{\"plot\":null,\"text\":\"\"},\"id\":\"acf51170-8a4e-4678-84af-98d96ec0df78\",\"type\":\"Title\"},{\"attributes\":{\"fill_color\":{\"value\":\"#1f77b4\"},\"line_color\":{\"value\":\"#1f77b4\"},\"x\":{\"field\":\"x\"},\"y\":{\"field\":\"y\"}},\"id\":\"56935bcc-acc7-48d9-9a5c-d7526182ed04\",\"type\":\"Circle\"},{\"attributes\":{\"plot\":{\"id\":\"3b01b0db-0ae8-41c9-845e-84145e3717e9\",\"subtype\":\"Figure\",\"type\":\"Plot\"},\"ticker\":{\"id\":\"08501987-e433-41ec-989b-f5e512909948\",\"type\":\"BasicTicker\"}},\"id\":\"1def4a61-aff0-4b0d-8020-be7fef05f5b4\",\"type\":\"Grid\"},{\"attributes\":{\"active_drag\":\"auto\",\"active_inspect\":\"auto\",\"active_scroll\":\"auto\",\"active_tap\":\"auto\",\"tools\":[{\"id\":\"2fd4d847-e6f3-4559-8708-3455a3bb34f8\",\"type\":\"PanTool\"},{\"id\":\"29ac461d-efb8-4436-80f8-7c701e0576f8\",\"type\":\"WheelZoomTool\"},{\"id\":\"c157d920-339a-4c60-9246-5b54b285c986\",\"type\":\"BoxZoomTool\"},{\"id\":\"0a605aaa-555c-4212-8f27-979dd1a17d30\",\"type\":\"SaveTool\"},{\"id\":\"15e4f0ab-4094-43e2-809d-d72d6cfde7d1\",\"type\":\"ResetTool\"},{\"id\":\"a97c14bf-71e4-49b3-bb67-c23faaf95586\",\"type\":\"HelpTool\"}]},\"id\":\"86db0b59-8bcf-4bec-9854-b6ba5aae964f\",\"type\":\"Toolbar\"},{\"attributes\":{\"dimension\":1,\"plot\":{\"id\":\"3b01b0db-0ae8-41c9-845e-84145e3717e9\",\"subtype\":\"Figure\",\"type\":\"Plot\"},\"ticker\":{\"id\":\"fc52c765-056a-4609-aeb0-b0faffd00dcc\",\"type\":\"BasicTicker\"}},\"id\":\"a4723c24-fc20-4e9d-b7d6-d6f0b19aaef3\",\"type\":\"Grid\"},{\"attributes\":{},\"id\":\"de13618a-42bb-4b27-a66a-05a9dac86971\",\"type\":\"LinearScale\"},{\"attributes\":{\"source\":{\"id\":\"99f055a0-cb60-4664-aa7a-62b93839e2cc\",\"type\":\"ColumnDataSource\"}},\"id\":\"7acaf7b1-9c1e-4832-a1dc-306e787a7255\",\"type\":\"CDSView\"},{\"attributes\":{\"data_source\":{\"id\":\"99f055a0-cb60-4664-aa7a-62b93839e2cc\",\"type\":\"ColumnDataSource\"},\"glyph\":{\"id\":\"56935bcc-acc7-48d9-9a5c-d7526182ed04\",\"type\":\"Circle\"},\"hover_glyph\":null,\"muted_glyph\":null,\"nonselection_glyph\":{\"id\":\"7a75768c-a5fd-4697-868b-b85b6b77a284\",\"type\":\"Circle\"},\"selection_glyph\":null,\"view\":{\"id\":\"7acaf7b1-9c1e-4832-a1dc-306e787a7255\",\"type\":\"CDSView\"}},\"id\":\"3adee958-bac3-48d8-8e03-5fca8cc13d60\",\"type\":\"GlyphRenderer\"},{\"attributes\":{\"axis_label\":\"Price in $1000s\",\"formatter\":{\"id\":\"b6c4ff69-1edf-4be4-b38c-83f57229505a\",\"type\":\"BasicTickFormatter\"},\"plot\":{\"id\":\"3b01b0db-0ae8-41c9-845e-84145e3717e9\",\"subtype\":\"Figure\",\"type\":\"Plot\"},\"ticker\":{\"id\":\"fc52c765-056a-4609-aeb0-b0faffd00dcc\",\"type\":\"BasicTicker\"}},\"id\":\"834a15c0-383b-42f6-8028-78c53c381895\",\"type\":\"LinearAxis\"},{\"attributes\":{},\"id\":\"344e8511-f83c-4402-bc58-f2d74a091e57\",\"type\":\"BasicTickFormatter\"},{\"attributes\":{\"fill_alpha\":{\"value\":0.1},\"fill_color\":{\"value\":\"#1f77b4\"},\"line_alpha\":{\"value\":0.1},\"line_color\":{\"value\":\"#1f77b4\"},\"x\":{\"field\":\"x\"},\"y\":{\"field\":\"y\"}},\"id\":\"7a75768c-a5fd-4697-868b-b85b6b77a284\",\"type\":\"Circle\"},{\"attributes\":{\"callback\":null},\"id\":\"754c3454-6f50-4b17-b56d-b153028bf48f\",\"type\":\"DataRange1d\"}],\"root_ids\":[\"3b01b0db-0ae8-41c9-845e-84145e3717e9\"]},\"title\":\"Bokeh Application\",\"version\":\"0.12.13\"}};\n",
       "  var render_items = [{\"docid\":\"edbc5aff-8c6e-4241-900c-010dda6c9728\",\"elementid\":\"b665db88-7cee-42d7-a4ec-c4f6fe39ad56\",\"modelid\":\"3b01b0db-0ae8-41c9-845e-84145e3717e9\"}];\n",
       "  root.Bokeh.embed.embed_items_notebook(docs_json, render_items);\n",
       "\n",
       "  }\n",
       "  if (root.Bokeh !== undefined) {\n",
       "    embed_document(root);\n",
       "  } else {\n",
       "    var attempts = 0;\n",
       "    var timer = setInterval(function(root) {\n",
       "      if (root.Bokeh !== undefined) {\n",
       "        embed_document(root);\n",
       "        clearInterval(timer);\n",
       "      }\n",
       "      attempts++;\n",
       "      if (attempts > 100) {\n",
       "        console.log(\"Bokeh: ERROR: Unable to run BokehJS code because BokehJS library is missing\")\n",
       "        clearInterval(timer);\n",
       "      }\n",
       "    }, 10, root)\n",
       "  }\n",
       "})(window);"
      ],
      "application/vnd.bokehjs_exec.v0+json": ""
     },
     "metadata": {
      "application/vnd.bokehjs_exec.v0+json": {
       "id": "3b01b0db-0ae8-41c9-845e-84145e3717e9"
      }
     },
     "output_type": "display_data"
    }
   ],
   "source": [
    "f = figure(plot_width=400, plot_height=250)\n",
    "\n",
    "# Create a scatter-plot\n",
    "f.scatter(boston_df[\"RM\"], boston_df[\"Price\"])\n",
    "    \n",
    "# Create the line\n",
    "x = boston_df[\"RM\"]\n",
    "f.line(x, a * x + b, color='red')\n",
    "\n",
    "## Add some axis information\n",
    "f.xaxis.axis_label = boston.feature_names[index]\n",
    "f.yaxis.axis_label = \"Price in $1000s\"\n",
    "\n",
    "show(f)"
   ]
  },
  {
   "cell_type": "markdown",
   "metadata": {},
   "source": [
    "### Computing the error\n",
    "So we see that this line obviously does not cover all the points in our dataset. To determine how good our solution is, we compute an error measure. In order to see what error measure makes sense, we must also see what the least squares method actually tries to minimize:\n",
    "\n",
    "If we recall that we want to make a line $\\mathbf{y}=a\\mathbf{x} +b$ that fits the data best. We want to minimize the distance of all points to this line (on the y scale). So if we assume that $\\mathbf{r}$ is the real value of the data point, we could determine the error by taking the average of the sum of differences between the vectors $\\mathbf{r}$ and $\\mathbf{y}$ to determine how far our estimation deviates from the truth, naively this would look like:\n",
    "\n",
    "$$J(a, b) = \\frac{1}{N}\\sum\\limits_{i = 1}^{N} (r(i) - y(i) ),$$\n",
    "\n",
    "where $y(i) = ax(i) + b$. As the above could also result into negative errors and we also kinda want to punish larger distances more, we square this error.\n",
    "\n",
    "$$J(a, b) = \\frac{1}{N}\\sum\\limits_{i = 1}^{N} (r(i) - y(i) )^2$$\n",
    "\n",
    "The above is also referred to as the Mean Squared Error (MSE), and this is one of the most used error functions for regression problems. Sometimes you also see it defined slightly differently, with a $\\frac{1}{2}$ added infront of the algorithm:\n",
    "\n",
    "$$J(a, b) = \\frac{1}{2N}\\sum\\limits_{i = 1}^{N} (r(i) - y(i) )^2$$\n",
    "\n",
    "this is just to make certain mathematical tricks easier for other problems. This does not change it's function though, as minimizing the half of a certain cost function, essentially does the same as minimizing just the cost function.\n",
    "\n",
    "We also have another cost function, called Root Mean Squared Error (RMSE), which is really just the following:\n",
    "\n",
    "$$ \\sqrt{MSE}$$\n",
    "\n",
    "This function might be nice to use, because it is very similar to computing the standard deviation.\n",
    "\n",
    "The goal of the algorithm in our univariate example is to minimize the cost function over $a$ and $b$. Which means that we want to find the best solution, while only modifying $a$ and $b$.\n",
    "\n",
    "*These videos are great for building intuition on the relation between the hypothesis function and the associated cost of that hypothesis for the data.*\n",
    "* [Cost function 1](https://www.youtube.com/watch?v=EANr4YttXIQ&list=PLZ9qNFMHZ-A4rycgrgOYma6zxF4BZGGPW&index=6)\n",
    "* [Cost function 2](https://www.youtube.com/watch?v=J5vJFwQWOaY&list=PLZ9qNFMHZ-A4rycgrgOYma6zxF4BZGGPW&index=7)"
   ]
  },
  {
   "cell_type": "markdown",
   "metadata": {},
   "source": [
    "So if we now want to compute this error for our example, we need a vector with the real prices, and the vector with our estimation.\n"
   ]
  },
  {
   "cell_type": "code",
   "execution_count": 16,
   "metadata": {},
   "outputs": [
    {
     "name": "stdout",
     "output_type": "stream",
     "text": [
      "506\n",
      "43.60055177116957\n",
      "6.603071389222562\n"
     ]
    }
   ],
   "source": [
    "r = np.array(boston_df[\"Price\"])\n",
    "x = np.array(boston_df[\"RM\"])\n",
    "y = a * x + b\n",
    "\n",
    "print(len(x))\n",
    "mse = sum((r-y) **2) / len(x)\n",
    "print(mse)\n",
    "rmse = np.sqrt(mse)\n",
    "print(rmse)"
   ]
  },
  {
   "cell_type": "markdown",
   "metadata": {},
   "source": [
    "Since the root mean square error (RMSE) corresponds approximately to the standard deviation we can now say that the price of a house won't vary more than 2 times the RMSE 95% of the time. [RMSE](https://en.wikipedia.org/wiki/Root-mean-square_deviation) and some additional [Theory](https://en.wikipedia.org/wiki/68%E2%80%9395%E2%80%9399.7_rule)\n",
    "\n",
    "Thus we can reasonably expect a house price to be within $13,200 of our line fit."
   ]
  },
  {
   "cell_type": "code",
   "execution_count": 14,
   "metadata": {},
   "outputs": [
    {
     "name": "stdout",
     "output_type": "stream",
     "text": [
      "43.60055177116956\n"
     ]
    }
   ],
   "source": [
    "# Or just cheat and use built-ins to compute the MSE (but now you atleast know how it's done):\n",
    "from sklearn.metrics import mean_squared_error\n",
    "mse = mean_squared_error(r, y)\n",
    "print(mse)"
   ]
  },
  {
   "cell_type": "markdown",
   "metadata": {},
   "source": [
    "## Multivariate Regression\n",
    "As promised, we will not just stick to univariate regression. For multivariate regression we will maintain a similar strategy, but now we will use scikit-learn to use more than one feature.\n",
    "\n",
    "We'll start by importing the [linear regression library](http://scikit-learn.org/stable/modules/generated/sklearn.linear_model.LinearRegression.html) from the sklearn module.\n",
    "\n",
    "The sklearn.linear_model.LinearRegression class is an estimator. Estimators predict a value based on the observed data. In scikit-learn, all estimators implement the `fit()` and `predict()` methods. The former method is used to learn the parameters of a model, and the latter method is used to predict the value of a response variable for an explanatory variable using the learned parameters. It is easy to experiment with different models using scikit-learn because all estimators implement the fit and predict methods (more re-usable code!!)."
   ]
  },
  {
   "cell_type": "code",
   "execution_count": 17,
   "metadata": {},
   "outputs": [],
   "source": [
    "# Import for Linear Regression\n",
    "import sklearn\n",
    "from sklearn.linear_model import LinearRegression"
   ]
  },
  {
   "cell_type": "code",
   "execution_count": 18,
   "metadata": {},
   "outputs": [],
   "source": [
    "# Create a LinearRegression Object\n",
    "lreg = LinearRegression()"
   ]
  },
  {
   "cell_type": "markdown",
   "metadata": {},
   "source": [
    "The functions we will be using are:\n",
    "\n",
    "* `lreg.fit()` which fits a linear model\n",
    "* `reg.predict()` which is used to predict Y using the linear model with estimated coefficients\n",
    "* `lreg.score()` which returns the coefficient of determination (R^2). A measure of how well observed outcomes are replicated by the model, learn more about it [here](http://en.wikipedia.org/wiki/Coefficient_of_determination)\n"
   ]
  },
  {
   "cell_type": "markdown",
   "metadata": {},
   "source": [
    "\n",
    "But first we will split our DataFrame into data and target (pretty much going back to how we were handed the data originally, but now in a DataFrame). We then feed this data into the fit function."
   ]
  },
  {
   "cell_type": "code",
   "execution_count": 25,
   "metadata": {},
   "outputs": [
    {
     "data": {
      "text/plain": [
       "LinearRegression(copy_X=True, fit_intercept=True, n_jobs=1, normalize=False)"
      ]
     },
     "execution_count": 25,
     "metadata": {},
     "output_type": "execute_result"
    }
   ],
   "source": [
    "# Data Columns\n",
    "X_multi = boston_df.drop('Price',1)\n",
    "\n",
    "# Targets\n",
    "Y_target = boston_df.Price\n",
    "\n",
    "# Implement Linear Regression\n",
    "lreg.fit(X_multi,Y_target)"
   ]
  },
  {
   "cell_type": "markdown",
   "metadata": {},
   "source": [
    "We can now also see how many of the variables were actually used for this prediction"
   ]
  },
  {
   "cell_type": "code",
   "execution_count": 26,
   "metadata": {},
   "outputs": [
    {
     "name": "stdout",
     "output_type": "stream",
     "text": [
      " The estimated intercept coefficient is 36.49\n",
      " The number of coefficients used was 13\n"
     ]
    }
   ],
   "source": [
    "# What is our constant? (b in univariate regression)\n",
    "print(' The estimated intercept coefficient is {0:.2f}'.format(lreg.intercept_))\n",
    "\n",
    "print(' The number of coefficients used was {0:d}'.format(len(lreg.coef_)))"
   ]
  },
  {
   "cell_type": "markdown",
   "metadata": {},
   "source": [
    "Here we see that 13 coefficients were used this time (the same amount as the columns in our feature set). Where with univariate we used only 1 ($a$). So this time we get:\n",
    "\n",
    "$$ y(w,x) = w_0 + w_1 x_1 + ... + w_p x_p $$\n",
    "\n",
    "Where \n",
    "\n",
    "$$w = (w_1, ...w_p)$$ \n",
    "\n",
    "as the coefficients and $ w_0 $ as the intercept "
   ]
  },
  {
   "cell_type": "markdown",
   "metadata": {},
   "source": [
    "We can also easily see these variables:"
   ]
  },
  {
   "cell_type": "code",
   "execution_count": 27,
   "metadata": {},
   "outputs": [
    {
     "data": {
      "text/html": [
       "<div>\n",
       "<style scoped>\n",
       "    .dataframe tbody tr th:only-of-type {\n",
       "        vertical-align: middle;\n",
       "    }\n",
       "\n",
       "    .dataframe tbody tr th {\n",
       "        vertical-align: top;\n",
       "    }\n",
       "\n",
       "    .dataframe thead th {\n",
       "        text-align: right;\n",
       "    }\n",
       "</style>\n",
       "<table border=\"1\" class=\"dataframe\">\n",
       "  <thead>\n",
       "    <tr style=\"text-align: right;\">\n",
       "      <th></th>\n",
       "      <th>Features</th>\n",
       "      <th>Coefficient Estimate</th>\n",
       "    </tr>\n",
       "  </thead>\n",
       "  <tbody>\n",
       "    <tr>\n",
       "      <th>5</th>\n",
       "      <td>RM</td>\n",
       "      <td>3.804752</td>\n",
       "    </tr>\n",
       "    <tr>\n",
       "      <th>3</th>\n",
       "      <td>CHAS</td>\n",
       "      <td>2.688561</td>\n",
       "    </tr>\n",
       "    <tr>\n",
       "      <th>8</th>\n",
       "      <td>RAD</td>\n",
       "      <td>0.305655</td>\n",
       "    </tr>\n",
       "    <tr>\n",
       "      <th>1</th>\n",
       "      <td>ZN</td>\n",
       "      <td>0.046395</td>\n",
       "    </tr>\n",
       "    <tr>\n",
       "      <th>2</th>\n",
       "      <td>INDUS</td>\n",
       "      <td>0.020860</td>\n",
       "    </tr>\n",
       "    <tr>\n",
       "      <th>11</th>\n",
       "      <td>B</td>\n",
       "      <td>0.009393</td>\n",
       "    </tr>\n",
       "    <tr>\n",
       "      <th>6</th>\n",
       "      <td>AGE</td>\n",
       "      <td>0.000751</td>\n",
       "    </tr>\n",
       "    <tr>\n",
       "      <th>9</th>\n",
       "      <td>TAX</td>\n",
       "      <td>-0.012329</td>\n",
       "    </tr>\n",
       "    <tr>\n",
       "      <th>0</th>\n",
       "      <td>CRIM</td>\n",
       "      <td>-0.107171</td>\n",
       "    </tr>\n",
       "    <tr>\n",
       "      <th>12</th>\n",
       "      <td>LSTAT</td>\n",
       "      <td>-0.525467</td>\n",
       "    </tr>\n",
       "    <tr>\n",
       "      <th>10</th>\n",
       "      <td>PTRATIO</td>\n",
       "      <td>-0.953464</td>\n",
       "    </tr>\n",
       "    <tr>\n",
       "      <th>7</th>\n",
       "      <td>DIS</td>\n",
       "      <td>-1.475759</td>\n",
       "    </tr>\n",
       "    <tr>\n",
       "      <th>4</th>\n",
       "      <td>NOX</td>\n",
       "      <td>-17.795759</td>\n",
       "    </tr>\n",
       "  </tbody>\n",
       "</table>\n",
       "</div>"
      ],
      "text/plain": [
       "   Features  Coefficient Estimate\n",
       "5        RM              3.804752\n",
       "3      CHAS              2.688561\n",
       "8       RAD              0.305655\n",
       "1        ZN              0.046395\n",
       "2     INDUS              0.020860\n",
       "11        B              0.009393\n",
       "6       AGE              0.000751\n",
       "9       TAX             -0.012329\n",
       "0      CRIM             -0.107171\n",
       "12    LSTAT             -0.525467\n",
       "10  PTRATIO             -0.953464\n",
       "7       DIS             -1.475759\n",
       "4       NOX            -17.795759"
      ]
     },
     "execution_count": 27,
     "metadata": {},
     "output_type": "execute_result"
    }
   ],
   "source": [
    "# Set a DataFrame from the Features\n",
    "coeff_df = DataFrame(boston_df.drop('Price', 1).columns)\n",
    "coeff_df.columns = ['Features']\n",
    "\n",
    "# Set a new column lining up the coefficients from the linear regression\n",
    "coeff_df[\"Coefficient Estimate\"] = pd.Series(lreg.coef_)\n",
    "\n",
    "# Show\n",
    "coeff_df.sort_values(by='Coefficient Estimate', ascending=False)"
   ]
  },
  {
   "cell_type": "markdown",
   "metadata": {},
   "source": [
    "Here we see that our number of rooms, is also the feature that has the highest positive correlation with the house price (What a coincidence that we totally randomly picked this column!)"
   ]
  },
  {
   "cell_type": "markdown",
   "metadata": {},
   "source": [
    "## Training and Test set\n",
    "This time we used all data for training (fitting). An annoying side-effect is that we now can no longer used this training data for testing (else it would be cheating). Hence we have to make seperate train and test set. The correct way to pick out samples from your dataset to be part either the training or test (also called validation) set is *randomly*.\n",
    "\n",
    "Fortunately, scikit learn has a built in function specifically for this called train_test_split.\n",
    "\n",
    "The parameters passed are your X and Y, then optionally test_size parameter, representing the proportion of the dataset to include in the test split. As well a train_size parameter. you can learn more about these parameters [here](http://scikit-learn.org/stable/modules/generated/sklearn.cross_validation.train_test_split.html)"
   ]
  },
  {
   "cell_type": "code",
   "execution_count": 34,
   "metadata": {},
   "outputs": [
    {
     "name": "stdout",
     "output_type": "stream",
     "text": [
      "(379, 2) (127, 2) (379,) (127,)\n",
      "[[6.127 1.   ]\n",
      " [7.241 1.   ]\n",
      " [6.538 1.   ]\n",
      " [6.103 1.   ]\n",
      " [6.069 1.   ]\n",
      " [5.456 1.   ]\n",
      " [6.23  1.   ]\n",
      " [6.072 1.   ]\n",
      " [5.868 1.   ]\n",
      " [6.433 1.   ]\n",
      " [6.833 1.   ]\n",
      " [6.38  1.   ]\n",
      " [6.425 1.   ]\n",
      " [6.209 1.   ]\n",
      " [4.97  1.   ]\n",
      " [6.395 1.   ]\n",
      " [5.887 1.   ]\n",
      " [6.649 1.   ]\n",
      " [6.976 1.   ]\n",
      " [5.67  1.   ]\n",
      " [7.147 1.   ]\n",
      " [6.164 1.   ]\n",
      " [6.059 1.   ]\n",
      " [7.178 1.   ]\n",
      " [6.43  1.   ]\n",
      " [6.438 1.   ]\n",
      " [5.981 1.   ]\n",
      " [6.951 1.   ]\n",
      " [7.185 1.   ]\n",
      " [8.034 1.   ]\n",
      " [6.879 1.   ]\n",
      " [5.95  1.   ]\n",
      " [6.998 1.   ]\n",
      " [7.104 1.   ]\n",
      " [6.358 1.   ]\n",
      " [5.731 1.   ]\n",
      " [6.113 1.   ]\n",
      " [6.279 1.   ]\n",
      " [5.757 1.   ]\n",
      " [5.837 1.   ]\n",
      " [5.572 1.   ]\n",
      " [5.56  1.   ]\n",
      " [7.016 1.   ]\n",
      " [6.957 1.   ]\n",
      " [6.167 1.   ]\n",
      " [5.631 1.   ]\n",
      " [6.402 1.   ]\n",
      " [6.631 1.   ]\n",
      " [5.874 1.   ]\n",
      " [6.254 1.   ]\n",
      " [6.421 1.   ]\n",
      " [6.63  1.   ]\n",
      " [7.274 1.   ]\n",
      " [6.434 1.   ]\n",
      " [7.287 1.   ]\n",
      " [4.903 1.   ]\n",
      " [7.853 1.   ]\n",
      " [6.63  1.   ]\n",
      " [6.565 1.   ]\n",
      " [6.556 1.   ]\n",
      " [6.317 1.   ]\n",
      " [6.459 1.   ]\n",
      " [6.794 1.   ]\n",
      " [6.484 1.   ]\n",
      " [6.389 1.   ]\n",
      " [5.594 1.   ]\n",
      " [5.304 1.   ]\n",
      " [6.023 1.   ]\n",
      " [7.185 1.   ]\n",
      " [6.162 1.   ]\n",
      " [6.546 1.   ]\n",
      " [6.411 1.   ]\n",
      " [5.924 1.   ]\n",
      " [6.24  1.   ]\n",
      " [5.757 1.   ]\n",
      " [7.135 1.   ]\n",
      " [6.629 1.   ]\n",
      " [6.315 1.   ]\n",
      " [4.368 1.   ]\n",
      " [6.982 1.   ]\n",
      " [6.701 1.   ]\n",
      " [7.107 1.   ]\n",
      " [5.454 1.   ]\n",
      " [5.599 1.   ]\n",
      " [6.968 1.   ]\n",
      " [6.405 1.   ]\n",
      " [6.316 1.   ]\n",
      " [6.312 1.   ]\n",
      " [6.482 1.   ]\n",
      " [5.155 1.   ]\n",
      " [6.03  1.   ]\n",
      " [6.749 1.   ]\n",
      " [7.203 1.   ]\n",
      " [5.807 1.   ]\n",
      " [7.875 1.   ]\n",
      " [6.003 1.   ]\n",
      " [5.818 1.   ]\n",
      " [6.219 1.   ]\n",
      " [5.877 1.   ]\n",
      " [8.78  1.   ]\n",
      " [5.683 1.   ]\n",
      " [7.088 1.   ]\n",
      " [6.678 1.   ]\n",
      " [7.923 1.   ]\n",
      " [8.04  1.   ]\n",
      " [6.152 1.   ]\n",
      " [6.618 1.   ]\n",
      " [6.51  1.   ]\n",
      " [6.144 1.   ]\n",
      " [5.913 1.   ]\n",
      " [8.725 1.   ]\n",
      " [6.176 1.   ]\n",
      " [6.037 1.   ]\n",
      " [6.487 1.   ]\n",
      " [7.155 1.   ]\n",
      " [5.741 1.   ]\n",
      " [6.98  1.   ]\n",
      " [5.998 1.   ]\n",
      " [5.403 1.   ]\n",
      " [6.782 1.   ]\n",
      " [6.86  1.   ]\n",
      " [7.393 1.   ]\n",
      " [6.417 1.   ]\n",
      " [6.142 1.   ]\n",
      " [5.468 1.   ]\n",
      " [5.854 1.   ]\n",
      " [6.315 1.   ]\n",
      " [5.875 1.   ]\n",
      " [5.693 1.   ]\n",
      " [6.202 1.   ]\n",
      " [6.718 1.   ]\n",
      " [6.454 1.   ]\n",
      " [6.312 1.   ]\n",
      " [5.942 1.   ]\n",
      " [5.857 1.   ]\n",
      " [6.174 1.   ]\n",
      " [6.064 1.   ]\n",
      " [6.127 1.   ]\n",
      " [6.951 1.   ]\n",
      " [6.635 1.   ]\n",
      " [6.816 1.   ]\n",
      " [5.453 1.   ]\n",
      " [6.226 1.   ]\n",
      " [6.041 1.   ]\n",
      " [6.871 1.   ]\n",
      " [6.009 1.   ]\n",
      " [6.273 1.   ]\n",
      " [6.481 1.   ]\n",
      " [6.674 1.   ]\n",
      " [5.854 1.   ]\n",
      " [7.489 1.   ]\n",
      " [3.863 1.   ]\n",
      " [6.286 1.   ]\n",
      " [6.625 1.   ]\n",
      " [5.39  1.   ]\n",
      " [5.593 1.   ]\n",
      " [6.031 1.   ]\n",
      " [6.606 1.   ]\n",
      " [5.888 1.   ]\n",
      " [6.211 1.   ]\n",
      " [6.616 1.   ]\n",
      " [6.216 1.   ]\n",
      " [5.987 1.   ]\n",
      " [6.326 1.   ]\n",
      " [6.14  1.   ]\n",
      " [6.223 1.   ]\n",
      " [6.341 1.   ]\n",
      " [6.404 1.   ]\n",
      " [5.976 1.   ]\n",
      " [7.52  1.   ]\n",
      " [7.802 1.   ]\n",
      " [6.151 1.   ]\n",
      " [5.617 1.   ]\n",
      " [6.696 1.   ]\n",
      " [7.61  1.   ]\n",
      " [5.966 1.   ]\n",
      " [5.627 1.   ]\n",
      " [5.362 1.   ]\n",
      " [5.927 1.   ]\n",
      " [6.897 1.   ]\n",
      " [5.836 1.   ]\n",
      " [6.096 1.   ]\n",
      " [6.77  1.   ]\n",
      " [5.531 1.   ]\n",
      " [6.442 1.   ]\n",
      " [6.854 1.   ]\n",
      " [5.536 1.   ]\n",
      " [6.513 1.   ]\n",
      " [6.436 1.   ]\n",
      " [5.834 1.   ]\n",
      " [7.014 1.   ]\n",
      " [5.85  1.   ]\n",
      " [7.249 1.   ]\n",
      " [6.229 1.   ]\n",
      " [7.236 1.   ]\n",
      " [6.122 1.   ]\n",
      " [6.208 1.   ]\n",
      " [5.605 1.   ]\n",
      " [6.195 1.   ]\n",
      " [6.319 1.   ]\n",
      " [6.861 1.   ]\n",
      " [6.812 1.   ]\n",
      " [6.495 1.   ]\n",
      " [5.99  1.   ]\n",
      " [5.412 1.   ]\n",
      " [6.943 1.   ]\n",
      " [6.108 1.   ]\n",
      " [6.762 1.   ]\n",
      " [6.59  1.   ]\n",
      " [4.652 1.   ]\n",
      " [5.92  1.   ]\n",
      " [6.739 1.   ]\n",
      " [5.012 1.   ]\n",
      " [6.086 1.   ]\n",
      " [7.079 1.   ]\n",
      " [6.021 1.   ]\n",
      " [6.004 1.   ]\n",
      " [6.112 1.   ]\n",
      " [5.663 1.   ]\n",
      " [5.79  1.   ]\n",
      " [4.138 1.   ]\n",
      " [7.686 1.   ]\n",
      " [6.545 1.   ]\n",
      " [6.54  1.   ]\n",
      " [6.375 1.   ]\n",
      " [6.415 1.   ]\n",
      " [5.399 1.   ]\n",
      " [8.398 1.   ]\n",
      " [6.004 1.   ]\n",
      " [6.066 1.   ]\n",
      " [6.781 1.   ]\n",
      " [6.114 1.   ]\n",
      " [6.377 1.   ]\n",
      " [5.019 1.   ]\n",
      " [6.027 1.   ]\n",
      " [6.38  1.   ]\n",
      " [5.856 1.   ]\n",
      " [6.549 1.   ]\n",
      " [7.691 1.   ]\n",
      " [5.872 1.   ]\n",
      " [5.895 1.   ]\n",
      " [6.081 1.   ]\n",
      " [6.852 1.   ]\n",
      " [6.826 1.   ]\n",
      " [6.405 1.   ]\n",
      " [6.471 1.   ]\n",
      " [5.852 1.   ]\n",
      " [6.03  1.   ]\n",
      " [6.144 1.   ]\n",
      " [5.803 1.   ]\n",
      " [5.786 1.   ]\n",
      " [4.519 1.   ]\n",
      " [6.333 1.   ]\n",
      " [5.628 1.   ]\n",
      " [6.579 1.   ]\n",
      " [6.343 1.   ]\n",
      " [6.525 1.   ]\n",
      " [5.782 1.   ]\n",
      " [6.372 1.   ]\n",
      " [6.209 1.   ]\n",
      " [4.138 1.   ]\n",
      " [7.024 1.   ]\n",
      " [5.856 1.   ]\n",
      " [6.726 1.   ]\n",
      " [6.824 1.   ]\n",
      " [5.891 1.   ]\n",
      " [6.121 1.   ]\n",
      " [6.065 1.   ]\n",
      " [6.162 1.   ]\n",
      " [8.337 1.   ]\n",
      " [6.232 1.   ]\n",
      " [6.193 1.   ]\n",
      " [6.345 1.   ]\n",
      " [6.461 1.   ]\n",
      " [7.82  1.   ]\n",
      " [6.297 1.   ]\n",
      " [5.648 1.   ]\n",
      " [6.8   1.   ]\n",
      " [6.212 1.   ]\n",
      " [8.704 1.   ]\n",
      " [5.427 1.   ]\n",
      " [6.101 1.   ]\n",
      " [7.765 1.   ]\n",
      " [5.783 1.   ]\n",
      " [6.185 1.   ]\n",
      " [6.635 1.   ]\n",
      " [4.88  1.   ]\n",
      " [6.249 1.   ]\n",
      " [6.006 1.   ]\n",
      " [5.39  1.   ]\n",
      " [5.859 1.   ]\n",
      " [6.595 1.   ]\n",
      " [4.628 1.   ]\n",
      " [5.794 1.   ]\n",
      " [6.842 1.   ]\n",
      " [6.511 1.   ]\n",
      " [3.561 1.   ]\n",
      " [6.782 1.   ]\n",
      " [5.404 1.   ]\n",
      " [5.841 1.   ]\n",
      " [6.516 1.   ]\n",
      " [6.182 1.   ]\n",
      " [6.29  1.   ]\n",
      " [5.272 1.   ]\n",
      " [6.657 1.   ]\n",
      " [7.416 1.   ]\n",
      " [6.096 1.   ]\n",
      " [5.57  1.   ]\n",
      " [5.613 1.   ]\n",
      " [7.929 1.   ]\n",
      " [7.333 1.   ]\n",
      " [7.831 1.   ]\n",
      " [5.851 1.   ]\n",
      " [5.869 1.   ]\n",
      " [6.266 1.   ]\n",
      " [6.474 1.   ]\n",
      " [5.935 1.   ]\n",
      " [4.906 1.   ]\n",
      " [5.961 1.   ]\n",
      " [6.619 1.   ]\n",
      " [5.713 1.   ]\n",
      " [6.49  1.   ]\n",
      " [5.96  1.   ]\n",
      " [5.986 1.   ]\n",
      " [6.152 1.   ]\n",
      " [6.373 1.   ]\n",
      " [6.642 1.   ]\n",
      " [6.31  1.   ]\n",
      " [6.229 1.   ]\n",
      " [5.968 1.   ]\n",
      " [5.966 1.   ]\n",
      " [6.137 1.   ]\n",
      " [7.42  1.   ]\n",
      " [6.015 1.   ]\n",
      " [5.879 1.   ]\n",
      " [6.398 1.   ]\n",
      " [6.426 1.   ]\n",
      " [5.709 1.   ]\n",
      " [5.747 1.   ]\n",
      " [6.108 1.   ]\n",
      " [5.972 1.   ]\n",
      " [6.12  1.   ]\n",
      " [5.933 1.   ]\n",
      " [5.963 1.   ]\n",
      " [5.713 1.   ]\n",
      " [6.348 1.   ]\n",
      " [5.875 1.   ]\n",
      " [6.975 1.   ]\n",
      " [5.52  1.   ]\n",
      " [5.884 1.   ]\n",
      " [6.405 1.   ]\n",
      " [5.876 1.   ]\n",
      " [7.267 1.   ]\n",
      " [5.093 1.   ]\n",
      " [8.375 1.   ]\n",
      " [6.604 1.   ]\n",
      " [7.47  1.   ]\n",
      " [6.251 1.   ]\n",
      " [5.889 1.   ]\n",
      " [6.98  1.   ]\n",
      " [6.02  1.   ]\n",
      " [5.871 1.   ]\n",
      " [5.896 1.   ]\n",
      " [6.794 1.   ]\n",
      " [5.404 1.   ]\n",
      " [6.122 1.   ]\n",
      " [6.495 1.   ]\n",
      " [6.727 1.   ]\n",
      " [6.167 1.   ]\n",
      " [6.849 1.   ]\n",
      " [4.963 1.   ]\n",
      " [6.335 1.   ]\n",
      " [6.092 1.   ]\n",
      " [5.705 1.   ]\n",
      " [5.186 1.   ]\n",
      " [5.914 1.   ]\n",
      " [6.458 1.   ]\n",
      " [6.083 1.   ]\n",
      " [5.936 1.   ]]\n"
     ]
    }
   ],
   "source": [
    "import sklearn.model_selection\n",
    "# Grab the output and set as X and Y test and train data sets!\n",
    "X_train, X_test, Y_train, Y_test = sklearn.model_selection.train_test_split(X,boston_df.Price)\n",
    "\n",
    "# Print shapes of the training and testing data sets\n",
    "print(X_train.shape, X_test.shape, Y_train.shape, Y_test.shape)\n",
    "print(X_train)"
   ]
  },
  {
   "cell_type": "markdown",
   "metadata": {},
   "source": [
    "Now that we fixed this minor inconvenience of not having a train/test set, we can actually get started with the predictions!"
   ]
  },
  {
   "cell_type": "markdown",
   "metadata": {},
   "source": [
    "## The Prediction"
   ]
  },
  {
   "cell_type": "code",
   "execution_count": 35,
   "metadata": {},
   "outputs": [
    {
     "data": {
      "text/plain": [
       "LinearRegression(copy_X=True, fit_intercept=True, n_jobs=1, normalize=False)"
      ]
     },
     "execution_count": 35,
     "metadata": {},
     "output_type": "execute_result"
    }
   ],
   "source": [
    "# Create our regression object\n",
    "lreg = LinearRegression()\n",
    "\n",
    "# Once again do a linear regression, except only on the training sets this time\n",
    "lreg.fit(X_train,Y_train)"
   ]
  },
  {
   "cell_type": "code",
   "execution_count": 36,
   "metadata": {},
   "outputs": [],
   "source": [
    "# Predictions on training and testing sets\n",
    "pred_train = lreg.predict(X_train)\n",
    "pred_test = lreg.predict(X_test)"
   ]
  },
  {
   "cell_type": "code",
   "execution_count": 37,
   "metadata": {},
   "outputs": [
    {
     "name": "stdout",
     "output_type": "stream",
     "text": [
      "Fit a model X_train, and calculate MSE with Y_train: 47.59\n",
      "Fit a model X_train, and calculate MSE with X_test and Y_test: 31.83\n"
     ]
    }
   ],
   "source": [
    "from sklearn.metrics import mean_squared_error\n",
    "mse = mean_squared_error(r, y)\n",
    "\n",
    "print(\"Fit a model X_train, and calculate MSE with Y_train: {0:.2f}\".format(mean_squared_error(Y_train, pred_train)))\n",
    "    \n",
    "print(\"Fit a model X_train, and calculate MSE with X_test and Y_test: {0:.2f}\".format(mean_squared_error(Y_test, pred_test)))"
   ]
  },
  {
   "cell_type": "markdown",
   "metadata": {},
   "source": [
    "# K-Means Clustering"
   ]
  },
  {
   "cell_type": "markdown",
   "metadata": {},
   "source": [
    "K-means is a clustering algorithm that tries to partition a set of points into K sets (clusters) such that the points in each cluster tend to be near each other. It is unsupervised because the points have no external classification."
   ]
  },
  {
   "cell_type": "code",
   "execution_count": 20,
   "metadata": {},
   "outputs": [],
   "source": [
    "import matplotlib.pyplot as plt\n",
    "from sklearn import datasets\n",
    "from sklearn.cluster import KMeans\n",
    "import sklearn.metrics as sm\n",
    " \n",
    "import pandas as pd\n",
    "import numpy as np\n",
    " \n",
    "# Only needed if you want to display your plots inline if using Notebook\n",
    "# change inline to auto if you have Spyder installed\n",
    "%matplotlib inline"
   ]
  },
  {
   "cell_type": "markdown",
   "metadata": {},
   "source": [
    "Now we will use a familiar face again, the Iris dataset. Can you think of a reason why we might not want to take the boston dataset as an example for K-Means clustering?"
   ]
  },
  {
   "cell_type": "code",
   "execution_count": 21,
   "metadata": {},
   "outputs": [],
   "source": [
    "# import some data to play with\n",
    "iris = datasets.load_iris()"
   ]
  },
  {
   "cell_type": "markdown",
   "metadata": {},
   "source": [
    "I love Pandas, hence you shall come to love it too (and it simply makes some things just a lot easier)."
   ]
  },
  {
   "cell_type": "code",
   "execution_count": 22,
   "metadata": {},
   "outputs": [],
   "source": [
    "# Store the inputs as a Pandas Dataframe and set the column names\n",
    "x = pd.DataFrame(iris.data)\n",
    "x.columns = ['Sepal_Length','Sepal_Width','Petal_Length','Petal_Width']\n",
    " \n",
    "y = pd.DataFrame(iris.target)\n",
    "y.columns = ['Targets']"
   ]
  },
  {
   "cell_type": "markdown",
   "metadata": {},
   "source": [
    "Although we have seen this dataset before, it is always good to visualize the dataset before working with it. Hence we shall do so again. Similar to before, we will do this by using a scatter plot. We will also set it to use some colours so it is clearer what the official classes are."
   ]
  },
  {
   "cell_type": "code",
   "execution_count": 23,
   "metadata": {},
   "outputs": [
    {
     "data": {
      "text/plain": [
       "Text(0,0.5,'Petal Width')"
      ]
     },
     "execution_count": 23,
     "metadata": {},
     "output_type": "execute_result"
    },
    {
     "data": {
      "image/png": "[encoded data removed]",
      "text/plain": [
       "<matplotlib.figure.Figure at 0x2481e173128>"
      ]
     },
     "metadata": {},
     "output_type": "display_data"
    }
   ],
   "source": [
    "# Set the size of the plot\n",
    "plt.figure(figsize=(7,7))\n",
    " \n",
    "# Create a colormap\n",
    "colormap = np.array(['red', 'lime', 'black'])\n",
    " \n",
    "# Plotting the petals\n",
    " \n",
    "plt.scatter(x.Petal_Length, x.Petal_Width, c=colormap[y.Targets], s=40)\n",
    "plt.title('Petal')\n",
    "plt.xlabel('Petal Length')\n",
    "plt.ylabel('Petal Width')"
   ]
  },
  {
   "cell_type": "markdown",
   "metadata": {},
   "source": [
    "### K-Means model\n",
    "\n",
    "Setting up the K-Means model is pretty simple with scikit-learn. The simplest approach really just needs one variable, namely the number of clusters.\n",
    "\n",
    "For an initial display, we create the model and specify the number of clusters the model should find (n_clusters=3) next we fit the model to the data."
   ]
  },
  {
   "cell_type": "code",
   "execution_count": 24,
   "metadata": {},
   "outputs": [
    {
     "data": {
      "text/plain": [
       "array([1, 1, 1, 1, 1, 1, 1, 1, 1, 1, 1, 1, 1, 1, 1, 1, 1, 1, 1, 1, 1, 1,\n",
       "       1, 1, 1, 1, 1, 1, 1, 1, 1, 1, 1, 1, 1, 1, 1, 1, 1, 1, 1, 1, 1, 1,\n",
       "       1, 1, 1, 1, 1, 1, 0, 0, 2, 0, 0, 0, 0, 0, 0, 0, 0, 0, 0, 0, 0, 0,\n",
       "       0, 0, 0, 0, 0, 0, 0, 0, 0, 0, 0, 2, 0, 0, 0, 0, 0, 0, 0, 0, 0, 0,\n",
       "       0, 0, 0, 0, 0, 0, 0, 0, 0, 0, 0, 0, 2, 0, 2, 2, 2, 2, 0, 2, 2, 2,\n",
       "       2, 2, 2, 0, 0, 2, 2, 2, 2, 0, 2, 0, 2, 0, 2, 2, 0, 0, 2, 2, 2, 2,\n",
       "       2, 0, 2, 2, 2, 2, 0, 2, 2, 2, 0, 2, 2, 2, 0, 2, 2, 0])"
      ]
     },
     "execution_count": 24,
     "metadata": {},
     "output_type": "execute_result"
    }
   ],
   "source": [
    "# K Means Cluster\n",
    "model = KMeans(n_clusters=3)\n",
    "model.fit(x)\n",
    "\n",
    "# This is what KMeans thought\n",
    "model.labels_"
   ]
  },
  {
   "cell_type": "markdown",
   "metadata": {},
   "source": [
    "## Well... that sure tells us a lot... not. Let us try visualising once more!"
   ]
  },
  {
   "cell_type": "code",
   "execution_count": 25,
   "metadata": {},
   "outputs": [
    {
     "data": {
      "image/png": "[encoded data removed]",
      "text/plain": [
       "<matplotlib.figure.Figure at 0x2481e037390>"
      ]
     },
     "metadata": {},
     "output_type": "display_data"
    }
   ],
   "source": [
    "# View the results\n",
    "# Set the size of the plot\n",
    "plt.figure(figsize=(14,7))\n",
    " \n",
    "# Create a colormap\n",
    "colormap = np.array(['red', 'lime', 'black'])\n",
    " \n",
    "# Plot the Original Classifications\n",
    "plt.subplot(1, 2, 1)\n",
    "plt.scatter(x.Petal_Length, x.Petal_Width, c=colormap[y.Targets], s=40)\n",
    "plt.title('Real Classification')\n",
    " \n",
    "# Plot the Models Classifications\n",
    "plt.subplot(1, 2, 2)\n",
    "plt.scatter(x.Petal_Length, x.Petal_Width, c=colormap[model.labels_], s=40)\n",
    "plt.title('K Mean Classification')\n",
    "predY = model.labels_"
   ]
  },
  {
   "cell_type": "markdown",
   "metadata": {},
   "source": [
    "The order of colors might be messed up. The perfectionists that we are, we can not let this slide! Now because the approach is unsupervised, the nubmer assignment can be different every time. Hence the code below might have to be different for you to correct the colors."
   ]
  },
  {
   "cell_type": "code",
   "execution_count": 26,
   "metadata": {},
   "outputs": [
    {
     "name": "stdout",
     "output_type": "stream",
     "text": [
      "[0, 0, 0, 0, 0, 0, 0, 0, 0, 0, 0, 0, 0, 0, 0, 0, 0, 0, 0, 0, 0, 0, 0, 0, 0, 0, 0, 0, 0, 0, 0, 0, 0, 0, 0, 0, 0, 0, 0, 0, 0, 0, 0, 0, 0, 0, 0, 0, 0, 0, 1, 1, 1, 1, 1, 1, 1, 1, 1, 1, 1, 1, 1, 1, 1, 1, 1, 1, 1, 1, 1, 1, 1, 1, 1, 1, 1, 1, 1, 1, 1, 1, 1, 1, 1, 1, 1, 1, 1, 1, 1, 1, 1, 1, 1, 1, 1, 1, 1, 1, 2, 2, 2, 2, 2, 2, 2, 2, 2, 2, 2, 2, 2, 2, 2, 2, 2, 2, 2, 2, 2, 2, 2, 2, 2, 2, 2, 2, 2, 2, 2, 2, 2, 2, 2, 2, 2, 2, 2, 2, 2, 2, 2, 2, 2, 2, 2, 2, 2, 2]\n",
      "[1 1 1 1 1 1 1 1 1 1 1 1 1 1 1 1 1 1 1 1 1 1 1 1 1 1 1 1 1 1 1 1 1 1 1 1 1\n",
      " 1 1 1 1 1 1 1 1 1 1 1 1 1 0 0 2 0 0 0 0 0 0 0 0 0 0 0 0 0 0 0 0 0 0 0 0 0\n",
      " 0 0 0 2 0 0 0 0 0 0 0 0 0 0 0 0 0 0 0 0 0 0 0 0 0 0 2 0 2 2 2 2 0 2 2 2 2\n",
      " 2 2 0 0 2 2 2 2 0 2 0 2 0 2 2 0 0 2 2 2 2 2 0 2 2 2 2 0 2 2 2 0 2 2 2 0 2\n",
      " 2 0]\n",
      "[0 0 0 0 0 0 0 0 0 0 0 0 0 0 0 0 0 0 0 0 0 0 0 0 0 0 0 0 0 0 0 0 0 0 0 0 0\n",
      " 0 0 0 0 0 0 0 0 0 0 0 0 0 2 2 1 2 2 2 2 2 2 2 2 2 2 2 2 2 2 2 2 2 2 2 2 2\n",
      " 2 2 2 1 2 2 2 2 2 2 2 2 2 2 2 2 2 2 2 2 2 2 2 2 2 2 1 2 1 1 1 1 2 1 1 1 1\n",
      " 1 1 2 2 1 1 1 1 2 1 2 1 2 1 1 2 2 1 1 1 1 1 2 1 1 1 1 2 1 1 1 2 1 1 1 2 1\n",
      " 1 2]\n"
     ]
    }
   ],
   "source": [
    "# The fix, we convert all the 0s to 2s and 1s to 0s and 2s to 1s.\n",
    "predY = np.choose(model.labels_, [2, 0, 1]).astype(np.int64)\n",
    "print(list(y.Targets))\n",
    "print (model.labels_)\n",
    "print (predY)"
   ]
  },
  {
   "cell_type": "code",
   "execution_count": 31,
   "metadata": {},
   "outputs": [
    {
     "data": {
      "text/plain": [
       "Text(0.5,1,'K Mean Classification')"
      ]
     },
     "execution_count": 31,
     "metadata": {},
     "output_type": "execute_result"
    },
    {
     "data": {
      "image/png": "[encoded data removed]",
      "text/plain": [
       "<matplotlib.figure.Figure at 0x7f7b63175f28>"
      ]
     },
     "metadata": {},
     "output_type": "display_data"
    }
   ],
   "source": [
    "# View the results\n",
    "# Set the size of the plot\n",
    "plt.figure(figsize=(14,7))\n",
    " \n",
    "# Create a colormap\n",
    "colormap = np.array(['red', 'lime', 'black'])\n",
    "\n",
    "# Plot Orginal\n",
    "plt.subplot(1, 2, 1)\n",
    "plt.scatter(x.Petal_Length, x.Petal_Width, c=colormap[y.Targets], s=40)\n",
    "plt.title('Real Classification')\n",
    " \n",
    "# Plot Predicted with corrected values\n",
    "plt.subplot(1, 2, 2)\n",
    "plt.scatter(x.Petal_Length, x.Petal_Width, c=colormap[predY], s=40)\n",
    "plt.title('K Mean Classification')"
   ]
  },
  {
   "cell_type": "markdown",
   "metadata": {},
   "source": [
    "No we can see that the K Means classifier has identified one class correctly (red) but some blacks have been classed as greens and vice versa."
   ]
  },
  {
   "cell_type": "markdown",
   "metadata": {},
   "source": [
    "### Measuring Performance\n",
    "There are a number of ways in which we can measure a classifiers performance. Here we will calculate the accuracy and also the confusion matrix.\n",
    "\n",
    "We need to values y which is the true (original) values and predY which are the models values."
   ]
  },
  {
   "cell_type": "code",
   "execution_count": 27,
   "metadata": {},
   "outputs": [
    {
     "data": {
      "text/plain": [
       "0.44"
      ]
     },
     "execution_count": 27,
     "metadata": {},
     "output_type": "execute_result"
    }
   ],
   "source": [
    "# Performance Metrics (All hail the built-ins!)\n",
    "sm.accuracy_score(y, predY)"
   ]
  },
  {
   "cell_type": "markdown",
   "metadata": {},
   "source": [
    "My result was 0.89, so we can say that the model has an accuracy of 89%. Seeing how the we worked with an unsupervised model, these certainly don't look like bad results! Although accuracy can be used in multi-class classification/clustering. We also often use the mean Average Precision instead (mAP, do note that `Average Precision` is a metric by itself, hence we can take the mean of it). This metrics works better with skewed data (e.g. with accuracy you can have the problem that your data consist of 90% of class 1s, your model just always predicts 1. Easy 90% accuracy. But your model is probably worthless)."
   ]
  },
  {
   "cell_type": "markdown",
   "metadata": {},
   "source": [
    "Another thing you can look at is the confusion matrix. This matrix can tell you which class has been misclassified as another class in detail.\n",
    "You can see which classes get mixed up, and hence might be messing up your results."
   ]
  },
  {
   "cell_type": "code",
   "execution_count": 28,
   "metadata": {},
   "outputs": [
    {
     "data": {
      "text/plain": [
       "array([[50,  0,  0],\n",
       "       [ 0,  2, 48],\n",
       "       [ 0, 36, 14]], dtype=int64)"
      ]
     },
     "execution_count": 28,
     "metadata": {},
     "output_type": "execute_result"
    }
   ],
   "source": [
    "# Confusion Matrix\n",
    "sm.confusion_matrix(y, predY)"
   ]
  },
  {
   "cell_type": "markdown",
   "metadata": {},
   "source": [
    "We can derive the following things from this matrix:\n",
    "    \n",
    "* All objects that are of class 0, have also been classified as 0.\n",
    "* 48  objects that are of class 1, have been classified as 1. 2 of those objects have been classified as class 2.\n",
    "* 36 objects of class 2 were classified correctly. 14 objects of class 2 were classified as class 1.\n"
   ]
  },
  {
   "cell_type": "markdown",
   "metadata": {},
   "source": [
    "### Are we note forgetting something?\n",
    "So in the example above we just picked the number of clusters to be equal to 3. We came to this number by simply abusing the fact that we know the dataset. But sadly we are not all-knowing, and we might encounter datasets where we do not know the number of unique classes. Which begs the question, is there a way to determina this number if you do not know the dataset? (Hint: yes)"
   ]
  },
  {
   "cell_type": "code",
   "execution_count": 29,
   "metadata": {},
   "outputs": [],
   "source": [
    "# Let's grab our example again:\n",
    "iris = datasets.load_iris()\n",
    "# Store the inputs as a Pandas Dataframe and set the column names\n",
    "x = pd.DataFrame(iris.data)\n",
    "x.columns = ['Sepal_Length','Sepal_Width','Petal_Length','Petal_Width']\n",
    " \n",
    "y = pd.DataFrame(iris.target)\n",
    "y.columns = ['Targets']"
   ]
  },
  {
   "cell_type": "markdown",
   "metadata": {},
   "source": [
    "[Paraphrased from here](https://www.datascience.com/blog/k-means-clustering)\n",
    "\n",
    "To find the number of clusters in the data, we can run the K-means clustering algorithm for a range of K values and compare the results. In general, there is no method for determining exact value of K, but an accurate estimate can be obtained using the following simple technique.\n",
    "\n",
    "One of the metrics that is commonly used to compare results across different values of K is the mean distance between data points and their cluster centroid. Since increasing the number of clusters will always reduce the distance to data points, increasing K will always decrease this metric, to the extreme of reaching zero when K is the same as the number of data points. Thus, this metric cannot be used as the sole target. Instead, mean distance to the centroid as a function of K is plotted and the `elbow point`, where the rate of decrease sharply shifts, can be used to roughly determine K."
   ]
  },
  {
   "cell_type": "code",
   "execution_count": 30,
   "metadata": {},
   "outputs": [
    {
     "name": "stdout",
     "output_type": "stream",
     "text": [
      "KMeans(algorithm='auto', copy_x=True, init='k-means++', max_iter=300,\n",
      "    n_clusters=3, n_init=10, n_jobs=1, precompute_distances='auto',\n",
      "    random_state=None, tol=0.0001, verbose=0)\n",
      "\n"
     ]
    },
    {
     "data": {
      "text/plain": [
       "78.94084142614602"
      ]
     },
     "execution_count": 30,
     "metadata": {},
     "output_type": "execute_result"
    }
   ],
   "source": [
    "# K Means Cluster\n",
    "model = KMeans(n_clusters=3)\n",
    "model.fit(x)\n",
    "\n",
    "print(model)\n",
    "print()\n",
    "\n",
    "# http://scikit-learn.org/stable/modules/generated/sklearn.cluster.KMeans.html\n",
    "\n",
    "# This is what KMeans thought\n",
    "model.inertia_"
   ]
  },
  {
   "cell_type": "code",
   "execution_count": 31,
   "metadata": {},
   "outputs": [
    {
     "name": "stdout",
     "output_type": "stream",
     "text": [
      "[680.8244, 152.36870647733906, 78.94084142614602, 57.31787321428571, 46.53558205128205, 38.95701115711985, 34.421947665056365, 29.906856755965457, 28.093220525690345]\n"
     ]
    }
   ],
   "source": [
    "inertias = []\n",
    "\n",
    "for i in range(1, 10):\n",
    "    model = KMeans(n_clusters=i)\n",
    "    model.fit(x)\n",
    "    inertias.append(model.inertia_)\n",
    "print(inertias)"
   ]
  },
  {
   "cell_type": "code",
   "execution_count": 32,
   "metadata": {},
   "outputs": [
    {
     "data": {
      "text/html": [
       "\n",
       "<div class=\"bk-root\">\n",
       "    <div class=\"bk-plotdiv\" id=\"6ae4771a-6ed4-41a1-8e36-2cf298e58895\"></div>\n",
       "</div>"
      ]
     },
     "metadata": {},
     "output_type": "display_data"
    },
    {
     "data": {
      "application/javascript": [
       "(function(root) {\n",
       "  function embed_document(root) {\n",
       "    \n",
       "  var docs_json = {\"9ca900cc-aef1-47a6-81a1-b57f0257e0a5\":{\"roots\":{\"references\":[{\"attributes\":{},\"id\":\"c269b570-615f-462d-a739-c41206a34587\",\"type\":\"BasicTicker\"},{\"attributes\":{\"active_drag\":\"auto\",\"active_inspect\":\"auto\",\"active_scroll\":\"auto\",\"active_tap\":\"auto\",\"tools\":[{\"id\":\"dacfdccc-36b9-4b84-a274-d283aa10abc8\",\"type\":\"PanTool\"},{\"id\":\"a738fb8f-7ab3-4b50-86e1-3b9c88afc856\",\"type\":\"WheelZoomTool\"},{\"id\":\"e1f3b27a-1131-425d-aa6f-2ce3b28a82fd\",\"type\":\"BoxZoomTool\"},{\"id\":\"e2a33e0e-f4ad-4f3e-b630-73f0c3f8393f\",\"type\":\"SaveTool\"},{\"id\":\"e75c1c04-d8a4-4d62-875e-48b1c8c4f9de\",\"type\":\"ResetTool\"},{\"id\":\"d9b94458-515d-483d-83bc-2f85ce8e4b6d\",\"type\":\"HelpTool\"}]},\"id\":\"421ee166-4000-4657-8708-8d00e2db1dd8\",\"type\":\"Toolbar\"},{\"attributes\":{\"callback\":null},\"id\":\"6d2e8188-c014-4679-9b43-41d19c8d4116\",\"type\":\"DataRange1d\"},{\"attributes\":{},\"id\":\"a738fb8f-7ab3-4b50-86e1-3b9c88afc856\",\"type\":\"WheelZoomTool\"},{\"attributes\":{\"dimension\":1,\"plot\":{\"id\":\"264c6de7-a6b9-4c03-9f5d-df753e88f61a\",\"subtype\":\"Figure\",\"type\":\"Plot\"},\"ticker\":{\"id\":\"c269b570-615f-462d-a739-c41206a34587\",\"type\":\"BasicTicker\"}},\"id\":\"7b248d89-a593-463a-b4e0-31b09646b6bc\",\"type\":\"Grid\"},{\"attributes\":{\"bottom_units\":\"screen\",\"fill_alpha\":{\"value\":0.5},\"fill_color\":{\"value\":\"lightgrey\"},\"left_units\":\"screen\",\"level\":\"overlay\",\"line_alpha\":{\"value\":1.0},\"line_color\":{\"value\":\"black\"},\"line_dash\":[4,4],\"line_width\":{\"value\":2},\"plot\":null,\"render_mode\":\"css\",\"right_units\":\"screen\",\"top_units\":\"screen\"},\"id\":\"f146503f-9dae-4f24-8369-769db553c928\",\"type\":\"BoxAnnotation\"},{\"attributes\":{\"axis_label\":\"Number of Clusters\",\"formatter\":{\"id\":\"578ae895-38bb-455f-aa19-1bf86594ecee\",\"type\":\"BasicTickFormatter\"},\"plot\":{\"id\":\"264c6de7-a6b9-4c03-9f5d-df753e88f61a\",\"subtype\":\"Figure\",\"type\":\"Plot\"},\"ticker\":{\"id\":\"4554fbff-2a1d-44b3-846b-505fa30ae6ef\",\"type\":\"BasicTicker\"}},\"id\":\"4ec6c1d4-4eec-4c9f-bafd-025b29148398\",\"type\":\"LinearAxis\"},{\"attributes\":{\"below\":[{\"id\":\"4ec6c1d4-4eec-4c9f-bafd-025b29148398\",\"type\":\"LinearAxis\"}],\"left\":[{\"id\":\"9c1a18d1-9fbf-4698-a1fe-98028892c709\",\"type\":\"LinearAxis\"}],\"plot_height\":250,\"plot_width\":400,\"renderers\":[{\"id\":\"4ec6c1d4-4eec-4c9f-bafd-025b29148398\",\"type\":\"LinearAxis\"},{\"id\":\"a0a1dee5-84dc-4ca5-acf9-a6e26350a1c4\",\"type\":\"Grid\"},{\"id\":\"9c1a18d1-9fbf-4698-a1fe-98028892c709\",\"type\":\"LinearAxis\"},{\"id\":\"7b248d89-a593-463a-b4e0-31b09646b6bc\",\"type\":\"Grid\"},{\"id\":\"f146503f-9dae-4f24-8369-769db553c928\",\"type\":\"BoxAnnotation\"},{\"id\":\"d633086f-7809-4b0b-b0e8-48c687e36f0f\",\"type\":\"GlyphRenderer\"}],\"title\":{\"id\":\"1f1fc564-739e-42ec-9475-ee9ee2fa826d\",\"type\":\"Title\"},\"toolbar\":{\"id\":\"421ee166-4000-4657-8708-8d00e2db1dd8\",\"type\":\"Toolbar\"},\"x_range\":{\"id\":\"6d2e8188-c014-4679-9b43-41d19c8d4116\",\"type\":\"DataRange1d\"},\"x_scale\":{\"id\":\"595b1a9a-35c9-425b-b6e5-ff0c9ed02232\",\"type\":\"LinearScale\"},\"y_range\":{\"id\":\"ad23084d-d213-4797-9b08-c25dec6ccb00\",\"type\":\"DataRange1d\"},\"y_scale\":{\"id\":\"e0ee4456-0996-4ed9-93e4-e47c220c9f4d\",\"type\":\"LinearScale\"}},\"id\":\"264c6de7-a6b9-4c03-9f5d-df753e88f61a\",\"subtype\":\"Figure\",\"type\":\"Plot\"},{\"attributes\":{\"axis_label\":\"Inertia\",\"formatter\":{\"id\":\"18a27019-8dbc-4dfc-bc51-a4464f6093fe\",\"type\":\"BasicTickFormatter\"},\"plot\":{\"id\":\"264c6de7-a6b9-4c03-9f5d-df753e88f61a\",\"subtype\":\"Figure\",\"type\":\"Plot\"},\"ticker\":{\"id\":\"c269b570-615f-462d-a739-c41206a34587\",\"type\":\"BasicTicker\"}},\"id\":\"9c1a18d1-9fbf-4698-a1fe-98028892c709\",\"type\":\"LinearAxis\"},{\"attributes\":{\"line_alpha\":0.1,\"line_color\":\"#1f77b4\",\"x\":{\"field\":\"x\"},\"y\":{\"field\":\"y\"}},\"id\":\"36ba07f5-2bf8-4424-8e54-e6d8d4d0154a\",\"type\":\"Line\"},{\"attributes\":{\"callback\":null,\"column_names\":[\"x\",\"y\"],\"data\":{\"x\":[1,2,3,4,5,6,7,8,9],\"y\":[680.8244,152.36870647733906,78.94084142614602,57.31787321428571,46.53558205128205,38.95701115711985,34.421947665056365,29.906856755965457,28.093220525690345]}},\"id\":\"ae7bb07b-a78a-4f87-b107-976a2525f160\",\"type\":\"ColumnDataSource\"},{\"attributes\":{\"plot\":null,\"text\":\"\"},\"id\":\"1f1fc564-739e-42ec-9475-ee9ee2fa826d\",\"type\":\"Title\"},{\"attributes\":{},\"id\":\"e2a33e0e-f4ad-4f3e-b630-73f0c3f8393f\",\"type\":\"SaveTool\"},{\"attributes\":{},\"id\":\"4554fbff-2a1d-44b3-846b-505fa30ae6ef\",\"type\":\"BasicTicker\"},{\"attributes\":{\"line_color\":\"#1f77b4\",\"x\":{\"field\":\"x\"},\"y\":{\"field\":\"y\"}},\"id\":\"c38562a2-cef2-4c69-a019-62109cabbb6d\",\"type\":\"Line\"},{\"attributes\":{},\"id\":\"595b1a9a-35c9-425b-b6e5-ff0c9ed02232\",\"type\":\"LinearScale\"},{\"attributes\":{},\"id\":\"578ae895-38bb-455f-aa19-1bf86594ecee\",\"type\":\"BasicTickFormatter\"},{\"attributes\":{\"callback\":null},\"id\":\"ad23084d-d213-4797-9b08-c25dec6ccb00\",\"type\":\"DataRange1d\"},{\"attributes\":{},\"id\":\"e75c1c04-d8a4-4d62-875e-48b1c8c4f9de\",\"type\":\"ResetTool\"},{\"attributes\":{},\"id\":\"dacfdccc-36b9-4b84-a274-d283aa10abc8\",\"type\":\"PanTool\"},{\"attributes\":{\"overlay\":{\"id\":\"f146503f-9dae-4f24-8369-769db553c928\",\"type\":\"BoxAnnotation\"}},\"id\":\"e1f3b27a-1131-425d-aa6f-2ce3b28a82fd\",\"type\":\"BoxZoomTool\"},{\"attributes\":{},\"id\":\"d9b94458-515d-483d-83bc-2f85ce8e4b6d\",\"type\":\"HelpTool\"},{\"attributes\":{\"data_source\":{\"id\":\"ae7bb07b-a78a-4f87-b107-976a2525f160\",\"type\":\"ColumnDataSource\"},\"glyph\":{\"id\":\"c38562a2-cef2-4c69-a019-62109cabbb6d\",\"type\":\"Line\"},\"hover_glyph\":null,\"muted_glyph\":null,\"nonselection_glyph\":{\"id\":\"36ba07f5-2bf8-4424-8e54-e6d8d4d0154a\",\"type\":\"Line\"},\"selection_glyph\":null,\"view\":{\"id\":\"10e5f06e-5238-4a1e-9990-6e3e73e43520\",\"type\":\"CDSView\"}},\"id\":\"d633086f-7809-4b0b-b0e8-48c687e36f0f\",\"type\":\"GlyphRenderer\"},{\"attributes\":{},\"id\":\"18a27019-8dbc-4dfc-bc51-a4464f6093fe\",\"type\":\"BasicTickFormatter\"},{\"attributes\":{\"plot\":{\"id\":\"264c6de7-a6b9-4c03-9f5d-df753e88f61a\",\"subtype\":\"Figure\",\"type\":\"Plot\"},\"ticker\":{\"id\":\"4554fbff-2a1d-44b3-846b-505fa30ae6ef\",\"type\":\"BasicTicker\"}},\"id\":\"a0a1dee5-84dc-4ca5-acf9-a6e26350a1c4\",\"type\":\"Grid\"},{\"attributes\":{\"source\":{\"id\":\"ae7bb07b-a78a-4f87-b107-976a2525f160\",\"type\":\"ColumnDataSource\"}},\"id\":\"10e5f06e-5238-4a1e-9990-6e3e73e43520\",\"type\":\"CDSView\"},{\"attributes\":{},\"id\":\"e0ee4456-0996-4ed9-93e4-e47c220c9f4d\",\"type\":\"LinearScale\"}],\"root_ids\":[\"264c6de7-a6b9-4c03-9f5d-df753e88f61a\"]},\"title\":\"Bokeh Application\",\"version\":\"0.12.13\"}};\n",
       "  var render_items = [{\"docid\":\"9ca900cc-aef1-47a6-81a1-b57f0257e0a5\",\"elementid\":\"6ae4771a-6ed4-41a1-8e36-2cf298e58895\",\"modelid\":\"264c6de7-a6b9-4c03-9f5d-df753e88f61a\"}];\n",
       "  root.Bokeh.embed.embed_items_notebook(docs_json, render_items);\n",
       "\n",
       "  }\n",
       "  if (root.Bokeh !== undefined) {\n",
       "    embed_document(root);\n",
       "  } else {\n",
       "    var attempts = 0;\n",
       "    var timer = setInterval(function(root) {\n",
       "      if (root.Bokeh !== undefined) {\n",
       "        embed_document(root);\n",
       "        clearInterval(timer);\n",
       "      }\n",
       "      attempts++;\n",
       "      if (attempts > 100) {\n",
       "        console.log(\"Bokeh: ERROR: Unable to run BokehJS code because BokehJS library is missing\")\n",
       "        clearInterval(timer);\n",
       "      }\n",
       "    }, 10, root)\n",
       "  }\n",
       "})(window);"
      ],
      "application/vnd.bokehjs_exec.v0+json": ""
     },
     "metadata": {
      "application/vnd.bokehjs_exec.v0+json": {
       "id": "264c6de7-a6b9-4c03-9f5d-df753e88f61a"
      }
     },
     "output_type": "display_data"
    }
   ],
   "source": [
    "f = figure(plot_width=400, plot_height=250)\n",
    "\n",
    "# Create the line\n",
    "x = boston_df[\"RM\"]\n",
    "f.line(range(1, 10), inertias)\n",
    "\n",
    "## Add some axis information\n",
    "f.xaxis.axis_label = 'Number of Clusters'\n",
    "f.yaxis.axis_label = 'Inertia'\n",
    "\n",
    "show(f)"
   ]
  },
  {
   "cell_type": "markdown",
   "metadata": {},
   "source": [
    "So well, hopefully you see why we refer to a an `elbow point`. We look for a change in direction between inertia values.\n",
    "Here we see a distinct change at both 2 and 3 clusters. Normally you wouldh ave tried both, to see which fits best. But remember.. if you have knowledge of a dataset, you can choose to cheat. Just document to your reader why you chose a specific value. We do not like `Magic numbers` (values that appear out of thin air)."
   ]
  },
  {
   "cell_type": "code",
   "execution_count": null,
   "metadata": {},
   "outputs": [],
   "source": []
  }
 ],
 "metadata": {
  "kernelspec": {
   "display_name": "Python 3",
   "language": "python",
   "name": "python3"
  },
  "language_info": {
   "codemirror_mode": {
    "name": "ipython",
    "version": 3
   },
   "file_extension": ".py",
   "mimetype": "text/x-python",
   "name": "python",
   "nbconvert_exporter": "python",
   "pygments_lexer": "ipython3",
   "version": "3.6.4"
  }
 },
 "nbformat": 4,
 "nbformat_minor": 2
}
