{
 "cells": [
  {
   "cell_type": "code",
   "execution_count": 1,
   "metadata": {},
   "outputs": [],
   "source": [
    "import pandas as pd\n",
    "# read data\n",
    "df = pd.read_csv(\"stage3.csv\")"
   ]
  },
  {
   "cell_type": "markdown",
   "metadata": {},
   "source": [
    "### Gun incidents per year"
   ]
  },
  {
   "cell_type": "code",
   "execution_count": 3,
   "metadata": {},
   "outputs": [
    {
     "data": {
      "text/plain": [
       "2017    61401\n",
       "2016    58763\n",
       "2015    53579\n",
       "2014    51854\n",
       "2018    13802\n",
       "Name: year, dtype: int64"
      ]
     },
     "execution_count": 3,
     "metadata": {},
     "output_type": "execute_result"
    }
   ],
   "source": [
    "df['date'] = pd.to_datetime(df['date'])\n",
    "df['year'] = df['date'].dt.year\n",
    "df['year'].value_counts()\n",
    "\n",
    "\n",
    "# not many incidents from 2013 were recorded (incomplete data) -> removed from set"
   ]
  },
  {
   "cell_type": "markdown",
   "metadata": {},
   "source": [
    "### Gun incidents per month (per year)"
   ]
  },
  {
   "cell_type": "code",
   "execution_count": 3,
   "metadata": {},
   "outputs": [
    {
     "data": {
      "text/plain": [
       "year  month\n",
       "2014  1        4395\n",
       "      2        3045\n",
       "      3        3669\n",
       "      4        3891\n",
       "      5        4320\n",
       "      6        4440\n",
       "      7        5219\n",
       "      8        5259\n",
       "      9        5052\n",
       "      10       4915\n",
       "      11       3795\n",
       "      12       3854\n",
       "2015  1        3907\n",
       "      2        3108\n",
       "      3        4314\n",
       "      4        4471\n",
       "      5        5015\n",
       "      6        4596\n",
       "      7        5076\n",
       "      8        5024\n",
       "      9        4849\n",
       "      10       4502\n",
       "      11       4262\n",
       "      12       4455\n",
       "2016  1        4590\n",
       "      2        3967\n",
       "      3        4892\n",
       "      4        4672\n",
       "      5        4902\n",
       "      6        4530\n",
       "      7        5250\n",
       "      8        5527\n",
       "      9        4937\n",
       "      10       5251\n",
       "      11       5092\n",
       "      12       5153\n",
       "2017  1        5258\n",
       "      2        4585\n",
       "      3        4994\n",
       "      4        5577\n",
       "      5        5666\n",
       "      6        5158\n",
       "      7        5547\n",
       "      8        5202\n",
       "      9        4790\n",
       "      10       5200\n",
       "      11       4802\n",
       "      12       4622\n",
       "2018  1        4926\n",
       "      2        4124\n",
       "      3        4752\n",
       "dtype: int64"
      ]
     },
     "execution_count": 3,
     "metadata": {},
     "output_type": "execute_result"
    }
   ],
   "source": [
    "# for each year, counts number of incidents per year\n",
    "df['month'] = df['date'].dt.month\n",
    "df.groupby(['year', 'month']).size()"
   ]
  },
  {
   "cell_type": "markdown",
   "metadata": {},
   "source": [
    "### Incidents per state"
   ]
  },
  {
   "cell_type": "code",
   "execution_count": 4,
   "metadata": {},
   "outputs": [
    {
     "data": {
      "text/plain": [
       "year  state               \n",
       "2014  Alabama                 1318\n",
       "      Alaska                   146\n",
       "      Arizona                  556\n",
       "      Arkansas                 572\n",
       "      California              3732\n",
       "      Colorado                 556\n",
       "      Connecticut              583\n",
       "      Delaware                 493\n",
       "      District of Columbia     838\n",
       "      Florida                 3138\n",
       "      Georgia                 2032\n",
       "      Hawaii                    48\n",
       "      Idaho                    115\n",
       "      Illinois                3095\n",
       "      Indiana                 1203\n",
       "      Iowa                     569\n",
       "      Kansas                   381\n",
       "      Kentucky                 977\n",
       "      Louisiana               1906\n",
       "      Maine                    183\n",
       "      Maryland                1266\n",
       "      Massachusetts            968\n",
       "      Michigan                1447\n",
       "      Minnesota                450\n",
       "      Mississippi              784\n",
       "      Missouri                1272\n",
       "      Montana                  128\n",
       "      Nebraska                 347\n",
       "      Nevada                   376\n",
       "      New Hampshire            230\n",
       "                              ... \n",
       "2018  Massachusetts            370\n",
       "      Michigan                 731\n",
       "      Minnesota                319\n",
       "      Mississippi              271\n",
       "      Missouri                 365\n",
       "      Montana                   41\n",
       "      Nebraska                 109\n",
       "      Nevada                   111\n",
       "      New Hampshire             47\n",
       "      New Jersey               224\n",
       "      New Mexico                81\n",
       "      New York                 337\n",
       "      North Carolina           464\n",
       "      North Dakota              31\n",
       "      Ohio                     591\n",
       "      Oklahoma                 203\n",
       "      Oregon                   139\n",
       "      Pennsylvania             496\n",
       "      Rhode Island              50\n",
       "      South Carolina           367\n",
       "      South Dakota              26\n",
       "      Tennessee                375\n",
       "      Texas                    676\n",
       "      Utah                      56\n",
       "      Vermont                   20\n",
       "      Virginia                 293\n",
       "      Washington               200\n",
       "      West Virginia             80\n",
       "      Wisconsin                376\n",
       "      Wyoming                   14\n",
       "Length: 255, dtype: int64"
      ]
     },
     "execution_count": 4,
     "metadata": {},
     "output_type": "execute_result"
    }
   ],
   "source": [
    "df.groupby(['year', 'state']).size()\n"
   ]
  },
  {
   "cell_type": "code",
   "execution_count": 7,
   "metadata": {},
   "outputs": [
    {
     "data": {
      "text/plain": [
       "state\n",
       "Alabama                  5469\n",
       "Alaska                   1349\n",
       "Arizona                  2323\n",
       "Arkansas                 2842\n",
       "California              16267\n",
       "Colorado                 3198\n",
       "Connecticut              3064\n",
       "Delaware                 1682\n",
       "District of Columbia     3189\n",
       "Florida                 15016\n",
       "Georgia                  8919\n",
       "Hawaii                    289\n",
       "Idaho                     661\n",
       "Illinois                17538\n",
       "Indiana                  5845\n",
       "Iowa                     2517\n",
       "Kansas                   2141\n",
       "Kentucky                 4154\n",
       "Louisiana                8094\n",
       "Maine                     907\n",
       "Maryland                 5793\n",
       "Massachusetts            5981\n",
       "Michigan                 6122\n",
       "Minnesota                2406\n",
       "Mississippi              3597\n",
       "Missouri                 6621\n",
       "Montana                   638\n",
       "Nebraska                 1650\n",
       "Nevada                   1951\n",
       "New Hampshire             964\n",
       "New Jersey               5373\n",
       "New Mexico               1643\n",
       "New York                 9696\n",
       "North Carolina           8727\n",
       "North Dakota              573\n",
       "Ohio                    10234\n",
       "Oklahoma                 3449\n",
       "Oregon                   2286\n",
       "Pennsylvania             8909\n",
       "Rhode Island              893\n",
       "South Carolina           6934\n",
       "South Dakota              544\n",
       "Tennessee                7616\n",
       "Texas                   13566\n",
       "Utah                     1071\n",
       "Vermont                   472\n",
       "Virginia                 5943\n",
       "Washington               3430\n",
       "West Virginia            1573\n",
       "Wisconsin                4786\n",
       "Wyoming                   494\n",
       "dtype: int64"
      ]
     },
     "execution_count": 7,
     "metadata": {},
     "output_type": "execute_result"
    }
   ],
   "source": [
    "df.groupby(['state']).size()"
   ]
  },
  {
   "cell_type": "markdown",
   "metadata": {},
   "source": [
    "### Fun"
   ]
  },
  {
   "cell_type": "code",
   "execution_count": 2,
   "metadata": {},
   "outputs": [],
   "source": [
    "from bokeh.plotting import figure\n",
    "from bokeh.io import output_file, show\n",
    "import pandas"
   ]
  },
  {
   "cell_type": "code",
   "execution_count": null,
   "metadata": {},
   "outputs": [],
   "source": [
    "ownership_data = pd.read_csv(\"gunownership.csv\")"
   ]
  }
 ],
 "metadata": {
  "kernelspec": {
   "display_name": "Python 3",
   "language": "python",
   "name": "python3"
  },
  "language_info": {
   "codemirror_mode": {
    "name": "ipython",
    "version": 3
   },
   "file_extension": ".py",
   "mimetype": "text/x-python",
   "name": "python",
   "nbconvert_exporter": "python",
   "pygments_lexer": "ipython3",
   "version": "3.5.2"
  }
 },
 "nbformat": 4,
 "nbformat_minor": 2
}
