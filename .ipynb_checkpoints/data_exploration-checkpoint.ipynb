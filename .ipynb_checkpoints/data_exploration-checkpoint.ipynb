{
 "cells": [
  {
   "cell_type": "markdown",
   "metadata": {},
   "source": [
    "# Data exploration\n",
    "Just exploring the data for now."
   ]
  },
  {
   "cell_type": "code",
   "execution_count": 1,
   "metadata": {},
   "outputs": [],
   "source": [
    "import pandas as pd"
   ]
  },
  {
   "cell_type": "code",
   "execution_count": 2,
   "metadata": {},
   "outputs": [],
   "source": [
    "# read data\n",
    "data = pd.read_csv(\"stage3.csv\")"
   ]
  },
  {
   "cell_type": "markdown",
   "metadata": {},
   "source": [
    "### People killed"
   ]
  },
  {
   "cell_type": "code",
   "execution_count": 3,
   "metadata": {},
   "outputs": [
    {
     "name": "stdout",
     "output_type": "stream",
     "text": [
      "60468 people killed\n"
     ]
    }
   ],
   "source": [
    "count = 0\n",
    "for i in range(1, len(data[\"n_killed\"])):\n",
    "    count += data[\"n_killed\"][i]\n",
    "\n",
    "print(count, \"people killed\")"
   ]
  },
  {
   "cell_type": "markdown",
   "metadata": {},
   "source": [
    "### People injured"
   ]
  },
  {
   "cell_type": "code",
   "execution_count": 4,
   "metadata": {},
   "outputs": [
    {
     "name": "stdout",
     "output_type": "stream",
     "text": [
      "118398 people injured\n"
     ]
    }
   ],
   "source": [
    "count = 0\n",
    "for i in range(1, len(data[\"n_injured\"])):\n",
    "    count += data[\"n_injured\"][i]\n",
    "    \n",
    "print(count, \"people injured\")"
   ]
  },
  {
   "cell_type": "markdown",
   "metadata": {},
   "source": [
    "### Incidents where nobody was hurt"
   ]
  },
  {
   "cell_type": "code",
   "execution_count": 5,
   "metadata": {},
   "outputs": [
    {
     "name": "stdout",
     "output_type": "stream",
     "text": [
      "142487 incidents where nobody was hurt\n"
     ]
    }
   ],
   "source": [
    "count = 0\n",
    "for i in range(1, len(data[\"n_injured\"])):\n",
    "    if data[\"n_injured\"][i] == 0 and data[\"n_injured\"][i] == 0:\n",
    "        count += 1\n",
    "    \n",
    "print(count, \"incidents where nobody was hurt\")"
   ]
  },
  {
   "cell_type": "markdown",
   "metadata": {},
   "source": [
    "### Incidents per state"
   ]
  },
  {
   "cell_type": "code",
   "execution_count": 6,
   "metadata": {
    "scrolled": true
   },
   "outputs": [
    {
     "name": "stdout",
     "output_type": "stream",
     "text": [
      "Incidents:\n",
      "California : 16306\n",
      "Ohio : 10244\n",
      "Colorado : 3201\n",
      "North Carolina : 8739\n",
      "Oklahoma : 3455\n",
      "New Mexico : 1645\n",
      "Louisiana : 8103\n",
      "Maryland : 5798\n",
      "Tennessee : 7626\n",
      "Missouri : 6631\n",
      "District of Columbia : 3195\n",
      "Illinois : 17556\n",
      "Delaware : 1685\n",
      "Utah : 1072\n",
      "Michigan : 6136\n",
      "Georgia : 8925\n",
      "Indiana : 5852\n",
      "Mississippi : 3599\n",
      "New York : 9712\n",
      "Florida : 15029\n",
      "Washington : 3434\n",
      "South Carolina : 6939\n",
      "Pennsylvania : 8928\n",
      "Arizona : 2328\n",
      "Kentucky : 4157\n",
      "New Jersey : 5387\n",
      "Virginia : 5949\n",
      "Wisconsin : 4787\n",
      "Rhode Island : 895\n",
      "Texas : 13577\n",
      "Alabama : 5471\n",
      "Kansas : 2145\n",
      "Connecticut : 3067\n",
      "West Virginia : 1575\n",
      "Minnesota : 2408\n",
      "Nevada : 1952\n",
      "Nebraska : 1651\n",
      "Massachusetts : 5981\n",
      "Hawaii : 289\n",
      "New Hampshire : 964\n",
      "Iowa : 2517\n",
      "Alaska : 1349\n",
      "Arkansas : 2842\n",
      "Idaho : 661\n",
      "Oregon : 2286\n",
      "Wyoming : 494\n",
      "Maine : 907\n",
      "North Dakota : 573\n",
      "Montana : 638\n",
      "Vermont : 472\n",
      "South Dakota : 544\n"
     ]
    }
   ],
   "source": [
    "states =  {}\n",
    "\n",
    "for i in range(1, len(data[\"n_injured\"])):\n",
    "    if data[\"state\"][i] in states:\n",
    "        states[data[\"state\"][i]] += 1\n",
    "    else:\n",
    "        states[data[\"state\"][i]] = 1\n",
    "\n",
    "print(\"Incidents:\")\n",
    "for state in states:\n",
    "    print(state, \":\", states[state])"
   ]
  },
  {
   "cell_type": "markdown",
   "metadata": {},
   "source": [
    "### Incidents where people where injured or killed per state"
   ]
  },
  {
   "cell_type": "code",
   "execution_count": 7,
   "metadata": {
    "scrolled": true
   },
   "outputs": [
    {
     "name": "stdout",
     "output_type": "stream",
     "text": [
      "Incidents where people where injured or killed:\n",
      "California : 5870\n",
      "Ohio : 4780\n",
      "North Carolina : 3809\n",
      "Louisiana : 3582\n",
      "Maryland : 2693\n",
      "Tennessee : 3708\n",
      "Missouri : 2848\n",
      "District of Columbia : 1126\n",
      "Illinois : 11023\n",
      "Delaware : 739\n",
      "Utah : 348\n",
      "Oklahoma : 1319\n",
      "Michigan : 2393\n",
      "Georgia : 3305\n",
      "Indiana : 2464\n",
      "Mississippi : 1571\n",
      "New York : 4127\n",
      "Florida : 5597\n",
      "Washington : 1082\n",
      "South Carolina : 2585\n",
      "Pennsylvania : 4170\n",
      "Arizona : 913\n",
      "Kentucky : 1612\n",
      "New Jersey : 2028\n",
      "Virginia : 2979\n",
      "Wisconsin : 1830\n",
      "Rhode Island : 282\n",
      "Texas : 4935\n",
      "Colorado : 960\n",
      "Alabama : 2474\n",
      "Kansas : 776\n",
      "Connecticut : 1063\n",
      "New Mexico : 472\n",
      "Minnesota : 702\n",
      "Nevada : 802\n",
      "West Virginia : 558\n",
      "Nebraska : 583\n",
      "Massachusetts : 1441\n",
      "Arkansas : 1120\n",
      "Alaska : 282\n",
      "Iowa : 727\n",
      "Wyoming : 47\n",
      "Oregon : 593\n",
      "Maine : 121\n",
      "Montana : 121\n",
      "New Hampshire : 136\n",
      "Hawaii : 69\n",
      "South Dakota : 104\n",
      "Idaho : 134\n",
      "Vermont : 67\n",
      "North Dakota : 119\n"
     ]
    }
   ],
   "source": [
    "states =  {}\n",
    "\n",
    "for i in range(1, len(data[\"n_injured\"])):\n",
    "    if data[\"n_injured\"][i] != 0 or data[\"n_injured\"][i] != 0:\n",
    "        if data[\"state\"][i] in states:\n",
    "            states[data[\"state\"][i]] += 1\n",
    "        else:\n",
    "            states[data[\"state\"][i]] = 1\n",
    "\n",
    "print(\"Incidents where people where injured or killed:\")\n",
    "for state in states:\n",
    "    print(state, \":\", states[state])"
   ]
  },
  {
   "cell_type": "markdown",
   "metadata": {},
   "source": [
    "### Mass shootings per state"
   ]
  },
  {
   "cell_type": "code",
   "execution_count": 8,
   "metadata": {
    "scrolled": true
   },
   "outputs": [
    {
     "name": "stdout",
     "output_type": "stream",
     "text": [
      "Mass shooting:\n",
      "California : 194\n",
      "Oklahoma : 15\n",
      "New Mexico : 11\n",
      "Louisiana : 63\n",
      "Maryland : 37\n",
      "Tennessee : 62\n",
      "Missouri : 52\n",
      "District of Columbia : 26\n",
      "Ohio : 62\n",
      "Illinois : 151\n",
      "Delaware : 7\n",
      "Utah : 5\n",
      "Michigan : 59\n",
      "Georgia : 69\n",
      "Indiana : 41\n",
      "Mississippi : 28\n",
      "New York : 78\n",
      "Florida : 116\n",
      "Washington : 19\n",
      "South Carolina : 36\n",
      "Pennsylvania : 64\n",
      "Arizona : 20\n",
      "Kentucky : 23\n",
      "North Carolina : 43\n",
      "New Jersey : 47\n",
      "Virginia : 42\n",
      "Wisconsin : 10\n",
      "Rhode Island : 4\n",
      "Texas : 97\n",
      "Colorado : 14\n",
      "Alabama : 35\n",
      "Kansas : 15\n",
      "Connecticut : 15\n",
      "West Virginia : 3\n",
      "Minnesota : 17\n",
      "Nevada : 10\n",
      "Nebraska : 4\n",
      "Massachusetts : 13\n",
      "Arkansas : 11\n",
      "Oregon : 6\n",
      "Maine : 2\n",
      "Alaska : 1\n",
      "South Dakota : 2\n",
      "Iowa : 4\n",
      "Montana : 2\n",
      "Vermont : 1\n"
     ]
    }
   ],
   "source": [
    "states =  {}\n",
    "\n",
    "for i in range(1, len(data[\"n_injured\"])):\n",
    "    if isinstance(data[\"incident_characteristics\"][i], str):\n",
    "        if \"Mass Shooting\" in data[\"incident_characteristics\"][i]:\n",
    "            if data[\"state\"][i] in states:\n",
    "                states[data[\"state\"][i]] += 1\n",
    "            else:\n",
    "                states[data[\"state\"][i]] = 1\n",
    "\n",
    "print(\"Mass shooting:\")\n",
    "for state in states:\n",
    "    print(state, \":\", states[state])"
   ]
  },
  {
   "cell_type": "markdown",
   "metadata": {},
   "source": [
    "### Participant_age completeness"
   ]
  },
  {
   "cell_type": "code",
   "execution_count": 9,
   "metadata": {},
   "outputs": [
    {
     "name": "stdout",
     "output_type": "stream",
     "text": [
      "61.49051219145847 complete\n"
     ]
    }
   ],
   "source": [
    "count = 0\n",
    "total = 0\n",
    "for i in range(1, len(data[\"n_injured\"])):\n",
    "    total += 1\n",
    "    if isinstance(data[\"participant_age\"][i], str):\n",
    "        count += 1\n",
    "    \n",
    "print(count / total * 100, \"complete\")"
   ]
  },
  {
   "cell_type": "code",
   "execution_count": null,
   "metadata": {},
   "outputs": [],
   "source": []
  },
  {
   "cell_type": "code",
   "execution_count": null,
   "metadata": {},
   "outputs": [],
   "source": []
  }
 ],
 "metadata": {
  "kernelspec": {
   "display_name": "Python 3",
   "language": "python",
   "name": "python3"
  },
  "language_info": {
   "codemirror_mode": {
    "name": "ipython",
    "version": 3
   },
   "file_extension": ".py",
   "mimetype": "text/x-python",
   "name": "python",
   "nbconvert_exporter": "python",
   "pygments_lexer": "ipython3",
   "version": "3.6.4"
  }
 },
 "nbformat": 4,
 "nbformat_minor": 2
}
