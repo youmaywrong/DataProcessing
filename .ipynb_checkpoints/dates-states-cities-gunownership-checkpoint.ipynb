{
 "cells": [
  {
   "cell_type": "code",
   "execution_count": 1,
   "metadata": {},
   "outputs": [],
   "source": [
    "import pandas as pd\n",
    "# read data\n",
    "df = pd.read_csv(\"stage3.csv\")\n",
    "ownership_df = pd.read_csv(\"gunownership.csv\")"
   ]
  },
  {
   "cell_type": "markdown",
   "metadata": {},
   "source": [
    "### Gun incidents per year"
   ]
  },
  {
   "cell_type": "code",
   "execution_count": 2,
   "metadata": {},
   "outputs": [],
   "source": [
    "df['date'] = pd.to_datetime(df['date'])\n",
    "df['year'] = df['date'].dt.year\n",
    "incidents_per_year = df['year'].value_counts()\n",
    "\n",
    "# not many incidents from 2013 were recorded (incomplete data) -> removed from set"
   ]
  },
  {
   "cell_type": "markdown",
   "metadata": {},
   "source": [
    "### Gun incidents per month (per year)"
   ]
  },
  {
   "cell_type": "code",
   "execution_count": 3,
   "metadata": {
    "scrolled": true
   },
   "outputs": [],
   "source": [
    "# for each year, counts number of incidents per year\n",
    "df['month'] = df['date'].dt.month"
   ]
  },
  {
   "cell_type": "markdown",
   "metadata": {},
   "source": [
    "### Incidents per state"
   ]
  },
  {
   "cell_type": "code",
   "execution_count": 22,
   "metadata": {},
   "outputs": [],
   "source": [
    "year_per_state = df.groupby(['year', 'state']).size()"
   ]
  },
  {
   "cell_type": "code",
   "execution_count": 5,
   "metadata": {
    "scrolled": true
   },
   "outputs": [],
   "source": [
    "incidents_per_state = df.groupby(['state']).size()"
   ]
  },
  {
   "cell_type": "code",
   "execution_count": 6,
   "metadata": {},
   "outputs": [],
   "source": [
    "# import stuff\n",
    "from bokeh.plotting import figure\n",
    "from bokeh.io import output_file, show, save\n",
    "from bokeh.models import DataRange1d, FactorRange\n",
    "import pandas as pd"
   ]
  },
  {
   "cell_type": "markdown",
   "metadata": {},
   "source": [
    "### Some data for plots"
   ]
  },
  {
   "cell_type": "code",
   "execution_count": 7,
   "metadata": {},
   "outputs": [],
   "source": [
    "# add number of incidents per state\n",
    "incidents = df.groupby(['state']).size()\n",
    "incidents = [incident for incident in incidents]\n",
    "ownership_df['incidents'] = incidents"
   ]
  },
  {
   "cell_type": "code",
   "execution_count": 41,
   "metadata": {},
   "outputs": [],
   "source": [
    "years_df = pd.DataFrame()\n",
    "years_df['year'] = ['2014', '2015', '2016', '2017', '2018']\n",
    "years_df['incidents'] = [number for number in df.groupby('year').size()]\n",
    "\n",
    "# fill in columns for incidents per yer PER STATE\n",
    "ownership_df['2014'] = [number for number in year_per_state[:51]]\n",
    "ownership_df['2015'] = [number for number in year_per_state[51:102]]\n",
    "ownership_df['2016'] = [number for number in year_per_state[102:153]]\n",
    "ownership_df['2017'] = [number for number in year_per_state[153:204]]\n",
    "ownership_df['2018'] = [number for number in year_per_state[204:]]\n",
    "\n",
    "# incidents per month in the United States\n",
    "incidents_per_month = [number for number in df.groupby(['year', 'month']).size()]\n"
   ]
  },
  {
   "cell_type": "markdown",
   "metadata": {},
   "source": [
    "### Zooming in: analysing cities"
   ]
  },
  {
   "cell_type": "code",
   "execution_count": 63,
   "metadata": {},
   "outputs": [
    {
     "name": "stdout",
     "output_type": "stream",
     "text": [
      "2014\n",
      "Chicago         2042\n",
      "Philadelphia    1049\n",
      "Washington       850\n",
      "Baltimore        760\n",
      "New Orleans      758\n",
      "Oakland          723\n",
      "Houston          607\n",
      "Columbus         592\n",
      "Saint Louis      517\n",
      "Milwaukee        500\n",
      "Name: city_or_county, dtype: int64\n",
      "2015\n",
      "Chicago         2369\n",
      "Baltimore        911\n",
      "Saint Louis      651\n",
      "New Orleans      650\n",
      "Houston          606\n",
      "Washington       553\n",
      "Philadelphia     535\n",
      "Columbus         526\n",
      "Milwaukee        522\n",
      "Memphis          519\n",
      "Name: city_or_county, dtype: int64\n",
      "2016\n",
      "Chicago         3075\n",
      "Baltimore        919\n",
      "New Orleans      829\n",
      "Jacksonville     801\n",
      "Memphis          704\n",
      "Philadelphia     659\n",
      "Houston          555\n",
      "San Antonio      535\n",
      "Cleveland        529\n",
      "Washington       521\n",
      "Name: city_or_county, dtype: int64\n",
      "2017\n",
      "Chicago         2812\n",
      "Washington      1171\n",
      "Baltimore       1113\n",
      "Jacksonville     827\n",
      "Milwaukee        815\n",
      "New Orleans      689\n",
      "Saint Louis      672\n",
      "Memphis          639\n",
      "Columbus         584\n",
      "Philadelphia     581\n",
      "Name: city_or_county, dtype: int64\n",
      "2018\n",
      "Detroit         502\n",
      "Chicago         501\n",
      "Baltimore       235\n",
      "Milwaukee       192\n",
      "Washington      179\n",
      "Houston         167\n",
      "Saint Louis     145\n",
      "New Orleans     141\n",
      "Philadelphia    130\n",
      "Boston          116\n",
      "Name: city_or_county, dtype: int64\n"
     ]
    }
   ],
   "source": [
    "df['city_or_county'].value_counts()[:50]\n",
    "\n",
    "df_2014 = df.loc[df['year'] == 2014]\n",
    "cities_2014 = df_2014['city_or_county'].value_counts()[:10]\n",
    "\n",
    "df_2015 = df.loc[df['year'] == 2015]\n",
    "cities_2015 = df_2015['city_or_county'].value_counts()[:10]\n",
    "\n",
    "df_2016 = df.loc[df['year'] == 2016]\n",
    "cities_2016 = df_2016['city_or_county'].value_counts()[:10]\n",
    "\n",
    "df_2017 = df.loc[df['year'] == 2017]\n",
    "cities_2017 = df_2017['city_or_county'].value_counts()[:10]\n",
    "\n",
    "df_2018 = df.loc[df['year'] == 2018]\n",
    "cities_2018 = df_2018['city_or_county'].value_counts()[:10]\n",
    "\n",
    "print('2014')\n",
    "print(cities_2014)\n",
    "\n",
    "print('2015')\n",
    "print(cities_2015)\n",
    "\n",
    "print('2016')\n",
    "print(cities_2016)\n",
    "\n",
    "print('2017')\n",
    "print(cities_2017)\n",
    "\n",
    "print('2018')\n",
    "print(cities_2018)"
   ]
  },
  {
   "cell_type": "code",
   "execution_count": 67,
   "metadata": {},
   "outputs": [
    {
     "data": {
      "text/plain": [
       "state\n",
       "Alabama                  3948\n",
       "Alaska                    499\n",
       "Arizona                  1695\n",
       "Arkansas                 1702\n",
       "California               9932\n",
       "Colorado                 1551\n",
       "Connecticut              1330\n",
       "Delaware                  910\n",
       "District of Columbia     1475\n",
       "Florida                  8336\n",
       "Georgia                  5108\n",
       "Hawaii                    121\n",
       "Idaho                     261\n",
       "Illinois                13524\n",
       "Indiana                  3671\n",
       "Iowa                      940\n",
       "Kansas                   1183\n",
       "Kentucky                 2410\n",
       "Louisiana                5247\n",
       "Maine                     193\n",
       "Maryland                 4013\n",
       "Massachusetts            1808\n",
       "Michigan                 3530\n",
       "Minnesota                1037\n",
       "Mississippi              2466\n",
       "Missouri                 4413\n",
       "Montana                   234\n",
       "Nebraska                  752\n",
       "Nevada                   1395\n",
       "New Hampshire             208\n",
       "New Jersey               2911\n",
       "New Mexico                838\n",
       "New York                 5398\n",
       "North Carolina           5500\n",
       "North Dakota              172\n",
       "Ohio                     6680\n",
       "Oklahoma                 2040\n",
       "Oregon                    919\n",
       "Pennsylvania             5936\n",
       "Rhode Island              325\n",
       "South Carolina           3816\n",
       "South Dakota              171\n",
       "Tennessee                5070\n",
       "Texas                    8619\n",
       "Utah                      548\n",
       "Vermont                   112\n",
       "Virginia                 4044\n",
       "Washington               1712\n",
       "West Virginia             816\n",
       "Wisconsin                2488\n",
       "Wyoming                   105\n",
       "dtype: int64"
      ]
     },
     "execution_count": 67,
     "metadata": {},
     "output_type": "execute_result"
    }
   ],
   "source": [
    "violent_incidents = df.loc[(df['n_killed'] > 0) | (df['n_injured'] > 0)]\n"
   ]
  },
  {
   "cell_type": "markdown",
   "metadata": {},
   "source": [
    "### Number of registered guns and incidents (per state)"
   ]
  },
  {
   "cell_type": "code",
   "execution_count": 10,
   "metadata": {},
   "outputs": [
    {
     "data": {
      "text/plain": [
       "'/home/hughmee/DataProcessing/way-too-many-incidents.html'"
      ]
     },
     "execution_count": 10,
     "metadata": {},
     "output_type": "execute_result"
    }
   ],
   "source": [
    "#Define the output file path\n",
    "output_file(\"way-too-many-incidents.html\")\n",
    "\n",
    "#Create the figure object\n",
    "f = figure()\n",
    "f.x_range=DataRange1d(start=0, end=350000)\n",
    "f.y_range=DataRange1d(start=0, end=20000)\n",
    "\n",
    "## Add a Title to the plot (We essentially use css properties here)\n",
    "# You can find all function of f.title, using dir(f.title)\n",
    "f.title.text=\"Registered Guns and Incidents (per State)\"\n",
    "f.title.text_font_size=\"25px\"\n",
    "f.title.align=\"center\"\n",
    "\n",
    "## Add some axis information (after all, a plot without axis descriptions is nothing more than abstract art)\n",
    "f.xaxis.axis_label=\"Number of Registered Guns\"\n",
    "f.yaxis.axis_label=\"Number of Incidents\"\n",
    "\n",
    "# Maybe add some different colors for the labels and the digits as well\n",
    "# Note how we use f.axis, to apply to both the x and y axis.\n",
    "f.axis.axis_label_text_color=\"blue\"\n",
    "f.axis.major_label_text_color=\"red\"\n",
    "\n",
    "#adding glyphs\n",
    "f.circle(x=ownership_df['guns_registered'], y=ownership_df['incidents'])\n",
    "\n",
    "#Save and show the figure\n",
    "save(f)"
   ]
  },
  {
   "cell_type": "markdown",
   "metadata": {},
   "source": [
    "### Number of registered guns per capita and incidents (per state)"
   ]
  },
  {
   "cell_type": "code",
   "execution_count": 11,
   "metadata": {},
   "outputs": [
    {
     "data": {
      "text/plain": [
       "'/home/hughmee/DataProcessing/way-too-many-incidents.html'"
      ]
     },
     "execution_count": 11,
     "metadata": {},
     "output_type": "execute_result"
    }
   ],
   "source": [
    "#Define the output file path\n",
    "output_file(\"way-too-many-incidents.html\")\n",
    "\n",
    "#Create the figure object\n",
    "f2 = figure()\n",
    "\n",
    "f2.x_range=DataRange1d(start=0, end=250)\n",
    "f2.y_range=DataRange1d(start=0, end=20000)\n",
    "\n",
    "## Add a Title to the plot (We essentially use css properties here)\n",
    "# You can find all function of f.title, using dir(f.title)\n",
    "f2.title.text=\"Guns per Capita and Incidents (per State)\"\n",
    "f2.title.text_font_size=\"25px\"\n",
    "f2.title.align=\"center\"\n",
    "\n",
    "## Add some axis information (after all, a plot without axis descriptions is nothing more than abstract art)\n",
    "f2.xaxis.axis_label=\"Guns per Capita\"\n",
    "f2.yaxis.axis_label=\"Incidents\"\n",
    "\n",
    "# Maybe add some different colors for the labels and the digits as well\n",
    "# Note how we use f.axis, to apply to both the x and y axis.\n",
    "f2.axis.axis_label_text_color=\"blue\"\n",
    "f2.axis.major_label_text_color=\"red\"\n",
    "\n",
    "#adding glyphs\n",
    "f2.circle(x=ownership_df['guns_per_capita'], y=ownership_df['incidents'])\n",
    "\n",
    "#Save and show the figure\n",
    "save(f2)"
   ]
  },
  {
   "cell_type": "markdown",
   "metadata": {},
   "source": [
    "### Incidents per year (entire country)"
   ]
  },
  {
   "cell_type": "code",
   "execution_count": 12,
   "metadata": {},
   "outputs": [
    {
     "data": {
      "text/plain": [
       "'/home/hughmee/DataProcessing/way-too-many-incidents.html'"
      ]
     },
     "execution_count": 12,
     "metadata": {},
     "output_type": "execute_result"
    }
   ],
   "source": [
    "#Define the output file path\n",
    "output_file(\"way-too-many-incidents.html\")\n",
    "\n",
    "#Create the figure object\n",
    "f3 = figure()\n",
    "\n",
    "## Add a Title to the plot (We essentially use css properties here)\n",
    "# You can find all function of f.title, using dir(f.title)\n",
    "f3.title.text=\"Gun Incidents in the United States\"\n",
    "f3.title.text_font_size=\"25px\"\n",
    "f3.title.align=\"center\"\n",
    "\n",
    "## Add some axis information (after all, a plot without axis descriptions is nothing more than abstract art)\n",
    "f3.xaxis.axis_label=\"Year\"\n",
    "f3.yaxis.axis_label=\"Incidents\"\n",
    "\n",
    "#adding glyphsg\n",
    "f3.circle(x=years_df['year'], y=years_df['incidents'])\n",
    "\n",
    "#Save and show the figure\n",
    "save(f3)"
   ]
  },
  {
   "cell_type": "markdown",
   "metadata": {},
   "source": [
    "### Fatal incidents per year (entire country)"
   ]
  },
  {
   "cell_type": "code",
   "execution_count": 13,
   "metadata": {},
   "outputs": [
    {
     "data": {
      "text/plain": [
       "'/home/hughmee/DataProcessing/way-too-many-incidents.html'"
      ]
     },
     "execution_count": 13,
     "metadata": {},
     "output_type": "execute_result"
    }
   ],
   "source": [
    "# locate all incidents where people have been killed\n",
    "deadly_incidents_per_year = [number for number in df.loc[df['n_killed'] > 0].groupby('year').size()]\n",
    "\n",
    "#Define the output file path\n",
    "output_file(\"way-too-many-incidents.html\")\n",
    "\n",
    "#Create the figure object\n",
    "f7 = figure()\n",
    "\n",
    "## Add a Title to the plot (We essentially use css properties here)\n",
    "# You can find all function of f.title, using dir(f.title)\n",
    "f7.title.text=\"Fatal Gun Incidents in the United States\"\n",
    "f7.title.text_font_size=\"25px\"\n",
    "f7.title.align=\"center\"\n",
    "\n",
    "## Add some axis information (after all, a plot without axis descriptions is nothing more than abstract art)\n",
    "f7.xaxis.axis_label=\"Year\"\n",
    "f7.yaxis.axis_label=\"Incidegnts\"\n",
    "\n",
    "#adding glyphsg\n",
    "f7.circle(x=years_df['year'], y=deadly_incidents_per_year)\n",
    "\n",
    "#Save and show the figure\n",
    "save(f7)"
   ]
  },
  {
   "cell_type": "markdown",
   "metadata": {},
   "source": [
    "### Number of people killed each year (entire country)"
   ]
  },
  {
   "cell_type": "code",
   "execution_count": 14,
   "metadata": {},
   "outputs": [
    {
     "data": {
      "text/plain": [
       "'/home/hughmee/DataProcessing/way-too-many-incidents.html'"
      ]
     },
     "execution_count": 14,
     "metadata": {},
     "output_type": "execute_result"
    }
   ],
   "source": [
    "# get number of people killed each year\n",
    "per_year = df.groupby('year').sum()\n",
    "killed_per_year = [killed for killed in per_year['n_killed']]\n",
    "\n",
    "output_file(\"way-too-many-incidents.html\")\n",
    "f8 = figure()\n",
    "\n",
    "# add title\n",
    "f8.title.text=\"Gun Deaths in the United States\"\n",
    "f8.title.text_font_size=\"25px\"\n",
    "f8.title.align=\"center\"\n",
    "\n",
    "## add some axis information\n",
    "f8.xaxis.axis_label=\"Year\"\n",
    "f8.yaxis.axis_label=\"Killed\"\n",
    "\n",
    "# adding glyphsg\n",
    "f8.circle(x=years_df['year'], y=killed_per_year)\n",
    "\n",
    "# save and show the figure\n",
    "save(f8)"
   ]
  },
  {
   "cell_type": "markdown",
   "metadata": {},
   "source": [
    "### Incidents per month (entire country)"
   ]
  },
  {
   "cell_type": "code",
   "execution_count": 15,
   "metadata": {},
   "outputs": [
    {
     "data": {
      "text/plain": [
       "'/home/hughmee/DataProcessing/way-too-many-incidents.html'"
      ]
     },
     "execution_count": 15,
     "metadata": {},
     "output_type": "execute_result"
    }
   ],
   "source": [
    "years = ['2014', '2015', '2016', '2017', '2018']\n",
    "months = ['Jan', 'Feb', 'Mar', 'Apr', 'May', 'Jun', 'Jul', 'Aug', 'Sep', 'Oct', 'Nov', 'Dec']\n",
    "\n",
    "x_data = [(year, month) for year in years for month in months][:51]\n",
    "monthly = [number for number in df.groupby(['year', 'month']).size()]\n",
    "\n",
    "#Define the output file path\n",
    "output_file(\"way-too-many-incidents.html\")\n",
    "\n",
    "#Create the figure object\n",
    "f4 = figure(x_range=FactorRange(*x_data), plot_width=800, plot_height=800)\n",
    "\n",
    "## Add a Title to the plot\n",
    "f4.title.text=\"Gun Incidents in the United States (per Month)\"\n",
    "f4.title.text_font_size=\"25px\"\n",
    "f4.title.align=\"center\"\n",
    "\n",
    "## Add some axis information (after all, a plot without axis descriptions is nothing more than abstract art)\n",
    "f4.xaxis.axis_label=\"Year-Month\"\n",
    "f4.yaxis.axis_label=\"Number of Incidents\"\n",
    "\n",
    "#adding glyphsg\n",
    "f4.vbar(x=x_data, top=monthly, width=1, fill_color=\"#77b7f1\")\n",
    "\n",
    "f4.y_range.start = 0\n",
    "f4.x_range.range_padding = 0\n",
    "f4.xaxis.major_label_orientation = 1\n",
    "#f4.xgrid.grid_line_color = None\n",
    "\n",
    "#Save and show the figure\n",
    "save(f4)\n"
   ]
  },
  {
   "cell_type": "markdown",
   "metadata": {},
   "source": [
    "### Mass Shootings per Month (Entire Country)"
   ]
  },
  {
   "cell_type": "code",
   "execution_count": 50,
   "metadata": {},
   "outputs": [
    {
     "data": {
      "text/plain": [
       "'/home/hughmee/DataProcessing/way-too-many-incidents.html'"
      ]
     },
     "execution_count": 50,
     "metadata": {},
     "output_type": "execute_result"
    }
   ],
   "source": [
    "mass_shootings = df[df['incident_characteristics'].str.contains(\"Mass Shooting\") == True]\n",
    "\n",
    "years = ['2014', '2015', '2016', '2017', '2018']\n",
    "months = ['Jan', 'Feb', 'Mar', 'Apr', 'May', 'Jun', 'Jul', 'Aug', 'Sep', 'Oct', 'Nov', 'Dec']\n",
    "\n",
    "x_data2 = [(year, month) for year in years for month in months][:51]\n",
    "monthly2 = [number for number in mass_shootings.groupby(['year', 'month']).size()]\n",
    "\n",
    "#Define the output file path\n",
    "output_file(\"way-too-many-incidents.html\")\n",
    "\n",
    "#Create the figure object\n",
    "f6 = figure(x_range=FactorRange(*x_data2), plot_width=800, plot_height=800)\n",
    "\n",
    "## Add a Title to the plot\n",
    "f6.title.text=\"Mass Shootings in the United States (per Month)\"\n",
    "f6.title.text_font_size=\"25px\"\n",
    "f6.title.align=\"center\"\n",
    "\n",
    "## Add some axis information\n",
    "f6.xaxis.axis_label=\"Year-Month\"\n",
    "f6.yaxis.axis_label=\"Number of Incidents\"\n",
    "\n",
    "#adding glyphsg\n",
    "f6.vbar(x=x_data2, top=monthly2, width=1, fill_color=\"#f1c177\")\n",
    "\n",
    "f6.y_range.start = 0\n",
    "f6.x_range.range_padding = 0\n",
    "f6.xaxis.major_label_orientation = 1\n",
    "f6.xgrid.grid_line_color = None\n",
    "\n",
    "#Save and show the figure\n",
    "save(f6)"
   ]
  },
  {
   "cell_type": "code",
   "execution_count": null,
   "metadata": {},
   "outputs": [],
   "source": []
  }
 ],
 "metadata": {
  "kernelspec": {
   "display_name": "Python 3",
   "language": "python",
   "name": "python3"
  },
  "language_info": {
   "codemirror_mode": {
    "name": "ipython",
    "version": 3
   },
   "file_extension": ".py",
   "mimetype": "text/x-python",
   "name": "python",
   "nbconvert_exporter": "python",
   "pygments_lexer": "ipython3",
   "version": "3.5.2"
  }
 },
 "nbformat": 4,
 "nbformat_minor": 2
}
