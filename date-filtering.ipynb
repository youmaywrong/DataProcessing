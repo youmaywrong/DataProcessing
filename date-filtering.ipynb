{
 "cells": [
  {
   "cell_type": "code",
   "execution_count": 1,
   "metadata": {},
   "outputs": [],
   "source": [
    "import pandas as pd\n",
    "# read data\n",
    "df = pd.read_csv(\"stage3.csv\")"
   ]
  },
  {
   "cell_type": "markdown",
   "metadata": {},
   "source": [
    "### Number of gun incidents per year"
   ]
  },
  {
   "cell_type": "code",
   "execution_count": 2,
   "metadata": {},
   "outputs": [
    {
     "data": {
      "text/plain": [
       "2017    61401\n",
       "2016    58763\n",
       "2015    53579\n",
       "2014    51854\n",
       "2018    13802\n",
       "Name: year, dtype: int64"
      ]
     },
     "execution_count": 2,
     "metadata": {},
     "output_type": "execute_result"
    }
   ],
   "source": [
    "df['date'] = pd.to_datetime(df['date'])\n",
    "df['year'] = df['date'].dt.year\n",
    "df['year'].value_counts()\n",
    "\n",
    "# not many incidents from 2013 were recorded (incomplete data) -> removed from set"
   ]
  },
  {
   "cell_type": "markdown",
   "metadata": {},
   "source": [
    "### Number of gun incidents per month (per year)"
   ]
  },
  {
   "cell_type": "code",
   "execution_count": 21,
   "metadata": {},
   "outputs": [
    {
     "data": {
      "text/plain": [
       "year  month\n",
       "2014  1        4395\n",
       "      2        3045\n",
       "      3        3669\n",
       "      4        3891\n",
       "      5        4320\n",
       "      6        4440\n",
       "      7        5219\n",
       "      8        5259\n",
       "      9        5052\n",
       "      10       4915\n",
       "      11       3795\n",
       "      12       3854\n",
       "2015  1        3907\n",
       "      2        3108\n",
       "      3        4314\n",
       "      4        4471\n",
       "      5        5015\n",
       "      6        4596\n",
       "      7        5076\n",
       "      8        5024\n",
       "      9        4849\n",
       "      10       4502\n",
       "      11       4262\n",
       "      12       4455\n",
       "2016  1        4590\n",
       "      2        3967\n",
       "      3        4892\n",
       "      4        4672\n",
       "      5        4902\n",
       "      6        4530\n",
       "      7        5250\n",
       "      8        5527\n",
       "      9        4937\n",
       "      10       5251\n",
       "      11       5092\n",
       "      12       5153\n",
       "2017  1        5258\n",
       "      2        4585\n",
       "      3        4994\n",
       "      4        5577\n",
       "      5        5666\n",
       "      6        5158\n",
       "      7        5547\n",
       "      8        5202\n",
       "      9        4790\n",
       "      10       5200\n",
       "      11       4802\n",
       "      12       4622\n",
       "2018  1        4926\n",
       "      2        4124\n",
       "      3        4752\n",
       "dtype: int64"
      ]
     },
     "execution_count": 21,
     "metadata": {},
     "output_type": "execute_result"
    }
   ],
   "source": [
    "df['month'] = df['date'].dt.month\n",
    "df.groupby(['year', 'month']).size()"
   ]
  }
 ],
 "metadata": {
  "kernelspec": {
   "display_name": "Python 3",
   "language": "python",
   "name": "python3"
  },
  "language_info": {
   "codemirror_mode": {
    "name": "ipython",
    "version": 3
   },
   "file_extension": ".py",
   "mimetype": "text/x-python",
   "name": "python",
   "nbconvert_exporter": "python",
   "pygments_lexer": "ipython3",
   "version": "3.5.2"
  }
 },
 "nbformat": 4,
 "nbformat_minor": 2
}
