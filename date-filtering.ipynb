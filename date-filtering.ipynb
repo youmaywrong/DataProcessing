{
 "cells": [
  {
   "cell_type": "code",
   "execution_count": 1,
   "metadata": {},
   "outputs": [],
   "source": [
    "import pandas as pd\n",
    "# read data\n",
    "df = pd.read_csv(\"stage3.csv\")"
   ]
  },
  {
   "cell_type": "markdown",
   "metadata": {},
   "source": [
    "### Gun incidents per year"
   ]
  },
  {
   "cell_type": "code",
   "execution_count": 2,
   "metadata": {},
   "outputs": [
    {
     "data": {
      "text/plain": [
       "2017    61401\n",
       "2016    58763\n",
       "2015    53579\n",
       "2014    51854\n",
       "2018    13802\n",
       "Name: year, dtype: int64"
      ]
     },
     "execution_count": 2,
     "metadata": {},
     "output_type": "execute_result"
    }
   ],
   "source": [
    "df['date'] = pd.to_datetime(df['date'])\n",
    "df['year'] = df['date'].dt.year\n",
    "df['year'].value_counts()\n",
    "\n",
    "# not many incidents from 2013 were recorded (incomplete data) -> removed from set"
   ]
  },
  {
   "cell_type": "markdown",
   "metadata": {},
   "source": [
    "### Gun incidents per month (per year)"
   ]
  },
  {
   "cell_type": "code",
   "execution_count": 3,
   "metadata": {
    "scrolled": true
   },
   "outputs": [
    {
     "data": {
      "text/plain": [
       "year  month\n",
       "2014  1        4395\n",
       "      2        3045\n",
       "      3        3669\n",
       "      4        3891\n",
       "      5        4320\n",
       "      6        4440\n",
       "      7        5219\n",
       "      8        5259\n",
       "      9        5052\n",
       "      10       4915\n",
       "      11       3795\n",
       "      12       3854\n",
       "2015  1        3907\n",
       "      2        3108\n",
       "      3        4314\n",
       "      4        4471\n",
       "      5        5015\n",
       "      6        4596\n",
       "      7        5076\n",
       "      8        5024\n",
       "      9        4849\n",
       "      10       4502\n",
       "      11       4262\n",
       "      12       4455\n",
       "2016  1        4590\n",
       "      2        3967\n",
       "      3        4892\n",
       "      4        4672\n",
       "      5        4902\n",
       "      6        4530\n",
       "      7        5250\n",
       "      8        5527\n",
       "      9        4937\n",
       "      10       5251\n",
       "      11       5092\n",
       "      12       5153\n",
       "2017  1        5258\n",
       "      2        4585\n",
       "      3        4994\n",
       "      4        5577\n",
       "      5        5666\n",
       "      6        5158\n",
       "      7        5547\n",
       "      8        5202\n",
       "      9        4790\n",
       "      10       5200\n",
       "      11       4802\n",
       "      12       4622\n",
       "2018  1        4926\n",
       "      2        4124\n",
       "      3        4752\n",
       "dtype: int64"
      ]
     },
     "execution_count": 3,
     "metadata": {},
     "output_type": "execute_result"
    }
   ],
   "source": [
    "# for each year, counts number of incidents per year\n",
    "df['month'] = df['date'].dt.month\n",
    "df.groupby(['year', 'month']).size()"
   ]
  },
  {
   "cell_type": "markdown",
   "metadata": {},
   "source": [
    "### Incidents per state"
   ]
  },
  {
   "cell_type": "code",
   "execution_count": 4,
   "metadata": {},
   "outputs": [],
   "source": [
    "year_per_state = df.groupby(['year', 'state']).size()"
   ]
  },
  {
   "cell_type": "code",
   "execution_count": 5,
   "metadata": {
    "scrolled": true
   },
   "outputs": [
    {
     "data": {
      "text/plain": [
       "state\n",
       "Alabama                  5469\n",
       "Alaska                   1349\n",
       "Arizona                  2323\n",
       "Arkansas                 2842\n",
       "California              16267\n",
       "Colorado                 3198\n",
       "Connecticut              3064\n",
       "Delaware                 1682\n",
       "District of Columbia     3189\n",
       "Florida                 15016\n",
       "Georgia                  8919\n",
       "Hawaii                    289\n",
       "Idaho                     661\n",
       "Illinois                17538\n",
       "Indiana                  5845\n",
       "Iowa                     2517\n",
       "Kansas                   2141\n",
       "Kentucky                 4154\n",
       "Louisiana                8094\n",
       "Maine                     907\n",
       "Maryland                 5793\n",
       "Massachusetts            5981\n",
       "Michigan                 6122\n",
       "Minnesota                2406\n",
       "Mississippi              3597\n",
       "Missouri                 6621\n",
       "Montana                   638\n",
       "Nebraska                 1650\n",
       "Nevada                   1951\n",
       "New Hampshire             964\n",
       "New Jersey               5373\n",
       "New Mexico               1643\n",
       "New York                 9696\n",
       "North Carolina           8727\n",
       "North Dakota              573\n",
       "Ohio                    10234\n",
       "Oklahoma                 3449\n",
       "Oregon                   2286\n",
       "Pennsylvania             8909\n",
       "Rhode Island              893\n",
       "South Carolina           6934\n",
       "South Dakota              544\n",
       "Tennessee                7616\n",
       "Texas                   13566\n",
       "Utah                     1071\n",
       "Vermont                   472\n",
       "Virginia                 5943\n",
       "Washington               3430\n",
       "West Virginia            1573\n",
       "Wisconsin                4786\n",
       "Wyoming                   494\n",
       "dtype: int64"
      ]
     },
     "execution_count": 5,
     "metadata": {},
     "output_type": "execute_result"
    }
   ],
   "source": [
    "df.groupby(['state']).size()"
   ]
  },
  {
   "cell_type": "code",
   "execution_count": 6,
   "metadata": {},
   "outputs": [],
   "source": [
    "# import stuff\n",
    "from bokeh.plotting import figure\n",
    "from bokeh.io import output_file, show, save\n",
    "from bokeh.models import DataRange1d\n",
    "import pandas as pd"
   ]
  },
  {
   "cell_type": "code",
   "execution_count": 7,
   "metadata": {},
   "outputs": [],
   "source": [
    "# read file with data of number of registered guns per state\n",
    "ownership_df = pd.read_csv(\"gunownership.csv\")"
   ]
  },
  {
   "cell_type": "code",
   "execution_count": 8,
   "metadata": {},
   "outputs": [],
   "source": [
    "# add number of incidents per state\n",
    "incidents = df.groupby(['state']).size()\n",
    "incidents = [incident for incident in incidents]\n",
    "ownership_df['incidents'] = incidents"
   ]
  },
  {
   "cell_type": "markdown",
   "metadata": {},
   "source": [
    "### Number of registered guns and incidents per state"
   ]
  },
  {
   "cell_type": "code",
   "execution_count": 9,
   "metadata": {},
   "outputs": [
    {
     "data": {
      "text/plain": [
       "'/home/hughmee/DataProcessing/ownership-and-incidents.html'"
      ]
     },
     "execution_count": 9,
     "metadata": {},
     "output_type": "execute_result"
    }
   ],
   "source": [
    "#Define the output file path\n",
    "output_file(\"ownership-and-incidents.html\")\n",
    "\n",
    "#Create the figure object\n",
    "f = figure(plot_width=1000, plot_height=1000)\n",
    "f.x_range=DataRange1d(start=0, end=350000)\n",
    "f.y_range=DataRange1d(start=0, end=20000)\n",
    "\n",
    "## Add a Title to the plot (We essentially use css properties here)\n",
    "# You can find all function of f.title, using dir(f.title)\n",
    "f.title.text=\"Guns Registered per State\"\n",
    "f.title.text_font_size=\"25px\"\n",
    "f.title.align=\"center\"\n",
    "\n",
    "## Add some axis information (after all, a plot without axis descriptions is nothing more than abstract art)\n",
    "f.xaxis.axis_label=\"Number of Registered Guns\"\n",
    "f.yaxis.axis_label=\"Number of Incidents\"\n",
    "\n",
    "# Maybe add some different colors for the labels and the digits as well\n",
    "# Note how we use f.axis, to apply to both the x and y axis.\n",
    "f.axis.axis_label_text_color=\"blue\"\n",
    "f.axis.major_label_text_color=\"red\"\n",
    "\n",
    "#adding glyphs\n",
    "f.circle(x=ownership_df['guns_registered'], y=ownership_df['incidents'])\n",
    "\n",
    "#Save and show the figure\n",
    "save(f)"
   ]
  },
  {
   "cell_type": "markdown",
   "metadata": {},
   "source": [
    "### Number of registered guns per capita and incidents per state"
   ]
  },
  {
   "cell_type": "code",
   "execution_count": 21,
   "metadata": {},
   "outputs": [
    {
     "data": {
      "text/plain": [
       "'/home/hughmee/DataProcessing/ownership-per-capita-and-incidents.html'"
      ]
     },
     "execution_count": 21,
     "metadata": {},
     "output_type": "execute_result"
    }
   ],
   "source": [
    "#Define the output file path\n",
    "output_file(\"ownership-per-capita-and-incidents.html\")\n",
    "\n",
    "#Create the figure object\n",
    "f2 = figure(plot_width=1000, plot_height=1000)\n",
    "\n",
    "f2.x_range=DataRange1d(start=0, end=250)\n",
    "f2.y_range=DataRange1d(start=0, end=20000)\n",
    "\n",
    "## Add a Title to the plot (We essentially use css properties here)\n",
    "# You can find all function of f.title, using dir(f.title)\n",
    "f2.title.text=\"Guns Registered per State\"\n",
    "f2.title.text_font_size=\"25px\"\n",
    "f2.title.align=\"center\"\n",
    "\n",
    "## Add some axis information (after all, a plot without axis descriptions is nothing more than abstract art)\n",
    "f2.xaxis.axis_label=\"Guns per Capita\"\n",
    "f2.yaxis.axis_label=\"Incidents\"\n",
    "\n",
    "# Maybe add some different colors for the labels and the digits as well\n",
    "# Note how we use f.axis, to apply to both the x and y axis.\n",
    "f2.axis.axis_label_text_color=\"blue\"\n",
    "f2.axis.major_label_text_color=\"red\"\n",
    "\n",
    "#adding glyphs\n",
    "f2.circle(x=ownership_df['guns_per_capita'], y=ownership_df['incidents'])\n",
    "\n",
    "#Save and show the figure\n",
    "save(f2)"
   ]
  },
  {
   "cell_type": "markdown",
   "metadata": {},
   "source": [
    "### Number of gun legislation laws and incidents per state\n",
    "#### OK, most unreliable comparison ever. We don't know whether having strict laws is a cause of an effect of incidents and IT'S JUST TOO ARBITRARY I'M SORRY (not removing it yet"
   ]
  },
  {
   "cell_type": "code",
   "execution_count": 22,
   "metadata": {},
   "outputs": [
    {
     "data": {
      "text/plain": [
       "'/home/hughmee/DataProcessing/laws-and-incidents-per-state.html'"
      ]
     },
     "execution_count": 22,
     "metadata": {},
     "output_type": "execute_result"
    }
   ],
   "source": [
    "#Define the output file path\n",
    "output_file(\"laws-and-incidents-per-state.html\")\n",
    "\n",
    "#Create the figure object\n",
    "f5 = figure()\n",
    "\n",
    "## Add a Title to the plot (We essentially use css properties here)\n",
    "# You can find all function of f.title, using dir(f.title)\n",
    "f5.title.text=\"Gun Laws and Incidents per State\"\n",
    "f5.title.text_font_size=\"25px\"\n",
    "f5.title.align=\"center\"\n",
    "\n",
    "## Add some axis information (after all, a plot without axis descriptions is nothing more than abstract art)\n",
    "f5.xaxis.axis_label=\"Number of laws\"\n",
    "f5.yaxis.axis_label=\"Incidents\"\n",
    "\n",
    "#adding glyphs\n",
    "f5.circle(x=ownership_df['n_laws'], y=ownership_df['incidents'])\n",
    "\n",
    "#Save and show the figure\n",
    "save(f5)"
   ]
  },
  {
   "cell_type": "markdown",
   "metadata": {},
   "source": [
    "### Some data for plots"
   ]
  },
  {
   "cell_type": "code",
   "execution_count": 18,
   "metadata": {},
   "outputs": [],
   "source": [
    "years_df = pd.DataFrame()\n",
    "years_df['year'] = ['2014', '2015', '2016', '2017', '2018']\n",
    "years_df['incidents'] = [number for number in df['year'].value_counts()]\n",
    "\n",
    "# fill in columns for incidents per yer PER STATE\n",
    "ownership_df['2014'] = [number for number in year_per_state[:51]]\n",
    "ownership_df['2015'] = [number for number in year_per_state[51:102]]\n",
    "ownership_df['2016'] = [number for number in year_per_state[102:153]]\n",
    "ownership_df['2017'] = [number for number in year_per_state[153:204]]\n",
    "ownership_df['2018'] = [number for number in year_per_state[204:]]\n",
    "\n",
    "# incidents per month in the United States\n",
    "incidents_per_month = [number for number in df.groupby(['year', 'month']).size()]\n"
   ]
  },
  {
   "cell_type": "markdown",
   "metadata": {},
   "source": [
    "### Incidents per year in the US"
   ]
  },
  {
   "cell_type": "code",
   "execution_count": 12,
   "metadata": {},
   "outputs": [
    {
     "data": {
      "text/plain": [
       "'/home/hughmee/DataProcessing/us-incidents-per-year.html'"
      ]
     },
     "execution_count": 12,
     "metadata": {},
     "output_type": "execute_result"
    }
   ],
   "source": [
    "#Define the output file path\n",
    "output_file(\"us-incidents-per-year.html\")\n",
    "\n",
    "#Create the figure object\n",
    "f3 = figure()\n",
    "\n",
    "## Add a Title to the plot (We essentially use css properties here)\n",
    "# You can find all function of f.title, using dir(f.title)\n",
    "f3.title.text=\"Gun Incidents in the United States\"\n",
    "f3.title.text_font_size=\"25px\"\n",
    "f3.title.align=\"center\"\n",
    "\n",
    "## Add some axis information (after all, a plot without axis descriptions is nothing more than abstract art)\n",
    "f3.xaxis.axis_label=\"Year\"\n",
    "f3.yaxis.axis_label=\"Incidents\"\n",
    "\n",
    "# Maybe add some different colors for the labels and the digits as well\n",
    "# Note how we use f.axis, to apply to both the x and y axis.\n",
    "f3.axis.axis_label_text_color=\"blue\"\n",
    "f3.axis.major_label_text_color=\"red\"\n",
    "\n",
    "#adding glyphsg\n",
    "f3.circle(x=years_df['year'], y=years_df['incidents'])\n",
    "\n",
    "#Save and show the figure\n",
    "save(f3)\n",
    "\n",
    "## Whaaaaaaat, a decline? (or fewer reports?)\n",
    "# 2018 is not over yet, obviously"
   ]
  },
  {
   "cell_type": "markdown",
   "metadata": {},
   "source": [
    "### Incidents per month in the US (not per state)"
   ]
  },
  {
   "cell_type": "code",
   "execution_count": 13,
   "metadata": {},
   "outputs": [
    {
     "data": {
      "text/plain": [
       "'/home/hughmee/DataProcessing/us-incidents-per-month.html'"
      ]
     },
     "execution_count": 13,
     "metadata": {},
     "output_type": "execute_result"
    }
   ],
   "source": [
    "## x axis has to be fixed\n",
    "\n",
    "#Define the output file path\n",
    "output_file(\"us-incidents-per-month.html\")\n",
    "\n",
    "#Create the figure object\n",
    "f4 = figure(plot_width=1000, plot_height=1000)\n",
    "\n",
    "## Add a Title to the plot (We essentially use css properties here)\n",
    "# You can find all function of f.title, using dir(f.title)\n",
    "f4.title.text=\"Gun Incidents in the United States per Month\"\n",
    "f4.title.text_font_size=\"25px\"\n",
    "f4.title.align=\"center\"\n",
    "\n",
    "## Add some axis information (after all, a plot without axis descriptions is nothing more than abstract art)\n",
    "f4.xaxis.axis_label=\"Year\"\n",
    "f4.yaxis.axis_label=\"Incidents\"\n",
    "\n",
    "# Maybe add some different colors for the labels and the digits as well\n",
    "# Note how we use f.axis, to apply to both the x and y axis.\n",
    "f4.axis.axis_label_text_color=\"blue\"\n",
    "f4.axis.major_label_text_color=\"red\"\n",
    "\n",
    "monthly = [number for number in df.groupby(['year', 'month']).size()]\n",
    "\n",
    "#adding glyphsg\n",
    "f4.vbar(x=range(0,51), top=monthly, bottom=0, width=1, fill_color=\"#b3de69\")\n",
    "\n",
    "\n",
    "#Save and show the figure\n",
    "save(f4)\n",
    "\n",
    "## Whaaaaaaat, a decline? (or fewer reports?)\n",
    "# 2018 is not over yet, obviously"
   ]
  },
  {
   "cell_type": "code",
   "execution_count": null,
   "metadata": {},
   "outputs": [],
   "source": []
  }
 ],
 "metadata": {
  "kernelspec": {
   "display_name": "Python 3",
   "language": "python",
   "name": "python3"
  },
  "language_info": {
   "codemirror_mode": {
    "name": "ipython",
    "version": 3
   },
   "file_extension": ".py",
   "mimetype": "text/x-python",
   "name": "python",
   "nbconvert_exporter": "python",
   "pygments_lexer": "ipython3",
   "version": "3.5.2"
  }
 },
 "nbformat": 4,
 "nbformat_minor": 2
}
