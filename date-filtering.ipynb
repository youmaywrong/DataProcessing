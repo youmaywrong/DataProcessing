{
 "cells": [
  {
   "cell_type": "code",
   "execution_count": 4,
   "metadata": {},
   "outputs": [],
   "source": [
    "import pandas as pd\n",
    "# read data\n",
    "df = pd.read_csv(\"stage3.csv\")\n",
    "ownership_df = pd.read_csv(\"gunownership.csv\")"
   ]
  },
  {
   "cell_type": "markdown",
   "metadata": {},
   "source": [
    "### Gun incidents per year"
   ]
  },
  {
   "cell_type": "code",
   "execution_count": 5,
   "metadata": {},
   "outputs": [],
   "source": [
    "df['date'] = pd.to_datetime(df['date'])\n",
    "df['year'] = df['date'].dt.year\n",
    "incidents_per_year = df['year'].value_counts()\n",
    "\n",
    "# not many incidents from 2013 were recorded (incomplete data) -> removed from set"
   ]
  },
  {
   "cell_type": "markdown",
   "metadata": {},
   "source": [
    "### Gun incidents per month (per year)"
   ]
  },
  {
   "cell_type": "code",
   "execution_count": 6,
   "metadata": {
    "scrolled": true
   },
   "outputs": [],
   "source": [
    "# for each year, counts number of incidents per year\n",
    "df['month'] = df['date'].dt.month"
   ]
  },
  {
   "cell_type": "markdown",
   "metadata": {},
   "source": [
    "### Incidents per state"
   ]
  },
  {
   "cell_type": "code",
   "execution_count": 7,
   "metadata": {},
   "outputs": [],
   "source": [
    "year_per_state = df.groupby(['year', 'state']).size()"
   ]
  },
  {
   "cell_type": "code",
   "execution_count": 8,
   "metadata": {
    "scrolled": true
   },
   "outputs": [],
   "source": [
    "incidents_per_state = df.groupby(['state']).size()"
   ]
  },
  {
   "cell_type": "code",
   "execution_count": 9,
   "metadata": {},
   "outputs": [],
   "source": [
    "# import stuff\n",
    "from bokeh.plotting import figure\n",
    "from bokeh.io import output_file, show, save\n",
    "from bokeh.models import DataRange1d, FactorRange\n",
    "import pandas as pd"
   ]
  },
  {
   "cell_type": "code",
   "execution_count": 10,
   "metadata": {},
   "outputs": [],
   "source": [
    "# add number of incidents per state\n",
    "incidents = df.groupby(['state']).size()\n",
    "incidents = [incident for incident in incidents]\n",
    "ownership_df['incidents'] = incidents"
   ]
  },
  {
   "cell_type": "markdown",
   "metadata": {},
   "source": [
    "### Number of registered guns and incidents per state"
   ]
  },
  {
   "cell_type": "code",
   "execution_count": 11,
   "metadata": {},
   "outputs": [
    {
     "data": {
      "text/plain": [
       "'/home/hughmee/DataProcessing/way-too-many-incidents.html'"
      ]
     },
     "execution_count": 11,
     "metadata": {},
     "output_type": "execute_result"
    }
   ],
   "source": [
    "#Define the output file path\n",
    "output_file(\"way-too-many-incidents.html\")\n",
    "\n",
    "#Create the figure object\n",
    "f = figure(plot_width=1000, plot_height=1000)\n",
    "f.x_range=DataRange1d(start=0, end=350000)\n",
    "f.y_range=DataRange1d(start=0, end=20000)\n",
    "\n",
    "## Add a Title to the plot (We essentially use css properties here)\n",
    "# You can find all function of f.title, using dir(f.title)\n",
    "f.title.text=\"Guns Registered per State\"\n",
    "f.title.text_font_size=\"25px\"\n",
    "f.title.align=\"center\"\n",
    "\n",
    "## Add some axis information (after all, a plot without axis descriptions is nothing more than abstract art)\n",
    "f.xaxis.axis_label=\"Number of Registered Guns\"\n",
    "f.yaxis.axis_label=\"Number of Incidents\"\n",
    "\n",
    "# Maybe add some different colors for the labels and the digits as well\n",
    "# Note how we use f.axis, to apply to both the x and y axis.\n",
    "f.axis.axis_label_text_color=\"blue\"\n",
    "f.axis.major_label_text_color=\"red\"\n",
    "\n",
    "#adding glyphs\n",
    "f.circle(x=ownership_df['guns_registered'], y=ownership_df['incidents'])\n",
    "\n",
    "#Save and show the figure\n",
    "save(f)"
   ]
  },
  {
   "cell_type": "markdown",
   "metadata": {},
   "source": [
    "### Number of registered guns per capita and incidents per state"
   ]
  },
  {
   "cell_type": "code",
   "execution_count": 64,
   "metadata": {},
   "outputs": [
    {
     "data": {
      "text/plain": [
       "'/home/hughmee/DataProcessing/ownership-per-capita-and-incidents.html'"
      ]
     },
     "execution_count": 64,
     "metadata": {},
     "output_type": "execute_result"
    }
   ],
   "source": [
    "#Define the output file path\n",
    "output_file(\"way-too-many-incidents.html\")\n",
    "\n",
    "#Create the figure object\n",
    "f2 = figure()\n",
    "\n",
    "f2.x_range=DataRange1d(start=0, end=250)\n",
    "f2.y_range=DataRange1d(start=0, end=20000)\n",
    "\n",
    "## Add a Title to the plot (We essentially use css properties here)\n",
    "# You can find all function of f.title, using dir(f.title)\n",
    "f2.title.text=\"Guns Registered per State\"\n",
    "f2.title.text_font_size=\"25px\"\n",
    "f2.title.align=\"center\"\n",
    "\n",
    "## Add some axis information (after all, a plot without axis descriptions is nothing more than abstract art)\n",
    "f2.xaxis.axis_label=\"Guns per Capita\"\n",
    "f2.yaxis.axis_label=\"Incidents\"\n",
    "\n",
    "# Maybe add some different colors for the labels and the digits as well\n",
    "# Note how we use f.axis, to apply to both the x and y axis.\n",
    "f2.axis.axis_label_text_color=\"blue\"\n",
    "f2.axis.major_label_text_color=\"red\"\n",
    "\n",
    "#adding glyphs\n",
    "f2.circle(x=ownership_df['guns_per_capita'], y=ownership_df['incidents'])\n",
    "\n",
    "#Save and show the figure\n",
    "save(f2)"
   ]
  },
  {
   "cell_type": "markdown",
   "metadata": {},
   "source": [
    "### Some data for plots"
   ]
  },
  {
   "cell_type": "code",
   "execution_count": 12,
   "metadata": {},
   "outputs": [],
   "source": [
    "# fill in columns for incidents per yer PER STATE\n",
    "ownership_df['2014'] = [number for number in year_per_state[:51]]\n",
    "ownership_df['2015'] = [number for number in year_per_state[51:102]]\n",
    "ownership_df['2016'] = [number for number in year_per_state[102:153]]\n",
    "ownership_df['2017'] = [number for number in year_per_state[153:204]]\n",
    "ownership_df['2018'] = [number for number in year_per_state[204:]]\n",
    "\n",
    "# incidents per month in the United States\n",
    "incidents_per_month = [number for number in df.groupby(['year', 'month']).size()]\n"
   ]
  },
  {
   "cell_type": "markdown",
   "metadata": {},
   "source": [
    "### Mass shootings per month in the US"
   ]
  },
  {
   "cell_type": "code",
   "execution_count": 14,
   "metadata": {},
   "outputs": [
    {
     "data": {
      "text/plain": [
       "'/home/hughmee/DataProcessing/way-too-many-incidents.html'"
      ]
     },
     "execution_count": 14,
     "metadata": {},
     "output_type": "execute_result"
    }
   ],
   "source": [
    "mass_shootings = df[df['incident_characteristics'].str.contains(\"Mass Shooting\") == True]\n",
    "\n",
    "years = ['2014', '2015', '2016', '2017', '2018']\n",
    "months = ['Jan', 'Feb', 'Mar', 'Apr', 'May', 'Jun', 'Jul', 'Aug', 'Sep', 'Oct', 'Nov', 'Dec']\n",
    "\n",
    "x_data2 = [(year, month) for year in years for month in months][:51]\n",
    "monthly2 = [number for number in mass_shootings.groupby(['year', 'month']).size()]\n",
    "\n",
    "#Define the output file path\n",
    "output_file(\"way-too-many-incidents.html\")\n",
    "\n",
    "#Create the figure object\n",
    "f6 = figure(x_range=FactorRange(*x_data2), plot_width=800, plot_height=800)\n",
    "\n",
    "## Add a Title to the plot (We essentially use css properties here)\n",
    "# You can find all function of f.title, using dir(f.title)\n",
    "f6.title.text=\"Mass Shootings in the United States (per Month)\"\n",
    "f6.title.text_font_size=\"25px\"\n",
    "f6.title.align=\"center\"\n",
    "\n",
    "## Add some axis information (after all, a plot without axis descriptions is nothing more than abstract art)\n",
    "f6.xaxis.axis_label=\"Year-Month\"\n",
    "f6.yaxis.axis_label=\"Number of Incidents\"\n",
    "\n",
    "#adding glyphsg\n",
    "f6.vbar(x=x_data2, top=monthly2, width=1, fill_color=\"#f1c177\")\n",
    "\n",
    "f6.y_range.start = 0\n",
    "f6.x_range.range_padding = 0\n",
    "f6.xaxis.major_label_orientation = 1\n",
    "f6.xgrid.grid_line_color = None\n",
    "\n",
    "#Save and show the figure\n",
    "save(f6)"
   ]
  },
  {
   "cell_type": "markdown",
   "metadata": {},
   "source": [
    "### Incidents per year in the US"
   ]
  },
  {
   "cell_type": "code",
   "execution_count": 15,
   "metadata": {},
   "outputs": [
    {
     "ename": "NameError",
     "evalue": "name 'years_df' is not defined",
     "output_type": "error",
     "traceback": [
      "\u001b[0;31m---------------------------------------------------------------------------\u001b[0m",
      "\u001b[0;31mNameError\u001b[0m                                 Traceback (most recent call last)",
      "\u001b[0;32m<ipython-input-15-7b0d14c9b1ab>\u001b[0m in \u001b[0;36m<module>\u001b[0;34m()\u001b[0m\n\u001b[1;32m     21\u001b[0m \u001b[0;34m\u001b[0m\u001b[0m\n\u001b[1;32m     22\u001b[0m \u001b[0;31m#adding glyphsg\u001b[0m\u001b[0;34m\u001b[0m\u001b[0;34m\u001b[0m\u001b[0m\n\u001b[0;32m---> 23\u001b[0;31m \u001b[0mf3\u001b[0m\u001b[0;34m.\u001b[0m\u001b[0mcircle\u001b[0m\u001b[0;34m(\u001b[0m\u001b[0mx\u001b[0m\u001b[0;34m=\u001b[0m\u001b[0myears_df\u001b[0m\u001b[0;34m[\u001b[0m\u001b[0;34m'year'\u001b[0m\u001b[0;34m]\u001b[0m\u001b[0;34m,\u001b[0m \u001b[0my\u001b[0m\u001b[0;34m=\u001b[0m\u001b[0myears_df\u001b[0m\u001b[0;34m[\u001b[0m\u001b[0;34m'incidents'\u001b[0m\u001b[0;34m]\u001b[0m\u001b[0;34m)\u001b[0m\u001b[0;34m\u001b[0m\u001b[0m\n\u001b[0m\u001b[1;32m     24\u001b[0m \u001b[0;34m\u001b[0m\u001b[0m\n\u001b[1;32m     25\u001b[0m \u001b[0;31m#Save and show the figure\u001b[0m\u001b[0;34m\u001b[0m\u001b[0;34m\u001b[0m\u001b[0m\n",
      "\u001b[0;31mNameError\u001b[0m: name 'years_df' is not defined"
     ]
    }
   ],
   "source": [
    "#Define the output file path\n",
    "output_file(\"way-too-many-incidents.html\")\n",
    "\n",
    "#Create the figure object\n",
    "f3 = figure()\n",
    "\n",
    "## Add a Title to the plot (We essentially use css properties here)\n",
    "# You can find all function of f.title, using dir(f.title)\n",
    "f3.title.text=\"Gun Incidents in the United States\"\n",
    "f3.title.text_font_size=\"25px\"\n",
    "f3.title.align=\"center\"\n",
    "\n",
    "## Add some axis information (after all, a plot without axis descriptions is nothing more than abstract art)\n",
    "f3.xaxis.axis_label=\"Year\"\n",
    "f3.yaxis.axis_label=\"Incidents\"\n",
    "\n",
    "# Maybe add some different colors for the labels and the digits as well\n",
    "# Note how we use f.axis, to apply to both the x and y axis.\n",
    "f3.axis.axis_label_text_color=\"blue\"\n",
    "f3.axis.major_label_text_color=\"red\"\n",
    "\n",
    "#adding glyphsg\n",
    "f3.circle(x=years_df['year'], y=years_df['incidents'])\n",
    "\n",
    "#Save and show the figure\n",
    "save(f3)\n",
    "\n",
    "## Whaaaaaaat, a decline? (or fewer reports?)\n",
    "# 2018 is not over yet, obviously"
   ]
  },
  {
   "cell_type": "markdown",
   "metadata": {},
   "source": [
    "### Incidents per month in the US (not per state)"
   ]
  },
  {
   "cell_type": "code",
   "execution_count": 60,
   "metadata": {},
   "outputs": [
    {
     "data": {
      "text/plain": [
       "'/home/hughmee/DataProcessing/us-incidents-per-month.html'"
      ]
     },
     "execution_count": 60,
     "metadata": {},
     "output_type": "execute_result"
    }
   ],
   "source": [
    "years = ['2014', '2015', '2016', '2017', '2018']\n",
    "months = ['Jan', 'Feb', 'Mar', 'Apr', 'May', 'Jun', 'Jul', 'Aug', 'Sep', 'Oct', 'Nov', 'Dec']\n",
    "\n",
    "x_data = [(year, month) for year in years for month in months][:51]\n",
    "monthly = [number for number in df.groupby(['year', 'month']).size()]\n",
    "\n",
    "#Define the output file path\n",
    "output_file(\"us-incidents-per-month.html\")\n",
    "\n",
    "#Create the figure object\n",
    "f4 = figure(x_range=FactorRange(*x_data), plot_width=800, plot_height=800)\n",
    "\n",
    "## Add a Title to the plot (We essentially use css properties here)\n",
    "# You can find all function of f.title, using dir(f.title)\n",
    "f4.title.text=\"Gun Incidents in the United States (per Month)\"\n",
    "f4.title.text_font_size=\"25px\"\n",
    "f4.title.align=\"center\"\n",
    "\n",
    "## Add some axis information (after all, a plot without axis descriptions is nothing more than abstract art)\n",
    "f4.xaxis.axis_label=\"Year-Month\"\n",
    "f4.yaxis.axis_label=\"Number of Incidents\"\n",
    "\n",
    "#adding glyphsg\n",
    "f4.vbar(x=x_data, top=monthly, width=1, fill_color=\"#77b7f1\")\n",
    "\n",
    "f4.y_range.start = 0\n",
    "f4.x_range.range_padding = 0\n",
    "f4.xaxis.major_label_orientation = 1\n",
    "#f4.xgrid.grid_line_color = None\n",
    "\n",
    "#Save and show the figure\n",
    "save(f4)\n"
   ]
  },
  {
   "cell_type": "code",
   "execution_count": null,
   "metadata": {},
   "outputs": [],
   "source": []
  }
 ],
 "metadata": {
  "kernelspec": {
   "display_name": "Python 3",
   "language": "python",
   "name": "python3"
  },
  "language_info": {
   "codemirror_mode": {
    "name": "ipython",
    "version": 3
   },
   "file_extension": ".py",
   "mimetype": "text/x-python",
   "name": "python",
   "nbconvert_exporter": "python",
   "pygments_lexer": "ipython3",
   "version": "3.5.2"
  }
 },
 "nbformat": 4,
 "nbformat_minor": 2
}
