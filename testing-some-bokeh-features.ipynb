{
 "cells": [
  {
   "cell_type": "code",
   "execution_count": 4,
   "metadata": {},
   "outputs": [],
   "source": [
    "# import stuff\n",
    "import pandas as pd\n",
    "from bokeh.palettes import Spectral5\n",
    "from bokeh.plotting import figure, output_file, save\n",
    "\n",
    "# read gun incidents file\n",
    "df = pd.read_csv(\"stage3.csv\")"
   ]
  },
  {
   "cell_type": "code",
   "execution_count": 5,
   "metadata": {},
   "outputs": [],
   "source": [
    "# convert incident characteristics data to lower case for easy filtering\n",
    "df['incident_characteristics'] = df['incident_characteristics'].str.lower()\n",
    "\n",
    "# extract year from each date\n",
    "df['date'] = pd.to_datetime(df['date'])\n",
    "df['year'] = df['date'].dt.year\n",
    "\n",
    "# group by incident characteristics\n",
    "mass_shootings = df[df['incident_characteristics'].str.contains(\"mass shooting\") == True]\n",
    "accidental_shootings = df[df['incident_characteristics'].str.contains(\"accidental\") == True]\n",
    "armed_robbery = df[df['incident_characteristics'].str.contains(\"robbery\") == True]\n",
    "gang_involvement = df[df['incident_characteristics'].str.contains(\"gang\") == True]\n",
    "domestic_violence = df[df['incident_characteristics'].str.contains(\"domestic\") == True]"
   ]
  },
  {
   "cell_type": "markdown",
   "metadata": {},
   "source": [
    "# MY FIRST INTERACTIVE LEGEND\n",
    "### Toggle legend for different incident characteristics\n",
    "#### Ik weet dat deze vorm van interactie niet van toegevoegde waarde is voor \"incident characteristics\" (misschien wel voor andere variabelen?), maar die kolom is wel handig om te gebruiken voor tests"
   ]
  },
  {
   "cell_type": "code",
   "execution_count": 6,
   "metadata": {},
   "outputs": [
    {
     "data": {
      "text/plain": [
       "'/home/hughmee/DataProcessing/test-my-interactive-legend.html'"
      ]
     },
     "execution_count": 6,
     "metadata": {},
     "output_type": "execute_result"
    }
   ],
   "source": [
    "output_file(\"test-my-interactive-legend.html\")\n",
    "f1 = figure()\n",
    "\n",
    "for data, name, color in zip([mass_shootings, armed_robbery, gang_involvement, domestic_violence, accidental_shootings], [\"Mass Shootings\", \"Armed Robbery\", \"Gang Involvement\", \"Domestic Violence\", \"Accidental Shootings\"], Spectral5):\n",
    "    years = ['2014', '2015', '2016', '2017', '2018']\n",
    "    incidents = [number for number in data.groupby('year').size()]\n",
    "    f1.line(years, incidents, line_width=2, color=color, alpha=0.8, legend=name)\n",
    "    \n",
    "f1.legend.location = 'top_left'\n",
    "f1.legend.click_policy = 'hide'\n",
    "\n",
    "save(f1)"
   ]
  }
 ],
 "metadata": {
  "kernelspec": {
   "display_name": "Python 3",
   "language": "python",
   "name": "python3"
  },
  "language_info": {
   "codemirror_mode": {
    "name": "ipython",
    "version": 3
   },
   "file_extension": ".py",
   "mimetype": "text/x-python",
   "name": "python",
   "nbconvert_exporter": "python",
   "pygments_lexer": "ipython3",
   "version": "3.5.2"
  }
 },
 "nbformat": 4,
 "nbformat_minor": 2
}
