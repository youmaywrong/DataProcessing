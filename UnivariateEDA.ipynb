{
 "cells": [
  {
   "cell_type": "markdown",
   "metadata": {},
   "source": [
    "# Bokeh file 2"
   ]
  },
  {
   "cell_type": "code",
   "execution_count": 3,
   "metadata": {},
   "outputs": [],
   "source": [
    "# Importing bokeh and pandas (Although we dont need Pandas just yet)\n",
    "from bokeh.plotting import figure\n",
    "from bokeh.io import output_file, show\n",
    "import pandas as pd\n",
    "import collections"
   ]
  },
  {
   "cell_type": "code",
   "execution_count": 4,
   "metadata": {},
   "outputs": [],
   "source": [
    "# read data\n",
    "data = pd.read_csv(\"stage3.csv\")"
   ]
  },
  {
   "cell_type": "markdown",
   "metadata": {},
   "source": [
    "## How many killed per incident - Univariate Non-graphical EDA \n"
   ]
  },
  {
   "cell_type": "code",
   "execution_count": 24,
   "metadata": {},
   "outputs": [
    {
     "name": "stdout",
     "output_type": "stream",
     "text": [
      "{'abcd': 12, 1: 4}\n"
     ]
    },
    {
     "ename": "TypeError",
     "evalue": "'<' not supported between instances of 'int' and 'str'",
     "output_type": "error",
     "traceback": [
      "\u001b[1;31m-----------------------------------------------------------------------\u001b[0m",
      "\u001b[1;31mTypeError\u001b[0m                             Traceback (most recent call last)",
      "\u001b[1;32m<ipython-input-24-f2edbabe16f1>\u001b[0m in \u001b[0;36m<module>\u001b[1;34m()\u001b[0m\n\u001b[0;32m      3\u001b[0m \u001b[0md\u001b[0m\u001b[1;33m[\u001b[0m\u001b[1;36m1\u001b[0m\u001b[1;33m]\u001b[0m \u001b[1;33m=\u001b[0m \u001b[1;36m4\u001b[0m\u001b[1;33m\u001b[0m\u001b[0m\n\u001b[0;32m      4\u001b[0m \u001b[0mprint\u001b[0m\u001b[1;33m(\u001b[0m\u001b[0md\u001b[0m\u001b[1;33m)\u001b[0m\u001b[1;33m\u001b[0m\u001b[0m\n\u001b[1;32m----> 5\u001b[1;33m \u001b[0mod\u001b[0m \u001b[1;33m=\u001b[0m \u001b[0mcollections\u001b[0m\u001b[1;33m.\u001b[0m\u001b[0mOrderedDict\u001b[0m\u001b[1;33m(\u001b[0m\u001b[0msorted\u001b[0m\u001b[1;33m(\u001b[0m\u001b[0md\u001b[0m\u001b[1;33m.\u001b[0m\u001b[0mitems\u001b[0m\u001b[1;33m(\u001b[0m\u001b[1;33m)\u001b[0m\u001b[1;33m)\u001b[0m\u001b[1;33m)\u001b[0m\u001b[1;33m\u001b[0m\u001b[0m\n\u001b[0m\u001b[0;32m      6\u001b[0m \u001b[1;33m\u001b[0m\u001b[0m\n\u001b[0;32m      7\u001b[0m \u001b[0mod\u001b[0m\u001b[1;33m\u001b[0m\u001b[0m\n",
      "\u001b[1;31mTypeError\u001b[0m: '<' not supported between instances of 'int' and 'str'"
     ]
    }
   ],
   "source": [
    "\n",
    "d = {\"abcd\":12}\n",
    "d[1] = 4\n",
    "print(d)\n",
    "od = collections.OrderedDict(sorted(d.items()))\n",
    "\n",
    "od"
   ]
  },
  {
   "cell_type": "code",
   "execution_count": 21,
   "metadata": {},
   "outputs": [
    {
     "name": "stdout",
     "output_type": "stream",
     "text": [
      "Incidents:\n",
      "0 : 185713  -  0.7757467658595065  -  77.57467658595066 %\n",
      "1 : 48349  -  0.20195990793612337  -  20.195990793612335 %\n",
      "2 : 4575  -  0.019110355515269486  -  1.9110355515269486 %\n",
      "3 : 581  -  0.00242691072226701  -  0.242691072226701 %\n",
      "4 : 123  -  0.0005137866072957698  -  0.05137866072957698 %\n",
      "5 : 35  -  0.00014619944110042232  -  0.014619944110042232 %\n",
      "6 : 8  -  3.3417015108667954e-05  -  0.0033417015108667954 %\n",
      "7 : 1  -  4.177126888583494e-06  -  0.0004177126888583494 %\n",
      "8 : 5  -  2.0885634442917474e-05  -  0.0020885634442917474 %\n",
      "9 : 3  -  1.2531380665750484e-05  -  0.0012531380665750484 %\n",
      "10 : 1  -  4.177126888583494e-06  -  0.0004177126888583494 %\n",
      "16 : 1  -  4.177126888583494e-06  -  0.0004177126888583494 %\n",
      "17 : 1  -  4.177126888583494e-06  -  0.0004177126888583494 %\n",
      "27 : 1  -  4.177126888583494e-06  -  0.0004177126888583494 %\n",
      "50 : 1  -  4.177126888583494e-06  -  0.0004177126888583494 %\n"
     ]
    }
   ],
   "source": [
    "numbers =  {}\n",
    "\n",
    "for i in range(1, len(data[\"n_killed\"])):\n",
    "    if data[\"n_killed\"][i] in numbers:\n",
    "        numbers[data[\"n_killed\"][i]] += 1\n",
    "    else:\n",
    "        numbers[data[\"n_killed\"][i]] = 1\n",
    "        \n",
    "ordered_dict = collections.OrderedDict(sorted(numbers.items()))\n",
    "length = len(data[\"n_killed\"])\n",
    "\n",
    "print(\"Incidents:\")\n",
    "for n in ordered_dict:\n",
    "    proportion = ordered_dict[n]/length\n",
    "    print(n, \":\", ordered_dict[n], \" - \", proportion, \" - \", proportion*100, \"%\")\n",
    "    "
   ]
  },
  {
   "cell_type": "markdown",
   "metadata": {},
   "source": [
    "## How many injured per incident - Univariate Non-graphical EDA"
   ]
  },
  {
   "cell_type": "code",
   "execution_count": 20,
   "metadata": {},
   "outputs": [
    {
     "name": "stdout",
     "output_type": "stream",
     "text": [
      "Incidents:\n",
      "0 : 142456  -  0.5950567880400502  -  59.50567880400502 %\n",
      "1 : 81972  -  0.34240744531096623  -  34.240744531096624 %\n",
      "2 : 11457  -  0.047857342762501094  -  4.78573427625011 %\n",
      "3 : 2461  -  0.01027990927280398  -  1.027990927280398 %\n",
      "4 : 657  -  0.0027443723657993558  -  0.2744372365799356 %\n",
      "5 : 215  -  0.0008980822810454514  -  0.08980822810454514 %\n",
      "6 : 80  -  0.0003341701510866796  -  0.03341701510866796 %\n",
      "7 : 45  -  0.00018797070998625726  -  0.018797070998625726 %\n",
      "8 : 16  -  6.683403021733591e-05  -  0.006683403021733591 %\n",
      "9 : 11  -  4.594839577441844e-05  -  0.004594839577441844 %\n",
      "10 : 6  -  2.5062761331500967e-05  -  0.002506276133150097 %\n",
      "11 : 4  -  1.6708507554333977e-05  -  0.0016708507554333977 %\n",
      "12 : 3  -  1.2531380665750484e-05  -  0.0012531380665750484 %\n",
      "13 : 1  -  4.177126888583494e-06  -  0.0004177126888583494 %\n",
      "14 : 3  -  1.2531380665750484e-05  -  0.0012531380665750484 %\n",
      "15 : 2  -  8.354253777166988e-06  -  0.0008354253777166988 %\n",
      "16 : 1  -  4.177126888583494e-06  -  0.0004177126888583494 %\n",
      "17 : 2  -  8.354253777166988e-06  -  0.0008354253777166988 %\n",
      "18 : 1  -  4.177126888583494e-06  -  0.0004177126888583494 %\n",
      "19 : 2  -  8.354253777166988e-06  -  0.0008354253777166988 %\n",
      "20 : 1  -  4.177126888583494e-06  -  0.0004177126888583494 %\n",
      "25 : 1  -  4.177126888583494e-06  -  0.0004177126888583494 %\n",
      "53 : 1  -  4.177126888583494e-06  -  0.0004177126888583494 %\n"
     ]
    }
   ],
   "source": [
    "numbers =  {}\n",
    "\n",
    "for i in range(1, len(data[\"n_injured\"])):\n",
    "    if data[\"n_injured\"][i] in numbers:\n",
    "        numbers[data[\"n_injured\"][i]] += 1\n",
    "    else:\n",
    "        numbers[data[\"n_injured\"][i]] = 1\n",
    "        \n",
    "ordered_dict = collections.OrderedDict(sorted(numbers.items()))\n",
    "length = len(data[\"n_injured\"])\n",
    "\n",
    "print(\"Incidents:\")\n",
    "for n in ordered_dict:\n",
    "    proportion = ordered_dict[n]/length\n",
    "    print(n, \":\", ordered_dict[n], \" - \", proportion, \" - \", proportion*100, \"%\")\n",
    "    "
   ]
  },
  {
   "cell_type": "markdown",
   "metadata": {},
   "source": [
    "## Incidents per state - Univariable Non-graphical EDA\n"
   ]
  },
  {
   "cell_type": "code",
   "execution_count": 25,
   "metadata": {},
   "outputs": [
    {
     "name": "stdout",
     "output_type": "stream",
     "text": [
      "Incidents:\n"
     ]
    }
   ],
   "source": [
    "states =  {}\n",
    "\n",
    "for i in range(1, len(data[\"n_injured\"])):\n",
    "    if data[\"state\"][i] in states:\n",
    "        numbers[data[\"state\"][i]] += 1\n",
    "    else:\n",
    "        numbers[data[\"state\"][i]] = 1\n",
    "        \n",
    "ordered_dict = collections.OrderedDict(sorted(states.items()))\n",
    "length = len(data[\"n_injured\"])\n",
    "\n",
    "print(\"Incidents:\")\n",
    "for n in ordered_dict:\n",
    "    proportion = ordered_dict[n]/length\n",
    "    print(n, \":\", ordered_dict[n], \" - \", proportion, \" - \", proportion*100, \"%\")\n",
    "    "
   ]
  },
  {
   "cell_type": "code",
   "execution_count": 26,
   "metadata": {},
   "outputs": [
    {
     "name": "stdout",
     "output_type": "stream",
     "text": [
      "Incidents:\n",
      "New Jersey : 5373  -  0.022443702772359117  -  2.2443702772359115 %\n",
      "New York : 9696  -  0.04050142231170556  -  4.050142231170556 %\n",
      "Missouri : 6621  -  0.027656757129311316  -  2.765675712931132 %\n",
      "Georgia : 8919  -  0.03725579471927619  -  3.725579471927619 %\n",
      "Kentucky : 4154  -  0.017351785095175837  -  1.7351785095175838 %\n",
      "Virginia : 5943  -  0.024824665098851707  -  2.4824665098851706 %\n",
      "Pennsylvania : 8909  -  0.037214023450390356  -  3.7214023450390354 %\n",
      "South Carolina : 6934  -  0.02896419784543795  -  2.896419784543795 %\n",
      "Maryland : 5793  -  0.024198096065564185  -  2.4198096065564183 %\n",
      "Delaware : 1682  -  0.0070259274265974375  -  0.7025927426597437 %\n",
      "Colorado : 3198  -  0.013358451789690015  -  1.3358451789690016 %\n",
      "Alabama : 5469  -  0.02284470695366313  -  2.284470695366313 %\n",
      "Louisiana : 8094  -  0.03380966503619481  -  3.3809665036194807 %\n",
      "Utah : 1071  -  0.0044737028976729225  -  0.44737028976729226 %\n",
      "Indiana : 5845  -  0.024415306663770526  -  2.4415306663770524 %\n",
      "Illinois : 17538  -  0.07325845137197733  -  7.3258451371977324 %\n",
      "Texas : 13566  -  0.056666903370523686  -  5.666690337052368 %\n",
      "Nebraska : 1650  -  0.006892259366162766  -  0.6892259366162766 %\n",
      "Massachusetts : 5981  -  0.02498339592061788  -  2.4983395920617877 %\n",
      "Florida : 15016  -  0.06272373735896976  -  6.272373735896976 %\n",
      "Mississippi : 3597  -  0.015025125418234829  -  1.5025125418234828 %\n",
      "Wisconsin : 4786  -  0.019991729288760605  -  1.9991729288760605 %\n",
      "Arizona : 2323  -  0.009703465762179458  -  0.9703465762179458 %\n",
      "Hawaii : 289  -  0.00120718967080063  -  0.120718967080063 %\n",
      "Washington : 3430  -  0.014327545227841387  -  1.4327545227841387 %\n",
      "Ohio : 10234  -  0.04274871657776348  -  4.274871657776348 %\n",
      "Kansas : 2141  -  0.008943228668457261  -  0.8943228668457261 %\n",
      "District of Columbia : 3189  -  0.013320857647692764  -  1.3320857647692763 %\n",
      "West Virginia : 1573  -  0.006570620595741837  -  0.6570620595741837 %\n",
      "New Hampshire : 964  -  0.004026750320594488  -  0.4026750320594488 %\n",
      "Rhode Island : 893  -  0.0037301743115050606  -  0.37301743115050606 %\n",
      "North Carolina : 8727  -  0.036453786356668155  -  3.6453786356668156 %\n",
      "California : 16267  -  0.0679493230965877  -  6.79493230965877 %\n",
      "Oklahoma : 3449  -  0.014406910638724473  -  1.4406910638724473 %\n",
      "Connecticut : 3064  -  0.012798716786619826  -  1.2798716786619826 %\n",
      "Iowa : 2517  -  0.010513828378564656  -  1.0513828378564656 %\n",
      "Alaska : 1349  -  0.005634944172699134  -  0.5634944172699133 %\n",
      "Arkansas : 2842  -  0.011871394617354291  -  1.1871394617354292 %\n",
      "Michigan : 6121  -  0.02556819368501957  -  2.556819368501957 %\n",
      "Tennessee : 7616  -  0.0318129983834519  -  3.18129983834519 %\n",
      "Nevada : 1951  -  0.008149574559626397  -  0.8149574559626397 %\n",
      "Minnesota : 2406  -  0.010050167293931888  -  1.0050167293931889 %\n",
      "Idaho : 661  -  0.0027610808733536897  -  0.27610808733536896 %\n",
      "Oregon : 2286  -  0.009548912067301869  -  0.9548912067301869 %\n",
      "Wyoming : 494  -  0.0020635006829602463  -  0.20635006829602462 %\n",
      "Maine : 907  -  0.0037886540879452295  -  0.37886540879452296 %\n",
      "North Dakota : 573  -  0.0023934937071583423  -  0.23934937071583423 %\n",
      "New Mexico : 1643  -  0.006863019477942682  -  0.6863019477942681 %\n",
      "Montana : 638  -  0.0026650069549162695  -  0.26650069549162697 %\n",
      "Vermont : 472  -  0.0019716038914114093  -  0.19716038914114092 %\n",
      "South Dakota : 544  -  0.002272357027389421  -  0.2272357027389421 %\n"
     ]
    }
   ],
   "source": [
    "states =  {}\n",
    "\n",
    "for i in range(1, len(data[\"n_injured\"])):\n",
    "    if data[\"state\"][i] in states:\n",
    "        states[data[\"state\"][i]] += 1\n",
    "    else:\n",
    "        states[data[\"state\"][i]] = 1\n",
    "\n",
    "length = len(data[\"n_injured\"])\n",
    "\n",
    "print(\"Incidents:\")\n",
    "for state in states:\n",
    "    proportion = states[state]/length\n",
    "    print(state, \":\", states[state], \" - \", proportion, \" - \", proportion*100, \"%\")"
   ]
  }
 ],
 "metadata": {
  "kernelspec": {
   "display_name": "Python 3",
   "language": "python",
   "name": "python3"
  },
  "language_info": {
   "codemirror_mode": {
    "name": "ipython",
    "version": 3
   },
   "file_extension": ".py",
   "mimetype": "text/x-python",
   "name": "python",
   "nbconvert_exporter": "python",
   "pygments_lexer": "ipython3",
   "version": "3.6.3"
  }
 },
 "nbformat": 4,
 "nbformat_minor": 2
}
