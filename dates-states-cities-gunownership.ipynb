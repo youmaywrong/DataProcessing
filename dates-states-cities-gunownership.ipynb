{
 "cells": [
  {
   "cell_type": "code",
   "execution_count": 70,
   "metadata": {},
   "outputs": [],
   "source": [
    "import pandas as pd\n",
    "# read data\n",
    "df = pd.read_csv(\"stage3.csv\")\n",
    "ownership_df = pd.read_csv(\"gunownership.csv\")\n",
    "# population_df = pd.read_csv(\"gun_ownership.csv\")"
   ]
  },
  {
   "cell_type": "code",
   "execution_count": null,
   "metadata": {},
   "outputs": [],
   "source": []
  },
  {
   "cell_type": "markdown",
   "metadata": {},
   "source": [
    "### Gun incidents per year"
   ]
  },
  {
   "cell_type": "code",
   "execution_count": 71,
   "metadata": {},
   "outputs": [
    {
     "name": "stdout",
     "output_type": "stream",
     "text": [
      "yes\n",
      "26\n",
      "yes\n",
      "25\n"
     ]
    }
   ],
   "source": [
    "df['date'] = pd.to_datetime(df['date'])\n",
    "df['year'] = df['date'].dt.year\n",
    "incidents_per_year = df['year'].value_counts()\n",
    "\n",
    "aa = df[df['state'] == 'Illinois']\n",
    "bb = aa[aa['incident_characteristics'].str.contains('Mass') == True]\n",
    "cc = sorted(bb['year'].unique())\n",
    "\n",
    "for thing in [2014, 2015]:\n",
    "    if thing in bb['year'].unique():\n",
    "        print(\"yes\")\n",
    "        print(bb[bb['year'] == thing]['incident_id'].count())\n",
    "    else:\n",
    "        print(\"no\")\n",
    "\n",
    "\n",
    "\n",
    "# not many incidents from 2013 were recorded (incomplete data) -> removed from set"
   ]
  },
  {
   "cell_type": "markdown",
   "metadata": {},
   "source": [
    "### Gun incidents per month (per year)"
   ]
  },
  {
   "cell_type": "code",
   "execution_count": 72,
   "metadata": {
    "scrolled": true
   },
   "outputs": [],
   "source": [
    "# for each year, counts number of incidents per year\n",
    "df['month'] = df['date'].dt.month"
   ]
  },
  {
   "cell_type": "markdown",
   "metadata": {},
   "source": [
    "### Incidents per state"
   ]
  },
  {
   "cell_type": "code",
   "execution_count": 73,
   "metadata": {},
   "outputs": [],
   "source": [
    "year_per_state = df.groupby(['year', 'state']).size()"
   ]
  },
  {
   "cell_type": "code",
   "execution_count": 74,
   "metadata": {
    "scrolled": true
   },
   "outputs": [],
   "source": [
    "incidents_per_state = df.groupby(['state']).size()"
   ]
  },
  {
   "cell_type": "code",
   "execution_count": 75,
   "metadata": {},
   "outputs": [],
   "source": [
    "# import stuff\n",
    "from bokeh.plotting import figure\n",
    "from bokeh.io import output_file, show, save\n",
    "from bokeh.models import DataRange1d, FactorRange, ColumnDataSource, Plot, HBar, LabelSet\n",
    "import pandas as pd\n",
    "import numpy as np"
   ]
  },
  {
   "cell_type": "markdown",
   "metadata": {},
   "source": [
    "### Some data for plots"
   ]
  },
  {
   "cell_type": "code",
   "execution_count": 76,
   "metadata": {},
   "outputs": [],
   "source": [
    "# add number of incidents per state\n",
    "incidents = df.groupby(['state']).size()\n",
    "incidents = [incident for incident in incidents]\n",
    "ownership_df['incidents'] = incidents"
   ]
  },
  {
   "cell_type": "code",
   "execution_count": 77,
   "metadata": {},
   "outputs": [],
   "source": [
    "years_df = pd.DataFrame()\n",
    "years_df['year'] = ['2014', '2015', '2016', '2017', '2018']\n",
    "years_df['incidents'] = [number for number in df.groupby('year').size()]\n",
    "\n",
    "# fill in columns for incidents per yer PER STATE\n",
    "ownership_df['2014'] = [number for number in year_per_state[:51]]\n",
    "ownership_df['2015'] = [number for number in year_per_state[51:102]]\n",
    "ownership_df['2016'] = [number for number in year_per_state[102:153]]\n",
    "ownership_df['2017'] = [number for number in year_per_state[153:204]]\n",
    "ownership_df['2018'] = [number for number in year_per_state[204:]]\n",
    "\n",
    "# incidents per month in the United States\n",
    "incidents_per_month = [number for number in df.groupby(['year', 'month']).size()]\n"
   ]
  },
  {
   "cell_type": "markdown",
   "metadata": {},
   "source": [
    "### Zooming in: analysing cities"
   ]
  },
  {
   "cell_type": "code",
   "execution_count": 78,
   "metadata": {
    "scrolled": true
   },
   "outputs": [],
   "source": [
    "df_2014 = df.loc[df['year'] == 2014]\n",
    "cities_2014 = df_2014['city_or_county'].value_counts()[:10]\n",
    "\n",
    "df_2015 = df.loc[df['year'] == 2015]\n",
    "cities_2015 = df_2015['city_or_county'].value_counts()[:10]\n",
    "\n",
    "df_2016 = df.loc[df['year'] == 2016]\n",
    "cities_2016 = df_2016['city_or_county'].value_counts()[:10]\n",
    "\n",
    "df_2017 = df.loc[df['year'] == 2017]\n",
    "cities_2017 = df_2017['city_or_county'].value_counts()[:10]\n",
    "\n",
    "df_2018 = df.loc[df['year'] == 2018]\n",
    "cities_2018 = df_2018['city_or_county'].value_counts()[:10]\n",
    "\n"
   ]
  },
  {
   "cell_type": "code",
   "execution_count": 79,
   "metadata": {},
   "outputs": [
    {
     "data": {
      "text/plain": [
       "Chicago         10298\n",
       "Baltimore        3703\n",
       "Washington       3095\n",
       "New Orleans      2926\n",
       "Philadelphia     2824\n",
       "Jacksonville     2372\n",
       "Saint Louis      2351\n",
       "Houston          2331\n",
       "Milwaukee        2294\n",
       "Memphis          2283\n",
       "Name: city_or_county, dtype: int64"
      ]
     },
     "execution_count": 79,
     "metadata": {},
     "output_type": "execute_result"
    }
   ],
   "source": [
    "# violent_incidents = df.loc[(df['n_killed'] > 0) | (df['n_injured'] > 0)]\n",
    "violent_incidents = df[df['year'] < 2018]\n",
    "\n",
    "violent_incidents['city_or_county'].value_counts()[:10]\n"
   ]
  },
  {
   "cell_type": "code",
   "execution_count": 80,
   "metadata": {},
   "outputs": [
    {
     "data": {
      "text/plain": [
       "Chicago         9618\n",
       "Baltimore       2794\n",
       "Philadelphia    2451\n",
       "New Orleans     1938\n",
       "Saint Louis     1932\n",
       "Memphis         1732\n",
       "Houston         1698\n",
       "Milwaukee       1620\n",
       "Columbus        1473\n",
       "Washington      1450\n",
       "Name: city_or_county, dtype: int64"
      ]
     },
     "execution_count": 80,
     "metadata": {},
     "output_type": "execute_result"
    }
   ],
   "source": [
    "a = df.loc[(df['n_killed'] > 0) | (df['n_injured'] > 0)]\n",
    "a = a[a['year'] < 2018]\n",
    "a['city_or_county'].value_counts()[:10]"
   ]
  },
  {
   "cell_type": "code",
   "execution_count": 81,
   "metadata": {},
   "outputs": [
    {
     "data": {
      "text/html": [
       "<div>\n",
       "<style scoped>\n",
       "    .dataframe tbody tr th:only-of-type {\n",
       "        vertical-align: middle;\n",
       "    }\n",
       "\n",
       "    .dataframe tbody tr th {\n",
       "        vertical-align: top;\n",
       "    }\n",
       "\n",
       "    .dataframe thead th {\n",
       "        text-align: right;\n",
       "    }\n",
       "</style>\n",
       "<table border=\"1\" class=\"dataframe\">\n",
       "  <thead>\n",
       "    <tr style=\"text-align: right;\">\n",
       "      <th></th>\n",
       "      <th>incident_id</th>\n",
       "      <th>n_killed</th>\n",
       "      <th>n_injured</th>\n",
       "      <th>latitude</th>\n",
       "      <th>longitude</th>\n",
       "      <th>year</th>\n",
       "      <th>month</th>\n",
       "    </tr>\n",
       "    <tr>\n",
       "      <th>city_or_county</th>\n",
       "      <th></th>\n",
       "      <th></th>\n",
       "      <th></th>\n",
       "      <th></th>\n",
       "      <th></th>\n",
       "      <th></th>\n",
       "      <th></th>\n",
       "    </tr>\n",
       "  </thead>\n",
       "  <tbody>\n",
       "    <tr>\n",
       "      <th>Chicago</th>\n",
       "      <td>5600947928</td>\n",
       "      <td>2011</td>\n",
       "      <td>9924</td>\n",
       "      <td>417641.1118</td>\n",
       "      <td>-875432.6540</td>\n",
       "      <td>20757127</td>\n",
       "      <td>70479</td>\n",
       "    </tr>\n",
       "    <tr>\n",
       "      <th>Houston</th>\n",
       "      <td>1168747818</td>\n",
       "      <td>1063</td>\n",
       "      <td>1143</td>\n",
       "      <td>67480.0208</td>\n",
       "      <td>-215715.7263</td>\n",
       "      <td>4698039</td>\n",
       "      <td>15109</td>\n",
       "    </tr>\n",
       "    <tr>\n",
       "      <th>Baltimore</th>\n",
       "      <td>2021057446</td>\n",
       "      <td>1003</td>\n",
       "      <td>2289</td>\n",
       "      <td>143699.5605</td>\n",
       "      <td>-280147.0074</td>\n",
       "      <td>7463930</td>\n",
       "      <td>25308</td>\n",
       "    </tr>\n",
       "    <tr>\n",
       "      <th>Saint Louis</th>\n",
       "      <td>1242462088</td>\n",
       "      <td>865</td>\n",
       "      <td>1657</td>\n",
       "      <td>90532.3711</td>\n",
       "      <td>-211360.3372</td>\n",
       "      <td>4738603</td>\n",
       "      <td>16076</td>\n",
       "    </tr>\n",
       "    <tr>\n",
       "      <th>Philadelphia</th>\n",
       "      <td>1333568644</td>\n",
       "      <td>854</td>\n",
       "      <td>2190</td>\n",
       "      <td>110408.4987</td>\n",
       "      <td>-208170.5559</td>\n",
       "      <td>5691132</td>\n",
       "      <td>18254</td>\n",
       "    </tr>\n",
       "    <tr>\n",
       "      <th>New Orleans</th>\n",
       "      <td>1479706167</td>\n",
       "      <td>658</td>\n",
       "      <td>1778</td>\n",
       "      <td>84319.5052</td>\n",
       "      <td>-253320.5941</td>\n",
       "      <td>5897339</td>\n",
       "      <td>18873</td>\n",
       "    </tr>\n",
       "    <tr>\n",
       "      <th>Los Angeles</th>\n",
       "      <td>477275952</td>\n",
       "      <td>608</td>\n",
       "      <td>524</td>\n",
       "      <td>34153.0812</td>\n",
       "      <td>-118767.9580</td>\n",
       "      <td>2045532</td>\n",
       "      <td>6563</td>\n",
       "    </tr>\n",
       "    <tr>\n",
       "      <th>Memphis</th>\n",
       "      <td>1254733240</td>\n",
       "      <td>587</td>\n",
       "      <td>1607</td>\n",
       "      <td>77596.6462</td>\n",
       "      <td>-198802.4818</td>\n",
       "      <td>4601806</td>\n",
       "      <td>15085</td>\n",
       "    </tr>\n",
       "    <tr>\n",
       "      <th>Indianapolis</th>\n",
       "      <td>910340237</td>\n",
       "      <td>587</td>\n",
       "      <td>1079</td>\n",
       "      <td>69725.6922</td>\n",
       "      <td>-150921.5920</td>\n",
       "      <td>3684264</td>\n",
       "      <td>12028</td>\n",
       "    </tr>\n",
       "    <tr>\n",
       "      <th>Detroit</th>\n",
       "      <td>741415811</td>\n",
       "      <td>560</td>\n",
       "      <td>904</td>\n",
       "      <td>54334.2941</td>\n",
       "      <td>-106539.3981</td>\n",
       "      <td>2676831</td>\n",
       "      <td>8954</td>\n",
       "    </tr>\n",
       "  </tbody>\n",
       "</table>\n",
       "</div>"
      ],
      "text/plain": [
       "                incident_id  n_killed  n_injured     latitude    longitude  \\\n",
       "city_or_county                                                               \n",
       "Chicago          5600947928      2011       9924  417641.1118 -875432.6540   \n",
       "Houston          1168747818      1063       1143   67480.0208 -215715.7263   \n",
       "Baltimore        2021057446      1003       2289  143699.5605 -280147.0074   \n",
       "Saint Louis      1242462088       865       1657   90532.3711 -211360.3372   \n",
       "Philadelphia     1333568644       854       2190  110408.4987 -208170.5559   \n",
       "New Orleans      1479706167       658       1778   84319.5052 -253320.5941   \n",
       "Los Angeles       477275952       608        524   34153.0812 -118767.9580   \n",
       "Memphis          1254733240       587       1607   77596.6462 -198802.4818   \n",
       "Indianapolis      910340237       587       1079   69725.6922 -150921.5920   \n",
       "Detroit           741415811       560        904   54334.2941 -106539.3981   \n",
       "\n",
       "                    year  month  \n",
       "city_or_county                   \n",
       "Chicago         20757127  70479  \n",
       "Houston          4698039  15109  \n",
       "Baltimore        7463930  25308  \n",
       "Saint Louis      4738603  16076  \n",
       "Philadelphia     5691132  18254  \n",
       "New Orleans      5897339  18873  \n",
       "Los Angeles      2045532   6563  \n",
       "Memphis          4601806  15085  \n",
       "Indianapolis     3684264  12028  \n",
       "Detroit          2676831   8954  "
      ]
     },
     "execution_count": 81,
     "metadata": {},
     "output_type": "execute_result"
    }
   ],
   "source": [
    "b = df[df['year'] < 2018]\n",
    "\n",
    "c = b.groupby('city_or_county').sum()\n",
    "c.sort_values('n_killed', ascending=False)[:10]"
   ]
  },
  {
   "cell_type": "code",
   "execution_count": 82,
   "metadata": {},
   "outputs": [
    {
     "data": {
      "text/plain": [
       "Illinois          17538\n",
       "California        16267\n",
       "Florida           15016\n",
       "Texas             13566\n",
       "Ohio              10234\n",
       "New York           9696\n",
       "Georgia            8919\n",
       "Pennsylvania       8909\n",
       "North Carolina     8727\n",
       "Louisiana          8094\n",
       "Name: state, dtype: int64"
      ]
     },
     "execution_count": 82,
     "metadata": {},
     "output_type": "execute_result"
    }
   ],
   "source": [
    "df['state'].value_counts()[:10]"
   ]
  },
  {
   "cell_type": "code",
   "execution_count": 51,
   "metadata": {},
   "outputs": [
    {
     "data": {
      "text/plain": [
       "'C:\\\\Users\\\\Marijn\\\\Desktop\\\\project\\\\DataProcessing\\\\way-too-many-incidents.html'"
      ]
     },
     "execution_count": 51,
     "metadata": {},
     "output_type": "execute_result"
    }
   ],
   "source": [
    "import numpy as np\n",
    "from bokeh.plotting import figure\n",
    "from bokeh.io import output_notebook, push_notebook, show\n",
    "import pandas\n",
    "\n",
    "from bokeh.models import DataRange1d\n",
    "from bokeh.models import PanTool, ResetTool, WheelZoomTool, HoverTool, LassoSelectTool, BoxSelectTool, SaveTool\n",
    "from bokeh.models import ColumnDataSource\n",
    "\n",
    "counts = [2283, 2294, 2331, 2351, 2372, 2824, 2926, 3095, 3703, 10298]\n",
    "cities = ['Memphis', 'Milwaukee', 'Houston', 'Saint Louis', 'Jacksonville', 'Philadelphia', 'New Orleans', 'Washington', 'Baltimore', 'Chicago']\n",
    "\n",
    "p = figure(y_range=cities, title='Cities with most gun incidents 2014 - 2017', plot_width=600, plot_height=270)\n",
    "\n",
    "source = ColumnDataSource(data=dict(x=counts, y=cities))\n",
    "\n",
    "hover = HoverTool(tooltips=[\n",
    "    (\"City\", \"@y\"),\n",
    "    (\"Amount\", \"@x\"),\n",
    "])\n",
    "\n",
    "p.toolbar.tools = [ResetTool(), hover]\n",
    "\n",
    "p.hbar(height=0.6, y=\"y\", right=\"x\", left=0, color=\"#F55F60\", source=source)\n",
    "\n",
    "p.xaxis.major_label_text_font_size = '14px'\n",
    "p.yaxis.major_label_text_font_size = '14px'\n",
    "p.title.text_font_size = \"16px\"\n",
    "p.title.align = \"center\"\n",
    "p.outline_line_color = None\n",
    "p.toolbar.logo = None\n",
    "p.toolbar_location = None\n",
    "\n",
    "output_file(\"way-too-many-incidents.html\")\n",
    "save(p)"
   ]
  },
  {
   "cell_type": "code",
   "execution_count": 52,
   "metadata": {},
   "outputs": [
    {
     "data": {
      "text/plain": [
       "'C:\\\\Users\\\\Marijn\\\\Desktop\\\\project\\\\DataProcessing\\\\way-too-many-incidents.html'"
      ]
     },
     "execution_count": 52,
     "metadata": {},
     "output_type": "execute_result"
    }
   ],
   "source": [
    "counts3 = [560, 587, 587, 608, 658, 854, 865, 1003, 1063, 2011]\n",
    "cities3 = ['Detroit', 'Indianapolis', 'Memphis', 'Los Angeles', 'New Orleans', 'Philadelphia', 'Saint Louis', 'Baltimore', 'Houston', 'Chicago']\n",
    "\n",
    "p3 = figure(y_range=cities3, title='Cities with most gun deaths 2014 - 2017', plot_width=600, plot_height=270)\n",
    "\n",
    "source = ColumnDataSource(data=dict(x=counts3, y=cities3))\n",
    "\n",
    "hover = HoverTool(tooltips=[\n",
    "    (\"City\", \"@y\"),\n",
    "    (\"Amount\", \"@x\"),\n",
    "])\n",
    "\n",
    "p3.toolbar.tools = [ResetTool(), hover]\n",
    "\n",
    "p3.hbar(height=0.6, y='y', right='x', left=0, color=\"#F55F60\", source=source)\n",
    "\n",
    "#labels = LabelSet(x='x', y='y', text='x', level='glyph', source=source, render_mode='canvas')\n",
    "\n",
    "p3.xaxis.major_label_text_font_size = '14px'\n",
    "p3.yaxis.major_label_text_font_size = '14px'\n",
    "p3.title.text_font_size = \"16px\"\n",
    "p3.title.align = \"center\"\n",
    "p3.outline_line_color = None\n",
    "p3.toolbar.logo = None\n",
    "p3.toolbar_location = None\n",
    "\n",
    "output_file(\"way-too-many-incidents.html\")\n",
    "save(p3)"
   ]
  },
  {
   "cell_type": "code",
   "execution_count": 53,
   "metadata": {
    "scrolled": true
   },
   "outputs": [
    {
     "data": {
      "text/plain": [
       "'C:\\\\Users\\\\Marijn\\\\Desktop\\\\project\\\\DataProcessing\\\\way-too-many-incidents.html'"
      ]
     },
     "execution_count": 53,
     "metadata": {},
     "output_type": "execute_result"
    }
   ],
   "source": [
    "output_file(\"way-too-many-incidents.html\")\n",
    "\n",
    "counts2 = [1450, 1473, 1620, 1698, 1732, 1932, 1938, 2451, 2794, 9618]\n",
    "cities2 = ['Washington', 'Columbus', 'Milwaukee', 'Houston', 'Memphis', 'Saint Louis', 'New Orleans', 'Philadelphia', 'Baltimore', 'Chicago']\n",
    "\n",
    "p2 = figure(y_range=cities2, title='Top 10 Cities with Most Gun Incidents 2014-2017 (n hurt > 0)')\n",
    "p2.hbar(height=0.6, y=cities2, right=counts, left=0)\n",
    "p2.xaxis.major_label_text_font_size = '12pt'\n",
    "p2.xaxis.axis_label_text_font_style = 'bold'\n",
    "p2.yaxis.axis_label_text_font_style = 'bold'\n",
    "p2.yaxis.major_label_text_font_size = '12pt'\n",
    "p2.title.align = 'center'\n",
    "save(p2)"
   ]
  },
  {
   "cell_type": "code",
   "execution_count": null,
   "metadata": {},
   "outputs": [],
   "source": []
  },
  {
   "cell_type": "markdown",
   "metadata": {},
   "source": [
    "### Number of registered guns and incidents (per state)"
   ]
  },
  {
   "cell_type": "code",
   "execution_count": 54,
   "metadata": {},
   "outputs": [
    {
     "data": {
      "text/plain": [
       "'C:\\\\Users\\\\Marijn\\\\Desktop\\\\project\\\\DataProcessing\\\\way-too-many-incidents.html'"
      ]
     },
     "execution_count": 54,
     "metadata": {},
     "output_type": "execute_result"
    }
   ],
   "source": [
    "#Define the output file path\n",
    "output_file(\"way-too-many-incidents.html\")\n",
    "\n",
    "#Create the figure object\n",
    "f = figure()\n",
    "f.x_range=DataRange1d(start=0)\n",
    "f.y_range=DataRange1d(start=0)\n",
    "\n",
    "## Add a Title to the plot (We essentially use css properties here)\n",
    "# You can find all function of f.title, using dir(f.title)\n",
    "f.title.text=\"Registered Guns and Incidents\"\n",
    "f.title.text_font_size=\"2px\"\n",
    "f.title.align=\"center\"\n",
    "\n",
    "## Add some axis information (after all, a plot without axis descriptions is nothing more than abstract art)\n",
    "f.xaxis.axis_label=\"Number of Registered Guns\"\n",
    "f.yaxis.axis_label=\"Number of Incidents\"\n",
    "\n",
    "#adding glyphs\n",
    "f.circle(x=ownership_df['guns_registered'], y=ownership_df['incidents'])\n",
    "\n",
    "#Save and show the figure\n",
    "save(f)"
   ]
  },
  {
   "cell_type": "markdown",
   "metadata": {},
   "source": [
    "### Number of registered guns per capita and incidents (per state)"
   ]
  },
  {
   "cell_type": "code",
   "execution_count": 55,
   "metadata": {},
   "outputs": [
    {
     "data": {
      "text/plain": [
       "'C:\\\\Users\\\\Marijn\\\\Desktop\\\\project\\\\DataProcessing\\\\way-too-many-incidents.html'"
      ]
     },
     "execution_count": 55,
     "metadata": {},
     "output_type": "execute_result"
    }
   ],
   "source": [
    "#Define the output file path\n",
    "output_file(\"way-too-many-incidents.html\")\n",
    "\n",
    "#Create the figure object\n",
    "f2 = figure()\n",
    "\n",
    "f2.x_range=DataRange1d(start=0, end=250)\n",
    "f2.y_range=DataRange1d(start=0, end=20000)\n",
    "\n",
    "## Add a Title to the plot (We essentially use css properties here)\n",
    "# You can find all function of f.title, using dir(f.title)\n",
    "f2.title.text=\"Guns per Capita and Incidents\"\n",
    "f2.title.text_font_size=\"25px\"\n",
    "f2.title.align=\"center\"\n",
    "\n",
    "## Add some axis information (after all, a plot without axis descriptions is nothing more than abstract art)\n",
    "f2.xaxis.axis_label=\"Guns per Capita\"\n",
    "f2.yaxis.axis_label=\"Incidents\"\n",
    "\n",
    "#adding glyphs\n",
    "f2.circle(x=ownership_df['guns_per_capita'], y=ownership_df['incidents'])\n",
    "\n",
    "#Save and show the figure\n",
    "save(f2)"
   ]
  },
  {
   "cell_type": "markdown",
   "metadata": {},
   "source": [
    "### Incidents per year (entire country)"
   ]
  },
  {
   "cell_type": "code",
   "execution_count": 116,
   "metadata": {},
   "outputs": [
    {
     "data": {
      "text/plain": [
       "'C:\\\\Users\\\\Marijn\\\\Desktop\\\\project\\\\DataProcessing\\\\way-too-many-incidents.html'"
      ]
     },
     "execution_count": 116,
     "metadata": {},
     "output_type": "execute_result"
    }
   ],
   "source": [
    "from bokeh.models import DataRange1d\n",
    "\n",
    "f3 = figure(y_range=(0, 65000), plot_width=500, plot_height=500)\n",
    "\n",
    "f3.title.text=\"Gun incidents per year\"\n",
    "f3.title.text_font_size=\"16px\"\n",
    "f3.title.align=\"center\"\n",
    "\n",
    "data = {\"year\" : [i for i in years_df['year']], \"incidents\" : [i for i in years_df['incidents']]}\n",
    "year_df = pd.DataFrame(data, index = ['2014', '2015', '2016', '2017', '2018'])\n",
    "year_df = year_df.drop('2018')\n",
    "\n",
    "f3.line(x=year_df['year'], y=year_df['incidents'], color=\"#F55F60\", line_width=10)\n",
    "\n",
    "f3.xaxis[0].major_label_text_font_size=\"14px\"\n",
    "f3.yaxis[0].major_label_text_font_size=\"14px\"\n",
    "f3.xaxis[0].axis_label_text_font_size=\"14px\"\n",
    "f3.yaxis[0].axis_label_text_font_size=\"14px\"\n",
    "f3.outline_line_color = None\n",
    "f3.toolbar.logo = None\n",
    "f3.toolbar_location = None\n",
    "\n",
    "f3.xaxis.ticker = [2014, 2015, 2016, 2017]\n",
    "f3.toolbar.tools = [ResetTool()]\n",
    "\n",
    "output_file(\"way-too-many-incidents.html\")\n",
    "save(f3)"
   ]
  },
  {
   "cell_type": "markdown",
   "metadata": {},
   "source": [
    "### Fatal incidents per year (entire country)"
   ]
  },
  {
   "cell_type": "code",
   "execution_count": 20,
   "metadata": {},
   "outputs": [
    {
     "data": {
      "text/plain": [
       "'/home/hughmee/Documents/testfordav/rest/way-too-many-incidents.html'"
      ]
     },
     "execution_count": 20,
     "metadata": {},
     "output_type": "execute_result"
    }
   ],
   "source": [
    "# locate all incidents where people have been killed\n",
    "deadly_incidents_per_year = [number for number in df.loc[df['n_killed'] > 0].groupby('year').size()]\n",
    "\n",
    "#Define the output file path\n",
    "output_file(\"way-too-many-incidents.html\")\n",
    "\n",
    "#Create the figure object\n",
    "f7 = figure()\n",
    "\n",
    "## Add a Title to the plot (We essentially use css properties here)\n",
    "# You can find all function of f.title, using dir(f.title)\n",
    "f7.title.text=\"Fatal Gun Incidents in the United States\"\n",
    "f7.title.text_font_size=\"25px\"\n",
    "f7.title.align=\"center\"\n",
    "\n",
    "## Add some axis information (after all, a plot without axis descriptions is nothing more than abstract art)\n",
    "f7.xaxis.axis_label=\"Year\"\n",
    "f7.yaxis.axis_label=\"Incidegnts\"\n",
    "\n",
    "#adding glyphsg\n",
    "f7.circle(x=years_df['year'], y=deadly_incidents_per_year)\n",
    "\n",
    "#Save and show the figure\n",
    "save(f7)"
   ]
  },
  {
   "cell_type": "markdown",
   "metadata": {},
   "source": [
    "### Number of people killed each year (entire country)"
   ]
  },
  {
   "cell_type": "code",
   "execution_count": 21,
   "metadata": {},
   "outputs": [
    {
     "data": {
      "text/plain": [
       "'/home/hughmee/Documents/testfordav/rest/way-too-many-incidents.html'"
      ]
     },
     "execution_count": 21,
     "metadata": {},
     "output_type": "execute_result"
    }
   ],
   "source": [
    "# get number of people killed each year\n",
    "per_year = df.groupby('year').sum()\n",
    "killed_per_year = [killed for killed in per_year['n_killed']]\n",
    "\n",
    "output_file(\"way-too-many-incidents.html\")\n",
    "f8 = figure()\n",
    "\n",
    "# add title\n",
    "f8.title.text=\"Gun Deaths in the United States\"\n",
    "f8.title.text_font_size=\"25px\"\n",
    "f8.title.align=\"center\"\n",
    "\n",
    "## add some axis information\n",
    "f8.xaxis.axis_label=\"Year\"\n",
    "f8.yaxis.axis_label=\"Killed\"\n",
    "\n",
    "# adding glyphsg\n",
    "f8.circle(x=years_df['year'], y=killed_per_year)\n",
    "\n",
    "# save and show the figure\n",
    "save(f8)"
   ]
  },
  {
   "cell_type": "markdown",
   "metadata": {},
   "source": [
    "### Incidents per month (entire country)"
   ]
  },
  {
   "cell_type": "code",
   "execution_count": 22,
   "metadata": {},
   "outputs": [
    {
     "data": {
      "text/plain": [
       "'/home/hughmee/Documents/testfordav/rest/way-too-many-incidents.html'"
      ]
     },
     "execution_count": 22,
     "metadata": {},
     "output_type": "execute_result"
    }
   ],
   "source": [
    "years = ['2014', '2015', '2016', '2017', '2018']\n",
    "months = ['Jan', 'Feb', 'Mar', 'Apr', 'May', 'Jun', 'Jul', 'Aug', 'Sep', 'Oct', 'Nov', 'Dec']\n",
    "\n",
    "x_data = [(year, month) for year in years for month in months][:51]\n",
    "monthly = [number for number in df.groupby(['year', 'month']).size()]\n",
    "\n",
    "#Define the output file path\n",
    "output_file(\"way-too-many-incidents.html\")\n",
    "\n",
    "#Create the figure object\n",
    "f4 = figure(x_range=FactorRange(*x_data), plot_width=800, plot_height=800)\n",
    "\n",
    "## Add a Title to the plot\n",
    "f4.title.text=\"Gun Incidents in the United States (per Month)\"\n",
    "f4.title.text_font_size=\"25px\"\n",
    "f4.title.align=\"center\"\n",
    "\n",
    "## Add some axis information (after all, a plot without axis descriptions is nothing more than abstract art)\n",
    "f4.xaxis.axis_label=\"Year-Month\"\n",
    "f4.yaxis.axis_label=\"Number of Incidents\"\n",
    "\n",
    "#adding glyphsg\n",
    "f4.vbar(x=x_data, top=monthly, width=1, fill_color=\"#77b7f1\")\n",
    "\n",
    "f4.y_range.start = 0\n",
    "f4.x_range.range_padding = 0\n",
    "f4.xaxis.major_label_orientation = 1\n",
    "#f4.xgrid.grid_line_color = None\n",
    "\n",
    "#Save and show the figure\n",
    "save(f4)\n"
   ]
  },
  {
   "cell_type": "markdown",
   "metadata": {},
   "source": [
    "### Mass Shootings per Month (Entire Country)"
   ]
  },
  {
   "cell_type": "code",
   "execution_count": 23,
   "metadata": {},
   "outputs": [
    {
     "data": {
      "text/plain": [
       "'/home/hughmee/Documents/testfordav/rest/way-too-many-incidents.html'"
      ]
     },
     "execution_count": 23,
     "metadata": {},
     "output_type": "execute_result"
    }
   ],
   "source": [
    "mass_shootings = df[df['incident_characteristics'].str.contains(\"Mass Shooting\") == True]\n",
    "\n",
    "years = ['2014', '2015', '2016', '2017', '2018']\n",
    "months = ['Jan', 'Feb', 'Mar', 'Apr', 'May', 'Jun', 'Jul', 'Aug', 'Sep', 'Oct', 'Nov', 'Dec']\n",
    "\n",
    "x_data2 = [(year, month) for year in years for month in months][:51]\n",
    "monthly2 = [number for number in mass_shootings.groupby(['year', 'month']).size()]\n",
    "\n",
    "#Define the output file path\n",
    "output_file(\"way-too-many-incidents.html\")\n",
    "\n",
    "#Create the figure object\n",
    "f6 = figure(x_range=FactorRange(*x_data2), plot_width=800, plot_height=800)\n",
    "\n",
    "## Add a Title to the plot\n",
    "f6.title.text=\"Mass Shootings in the United States (per Month)\"\n",
    "f6.title.text_font_size=\"25px\"\n",
    "f6.title.align=\"center\"\n",
    "\n",
    "## Add some axis information\n",
    "f6.xaxis.axis_label=\"Year-Month\"\n",
    "f6.yaxis.axis_label=\"Number of Incidents\"\n",
    "\n",
    "#adding glyphsg\n",
    "f6.vbar(x=x_data2, top=monthly2, width=1, fill_color=\"#f1c177\")\n",
    "\n",
    "f6.y_range.start = 0\n",
    "f6.x_range.range_padding = 0\n",
    "f6.xaxis.major_label_orientation = 1\n",
    "f6.xgrid.grid_line_color = None\n",
    "\n",
    "#Save and show the figure\n",
    "save(f6)\n"
   ]
  },
  {
   "cell_type": "code",
   "execution_count": 24,
   "metadata": {
    "scrolled": true
   },
   "outputs": [
    {
     "data": {
      "text/plain": [
       "'\\nimport pandas as pd\\nfrom bokeh.palettes import Spectral4\\nfrom bokeh.plotting import figure, output_file, show\\nfrom bokeh.sampledata.stocks import AAPL, IBM, MSFT, GOOG\\n\\n\\np = figure(plot_width=800, plot_height=250, x_axis_type=\"datetime\")\\np.title.text = \\'Click on legend entries to hide the corresponding lines\\'\\n\\nfor data, name, color in zip([AAPL, IBM, MSFT, GOOG], [\"AAPL\", \"IBM\", \"MSFT\", \"GOOG\"], Spectral4):\\n    df = pd.DataFrame(data)\\n    df[\\'date\\'] = pd.to_datetime(df[\\'date\\'])\\n    p.line(df[\\'date\\'], df[\\'close\\'], line_width=2, color=color, alpha=0.8, legend=name)\\n\\np.legend.location = \"top_left\"\\np.legend.click_policy=\"hide\"\\n\\noutput_file(\"interactive_legend.html\", title=\"interactive_legend.py example\")\\n\\nsave(p)\\n'"
      ]
     },
     "execution_count": 24,
     "metadata": {},
     "output_type": "execute_result"
    }
   ],
   "source": [
    "'''\n",
    "import pandas as pd\n",
    "from bokeh.palettes import Spectral4\n",
    "from bokeh.plotting import figure, output_file, show\n",
    "from bokeh.sampledata.stocks import AAPL, IBM, MSFT, GOOG\n",
    "\n",
    "\n",
    "p = figure(plot_width=800, plot_height=250, x_axis_type=\"datetime\")\n",
    "p.title.text = 'Click on legend entries to hide the corresponding lines'\n",
    "\n",
    "for data, name, color in zip([AAPL, IBM, MSFT, GOOG], [\"AAPL\", \"IBM\", \"MSFT\", \"GOOG\"], Spectral4):\n",
    "    df = pd.DataFrame(data)\n",
    "    df['date'] = pd.to_datetime(df['date'])\n",
    "    p.line(df['date'], df['close'], line_width=2, color=color, alpha=0.8, legend=name)\n",
    "\n",
    "p.legend.location = \"top_left\"\n",
    "p.legend.click_policy=\"hide\"\n",
    "\n",
    "output_file(\"interactive_legend.html\", title=\"interactive_legend.py example\")\n",
    "\n",
    "save(p)\n",
    "'''"
   ]
  },
  {
   "cell_type": "code",
   "execution_count": null,
   "metadata": {},
   "outputs": [],
   "source": []
  }
 ],
 "metadata": {
  "kernelspec": {
   "display_name": "Python 3",
   "language": "python",
   "name": "python3"
  },
  "language_info": {
   "codemirror_mode": {
    "name": "ipython",
    "version": 3
   },
   "file_extension": ".py",
   "mimetype": "text/x-python",
   "name": "python",
   "nbconvert_exporter": "python",
   "pygments_lexer": "ipython3",
   "version": "3.6.4"
  }
 },
 "nbformat": 4,
 "nbformat_minor": 2
}
