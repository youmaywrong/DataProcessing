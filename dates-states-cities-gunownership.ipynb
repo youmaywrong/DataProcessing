{
 "cells": [
  {
   "cell_type": "code",
   "execution_count": 1,
   "metadata": {},
   "outputs": [],
   "source": [
    "import pandas as pd\n",
    "# read data\n",
    "df = pd.read_csv(\"stage3.csv\")\n",
    "ownership_df = pd.read_csv(\"gunownership.csv\")"
   ]
  },
  {
   "cell_type": "markdown",
   "metadata": {},
   "source": [
    "### Gun incidents per year"
   ]
  },
  {
   "cell_type": "code",
   "execution_count": 2,
   "metadata": {},
   "outputs": [],
   "source": [
    "df['date'] = pd.to_datetime(df['date'])\n",
    "df['year'] = df['date'].dt.year\n",
    "incidents_per_year = df['year'].value_counts()\n",
    "\n",
    "# not many incidents from 2013 were recorded (incomplete data) -> removed from set"
   ]
  },
  {
   "cell_type": "markdown",
   "metadata": {},
   "source": [
    "### Gun incidents per month (per year)"
   ]
  },
  {
   "cell_type": "code",
   "execution_count": 3,
   "metadata": {
    "scrolled": true
   },
   "outputs": [],
   "source": [
    "# for each year, counts number of incidents per year\n",
    "df['month'] = df['date'].dt.month"
   ]
  },
  {
   "cell_type": "markdown",
   "metadata": {},
   "source": [
    "### Incidents per state"
   ]
  },
  {
   "cell_type": "code",
   "execution_count": 4,
   "metadata": {},
   "outputs": [],
   "source": [
    "year_per_state = df.groupby(['year', 'state']).size()"
   ]
  },
  {
   "cell_type": "code",
   "execution_count": 5,
   "metadata": {
    "scrolled": true
   },
   "outputs": [],
   "source": [
    "incidents_per_state = df.groupby(['state']).size()"
   ]
  },
  {
   "cell_type": "code",
   "execution_count": 6,
   "metadata": {},
   "outputs": [],
   "source": [
    "# import stuff\n",
    "from bokeh.plotting import figure\n",
    "from bokeh.io import output_file, show, save\n",
    "from bokeh.models import DataRange1d, FactorRange\n",
    "import pandas as pd"
   ]
  },
  {
   "cell_type": "markdown",
   "metadata": {},
   "source": [
    "### Some data for plots"
   ]
  },
  {
   "cell_type": "code",
   "execution_count": 7,
   "metadata": {},
   "outputs": [],
   "source": [
    "# add number of incidents per state\n",
    "incidents = df.groupby(['state']).size()\n",
    "incidents = [incident for incident in incidents]\n",
    "ownership_df['incidents'] = incidents"
   ]
  },
  {
   "cell_type": "code",
   "execution_count": 8,
   "metadata": {},
   "outputs": [],
   "source": [
    "years_df = pd.DataFrame()\n",
    "years_df['year'] = ['2014', '2015', '2016', '2017', '2018']\n",
    "years_df['incidents'] = [number for number in df.groupby('year').size()]\n",
    "\n",
    "# fill in columns for incidents per yer PER STATE\n",
    "ownership_df['2014'] = [number for number in year_per_state[:51]]\n",
    "ownership_df['2015'] = [number for number in year_per_state[51:102]]\n",
    "ownership_df['2016'] = [number for number in year_per_state[102:153]]\n",
    "ownership_df['2017'] = [number for number in year_per_state[153:204]]\n",
    "ownership_df['2018'] = [number for number in year_per_state[204:]]\n",
    "\n",
    "# incidents per month in the United States\n",
    "incidents_per_month = [number for number in df.groupby(['year', 'month']).size()]"
   ]
  },
  {
   "cell_type": "markdown",
   "metadata": {},
   "source": [
    "### Zooming in: analysing cities"
   ]
  },
  {
   "cell_type": "code",
   "execution_count": 9,
   "metadata": {},
   "outputs": [
    {
     "data": {
      "text/plain": [
       "0                         Muskegon\n",
       "1                           Newark\n",
       "2                           Queens\n",
       "3                         Brooklyn\n",
       "4                      Springfield\n",
       "5                         Columbus\n",
       "6                         Syracuse\n",
       "7                        Lexington\n",
       "8                      Bibb County\n",
       "9            Prince William County\n",
       "10                    Philadelphia\n",
       "11                         Hampton\n",
       "12                North Charleston\n",
       "13                       Baltimore\n",
       "14                      Wilmington\n",
       "15                  Grand Junction\n",
       "16                North Charleston\n",
       "17                     Springfield\n",
       "18                      Huntsville\n",
       "19                          Camden\n",
       "20                     New Orleans\n",
       "21                       Hurricane\n",
       "22                      Fort Wayne\n",
       "23                         Marrero\n",
       "24                   Pinckneyville\n",
       "25                           Bronx\n",
       "26                      Canon City\n",
       "27                           Bronx\n",
       "28                         Lubbock\n",
       "29                    North Platte\n",
       "                    ...           \n",
       "239369                      Bangor\n",
       "239370                  Washington\n",
       "239371                   Las Vegas\n",
       "239372                    Palmdale\n",
       "239373               Wichita Falls\n",
       "239374                      Dallas\n",
       "239375                        Reno\n",
       "239376                        Reno\n",
       "239377                   San Diego\n",
       "239378                   Rochester\n",
       "239379                     Shafter\n",
       "239380                     Oakland\n",
       "239381                     Orlando\n",
       "239382                    Stockton\n",
       "239383              Kings Mountain\n",
       "239384                  Saint Paul\n",
       "239385                     Guthrie\n",
       "239386                      Festus\n",
       "239387                 Saint Clair\n",
       "239388                 Saint Louis\n",
       "239389                     Memphis\n",
       "239390                     Detroit\n",
       "239391                     Madison\n",
       "239392                     Chicago\n",
       "239393    Spokane (Spokane Valley)\n",
       "239394                       Rayne\n",
       "239395                Natchitoches\n",
       "239396                      Gretna\n",
       "239397                     Houston\n",
       "239398                Norridgewock\n",
       "Name: city_or_county, Length: 239399, dtype: object"
      ]
     },
     "execution_count": 9,
     "metadata": {},
     "output_type": "execute_result"
    }
   ],
   "source": [
    "df.groupby(['year', 'city_or_county']).size()\n",
    "df['city_or_county']"
   ]
  },
  {
   "cell_type": "markdown",
   "metadata": {},
   "source": [
    "### Number of registered guns and incidents per state"
   ]
  },
  {
   "cell_type": "code",
   "execution_count": 10,
   "metadata": {},
   "outputs": [
    {
     "data": {
      "text/plain": [
       "'C:\\\\Users\\\\Marijn\\\\Desktop\\\\project\\\\DataProcessing\\\\way-too-many-incidents.html'"
      ]
     },
     "execution_count": 10,
     "metadata": {},
     "output_type": "execute_result"
    }
   ],
   "source": [
    "#Define the output file path\n",
    "output_file(\"way-too-many-incidents.html\")\n",
    "\n",
    "#Create the figure object\n",
    "f = figure()\n",
    "f.x_range=DataRange1d(start=0, end=350000)\n",
    "f.y_range=DataRange1d(start=0, end=20000)\n",
    "\n",
    "## Add a Title to the plot (We essentially use css properties here)\n",
    "# You can find all function of f.title, using dir(f.title)\n",
    "f.title.text=\"Registered Guns and Incidents (per State)\"\n",
    "f.title.text_font_size=\"25px\"\n",
    "f.title.align=\"center\"\n",
    "\n",
    "## Add some axis information (after all, a plot without axis descriptions is nothing more than abstract art)\n",
    "f.xaxis.axis_label=\"Number of Registered Guns\"\n",
    "f.yaxis.axis_label=\"Number of Incidents\"\n",
    "\n",
    "# Maybe add some different colors for the labels and the digits as well\n",
    "# Note how we use f.axis, to apply to both the x and y axis.\n",
    "f.axis.axis_label_text_color=\"blue\"\n",
    "f.axis.major_label_text_color=\"red\"\n",
    "\n",
    "#adding glyphs\n",
    "f.circle(x=ownership_df['guns_registered'], y=ownership_df['incidents'])\n",
    "\n",
    "#Save and show the figure\n",
    "save(f)"
   ]
  },
  {
   "cell_type": "markdown",
   "metadata": {},
   "source": [
    "### Number of registered guns per capita and incidents per state"
   ]
  },
  {
   "cell_type": "code",
   "execution_count": 11,
   "metadata": {},
   "outputs": [
    {
     "data": {
      "text/plain": [
       "'C:\\\\Users\\\\Marijn\\\\Desktop\\\\project\\\\DataProcessing\\\\way-too-many-incidents.html'"
      ]
     },
     "execution_count": 11,
     "metadata": {},
     "output_type": "execute_result"
    }
   ],
   "source": [
    "#Define the output file path\n",
    "output_file(\"way-too-many-incidents.html\")\n",
    "\n",
    "#Create the figure object\n",
    "f2 = figure()\n",
    "\n",
    "f2.x_range=DataRange1d(start=0, end=250)\n",
    "f2.y_range=DataRange1d(start=0, end=20000)\n",
    "\n",
    "## Add a Title to the plot (We essentially use css properties here)\n",
    "# You can find all function of f.title, using dir(f.title)\n",
    "f2.title.text=\"Guns per Capita and Incidents (per State)\"\n",
    "f2.title.text_font_size=\"25px\"\n",
    "f2.title.align=\"center\"\n",
    "\n",
    "## Add some axis information (after all, a plot without axis descriptions is nothing more than abstract art)\n",
    "f2.xaxis.axis_label=\"Guns per Capita\"\n",
    "f2.yaxis.axis_label=\"Incidents\"\n",
    "\n",
    "# Maybe add some different colors for the labels and the digits as well\n",
    "# Note how we use f.axis, to apply to both the x and y axis.\n",
    "f2.axis.axis_label_text_color=\"blue\"\n",
    "f2.axis.major_label_text_color=\"red\"\n",
    "\n",
    "#adding glyphs\n",
    "f2.circle(x=ownership_df['guns_per_capita'], y=ownership_df['incidents'])\n",
    "\n",
    "#Save and show the figure\n",
    "save(f2)"
   ]
  },
  {
   "cell_type": "markdown",
   "metadata": {},
   "source": [
    "### Incidents per year (entire country)"
   ]
  },
  {
   "cell_type": "code",
   "execution_count": 12,
   "metadata": {},
   "outputs": [
    {
     "data": {
      "text/plain": [
       "'/home/hughmee/DataProcessing/way-too-many-incidents.html'"
      ]
     },
     "execution_count": 12,
     "metadata": {},
     "output_type": "execute_result"
    }
   ],
   "source": [
    "#Define the output file path\n",
    "output_file(\"way-too-many-incidents.html\")\n",
    "\n",
    "#Create the figure object\n",
    "f3 = figure()\n",
    "\n",
    "## Add a Title to the plot (We essentially use css properties here)\n",
    "# You can find all function of f.title, using dir(f.title)\n",
    "f3.title.text=\"Gun Incidents in the United States\"\n",
    "f3.title.text_font_size=\"25px\"\n",
    "f3.title.align=\"center\"\n",
    "\n",
    "## Add some axis information (after all, a plot without axis descriptions is nothing more than abstract art)\n",
    "f3.xaxis.axis_label=\"Year\"\n",
    "f3.yaxis.axis_label=\"Incidents\"\n",
    "\n",
    "#adding glyphsg\n",
    "f3.circle(x=years_df['year'], y=years_df['incidents'])\n",
    "\n",
    "#Save and show the figure\n",
    "save(f3)"
   ]
  },
  {
   "cell_type": "markdown",
   "metadata": {},
   "source": [
    "### Fatal incidents per year (entire country)"
   ]
  },
  {
   "cell_type": "code",
   "execution_count": 13,
   "metadata": {},
   "outputs": [
    {
     "data": {
      "text/plain": [
       "'/home/hughmee/DataProcessing/way-too-many-incidents.html'"
      ]
     },
     "execution_count": 13,
     "metadata": {},
     "output_type": "execute_result"
    }
   ],
   "source": [
    "# locate all incidents where people have been killed\n",
    "deadly_incidents_per_year = [number for number in df.loc[df['n_killed'] > 0].groupby('year').size()]\n",
    "\n",
    "#Define the output file path\n",
    "output_file(\"way-too-many-incidents.html\")\n",
    "\n",
    "#Create the figure object\n",
    "f7 = figure()\n",
    "\n",
    "## Add a Title to the plot (We essentially use css properties here)\n",
    "# You can find all function of f.title, using dir(f.title)\n",
    "f7.title.text=\"Fatal Gun Incidents in the United States\"\n",
    "f7.title.text_font_size=\"25px\"\n",
    "f7.title.align=\"center\"\n",
    "\n",
    "## Add some axis information (after all, a plot without axis descriptions is nothing more than abstract art)\n",
    "f7.xaxis.axis_label=\"Year\"\n",
    "f7.yaxis.axis_label=\"Incidegnts\"\n",
    "\n",
    "#adding glyphsg\n",
    "f7.circle(x=years_df['year'], y=deadly_incidents_per_year)\n",
    "\n",
    "#Save and show the figure\n",
    "save(f7)"
   ]
  },
  {
   "cell_type": "markdown",
   "metadata": {},
   "source": [
    "### Number of people killed each year (entire country)"
   ]
  },
  {
   "cell_type": "code",
   "execution_count": 14,
   "metadata": {},
   "outputs": [
    {
     "data": {
      "text/plain": [
       "'/home/hughmee/DataProcessing/way-too-many-incidents.html'"
      ]
     },
     "execution_count": 14,
     "metadata": {},
     "output_type": "execute_result"
    }
   ],
   "source": [
    "# get number of people killed each year\n",
    "per_year = df.groupby('year').sum()\n",
    "killed_per_year = [killed for killed in per_year['n_killed']]\n",
    "\n",
    "output_file(\"way-too-many-incidents.html\")\n",
    "f8 = figure()\n",
    "\n",
    "# add title\n",
    "f8.title.text=\"Gun Deaths in the United States\"\n",
    "f8.title.text_font_size=\"25px\"\n",
    "f8.title.align=\"center\"\n",
    "\n",
    "## add some axis information\n",
    "f8.xaxis.axis_label=\"Year\"\n",
    "f8.yaxis.axis_label=\"Killed\"\n",
    "\n",
    "# adding glyphsg\n",
    "f8.circle(x=years_df['year'], y=killed_per_year)\n",
    "\n",
    "# save and show the figure\n",
    "save(f8)"
   ]
  },
  {
   "cell_type": "markdown",
   "metadata": {},
   "source": [
    "### Incidents per month (entire country)"
   ]
  },
  {
   "cell_type": "code",
   "execution_count": 15,
   "metadata": {},
   "outputs": [
    {
     "data": {
      "text/plain": [
       "'/home/hughmee/DataProcessing/way-too-many-incidents.html'"
      ]
     },
     "execution_count": 15,
     "metadata": {},
     "output_type": "execute_result"
    }
   ],
   "source": [
    "years = ['2014', '2015', '2016', '2017', '2018']\n",
    "months = ['Jan', 'Feb', 'Mar', 'Apr', 'May', 'Jun', 'Jul', 'Aug', 'Sep', 'Oct', 'Nov', 'Dec']\n",
    "\n",
    "x_data = [(year, month) for year in years for month in months][:51]\n",
    "monthly = [number for number in df.groupby(['year', 'month']).size()]\n",
    "\n",
    "#Define the output file path\n",
    "output_file(\"way-too-many-incidents.html\")\n",
    "\n",
    "#Create the figure object\n",
    "f4 = figure(x_range=FactorRange(*x_data), plot_width=800, plot_height=800)\n",
    "\n",
    "## Add a Title to the plot\n",
    "f4.title.text=\"Gun Incidents in the United States (per Month)\"\n",
    "f4.title.text_font_size=\"25px\"\n",
    "f4.title.align=\"center\"\n",
    "\n",
    "## Add some axis information (after all, a plot without axis descriptions is nothing more than abstract art)\n",
    "f4.xaxis.axis_label=\"Year-Month\"\n",
    "f4.yaxis.axis_label=\"Number of Incidents\"\n",
    "\n",
    "#adding glyphsg\n",
    "f4.vbar(x=x_data, top=monthly, width=1, fill_color=\"#77b7f1\")\n",
    "\n",
    "f4.y_range.start = 0\n",
    "f4.x_range.range_padding = 0\n",
    "f4.xaxis.major_label_orientation = 1\n",
    "#f4.xgrid.grid_line_color = None\n",
    "\n",
    "#Save and show the figure\n",
    "save(f4)\n"
   ]
  },
  {
   "cell_type": "markdown",
   "metadata": {},
   "source": [
    "### Mass Shootings per Month (Entire Country)"
   ]
  },
  {
   "cell_type": "code",
   "execution_count": 16,
   "metadata": {},
   "outputs": [
    {
     "data": {
      "text/plain": [
       "'/home/hughmee/DataProcessing/way-too-many-incidents.html'"
      ]
     },
     "execution_count": 16,
     "metadata": {},
     "output_type": "execute_result"
    }
   ],
   "source": [
    "mass_shootings = df[df['incident_characteristics'].str.contains(\"Mass Shooting\") == True]\n",
    "\n",
    "years = ['2014', '2015', '2016', '2017', '2018']\n",
    "months = ['Jan', 'Feb', 'Mar', 'Apr', 'May', 'Jun', 'Jul', 'Aug', 'Sep', 'Oct', 'Nov', 'Dec']\n",
    "\n",
    "x_data2 = [(year, month) for year in years for month in months][:51]\n",
    "monthly2 = [number for number in mass_shootings.groupby(['year', 'month']).size()]\n",
    "\n",
    "#Define the output file path\n",
    "output_file(\"way-too-many-incidents.html\")\n",
    "\n",
    "#Create the figure object\n",
    "f6 = figure(x_range=FactorRange(*x_data2), plot_width=800, plot_height=800)\n",
    "\n",
    "## Add a Title to the plot\n",
    "f6.title.text=\"Mass Shootings in the United States (per Month)\"\n",
    "f6.title.text_font_size=\"25px\"\n",
    "f6.title.align=\"center\"\n",
    "\n",
    "## Add some axis information\n",
    "f6.xaxis.axis_label=\"Year-Month\"\n",
    "f6.yaxis.axis_label=\"Number of Incidents\"\n",
    "\n",
    "#adding glyphsg\n",
    "f6.vbar(x=x_data2, top=monthly2, width=1, fill_color=\"#f1c177\")\n",
    "\n",
    "f6.y_range.start = 0\n",
    "f6.x_range.range_padding = 0\n",
    "f6.xaxis.major_label_orientation = 1\n",
    "f6.xgrid.grid_line_color = None\n",
    "\n",
    "#Save and show the figure\n",
    "save(f6)"
   ]
  },
  {
   "cell_type": "code",
   "execution_count": null,
   "metadata": {},
   "outputs": [],
   "source": []
  }
 ],
 "metadata": {
  "kernelspec": {
   "display_name": "Python 3",
   "language": "python",
   "name": "python3"
  },
  "language_info": {
   "codemirror_mode": {
    "name": "ipython",
    "version": 3
   },
   "file_extension": ".py",
   "mimetype": "text/x-python",
   "name": "python",
   "nbconvert_exporter": "python",
   "pygments_lexer": "ipython3",
   "version": "3.6.4"
  }
 },
 "nbformat": 4,
 "nbformat_minor": 2
}
