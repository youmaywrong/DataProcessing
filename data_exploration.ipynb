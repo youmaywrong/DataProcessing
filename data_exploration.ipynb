{
 "cells": [
  {
   "cell_type": "markdown",
   "metadata": {},
   "source": [
    "# Data exploration\n",
    "Just exploring the data for now."
   ]
  },
  {
   "cell_type": "code",
   "execution_count": 1,
   "metadata": {},
   "outputs": [],
   "source": [
    "import pandas as pd"
   ]
  },
  {
   "cell_type": "code",
   "execution_count": 8,
   "metadata": {},
   "outputs": [],
   "source": [
    "# read data\n",
    "data = pd.read_csv(\"stage3.csv\")"
   ]
  },
  {
   "cell_type": "markdown",
   "metadata": {},
   "source": [
    "### People killed"
   ]
  },
  {
   "cell_type": "code",
   "execution_count": 11,
   "metadata": {},
   "outputs": [
    {
     "name": "stdout",
     "output_type": "stream",
     "text": [
      "60151 people killed\n"
     ]
    }
   ],
   "source": [
    "count = 0\n",
    "for i in range(1, len(data[\"n_killed\"])):\n",
    "    count += data[\"n_killed\"][i]\n",
    "\n",
    "print(count, \"people killed\")"
   ]
  },
  {
   "cell_type": "markdown",
   "metadata": {},
   "source": [
    "### People injured"
   ]
  },
  {
   "cell_type": "code",
   "execution_count": 12,
   "metadata": {},
   "outputs": [
    {
     "name": "stdout",
     "output_type": "stream",
     "text": [
      "117423 people injured\n"
     ]
    }
   ],
   "source": [
    "count = 0\n",
    "for i in range(1, len(data[\"n_injured\"])):\n",
    "    count += data[\"n_injured\"][i]\n",
    "    \n",
    "print(count, \"people injured\")"
   ]
  },
  {
   "cell_type": "markdown",
   "metadata": {},
   "source": [
    "### Incidents where nobody was hurt"
   ]
  },
  {
   "cell_type": "code",
   "execution_count": 13,
   "metadata": {
    "scrolled": true
   },
   "outputs": [
    {
     "name": "stdout",
     "output_type": "stream",
     "text": [
      "142456 incidents where nobody was hurt\n"
     ]
    }
   ],
   "source": [
    "count = 0\n",
    "for i in range(1, len(data[\"n_injured\"])):\n",
    "    if data[\"n_injured\"][i] == 0 and data[\"n_injured\"][i] == 0:\n",
    "        count += 1\n",
    "    \n",
    "print(count, \"incidents where nobody was hurt\")"
   ]
  },
  {
   "cell_type": "markdown",
   "metadata": {},
   "source": [
    "### Incidents per state"
   ]
  },
  {
   "cell_type": "code",
   "execution_count": 14,
   "metadata": {
    "scrolled": true
   },
   "outputs": [
    {
     "name": "stdout",
     "output_type": "stream",
     "text": [
      "Incidents:\n",
      "New Jersey : 5373\n",
      "New York : 9696\n",
      "Missouri : 6621\n",
      "Georgia : 8919\n",
      "Kentucky : 4154\n",
      "Virginia : 5943\n",
      "Pennsylvania : 8909\n",
      "South Carolina : 6934\n",
      "Maryland : 5793\n",
      "Delaware : 1682\n",
      "Colorado : 3198\n",
      "Alabama : 5469\n",
      "Louisiana : 8094\n",
      "Utah : 1071\n",
      "Indiana : 5845\n",
      "Illinois : 17538\n",
      "Texas : 13566\n",
      "Nebraska : 1650\n",
      "Massachusetts : 5981\n",
      "Florida : 15016\n",
      "Mississippi : 3597\n",
      "Wisconsin : 4786\n",
      "Arizona : 2323\n",
      "Hawaii : 289\n",
      "Washington : 3430\n",
      "Ohio : 10234\n",
      "Kansas : 2141\n",
      "District of Columbia : 3189\n",
      "West Virginia : 1573\n",
      "New Hampshire : 964\n",
      "Rhode Island : 893\n",
      "North Carolina : 8727\n",
      "California : 16267\n",
      "Oklahoma : 3449\n",
      "Connecticut : 3064\n",
      "Iowa : 2517\n",
      "Alaska : 1349\n",
      "Arkansas : 2842\n",
      "Michigan : 6121\n",
      "Tennessee : 7616\n",
      "Nevada : 1951\n",
      "Minnesota : 2406\n",
      "Idaho : 661\n",
      "Oregon : 2286\n",
      "Wyoming : 494\n",
      "Maine : 907\n",
      "North Dakota : 573\n",
      "New Mexico : 1643\n",
      "Montana : 638\n",
      "Vermont : 472\n",
      "South Dakota : 544\n"
     ]
    }
   ],
   "source": [
    "states =  {}\n",
    "\n",
    "for i in range(1, len(data[\"n_injured\"])):\n",
    "    if data[\"state\"][i] in states:\n",
    "        states[data[\"state\"][i]] += 1\n",
    "    else:\n",
    "        states[data[\"state\"][i]] = 1\n",
    "\n",
    "print(\"Incidents:\")\n",
    "for state in states:\n",
    "    print(state, \":\", states[state])"
   ]
  },
  {
   "cell_type": "markdown",
   "metadata": {},
   "source": [
    "### Incidents where people where injured or killed per state"
   ]
  },
  {
   "cell_type": "code",
   "execution_count": 15,
   "metadata": {
    "scrolled": true
   },
   "outputs": [
    {
     "name": "stdout",
     "output_type": "stream",
     "text": [
      "Incidents where people where injured or killed:\n",
      "New York : 4112\n",
      "Missouri : 2838\n",
      "Georgia : 3299\n",
      "Virginia : 2973\n",
      "Pennsylvania : 4156\n",
      "South Carolina : 2581\n",
      "New Jersey : 2019\n",
      "Utah : 347\n",
      "Indiana : 2458\n",
      "Colorado : 958\n",
      "Texas : 4927\n",
      "Massachusetts : 1441\n",
      "Alabama : 2472\n",
      "Washington : 1079\n",
      "Florida : 5586\n",
      "Kentucky : 1609\n",
      "Ohio : 4771\n",
      "Kansas : 773\n",
      "Louisiana : 3573\n",
      "Rhode Island : 280\n",
      "North Carolina : 3797\n",
      "Maryland : 2689\n",
      "California : 5832\n",
      "Illinois : 11005\n",
      "Mississippi : 1569\n",
      "Connecticut : 1060\n",
      "Oklahoma : 1315\n",
      "Michigan : 2379\n",
      "Wisconsin : 1829\n",
      "Arkansas : 1120\n",
      "Alaska : 282\n",
      "Iowa : 727\n",
      "West Virginia : 557\n",
      "Arizona : 909\n",
      "Wyoming : 47\n",
      "Tennessee : 3699\n",
      "Nevada : 801\n",
      "Oregon : 593\n",
      "Minnesota : 700\n",
      "New Mexico : 471\n",
      "Delaware : 736\n",
      "Maine : 121\n",
      "Nebraska : 582\n",
      "Montana : 121\n",
      "New Hampshire : 136\n",
      "District of Columbia : 1120\n",
      "Hawaii : 69\n",
      "South Dakota : 104\n",
      "Idaho : 134\n",
      "Vermont : 67\n",
      "North Dakota : 119\n"
     ]
    }
   ],
   "source": [
    "states =  {}\n",
    "\n",
    "for i in range(1, len(data[\"n_injured\"])):\n",
    "    if data[\"n_injured\"][i] != 0 or data[\"n_injured\"][i] != 0:\n",
    "        if data[\"state\"][i] in states:\n",
    "            states[data[\"state\"][i]] += 1\n",
    "        else:\n",
    "            states[data[\"state\"][i]] = 1\n",
    "\n",
    "print(\"Incidents where people where injured or killed:\")\n",
    "for state in states:\n",
    "    print(state, \":\", states[state])"
   ]
  },
  {
   "cell_type": "markdown",
   "metadata": {},
   "source": [
    "### Mass shootings per state"
   ]
  },
  {
   "cell_type": "code",
   "execution_count": 16,
   "metadata": {
    "scrolled": true
   },
   "outputs": [
    {
     "name": "stdout",
     "output_type": "stream",
     "text": [
      "Mass shooting:\n",
      "Virginia : 36\n",
      "New York : 64\n",
      "Louisiana : 54\n",
      "Illinois : 133\n",
      "Alabama : 33\n",
      "Michigan : 45\n",
      "California : 157\n",
      "Oklahoma : 9\n",
      "Utah : 4\n",
      "New Jersey : 39\n",
      "Florida : 103\n",
      "North Carolina : 32\n",
      "Washington : 15\n",
      "Indiana : 35\n",
      "Nevada : 9\n",
      "Texas : 87\n",
      "Pennsylvania : 52\n",
      "South Carolina : 31\n",
      "Ohio : 54\n",
      "Georgia : 63\n",
      "Mississippi : 26\n",
      "Arizona : 16\n",
      "Massachusetts : 13\n",
      "Tennessee : 52\n",
      "District of Columbia : 20\n",
      "Arkansas : 11\n",
      "Colorado : 12\n",
      "Maryland : 33\n",
      "Wisconsin : 9\n",
      "Missouri : 42\n",
      "Kentucky : 20\n",
      "Oregon : 6\n",
      "Rhode Island : 2\n",
      "Connecticut : 12\n",
      "Maine : 2\n",
      "New Mexico : 9\n",
      "Minnesota : 15\n",
      "Alaska : 1\n",
      "South Dakota : 2\n",
      "Kansas : 11\n",
      "Nebraska : 3\n",
      "Iowa : 4\n",
      "Montana : 2\n",
      "Delaware : 4\n",
      "Vermont : 1\n",
      "West Virginia : 1\n"
     ]
    }
   ],
   "source": [
    "states =  {}\n",
    "\n",
    "for i in range(1, len(data[\"n_injured\"])):\n",
    "    if isinstance(data[\"incident_characteristics\"][i], str):\n",
    "        if \"Mass Shooting\" in data[\"incident_characteristics\"][i]:\n",
    "            if data[\"state\"][i] in states:\n",
    "                states[data[\"state\"][i]] += 1\n",
    "            else:\n",
    "                states[data[\"state\"][i]] = 1\n",
    "\n",
    "print(\"Mass shooting:\")\n",
    "for state in states:\n",
    "    print(state, \":\", states[state])"
   ]
  },
  {
   "cell_type": "markdown",
   "metadata": {},
   "source": [
    "### Participant_age completeness"
   ]
  },
  {
   "cell_type": "code",
   "execution_count": 18,
   "metadata": {},
   "outputs": [
    {
     "data": {
      "text/plain": [
       "'\\ncount = 0\\ntotal = 0\\nfor i in range(1, len(data[\"n_injured\"])):\\n    total += 1\\n    if isinstance(data[\"participant_age\"][i], str):\\n        count += 1\\n    \\nprint(count / total * 100, \"complete\")\\n'"
      ]
     },
     "execution_count": 18,
     "metadata": {},
     "output_type": "execute_result"
    }
   ],
   "source": [
    "'''\n",
    "count = 0\n",
    "total = 0\n",
    "for i in range(1, len(data[\"n_injured\"])):\n",
    "    total += 1\n",
    "    if isinstance(data[\"participant_age\"][i], str):\n",
    "        count += 1\n",
    "    \n",
    "print(count / total * 100, \"complete\")\n",
    "'''"
   ]
  },
  {
   "cell_type": "markdown",
   "metadata": {},
   "source": [
    "### Incident characteristics\n",
    "Might be useful."
   ]
  },
  {
   "cell_type": "code",
   "execution_count": 61,
   "metadata": {},
   "outputs": [],
   "source": [
    "types =  {}\n",
    "\n",
    "for i in range(1, len(data[\"n_injured\"])):\n",
    "    if data[\"incident_characteristics\"][i] in types:\n",
    "        types[data[\"incident_characteristics\"][i]] += 1\n",
    "    else:\n",
    "        types[data[\"incident_characteristics\"][i]] = 1\n",
    "\n",
    "\n",
    "# print(\"Incidents characteristics:\")\n",
    "# for t in types:\n",
    "    # print(t, \":\", types[t], \"\\n\")\n",
    "    \n",
    "# print(len(types), \"different types\")\n",
    "\n",
    "# Alleen mass shooting en mogelijk gang involvement en domestic voilence zou er uit kunnen worden gehaald"
   ]
  },
  {
   "cell_type": "markdown",
   "metadata": {},
   "source": [
    "### Types of incident characteristics"
   ]
  },
  {
   "cell_type": "code",
   "execution_count": 22,
   "metadata": {},
   "outputs": [
    {
     "name": "stdout",
     "output_type": "stream",
     "text": [
      "Mass shootings: 1384\n",
      "Gang involvement: 5628\n",
      "Domestic voilence 10829\n"
     ]
    }
   ],
   "source": [
    "states =  {}\n",
    "mass_shooting = 0\n",
    "gang_involvement = 0\n",
    "domestic = 0\n",
    "\n",
    "for i in range(1, len(data[\"n_injured\"])):\n",
    "    if isinstance(data[\"incident_characteristics\"][i], str):\n",
    "        if \"Mass Shooting\" in data[\"incident_characteristics\"][i] or \"Mass shooting\" in data[\"incident_characteristics\"][i]:\n",
    "            mass_shooting += 1\n",
    "        if \"Gang involvement\" in data[\"incident_characteristics\"][i]:\n",
    "            gang_involvement += 1\n",
    "        if \"Domestic Violence\" in data[\"incident_characteristics\"][i]:\n",
    "            domestic += 1\n",
    "            \n",
    "print(\"Mass shootings:\", mass_shooting)\n",
    "print(\"Gang involvement:\", gang_involvement)\n",
    "print(\"Domestic voilence\", domestic)"
   ]
  },
  {
   "cell_type": "markdown",
   "metadata": {},
   "source": [
    "### States list"
   ]
  },
  {
   "cell_type": "code",
   "execution_count": 4,
   "metadata": {
    "scrolled": true
   },
   "outputs": [
    {
     "name": "stdout",
     "output_type": "stream",
     "text": [
      "Alabama\n",
      "Alaska\n",
      "Arizona\n",
      "Arkansas\n",
      "California\n",
      "Colorado\n",
      "Connecticut\n",
      "Delaware\n",
      "District of Columbia\n",
      "Florida\n",
      "Georgia\n",
      "Hawaii\n",
      "Idaho\n",
      "Illinois\n",
      "Indiana\n",
      "Iowa\n",
      "Kansas\n",
      "Kentucky\n",
      "Louisiana\n",
      "Maine\n",
      "Maryland\n",
      "Massachusetts\n",
      "Michigan\n",
      "Minnesota\n",
      "Mississippi\n",
      "Missouri\n",
      "Montana\n",
      "Nebraska\n",
      "Nevada\n",
      "New Hampshire\n",
      "New Jersey\n",
      "New Mexico\n",
      "New York\n",
      "North Carolina\n",
      "North Dakota\n",
      "Ohio\n",
      "Oklahoma\n",
      "Oregon\n",
      "Pennsylvania\n",
      "Rhode Island\n",
      "South Carolina\n",
      "South Dakota\n",
      "Tennessee\n",
      "Texas\n",
      "Utah\n",
      "Vermont\n",
      "Virginia\n",
      "Washington\n",
      "West Virginia\n",
      "Wisconsin\n",
      "Wyoming\n"
     ]
    }
   ],
   "source": [
    "states_raw = data[\"state\"].unique()\n",
    "states = []\n",
    "\n",
    "for state in states_raw:\n",
    "    states.append(state)\n",
    "    \n",
    "states.sort()\n",
    "\n",
    "for state in states:\n",
    "    print(state)"
   ]
  },
  {
   "cell_type": "markdown",
   "metadata": {},
   "source": [
    "### Scatter plot with injuries and deaths per incident\n",
    "Not useful, don't run, takes a while."
   ]
  },
  {
   "cell_type": "code",
   "execution_count": 66,
   "metadata": {},
   "outputs": [
    {
     "name": "stderr",
     "output_type": "stream",
     "text": [
      "C:\\Users\\Marijn\\Anaconda3\\lib\\site-packages\\bokeh\\core\\json_encoder.py:80: FutureWarning: Conversion of the second argument of issubdtype from `float` to `np.floating` is deprecated. In future, it will be treated as `np.float64 == np.dtype(float).type`.\n",
      "  elif np.issubdtype(type(obj), np.float):\n"
     ]
    }
   ],
   "source": [
    "# Importing bokeh\n",
    "from bokeh.plotting import figure\n",
    "from bokeh.io import output_file, show\n",
    "\n",
    "# create lists\n",
    "injured = []\n",
    "killed = []\n",
    "\n",
    "for i in data[\"n_injured\"]:\n",
    "    injured.append(i)\n",
    "\n",
    "for i in data[\"n_killed\"]:\n",
    "    killed.append(i)\n",
    "\n",
    "# create plot\n",
    "output_file(\"scatter.html\")\n",
    "\n",
    "f = figure(plot_width=700, plot_height=700)\n",
    "\n",
    "f.title.text=\"Gun Violence\"\n",
    "f.title.text_font_size=\"25px\"\n",
    "f.title.align=\"center\"\n",
    "\n",
    "f.xaxis.axis_label=\"Injured\"\n",
    "f.yaxis.axis_label=\"Killed\"\n",
    "\n",
    "f.circle(x=injured, y=killed)\n",
    "\n",
    "show(f)"
   ]
  },
  {
   "cell_type": "markdown",
   "metadata": {},
   "source": [
    "### Scatter plot with mass shootings vs incidents per state 1/2\n",
    "Don't forget to run this one. It's split to make running the second part easier."
   ]
  },
  {
   "cell_type": "code",
   "execution_count": 12,
   "metadata": {
    "scrolled": true
   },
   "outputs": [
    {
     "name": "stdout",
     "output_type": "stream",
     "text": [
      "\n",
      "\n"
     ]
    }
   ],
   "source": [
    "# incidents\n",
    "incidents =  {}\n",
    "for i in range(1, len(data[\"n_injured\"])):\n",
    "    if data[\"state\"][i] in incidents:\n",
    "        incidents[data[\"state\"][i]] += 1\n",
    "    else:\n",
    "        incidents[data[\"state\"][i]] = 1\n",
    "    \n",
    "# mass shootings\n",
    "print(\"\\n\")\n",
    "mass_shootings =  {}\n",
    "for i in range(1, len(data[\"n_injured\"])):\n",
    "    if isinstance(data[\"incident_characteristics\"][i], str):\n",
    "        if \"Mass Shooting\" in data[\"incident_characteristics\"][i]:\n",
    "            if data[\"state\"][i] in mass_shootings:\n",
    "                mass_shootings[data[\"state\"][i]] += 1\n",
    "            else:\n",
    "                mass_shootings[data[\"state\"][i]] = 1\n",
    "\n",
    "# states alphabeticly sorted\n",
    "states_raw = data[\"state\"].unique()\n",
    "states = []\n",
    "\n",
    "for state in states_raw:\n",
    "    states.append(state)\n",
    "\n",
    "states.sort()\n",
    "\n",
    "# fill lists\n",
    "incidents_list = []\n",
    "shootings_list = []\n",
    "\n",
    "for state in states:\n",
    "    if state in incidents:\n",
    "        incidents_list.append(incidents[state])\n",
    "    else:\n",
    "        incidents_list.append(0)\n",
    "        \n",
    "    if state in mass_shootings:\n",
    "        shootings_list.append(mass_shootings[state])\n",
    "    else:\n",
    "        shootings_list.append(0)"
   ]
  },
  {
   "cell_type": "markdown",
   "metadata": {},
   "source": [
    "### Scatter plot with mass shootings vs incidents per state 2/2\n",
    "Illinois scores almost as high as California. This is remarkable because California has more than three times as many inhabitants."
   ]
  },
  {
   "cell_type": "code",
   "execution_count": 13,
   "metadata": {},
   "outputs": [],
   "source": [
    "import numpy as np\n",
    "from bokeh.plotting import figure\n",
    "from bokeh.io import output_notebook, output_file, show\n",
    "import pandas\n",
    "\n",
    "from bokeh.models import DataRange1d\n",
    "from bokeh.models import PanTool, ResetTool, WheelZoomTool, HoverTool, LassoSelectTool, BoxSelectTool\n",
    "from bokeh.models import ColumnDataSource\n",
    "\n",
    "# create plot\n",
    "output_file(\"scatter.html\")\n",
    "\n",
    "f = figure(plot_width=700, plot_height=700)\n",
    "\n",
    "f.title.text=\"Gun Violence\"\n",
    "f.title.text_font_size=\"25px\"\n",
    "f.title.align=\"center\"\n",
    "\n",
    "f.xaxis.axis_label=\"Incidents\"\n",
    "f.yaxis.axis_label=\"Mass shootings\"\n",
    "\n",
    "# get population per state\n",
    "pop_data = pd.read_csv(\"gun_ownership.csv\")\n",
    "\n",
    "state_dir = {}\n",
    "n = 0\n",
    "for state in pop_data[\"state\"]:\n",
    "    state_dir[state] = n\n",
    "    n += 1\n",
    "    \n",
    "max_pop = pop_data[\"population\"][state_dir[\"California\"]] / 50\n",
    "pop_list = [x / max_pop for x in pop_data[\"population\"]]\n",
    "\n",
    "source = ColumnDataSource(data=dict(state=pop_data[\"state\"], pop=pop_data[\"population\"], x=incidents_list, y=shootings_list, size=pop_list))\n",
    "\n",
    "hover = HoverTool(tooltips=[\n",
    "    (\"State\", \"@state\"),\n",
    "    (\"Population size\", \"@pop\"),\n",
    "    (\"Incidents\", \"@x\"), \n",
    "    (\"Mass shootings\", \"@y\"),])\n",
    "\n",
    "f.toolbar.tools = [PanTool(), ResetTool(), WheelZoomTool(), hover, LassoSelectTool(), BoxSelectTool()]\n",
    "\n",
    "f.circle(x=\"x\", y=\"y\", size=\"size\", fill_alpha=0.2, source=source)\n",
    "\n",
    "show(f)"
   ]
  },
  {
   "cell_type": "markdown",
   "metadata": {},
   "source": [
    "### Scatter plot with violent incidents vs incidents per state\n",
    "Remarkable is that Florida scores almost as high as California, while California has almost twice the number of inhabitants. Illinois is twice as bad as California, while it has almost 27 million inhabitants less."
   ]
  },
  {
   "cell_type": "code",
   "execution_count": 11,
   "metadata": {
    "scrolled": true
   },
   "outputs": [
    {
     "ename": "NameError",
     "evalue": "name 'incidents_list' is not defined",
     "output_type": "error",
     "traceback": [
      "\u001b[1;31m---------------------------------------------------------------------------\u001b[0m",
      "\u001b[1;31mNameError\u001b[0m                                 Traceback (most recent call last)",
      "\u001b[1;32m<ipython-input-11-ed584e657bf6>\u001b[0m in \u001b[0;36m<module>\u001b[1;34m()\u001b[0m\n\u001b[0;32m     50\u001b[0m \u001b[0mpop_list\u001b[0m \u001b[1;33m=\u001b[0m \u001b[1;33m[\u001b[0m\u001b[0mx\u001b[0m \u001b[1;33m/\u001b[0m \u001b[0mmax_pop\u001b[0m \u001b[1;32mfor\u001b[0m \u001b[0mx\u001b[0m \u001b[1;32min\u001b[0m \u001b[0mpop_data\u001b[0m\u001b[1;33m[\u001b[0m\u001b[1;34m\"population\"\u001b[0m\u001b[1;33m]\u001b[0m\u001b[1;33m]\u001b[0m\u001b[1;33m\u001b[0m\u001b[0m\n\u001b[0;32m     51\u001b[0m \u001b[1;33m\u001b[0m\u001b[0m\n\u001b[1;32m---> 52\u001b[1;33m \u001b[0msource\u001b[0m \u001b[1;33m=\u001b[0m \u001b[0mColumnDataSource\u001b[0m\u001b[1;33m(\u001b[0m\u001b[0mdata\u001b[0m\u001b[1;33m=\u001b[0m\u001b[0mdict\u001b[0m\u001b[1;33m(\u001b[0m\u001b[0mstate\u001b[0m\u001b[1;33m=\u001b[0m\u001b[0mpop_data\u001b[0m\u001b[1;33m[\u001b[0m\u001b[1;34m\"state\"\u001b[0m\u001b[1;33m]\u001b[0m\u001b[1;33m,\u001b[0m \u001b[0mpop\u001b[0m\u001b[1;33m=\u001b[0m\u001b[0mpop_data\u001b[0m\u001b[1;33m[\u001b[0m\u001b[1;34m\"population\"\u001b[0m\u001b[1;33m]\u001b[0m\u001b[1;33m,\u001b[0m \u001b[0mx\u001b[0m\u001b[1;33m=\u001b[0m\u001b[0mincidents_list\u001b[0m\u001b[1;33m,\u001b[0m \u001b[0my\u001b[0m\u001b[1;33m=\u001b[0m\u001b[0mviolent_list\u001b[0m\u001b[1;33m,\u001b[0m \u001b[0msize\u001b[0m\u001b[1;33m=\u001b[0m\u001b[0mpop_list\u001b[0m\u001b[1;33m)\u001b[0m\u001b[1;33m)\u001b[0m\u001b[1;33m\u001b[0m\u001b[0m\n\u001b[0m\u001b[0;32m     53\u001b[0m \u001b[1;33m\u001b[0m\u001b[0m\n\u001b[0;32m     54\u001b[0m hover = HoverTool(tooltips=[\n",
      "\u001b[1;31mNameError\u001b[0m: name 'incidents_list' is not defined"
     ]
    }
   ],
   "source": [
    "import numpy as np\n",
    "from bokeh.plotting import figure\n",
    "from bokeh.io import output_notebook, output_file, show\n",
    "import pandas\n",
    "\n",
    "from bokeh.models import DataRange1d\n",
    "from bokeh.models import PanTool, ResetTool, WheelZoomTool, HoverTool, LassoSelectTool, BoxSelectTool\n",
    "from bokeh.models import ColumnDataSource\n",
    "\n",
    "violent_incidents = {}\n",
    "\n",
    "for i in range(1, len(data[\"n_injured\"])):\n",
    "    if data[\"n_injured\"][i] != 0 or data[\"n_injured\"][i] != 0:\n",
    "        if data[\"state\"][i] in violent_incidents:\n",
    "            violent_incidents[data[\"state\"][i]] += 1\n",
    "        else:\n",
    "            violent_incidents[data[\"state\"][i]] = 1\n",
    "\n",
    "# fill lists\n",
    "violent_list = []\n",
    "\n",
    "for state in states:\n",
    "    if state in violent_incidents:\n",
    "        violent_list.append(violent_incidents[state])\n",
    "    else:\n",
    "        violent_list.append(0)\n",
    "        \n",
    "# create plot\n",
    "output_file(\"scatter.html\")\n",
    "\n",
    "f = figure(plot_width=700, plot_height=700)\n",
    "\n",
    "f.title.text=\"Gun Violence\"\n",
    "f.title.text_font_size=\"25px\"\n",
    "f.title.align=\"center\"\n",
    "\n",
    "f.xaxis.axis_label=\"Incidents\"\n",
    "f.yaxis.axis_label=\"Violent incidents\"\n",
    "\n",
    "# get population per state\n",
    "pop_data = pd.read_csv(\"gun_ownership.csv\")\n",
    "\n",
    "state_dir = {}\n",
    "n = 0\n",
    "for state in pop_data[\"state\"]:\n",
    "    state_dir[state] = n\n",
    "    n += 1\n",
    "    \n",
    "max_pop = pop_data[\"population\"][state_dir[\"California\"]] / 50\n",
    "pop_list = [x / max_pop for x in pop_data[\"population\"]]\n",
    "\n",
    "source = ColumnDataSource(data=dict(state=pop_data[\"state\"], pop=pop_data[\"population\"], x=incidents_list, y=violent_list, size=pop_list))\n",
    "\n",
    "hover = HoverTool(tooltips=[\n",
    "    (\"State\", \"@state\"),\n",
    "    (\"Population size\", \"@pop\"),\n",
    "    (\"Incidents\", \"@x\"), \n",
    "    (\"Violent incidents\", \"@y\"),])\n",
    "\n",
    "f.toolbar.tools = [PanTool(), ResetTool(), WheelZoomTool(), hover, LassoSelectTool(), BoxSelectTool()]\n",
    "\n",
    "f.circle(x=\"x\", y=\"y\", size=\"size\", fill_alpha=0.2, source=source)\n",
    "\n",
    "show(f)"
   ]
  },
  {
   "cell_type": "markdown",
   "metadata": {},
   "source": [
    "### Incidents per state (map)\n",
    "The most incidents took place in Illinois, California, Florida and Texas. Only Illinois is surprising, because the other three states are bigger. Illinois might be fist because of Chicago."
   ]
  },
  {
   "cell_type": "code",
   "execution_count": 69,
   "metadata": {},
   "outputs": [
    {
     "name": "stderr",
     "output_type": "stream",
     "text": [
      "C:\\Users\\Marijn\\Anaconda3\\lib\\site-packages\\bokeh\\core\\json_encoder.py:80: FutureWarning: Conversion of the second argument of issubdtype from `float` to `np.floating` is deprecated. In future, it will be treated as `np.float64 == np.dtype(float).type`.\n",
      "  elif np.issubdtype(type(obj), np.float):\n"
     ]
    }
   ],
   "source": [
    "import numpy as np\n",
    "from bokeh.plotting import figure\n",
    "from bokeh.io import output_notebook, output_file, show\n",
    "import pandas\n",
    "\n",
    "from bokeh.models import DataRange1d\n",
    "from bokeh.models import PanTool, ResetTool, WheelZoomTool, HoverTool, LassoSelectTool, BoxSelectTool\n",
    "from bokeh.models import ColumnDataSource\n",
    "\n",
    "from bokeh.plotting import figure, show, output_file\n",
    "from bokeh.sampledata.us_states import data as states\n",
    "\n",
    "EXCLUDED = (\"AK\", \"HI\")\n",
    "\n",
    "state_xs = [states[code][\"lons\"] for code in states if code not in EXCLUDED]\n",
    "state_ys = [states[code][\"lats\"] for code in states if code not in EXCLUDED]\n",
    "\n",
    "# create plot\n",
    "p = figure(title=\"US Map\", toolbar_location=\"left\",\n",
    "           plot_width=1100, plot_height=700)\n",
    "\n",
    "# create colours\n",
    "incidents = {}\n",
    "for i in range(1, len(data[\"n_injured\"])):\n",
    "    if data[\"state\"][i] in incidents:\n",
    "        incidents[data[\"state\"][i]] += 1\n",
    "    else:\n",
    "        incidents[data[\"state\"][i]] = 1\n",
    "        \n",
    "max_incidents = max(incidents.values())\n",
    "\n",
    "alpha_list = []\n",
    "\n",
    "for state in states:\n",
    "    if state not in EXCLUDED:\n",
    "        alpha_list.append(incidents[states[state][\"name\"]] / max_incidents)\n",
    "\n",
    "good_state_list = [states[state][\"name\"] for state in states if state not in EXCLUDED]\n",
    "\n",
    "good_incident_list = [incidents[states[state][\"name\"]] for state in states if state not in EXCLUDED]\n",
    "\n",
    "source = ColumnDataSource(data=dict(xs=state_xs, ys=state_ys, alpha_list=alpha_list, state=good_state_list, incidents=good_incident_list))\n",
    "\n",
    "hover = HoverTool(tooltips=[\n",
    "    (\"State\", \"@state\"),\n",
    "    (\"Incidents\", \"@incidents\"),\n",
    "])\n",
    "\n",
    "p.toolbar.tools = [PanTool(), ResetTool(), WheelZoomTool(), hover, LassoSelectTool(), BoxSelectTool()]\n",
    "\n",
    "# create states\n",
    "p.patches(\"xs\", \"ys\", fill_alpha=\"alpha_list\", fill_color=\"red\",\n",
    "          line_color=\"#884444\", line_width=2, line_alpha=0.3, source=source)\n",
    "\n",
    "# show output\n",
    "output_file(\"map.html\", title=\"Incidents per state\")\n",
    "show(p)"
   ]
  },
  {
   "cell_type": "markdown",
   "metadata": {},
   "source": [
    "### Mass shootings per state (map)\n",
    "Same top 4 as the last map. Illinois again surprising. Probably because of Chicago."
   ]
  },
  {
   "cell_type": "code",
   "execution_count": 70,
   "metadata": {},
   "outputs": [
    {
     "name": "stderr",
     "output_type": "stream",
     "text": [
      "C:\\Users\\Marijn\\Anaconda3\\lib\\site-packages\\bokeh\\core\\json_encoder.py:80: FutureWarning: Conversion of the second argument of issubdtype from `float` to `np.floating` is deprecated. In future, it will be treated as `np.float64 == np.dtype(float).type`.\n",
      "  elif np.issubdtype(type(obj), np.float):\n"
     ]
    }
   ],
   "source": [
    "import numpy as np\n",
    "from bokeh.plotting import figure\n",
    "from bokeh.io import output_notebook, output_file, show\n",
    "import pandas\n",
    "\n",
    "from bokeh.models import DataRange1d\n",
    "from bokeh.models import PanTool, ResetTool, WheelZoomTool, HoverTool, LassoSelectTool, BoxSelectTool\n",
    "from bokeh.models import ColumnDataSource\n",
    "\n",
    "from bokeh.plotting import figure, show, output_file\n",
    "from bokeh.sampledata.us_states import data as states\n",
    "\n",
    "EXCLUDED = (\"AK\", \"HI\")\n",
    "\n",
    "state_xs = [states[code][\"lons\"] for code in states if code not in EXCLUDED]\n",
    "state_ys = [states[code][\"lats\"] for code in states if code not in EXCLUDED]\n",
    "\n",
    "# create plot\n",
    "p = figure(title=\"US Map\", toolbar_location=\"left\",\n",
    "           plot_width=1100, plot_height=700)\n",
    "\n",
    "# create colours\n",
    "shootings =  {}\n",
    "for i in range(1, len(data[\"n_injured\"])):\n",
    "    if isinstance(data[\"incident_characteristics\"][i], str):\n",
    "        if \"Mass Shooting\" in data[\"incident_characteristics\"][i]:\n",
    "            if data[\"state\"][i] in shootings:\n",
    "                shootings[data[\"state\"][i]] += 1\n",
    "            else:\n",
    "                shootings[data[\"state\"][i]] = 1\n",
    "        \n",
    "max_shootings = max(shootings.values())\n",
    "\n",
    "alpha_list = []\n",
    "\n",
    "for state in states:\n",
    "    if state not in EXCLUDED:\n",
    "        if states[state][\"name\"] in shootings:\n",
    "            alpha_list.append(shootings[states[state][\"name\"]] / max_shootings)\n",
    "        else:\n",
    "            alpha_list.append(0)\n",
    "\n",
    "good_state_list = [states[state][\"name\"] for state in states if state not in EXCLUDED]\n",
    "\n",
    "good_shooting_list = []\n",
    "for state in states:\n",
    "    if state not in EXCLUDED:\n",
    "        if states[state][\"name\"] in shootings:\n",
    "            good_shooting_list.append(shootings[states[state][\"name\"]])\n",
    "        else:\n",
    "            good_shooting_list.append(0)\n",
    "        \n",
    "source = ColumnDataSource(data=dict(xs=state_xs, ys=state_ys, alpha_list=alpha_list, state=good_state_list, shootings=good_shooting_list))\n",
    "\n",
    "hover = HoverTool(tooltips=[\n",
    "    (\"State\", \"@state\"),\n",
    "    (\"Mass shootings\", \"@shootings\"),\n",
    "])\n",
    "\n",
    "p.toolbar.tools = [PanTool(), ResetTool(), WheelZoomTool(), hover, LassoSelectTool(), BoxSelectTool()]\n",
    "\n",
    "# create states\n",
    "p.patches(\"xs\", \"ys\", fill_alpha=\"alpha_list\", fill_color=\"red\",\n",
    "          line_color=\"#884444\", line_width=2, line_alpha=0.3, source=source)\n",
    "\n",
    "# show output\n",
    "output_file(\"map.html\", title=\"Mass shootings per state\")\n",
    "show(p)"
   ]
  },
  {
   "cell_type": "markdown",
   "metadata": {},
   "source": [
    "### Incidents per capita (map)\n",
    "California, Florida and Texas have left the top 4 because it's per capita now. Louisiana, Delaware, Illinois and South Carolina are the new top 4. Even per capita is Illinois bad."
   ]
  },
  {
   "cell_type": "code",
   "execution_count": 71,
   "metadata": {},
   "outputs": [
    {
     "name": "stderr",
     "output_type": "stream",
     "text": [
      "C:\\Users\\Marijn\\Anaconda3\\lib\\site-packages\\bokeh\\core\\json_encoder.py:80: FutureWarning: Conversion of the second argument of issubdtype from `float` to `np.floating` is deprecated. In future, it will be treated as `np.float64 == np.dtype(float).type`.\n",
      "  elif np.issubdtype(type(obj), np.float):\n"
     ]
    }
   ],
   "source": [
    "import numpy as np\n",
    "from bokeh.plotting import figure\n",
    "from bokeh.io import output_notebook, output_file, show\n",
    "import pandas\n",
    "\n",
    "from bokeh.models import DataRange1d\n",
    "from bokeh.models import PanTool, ResetTool, WheelZoomTool, HoverTool, LassoSelectTool, BoxSelectTool\n",
    "from bokeh.models import ColumnDataSource\n",
    "\n",
    "from bokeh.plotting import figure, show, output_file\n",
    "from bokeh.sampledata.us_states import data as states\n",
    "\n",
    "EXCLUDED = (\"AK\", \"HI\")\n",
    "\n",
    "state_xs = [states[code][\"lons\"] for code in states if code not in EXCLUDED]\n",
    "state_ys = [states[code][\"lats\"] for code in states if code not in EXCLUDED]\n",
    "\n",
    "# create plot\n",
    "p = figure(title=\"US Map\", toolbar_location=\"left\",\n",
    "           plot_width=1100, plot_height=700)\n",
    "\n",
    "# create colours\n",
    "incidents = {}\n",
    "for i in range(1, len(data[\"n_injured\"])):\n",
    "    if data[\"state\"][i] in incidents:\n",
    "        incidents[data[\"state\"][i]] += 1\n",
    "    else:\n",
    "        incidents[data[\"state\"][i]] = 1\n",
    "\n",
    "# read data\n",
    "pop_data = pd.read_csv(\"gun_ownership.csv\")\n",
    "\n",
    "state_dir = {}\n",
    "n = 0\n",
    "for state in pop_data[\"state\"]:\n",
    "    state_dir[state] = n\n",
    "    n += 1\n",
    "    \n",
    "max_incidents = incidents[\"Delaware\"] / pop_data[\"population\"][state_dir[\"Delaware\"]]\n",
    "\n",
    "alpha_list = []\n",
    "\n",
    "for state in states:\n",
    "    if state not in EXCLUDED:\n",
    "        alpha_list.append(incidents[states[state][\"name\"]] / pop_data[\"population\"][state_dir[states[state][\"name\"]]] / max_incidents)\n",
    "\n",
    "good_state_list = [states[state][\"name\"] for state in states if state not in EXCLUDED]\n",
    "\n",
    "good_incident_list = [incidents[states[state][\"name\"]] for state in states if state not in EXCLUDED]\n",
    "\n",
    "good_pop_list = [pop_data[\"population\"][state_dir[states[state][\"name\"]]] for state in states if state not in EXCLUDED]\n",
    "\n",
    "source = ColumnDataSource(data=dict(xs=state_xs, ys=state_ys, alpha_list=alpha_list, state=good_state_list, pop=good_pop_list, incidents=good_incident_list))\n",
    "\n",
    "hover = HoverTool(tooltips=[\n",
    "    (\"State\", \"@state\"),\n",
    "    (\"Population\", \"@pop\"),\n",
    "    (\"Incidents\", \"@incidents\"),\n",
    "])\n",
    "\n",
    "p.toolbar.tools = [PanTool(), ResetTool(), WheelZoomTool(), hover, LassoSelectTool(), BoxSelectTool()]\n",
    "\n",
    "# create states\n",
    "p.patches(\"xs\", \"ys\", fill_alpha=\"alpha_list\", fill_color=\"red\",\n",
    "          line_color=\"#884444\", line_width=2, line_alpha=0.3, source=source)\n",
    "\n",
    "# show output\n",
    "output_file(\"map.html\", title=\"Incidents per capita\")\n",
    "show(p)"
   ]
  },
  {
   "cell_type": "markdown",
   "metadata": {},
   "source": [
    "### Mass shootings per capita (map)\n",
    "Same as incident per capita, but Delaware and South Carolina are less worse. Illinois and Louisiana are still pretty bad."
   ]
  },
  {
   "cell_type": "code",
   "execution_count": 72,
   "metadata": {},
   "outputs": [
    {
     "name": "stderr",
     "output_type": "stream",
     "text": [
      "C:\\Users\\Marijn\\Anaconda3\\lib\\site-packages\\bokeh\\core\\json_encoder.py:80: FutureWarning: Conversion of the second argument of issubdtype from `float` to `np.floating` is deprecated. In future, it will be treated as `np.float64 == np.dtype(float).type`.\n",
      "  elif np.issubdtype(type(obj), np.float):\n"
     ]
    }
   ],
   "source": [
    "import numpy as np\n",
    "from bokeh.plotting import figure\n",
    "from bokeh.io import output_notebook, output_file, show\n",
    "import pandas\n",
    "\n",
    "from bokeh.models import DataRange1d\n",
    "from bokeh.models import PanTool, ResetTool, WheelZoomTool, HoverTool, LassoSelectTool, BoxSelectTool\n",
    "from bokeh.models import ColumnDataSource\n",
    "\n",
    "from bokeh.plotting import figure, show, output_file\n",
    "from bokeh.sampledata.us_states import data as states\n",
    "\n",
    "EXCLUDED = (\"AK\", \"HI\")\n",
    "\n",
    "state_xs = [states[code][\"lons\"] for code in states if code not in EXCLUDED]\n",
    "state_ys = [states[code][\"lats\"] for code in states if code not in EXCLUDED]\n",
    "\n",
    "# create plot\n",
    "p = figure(title=\"US Map\", toolbar_location=\"left\",\n",
    "           plot_width=1100, plot_height=700)\n",
    "\n",
    "# create colours\n",
    "shootings =  {}\n",
    "for i in range(1, len(data[\"n_injured\"])):\n",
    "    if isinstance(data[\"incident_characteristics\"][i], str):\n",
    "        if \"Mass Shooting\" in data[\"incident_characteristics\"][i]:\n",
    "            if data[\"state\"][i] in shootings:\n",
    "                shootings[data[\"state\"][i]] += 1\n",
    "            else:\n",
    "                shootings[data[\"state\"][i]] = 1\n",
    "\n",
    "# read data\n",
    "pop_data = pd.read_csv(\"gun_ownership.csv\")\n",
    "\n",
    "state_dir = {}\n",
    "n = 0\n",
    "for state in pop_data[\"state\"]:\n",
    "    state_dir[state] = n\n",
    "    n += 1\n",
    "    \n",
    "max_shootings = shootings[\"Louisiana\"] / pop_data[\"population\"][state_dir[\"Louisiana\"]]\n",
    "\n",
    "alpha_list = []\n",
    "\n",
    "for state in states:\n",
    "    if state not in EXCLUDED:\n",
    "        if states[state][\"name\"] in shootings:\n",
    "            alpha_list.append(shootings[states[state][\"name\"]] / pop_data[\"population\"][state_dir[states[state][\"name\"]]] / max_shootings)\n",
    "        else:\n",
    "            alpha_list.append(0)\n",
    "        \n",
    "good_state_list = [states[state][\"name\"] for state in states if state not in EXCLUDED]\n",
    "\n",
    "good_shooting_list = []\n",
    "for state in states:\n",
    "    if state not in EXCLUDED:\n",
    "        if states[state][\"name\"] in shootings:\n",
    "            good_shooting_list.append(shootings[states[state][\"name\"]])\n",
    "        else:\n",
    "            good_shooting_list.append(0)\n",
    "            \n",
    "good_pop_list = [pop_data[\"population\"][state_dir[states[state][\"name\"]]] for state in states if state not in EXCLUDED]\n",
    "\n",
    "source = ColumnDataSource(data=dict(xs=state_xs, ys=state_ys, alpha_list=alpha_list, state=good_state_list, pop=good_pop_list, shootings=good_shooting_list))\n",
    "\n",
    "hover = HoverTool(tooltips=[\n",
    "    (\"State\", \"@state\"),\n",
    "    (\"Population\", \"@pop\"),\n",
    "    (\"Mass shootings\", \"@shootings\"),\n",
    "])\n",
    "\n",
    "p.toolbar.tools = [PanTool(), ResetTool(), WheelZoomTool(), hover, LassoSelectTool(), BoxSelectTool()]\n",
    "\n",
    "# create states\n",
    "p.patches(\"xs\", \"ys\", fill_alpha=\"alpha_list\", fill_color=\"red\",\n",
    "          line_color=\"#884444\", line_width=2, line_alpha=0.3, source=source)\n",
    "\n",
    "# show output\n",
    "output_file(\"map.html\", title=\"Mass shootings per capita\")\n",
    "show(p)"
   ]
  },
  {
   "cell_type": "markdown",
   "metadata": {
    "scrolled": true
   },
   "source": [
    "### Population per state\n",
    "California is the biggest state, with almost 40 million inhabitants."
   ]
  },
  {
   "cell_type": "code",
   "execution_count": 59,
   "metadata": {},
   "outputs": [
    {
     "name": "stderr",
     "output_type": "stream",
     "text": [
      "C:\\Users\\Marijn\\Anaconda3\\lib\\site-packages\\bokeh\\core\\json_encoder.py:80: FutureWarning: Conversion of the second argument of issubdtype from `float` to `np.floating` is deprecated. In future, it will be treated as `np.float64 == np.dtype(float).type`.\n",
      "  elif np.issubdtype(type(obj), np.float):\n"
     ]
    }
   ],
   "source": [
    "import numpy as np\n",
    "from bokeh.plotting import figure\n",
    "from bokeh.io import output_notebook, output_file, show\n",
    "import pandas\n",
    "\n",
    "from bokeh.models import DataRange1d\n",
    "from bokeh.models import PanTool, ResetTool, WheelZoomTool, HoverTool, LassoSelectTool, BoxSelectTool\n",
    "from bokeh.models import ColumnDataSource\n",
    "\n",
    "from bokeh.plotting import figure, show, output_file\n",
    "from bokeh.sampledata.us_states import data as states\n",
    "\n",
    "EXCLUDED = (\"AK\", \"HI\")\n",
    "\n",
    "state_xs = [states[code][\"lons\"] for code in states if code not in EXCLUDED]\n",
    "state_ys = [states[code][\"lats\"] for code in states if code not in EXCLUDED]\n",
    "\n",
    "# create plot\n",
    "p = figure(title=\"US Map\", toolbar_location=\"left\",\n",
    "           plot_width=1100, plot_height=700)\n",
    "\n",
    "# create colours\n",
    "pop_data = pd.read_csv(\"gun_ownership.csv\")\n",
    "\n",
    "state_dir = {}\n",
    "n = 0\n",
    "for state in pop_data[\"state\"]:\n",
    "    state_dir[state] = n\n",
    "    n += 1\n",
    "    \n",
    "max_pop = pop_data[\"population\"][state_dir[\"California\"]]\n",
    "        \n",
    "alpha_list = []\n",
    "\n",
    "for state in states:\n",
    "    if state not in EXCLUDED:\n",
    "        alpha_list.append(pop_data[\"population\"][state_dir[states[state][\"name\"]]] / max_pop)\n",
    "        \n",
    "good_pop_list = [pop_data[\"population\"][state_dir[states[state][\"name\"]]] for state in states if state not in EXCLUDED]\n",
    "\n",
    "source = ColumnDataSource(data=dict(xs=state_xs, ys=state_ys, alpha_list=alpha_list, state=good_state_list, pop=good_pop_list))\n",
    "\n",
    "hover = HoverTool(tooltips=[\n",
    "    (\"State\", \"@state\"),\n",
    "    (\"Population\", \"@pop\"),\n",
    "])\n",
    "\n",
    "p.toolbar.tools = [PanTool(), ResetTool(), WheelZoomTool(), hover, LassoSelectTool(), BoxSelectTool()]\n",
    "\n",
    "# create states\n",
    "p.patches(\"xs\", \"ys\", fill_alpha=\"alpha_list\", fill_color=\"green\",\n",
    "          line_color=\"green\", line_width=2, line_alpha=0.3, source=source)\n",
    "\n",
    "# show output\n",
    "output_file(\"map.html\", title=\"Population distribution\")\n",
    "show(p)"
   ]
  },
  {
   "cell_type": "markdown",
   "metadata": {},
   "source": [
    "### Scatter matrix\n",
    "Scatter plot matrix with incidents, violent incidents and mass shootings per state. (It's really cool)"
   ]
  },
  {
   "cell_type": "code",
   "execution_count": 39,
   "metadata": {},
   "outputs": [],
   "source": [
    "import numpy as np\n",
    "from bokeh.plotting import figure\n",
    "from bokeh.io import output_notebook, output_file, show\n",
    "import pandas\n",
    "\n",
    "from bokeh.layouts import gridplot\n",
    "from bokeh.models import DataRange1d\n",
    "from bokeh.models import PanTool, ResetTool, WheelZoomTool, HoverTool, LassoSelectTool, BoxSelectTool\n",
    "from bokeh.models import ColumnDataSource\n",
    "\n",
    "from bokeh.plotting import figure, show, output_file\n",
    "from bokeh.sampledata.us_states import data as states\n",
    "from bokeh.models import PrintfTickFormatter\n",
    "\n",
    "output_file(\"layout.html\")\n",
    "\n",
    "# incidents\n",
    "incidents = {}\n",
    "for i in range(1, len(data[\"n_injured\"])):\n",
    "    if data[\"state\"][i] in incidents:\n",
    "        incidents[data[\"state\"][i]] += 1\n",
    "    else:\n",
    "        incidents[data[\"state\"][i]] = 1\n",
    "\n",
    "incident_list = [incidents[states[state][\"name\"]] for state in states]\n",
    "\n",
    "# violent incidents\n",
    "violent_incidents = {}\n",
    "\n",
    "for i in range(1, len(data[\"n_injured\"])):\n",
    "    if data[\"n_injured\"][i] != 0 or data[\"n_injured\"][i] != 0:\n",
    "        if data[\"state\"][i] in violent_incidents:\n",
    "            violent_incidents[data[\"state\"][i]] += 1\n",
    "        else:\n",
    "            violent_incidents[data[\"state\"][i]] = 1\n",
    "\n",
    "violent_list = []\n",
    "\n",
    "for state in states:\n",
    "    if states[state][\"name\"] in violent_incidents:\n",
    "        violent_list.append(violent_incidents[states[state][\"name\"]])\n",
    "    else:\n",
    "        violent_list.append(0)\n",
    "\n",
    "# mass shootings\n",
    "shootings =  {}\n",
    "for i in range(1, len(data[\"n_injured\"])):\n",
    "    if isinstance(data[\"incident_characteristics\"][i], str):\n",
    "        if \"Mass Shooting\" in data[\"incident_characteristics\"][i]:\n",
    "            if data[\"state\"][i] in shootings:\n",
    "                shootings[data[\"state\"][i]] += 1\n",
    "            else:\n",
    "                shootings[data[\"state\"][i]] = 1\n",
    "                \n",
    "shooting_list = []\n",
    "for state in states:\n",
    "    if states[state][\"name\"] in shootings:\n",
    "        shooting_list.append(shootings[states[state][\"name\"]])\n",
    "    else:\n",
    "        shooting_list.append(0)\n",
    "        \n",
    "# population size\n",
    "pop_data = pd.read_csv(\"gun_ownership.csv\")\n",
    "\n",
    "state_dir = {}\n",
    "n = 0\n",
    "for state in pop_data[\"state\"]:\n",
    "    state_dir[state] = n\n",
    "    n += 1\n",
    "\n",
    "pop_list = []\n",
    "\n",
    "for state in states:\n",
    "    pop_list.append(pop_data[\"population\"][state_dir[states[state][\"name\"]]])"
   ]
  },
  {
   "cell_type": "code",
   "execution_count": 40,
   "metadata": {},
   "outputs": [
    {
     "name": "stderr",
     "output_type": "stream",
     "text": [
      "C:\\Users\\Marijn\\Anaconda3\\lib\\site-packages\\bokeh\\core\\json_encoder.py:80: FutureWarning: Conversion of the second argument of issubdtype from `float` to `np.floating` is deprecated. In future, it will be treated as `np.float64 == np.dtype(float).type`.\n",
      "  elif np.issubdtype(type(obj), np.float):\n"
     ]
    }
   ],
   "source": [
    "weird_xy = 225\n",
    "weird_all = 150\n",
    "weird = 190\n",
    "\n",
    "s1 = figure(width=weird_xy, height=weird, title=None)        \n",
    "s1.circle(incident_list, incident_list, size=6, color=\"navy\", alpha=0.4)\n",
    "s1.xaxis.axis_label=\"Incidents\"\n",
    "s1.yaxis.axis_label=\"Incidents\"\n",
    "\n",
    "s2 = figure(width=weird_all, height=weird_all, title=None)        \n",
    "s2.circle(violent_list, violent_list, size=6, color=\"navy\", alpha=0.4)\n",
    "s2.axis.visible = False\n",
    "\n",
    "s3 = figure(width=weird_all, height=weird_all, title=None)        \n",
    "s3.circle(shooting_list, shooting_list, size=6, color=\"navy\", alpha=0.4)\n",
    "s3.axis.visible = False   \n",
    "    \n",
    "s4 = figure(width=weird_all, height=weird, title=None)        \n",
    "s4.circle(shooting_list, incident_list, size=6, color=\"navy\", alpha=0.4)\n",
    "s4.xaxis.axis_label=\"Mass shootings\"\n",
    "s4.yaxis.visible = False\n",
    "        \n",
    "s5 = figure(width=weird_all, height=weird_all, title=None)        \n",
    "s5.circle(shooting_list, violent_list, size=6, color=\"navy\", alpha=0.4)\n",
    "s5.axis.visible = False\n",
    "\n",
    "s6 = figure(width=weird_all, height=weird, title=None)        \n",
    "s6.circle(violent_list, incident_list, size=6, color=\"navy\", alpha=0.4)\n",
    "s6.xaxis.axis_label=\"Violent incidents\"\n",
    "s6.yaxis.visible = False\n",
    "        \n",
    "s7 = figure(width=weird_all, height=weird_all, title=None)        \n",
    "s7.circle(violent_list, shooting_list, size=6, color=\"navy\", alpha=0.4)\n",
    "s7.axis.visible = False\n",
    "\n",
    "s8 = figure(width=weird_xy, height=weird_all, title=None)        \n",
    "s8.circle(incident_list, violent_list, size=6, color=\"navy\", alpha=0.4)\n",
    "s8.yaxis.axis_label=\"Violent incidents\"\n",
    "s8.xaxis.visible = False\n",
    "        \n",
    "s9 = figure(width=weird_xy, height=weird_all, title=None)        \n",
    "s9.circle(incident_list, shooting_list, size=6, color=\"navy\", alpha=0.4)\n",
    "s9.yaxis.axis_label=\"Mass shootings\"\n",
    "s9.xaxis.visible = False\n",
    "\n",
    "s10 = figure(width=weird_xy, height=weird_all, title=None)        \n",
    "s10.circle(incident_list, pop_list, size=6, color=\"navy\", alpha=0.4)\n",
    "s10.yaxis.axis_label=\"Population size\"\n",
    "s10.xaxis.visible = False\n",
    "s10.yaxis[0].formatter = PrintfTickFormatter(format=\"%4.0e\")\n",
    "\n",
    "s11 = figure(width=weird_all, height=weird_all, title=None)        \n",
    "s11.circle(violent_list, pop_list, size=6, color=\"navy\", alpha=0.4)\n",
    "s11.axis.visible = False \n",
    "\n",
    "s12 = figure(width=weird_all, height=weird_all, title=None)        \n",
    "s12.circle(shooting_list, pop_list, size=6, color=\"navy\", alpha=0.4)\n",
    "s12.axis.visible = False \n",
    "\n",
    "s13 = figure(width=weird_all, height=weird_all, title=None)        \n",
    "s13.circle(pop_list, pop_list, size=6, color=\"navy\", alpha=0.4)\n",
    "s13.axis.visible = False \n",
    "\n",
    "s14 = figure(width=weird_all, height=weird_all, title=None)        \n",
    "s14.circle(pop_list, shooting_list, size=6, color=\"navy\", alpha=0.4)\n",
    "s14.axis.visible = False \n",
    "\n",
    "s15 = figure(width=weird_all, height=weird_all, title=None)        \n",
    "s15.circle(pop_list, violent_list, size=6, color=\"navy\", alpha=0.4)\n",
    "s15.axis.visible = False \n",
    "\n",
    "s16 = figure(width=weird_all, height=weird, title=None)        \n",
    "s16.circle(pop_list, incident_list, size=6, color=\"navy\", alpha=0.4)\n",
    "s16.xaxis.axis_label=\"Population size\"\n",
    "s16.yaxis.visible = False\n",
    "s16.xaxis[0].formatter = PrintfTickFormatter(format=\"%4.0e\")\n",
    "\n",
    "# put all the plots in a grid layout\n",
    "p = gridplot([[s10, s11, s12, s13], [s9, s7, s3, s14], [s8, s2, s5, s15], [s1, s6, s4, s16]])\n",
    "\n",
    "# show the results\n",
    "show(p)"
   ]
  },
  {
   "cell_type": "markdown",
   "metadata": {},
   "source": [
    "### Population vs incidents per state"
   ]
  },
  {
   "cell_type": "code",
   "execution_count": 41,
   "metadata": {},
   "outputs": [
    {
     "name": "stderr",
     "output_type": "stream",
     "text": [
      "C:\\Users\\Marijn\\Anaconda3\\lib\\site-packages\\bokeh\\core\\json_encoder.py:80: FutureWarning: Conversion of the second argument of issubdtype from `float` to `np.floating` is deprecated. In future, it will be treated as `np.float64 == np.dtype(float).type`.\n",
      "  elif np.issubdtype(type(obj), np.float):\n"
     ]
    }
   ],
   "source": [
    "import numpy as np\n",
    "from bokeh.plotting import figure\n",
    "from bokeh.io import output_notebook, output_file, show\n",
    "import pandas\n",
    "\n",
    "from bokeh.models import DataRange1d\n",
    "from bokeh.models import PanTool, ResetTool, WheelZoomTool, HoverTool, LassoSelectTool, BoxSelectTool\n",
    "from bokeh.models import ColumnDataSource\n",
    "\n",
    "# states alphabeticly sorted\n",
    "states_raw = data[\"state\"].unique()\n",
    "states = []\n",
    "\n",
    "for state in states_raw:\n",
    "    states.append(state)\n",
    "\n",
    "states.sort()\n",
    "\n",
    "# incidents\n",
    "incidents =  {}\n",
    "for i in range(1, len(data[\"n_injured\"])):\n",
    "    if data[\"state\"][i] in incidents:\n",
    "        incidents[data[\"state\"][i]] += 1\n",
    "    else:\n",
    "        incidents[data[\"state\"][i]] = 1\n",
    "\n",
    "# fill lists\n",
    "incident_list = []\n",
    "\n",
    "for state in states:\n",
    "    if state in incidents:\n",
    "        incident_list.append(incidents[state])\n",
    "    else:\n",
    "        incident_list.append(0)\n",
    "        \n",
    "# create plot\n",
    "output_file(\"scatter.html\")\n",
    "\n",
    "f = figure(plot_width=700, plot_height=700)\n",
    "\n",
    "f.title.text=\"Gun Violence\"\n",
    "f.title.text_font_size=\"25px\"\n",
    "f.title.align=\"center\"\n",
    "\n",
    "f.xaxis.axis_label=\"Population size\"\n",
    "f.yaxis.axis_label=\"Incidents\"\n",
    "\n",
    "# get population per state\n",
    "pop_data = pd.read_csv(\"gun_ownership.csv\")\n",
    "\n",
    "source = ColumnDataSource(data=dict(state=pop_data[\"state\"], x=pop_data[\"population\"], y=incident_list))\n",
    "\n",
    "hover = HoverTool(tooltips=[\n",
    "    (\"State\", \"@state\"),\n",
    "    (\"Population size\", \"@x\"),\n",
    "    (\"Incidents\", \"@y\"),])\n",
    "\n",
    "f.toolbar.tools = [PanTool(), ResetTool(), WheelZoomTool(), hover, LassoSelectTool(), BoxSelectTool()]\n",
    "\n",
    "f.circle(x=\"x\", y=\"y\", size=8, fill_alpha=0.2, source=source)\n",
    "\n",
    "show(f)"
   ]
  },
  {
   "cell_type": "code",
   "execution_count": null,
   "metadata": {},
   "outputs": [],
   "source": []
  }
 ],
 "metadata": {
  "kernelspec": {
   "display_name": "Python 3",
   "language": "python",
   "name": "python3"
  },
  "language_info": {
   "codemirror_mode": {
    "name": "ipython",
    "version": 3
   },
   "file_extension": ".py",
   "mimetype": "text/x-python",
   "name": "python",
   "nbconvert_exporter": "python",
   "pygments_lexer": "ipython3",
   "version": "3.5.2"
  }
 },
 "nbformat": 4,
 "nbformat_minor": 2
}
